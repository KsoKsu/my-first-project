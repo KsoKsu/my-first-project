{
 "cells": [
  {
   "cell_type": "markdown",
   "metadata": {},
   "source": [
    "# 1 Анализ тарифов:\n",
    "* «Мегалайн» — федеральный оператор сотовой связи. Клиентам предлагают два тарифных плана: «Смарт» и «Ультра». Необходимо понять, какой тариф приносит больше денег.\n",
    "* Необходимо сделать предварительный анализ тарифов на небольшой выборке клиентов. В нашем распоряжении данные 500 пользователей «Мегалайна»: кто они, откуда, каким тарифом пользуются, сколько звонков и сообщений каждый отправил за 2018 год. Нужно проанализировать поведение клиентов и сделать вывод — какой тариф лучше.\n",
    "* Описание тарифов\n",
    "   1. Тариф «Смарт»\n",
    "     Ежемесячная плата: 550 рублей\n",
    "     Включено 500 минут разговора, 50 сообщений и 15 Гб интернет-трафика\n",
    "     Стоимость услуг сверх тарифного пакета: 1. минута разговора: 3 рубля («Мегалайн» всегда округляет вверх значения минут и        мегабайтов. Если пользователь проговорил всего 1 секунду, в тарифе засчитывается целая минута); 2. сообщение: 3 рубля; 3.      1 Гб интернет-трафика: 200 рублей.\n",
    "   2.  Тариф «Ультра»\n",
    "     Ежемесячная плата: 1950 рублей\n",
    "     Включено 3000 минут разговора, 1000 сообщений и 30 Гб интернет-трафика\n",
    "     Стоимость услуг сверх тарифного пакета: 1. минута разговора: 1 рубль; 2. сообщение: 1 рубль; 3. 1 Гб интернет-трафика: 150      рублей.\n",
    "\n",
    "**План работы:**\n",
    "\n",
    "    1. Изучение файлов и общей информации\n",
    "    2. Подготовка данных\n",
    "    3. Анализ данных\n",
    "    4. Проверка гипотез\n",
    "    5. Общий вывод\n",
    "\n",
    "\n",
    "**Примечание**:\n",
    "  «Мегалайн» всегда округляет секунды до минут, а мегабайты — до гигабайт. Каждый звонок округляется отдельно: даже если он       длился всего 1 секунду, будет засчитан как 1 минута.\n",
    "  Для веб-трафика отдельные сессии не считаются. Вместо этого общая сумма за месяц округляется в бо́льшую сторону. Если абонент   использует 1025 мегабайт в этом месяце, с него возьмут плату за 2 гигабайта."
   ]
  },
  {
   "cell_type": "markdown",
   "metadata": {},
   "source": [
    "## Изучение данных из файла\n"
   ]
  },
  {
   "cell_type": "code",
   "execution_count": 1,
   "metadata": {},
   "outputs": [],
   "source": [
    "#Импортируем библиотеки\n",
    "import pandas as pd \n",
    "import seaborn as sns \n",
    "import matplotlib.pyplot as plt\n",
    "from scipy import stats as st\n",
    "import numpy as np\n",
    "import datetime\n",
    "import warnings\n",
    "warnings.filterwarnings('ignore')"
   ]
  },
  {
   "cell_type": "code",
   "execution_count": null,
   "metadata": {},
   "outputs": [],
   "source": [
    "#Изучим таблицу users (информация о пользователях)\n",
    "try:\n",
    "    data_users = pd.read_csv('***')  # Локальный путь\n",
    "except:\n",
    "    data_users = pd.read_csv('***') # Серверный путь \n",
    "data_users.info() #общая информация о данных\n",
    "print(data_users.head(10)) #вывели на экран 10 первых значений, чтобы ознакомиться с таблицей\n",
    "for col in data_users.columns:\n",
    "    print(\"-----------------------------\")\n",
    "    print(col)\n",
    "    display(data_users[col].describe(include=None))\n",
    "    display(data_users[col].value_counts()) #оценим значения данных с помощью функци describe и value_counts\n",
    "\n",
    "print(data_users.isna().sum()*100/len(data_users)) #посмотрим на процент пропусков во всех колонках одновременно\n",
    "print('Количество дубликатов', data_users.duplicated().sum()) #проверяем количество дубликатов"
   ]
  },
  {
   "cell_type": "markdown",
   "metadata": {},
   "source": [
    "**Вывод**\n",
    "\n",
    " * В таблице users всего 500 строк. В столбце churn_date 92,4% пропущенных значений, но это означает, что тариф ещё действовал на момент выгрузки данных\n",
    " * Тип столбцов churn_date — дата прекращения пользования тарифом, city — город проживания пользователя, first_name — имя пользователя, last_name — фамилия пользователя, reg_date — дата подключения тарифа (день, месяц, год), tariff — название тарифного плана: текстовые или смешанные числовые и нечисловые значения;  user_id — уникальный идентификатор пользователя, age — возраст пользователя (годы): целочисленные значения.\n"
   ]
  },
  {
   "cell_type": "code",
   "execution_count": null,
   "metadata": {},
   "outputs": [],
   "source": [
    "#Изучим таблицу calls\n",
    "try:\n",
    "    data_calls = pd.read_csv('C:/Users/datasets/calls.csv')  # Локальный путь\n",
    "except:\n",
    "    data_calls = pd.read_csv('/datasets/calls.csv') # Серверный путь \n",
    "data_calls.info() #общая информация о данных\n",
    "print(data_calls.head(10)) #вывели на экран 10 первых значений, чтобы ознакомиться с таблицей\n",
    "for col in data_calls.columns:\n",
    "    print(\"-----------------------------\")\n",
    "    print(col)\n",
    "    display(data_calls[col].describe(include=None))\n",
    "    display(data_calls[col].value_counts()) #оценим значения данных с помощью функци describe и value_counts\n",
    "\n",
    "print(data_calls.isna().sum()*100/len(data_calls)) #посмотрим на процент пропусков во всех колонках одновременно\n",
    "print('Количество дубликатов', data_calls.duplicated().sum()) #проверяем количество дубликатов"
   ]
  },
  {
   "cell_type": "markdown",
   "metadata": {},
   "source": [
    "**Вывод**\n",
    "\n",
    "* В таблице calls всего 202607 строк и нет пропущенных значений.\n",
    "Тип столбцов id — уникальный номер звонка и call_date — дата звонка: текстовые или смешанные числовые и нечисловые значения; duration — длительность звонка в минутах: числа с плавающей точкой; user_id — идентификатор пользователя, сделавшего звонок: целочисленные значения. Столбец duration необходимо будет округлить в большую сторону на след.этапе. Также можно заметить что в столбце duration есть нулевые значения - так обозначены пропущенные звонки."
   ]
  },
  {
   "cell_type": "code",
   "execution_count": null,
   "metadata": {},
   "outputs": [],
   "source": [
    "#Изучим таблицу internet\n",
    "try:\n",
    "    data_internet = pd.read_csv('C:/Users/datasets/internet.csv', index_col=[0])  # Локальный путь\n",
    "except:\n",
    "    data_internet = pd.read_csv('/datasets/internet.csv', index_col=[0]) # Серверный путь \n",
    "# Unnamed: 0 - Это не нужный столбец, удалили его командой index_col=[0] при чтении файла.\n",
    "data_internet.info() #общая информация о данных\n",
    "print(data_internet.head(10)) #вывели на экран 10 первых значений, чтобы ознакомиться с таблицей\n",
    "for col in data_internet.columns:\n",
    "    print(\"-----------------------------\")\n",
    "    print(col)\n",
    "    display(data_internet[col].describe(include=None))\n",
    "    display(data_internet[col].value_counts()) #оценим значения данных с помощью функци describe и value_counts\n",
    "\n",
    "print(data_internet.isna().sum()*100/len(data_internet)) #посмотрим на процент пропусков во всех колонках одновременно\n",
    "print('Количество дубликатов', data_internet.duplicated().sum()) #проверяем количество дубликатов"
   ]
  },
  {
   "cell_type": "markdown",
   "metadata": {},
   "source": [
    "**Вывод**\n",
    "\n",
    "* В таблице internet всего 149396 строк и нет пропущенных значений.\n",
    "Тип столбцов id — уникальный номер сессии и session_date — дата интернет-сессии: текстовые или смешанные числовые и нечисловые значения; mb_used — объём потраченного за сессию интернет-трафика (в мегабайтах): числа с плавающей точкой; user_id — идентификатор пользователя: целочисленные значения. "
   ]
  },
  {
   "cell_type": "code",
   "execution_count": null,
   "metadata": {},
   "outputs": [],
   "source": [
    "#Изучим таблицу messages\n",
    "try:\n",
    "    data_messages = pd.read_csv('C:/Users/datasets/messages.csv')  # Локальный путь\n",
    "except:\n",
    "    data_messages = pd.read_csv('/datasets/messages.csv') # Серверный путь \n",
    "data_messages.info() #общая информация о данных\n",
    "print(data_messages.head(10)) #вывели на экран 10 первых значений, чтобы ознакомиться с таблицей\n",
    "for col in data_messages.columns:\n",
    "    print(\"-----------------------------\")\n",
    "    print(col)\n",
    "    display(data_messages[col].describe(include=None))\n",
    "    display(data_messages[col].value_counts()) #оценим значения данных с помощью функци describe и value_counts\n",
    "\n",
    "print(data_messages.isna().sum()*100/len(data_messages)) #посмотрим на процент пропусков во всех колонках одновременно\n",
    "print('Количество дубликатов', data_messages.duplicated().sum()) #проверяем количество дубликатов"
   ]
  },
  {
   "cell_type": "markdown",
   "metadata": {},
   "source": [
    "**Вывод**\n",
    "\n",
    "* В таблице messages всего 123036 строк и нет пропущенных значений.\n",
    "Типs столбцов id — уникальный номер сообщения и message_date — дата сообщения: текстовые или смешанные числовые и нечисловые значения; user_id — идентификатор пользователя, отправившего сообщение: целочисленные значения. "
   ]
  },
  {
   "cell_type": "code",
   "execution_count": null,
   "metadata": {},
   "outputs": [],
   "source": [
    "#Изучим таблицу tariffs\n",
    "try:\n",
    "    data_tariffs = pd.read_csv('C:/Users/datasets/tariffs.csv')  # Локальный путь\n",
    "except:\n",
    "    data_tariffs = pd.read_csv('/datasets/tariffs.csv') # Серверный путь \n",
    "data_tariffs.info() #общая информация о данных\n",
    "print(data_tariffs.head(10)) #вывели на экран 10 первых значений, чтобы ознакомиться с таблицей\n",
    "for col in data_tariffs.columns:\n",
    "    print(\"-----------------------------\")\n",
    "    print(col)\n",
    "    display(data_tariffs[col].describe(include=None))\n",
    "    display(data_tariffs[col].value_counts()) #оценим значения данных с помощью функци describe и value_counts\n",
    "\n",
    "data_tariffs.isna().sum()*100/len(data_tariffs) #посмотрим на процент пропусков во всех колонках одновременно\n",
    "print('Количество дубликатов', data_tariffs.duplicated().sum()) #проверяем количество дубликатов"
   ]
  },
  {
   "cell_type": "markdown",
   "metadata": {},
   "source": [
    "**Вывод**\n",
    "\n",
    "* В таблице internet всего 2 строки и нет пропущенных значений. В ней описаны тарифные планы и что в них входит (условия использования).\n",
    "Тип столбцов tariff_name — название тарифа — дата интернет-сессии: текстовые или смешанные числовые и нечисловые значения; остальные столбцы: целочисленные значения. "
   ]
  },
  {
   "cell_type": "markdown",
   "metadata": {},
   "source": [
    "## Подготовка данных\n"
   ]
  },
  {
   "cell_type": "code",
   "execution_count": null,
   "metadata": {},
   "outputs": [],
   "source": [
    "#Округлим данные в столбце duration из таблицы calls в большую сторону\n",
    "data_calls['duration'] = data_calls['duration'].apply(np.ceil).astype(int)\n",
    "\n",
    "#Объединим имя и фамилию клиента в один столбец\n",
    "data_users['full_name']= data_users['first_name'] + ' ' + data_users['last_name']\n",
    "\n",
    "#Выделим столбцы с месяцами в каждой таблице\n",
    "data_users['month']= pd.to_datetime(data_users['reg_date'])\n",
    "data_users['month'] = data_users['month'].dt.month_name()\n",
    "\n",
    "data_calls['month']= pd.to_datetime(data_calls['call_date'])\n",
    "data_calls['month'] = data_calls['month'].dt.month_name()\n",
    "\n",
    "data_messages['month']= pd.to_datetime(data_messages['message_date'])\n",
    "data_messages['month'] = data_messages['month'].dt.month_name()\n",
    "\n",
    "data_internet['month']= pd.to_datetime(data_internet['session_date'])\n",
    "data_internet['month'] = data_internet['month'].dt.month_name()\n",
    "\n",
    "#Проработаем чило пропусков в 'churn_date', заменим пустые значения на дату выгрузки\n",
    "data_users.loc[data_users['churn_date'].isna(), 'churn_date'] = datetime.date(2018, 12, 31)\n",
    "\n",
    "#Проверим: дата оттока всегда позже или равна дате регистрации\n",
    "data_users['values_date'] = pd.to_datetime(data_users['churn_date']) >= pd.to_datetime(data_users['reg_date'])\n",
    "data_users['values_date'].value_counts()\n"
   ]
  },
  {
   "cell_type": "markdown",
   "metadata": {},
   "source": [
    "**Вывод**\n",
    "\n",
    "* Округлили столбец с минутами соответственно исходным данным («Мегалайн» каждый звонок округляется отдельно: даже если он длился всего 1 секунду, будет засчитан как 1 минута).\n",
    "\n",
    "* Для удобства объеднили в таблице users столбец с Именем и Фамилией клиента.\n",
    "\n",
    "* Также для упрощения исследования данных по месяцам - во всех таблицах выделили необходимые столбцы с месяцами.\n",
    "\n",
    "* Пропущенные значения в столбце churn_date означают, что тариф ещё действовал на момент выгрузки данных. Для удобства работы с данным столбцом заменили все пропущенные значения на дату выгрузки, а именно 2018-12-31.\n",
    "\n"
   ]
  },
  {
   "cell_type": "code",
   "execution_count": null,
   "metadata": {},
   "outputs": [],
   "source": [
    "#Посчитаем для каждого пользователя количество сделанных звонков и израсходованных минут разговора по месяцам\n",
    "\n",
    "data_calls['month'] = pd.Categorical(data_calls['month'], [\"January\", \"February\", \"March\", \"April\", \"May\", \"June\", \"July\", \"August\", \"September\", \"October\", \"November\", \"December\"])\n",
    "\n",
    "calls_users = data_calls.pivot_table(index = ['user_id', 'month'], values = 'duration', aggfunc = [ 'count', 'sum'])\n",
    "calls_users.columns = ['count_duration', 'sum_duration']\n",
    "#display(calls_users)\n",
    "\n",
    "calls_users.head(20) #Посмотрим 20 первых значений\n",
    "\n"
   ]
  },
  {
   "cell_type": "code",
   "execution_count": null,
   "metadata": {},
   "outputs": [],
   "source": [
    "#Количество отправленных сообщений по месяцам\n",
    "data_messages['month'] = pd.Categorical(data_messages['month'], [\"January\", \"February\", \"March\", \"April\", \"May\", \"June\", \"July\", \"August\", \"September\", \"October\", \"November\", \"December\"])\n",
    "\n",
    "messages_users = data_messages.pivot_table(index = ['user_id', 'month'], values = 'id', aggfunc = 'count').astype(int)\n",
    "messages_users.columns = ['count_messages']\n",
    "display(messages_users)\n"
   ]
  },
  {
   "cell_type": "code",
   "execution_count": null,
   "metadata": {},
   "outputs": [],
   "source": [
    "#Объем израсходованного интернет-трафика по месяцам\n",
    "data_internet['month'] = pd.Categorical(data_internet['month'], [\"January\", \"February\", \"March\", \"April\", \"May\", \"June\", \"July\", \"August\", \"September\", \"October\", \"November\", \"December\"])\n",
    "\n",
    "internet_users = data_internet.pivot_table(index = ['user_id', 'month'], values = 'mb_used', aggfunc = 'sum')\n",
    "internet_users.columns = ['sum_mb_used']\n",
    "#Добавим столбец с Гб, применив условие задания: общая сумма веб-трафика за месяц округляется в бо́льшую сторону\n",
    "internet_users['sum_gb_used'] = (internet_users['sum_mb_used']/1024).apply(np.ceil).astype(int)\n",
    "display(internet_users)"
   ]
  },
  {
   "cell_type": "code",
   "execution_count": null,
   "metadata": {},
   "outputs": [],
   "source": [
    "#Объединим таблицы с помощью Merge:\n",
    "users_month_info = calls_users.merge(messages_users, on = ['user_id', 'month'], how = 'outer').merge(internet_users, on = ['user_id', 'month'], how = 'outer').reset_index()\n",
    "data = users_month_info.merge(data_users[['user_id','tariff', 'city']], on='user_id', how = 'outer')\n",
    "data.rename(columns = {'tariff' : 'tariff_name'}, inplace = True)\n",
    "data = data.merge(data_tariffs, on = 'tariff_name', how = 'outer')\n",
    "display(data)\n",
    "\n"
   ]
  },
  {
   "cell_type": "code",
   "execution_count": null,
   "metadata": {},
   "outputs": [],
   "source": [
    "#Посчитаем помесячную выручку с каждого пользователя:\n",
    "#Вычтим бесплатный лимит из суммарного количества звонков, сообщений и интернет-трафика; \n",
    "#Остаток умножим на значение из тарифного плана; прибавим абонентскую плату, соответствующую тарифному плану).\n",
    "data['minutes_over'] =  data['sum_duration'] - data['minutes_included'] \n",
    "data['minutes_over'] = np.where(data['minutes_over'] > 0, data['minutes_over'], 0) # там, где пользователи не истратили лимит по тарифу, поставим значение 0\n",
    "data['minutes_over_rub'] = data['minutes_over']*data['rub_per_minute']\n",
    " \n",
    "data['messages_over'] =  data['count_messages'] - data['messages_included'] \n",
    "data['messages_over'] = np.where(data['messages_over'] > 0, data['messages_over'], 0) # там, где пользователи не истратили лимит по тарифу, поставим значение 0\n",
    "data['messages_over_rub'] = data['messages_over']*data['rub_per_message']\n",
    " \n",
    "data['gb_used_over'] =  data['sum_gb_used'] - data['mb_per_month_included']/1024\n",
    "data['gb_used_over'] = np.where(data['gb_used_over'] > 0, data['gb_used_over'], 0) # там, где пользователи не истратили лимит по тарифу, поставим значение 0\n",
    "data['gb_used_over_rub'] = data['gb_used_over']*data['rub_per_gb']\n",
    "\n",
    "data['total_revenue'] = data['minutes_over_rub'] + data['messages_over_rub'] + data['gb_used_over_rub'] + data['rub_monthly_fee'] # выручка\n",
    "\n",
    "display(data)\n",
    "\n",
    "\n",
    "#Проведем категоризацию данных по городу\n",
    "def city_group(row):\n",
    "    if row['city'] == 'Москва':\n",
    "        return 'Москва'\n",
    "    return 'другой'\n",
    "data['city_group'] = data.apply(city_group, axis=1)\n",
    "print(data)\n",
    "\n",
    "\n",
    "dfs = dict(tuple(data.groupby('tariff_name'))) # разделим таблицу по тарифа\n",
    "\n",
    "\n",
    "#Построим гистрограмму, чтобы посмотреть выручку по тарифам \n",
    "dfs['ultra']['total_revenue'].hist(bins=100, range=(1900,4000), figsize=(10,5))\n",
    "plt.title('Гистограмма по выручке тариф ультра')\n",
    "plt.xlabel('total_revenue')\n",
    "plt.ylabel('values')\n",
    "plt.show()\n",
    "\n",
    "\n",
    "data.info()\n"
   ]
  },
  {
   "cell_type": "code",
   "execution_count": null,
   "metadata": {},
   "outputs": [],
   "source": [
    "dfs['smart']['total_revenue'].hist(bins=100, range=(400,4500), figsize=(10,5))\n",
    "plt.title('Гистограмма по выручке тариф смарт')\n",
    "plt.xlabel('total_revenue')\n",
    "plt.ylabel('values')\n",
    "plt.show()\n",
    "\n",
    "#Построим диаграммы размаха для каждого тарифа по выручке\n",
    "#Тариф snmart\n",
    "plt.figure(figsize=(10,5))\n",
    "dfs['smart'].boxplot(column =['total_revenue'])\n",
    "plt.title('Диаграмма размаха smart')\n",
    "plt.ylabel('values')\n",
    "plt.show()\n",
    "\n",
    "#Тариф ultra\n",
    "plt.figure(figsize=(10,5))\n",
    "dfs['ultra'].boxplot(column =['total_revenue'])\n",
    "plt.title('Диаграмма размаха ultra')\n",
    "plt.ylabel('values')\n",
    "plt.show()\n"
   ]
  },
  {
   "cell_type": "code",
   "execution_count": null,
   "metadata": {},
   "outputs": [],
   "source": [
    "print(dfs['ultra']['total_revenue'].describe())\n",
    "print(dfs['smart']['total_revenue'].describe())"
   ]
  },
  {
   "cell_type": "markdown",
   "metadata": {},
   "source": [
    "**Вывод**\n",
    "\n",
    "* Мы посчитайте для каждого пользователя:\n",
    "количество сделанных звонков и израсходованных минут разговора по месяцам;\n",
    "количество отправленных сообщений по месяцам;\n",
    "объем израсходованного интернет-трафика по месяцам.\n",
    "Объединили все необходимые данные в одну таблицу (название и описание тарифа).\n",
    "И в итоге мы посчитали помесячную выручку с каждого пользователя (столбец total_revenue)\n",
    "\n",
    "* По гистограммам видно, что в тарифе ультра в основном пользователи не выходят за рамки тарифа, в отличае от тарифа смарт.\n",
    "\n",
    "* По диаграммам размаха видно, что медиана у тарифа smart меньше, чем тарифа ultra, но датасет скошен вправо. Этим тарифом пользуются те, кто платит ощутимо больше медианной суммы. Если клиенты готовы платить больше, возможно им стоит предложить подключать сразу тариф ultra.\n"
   ]
  },
  {
   "cell_type": "markdown",
   "metadata": {},
   "source": [
    "## Анализ данных\n",
    "\n",
    "Опишем поведение клиентов оператора, исходя из выборки. Сколько минут разговора, сколько сообщений и какой объём интернет-трафика требуется пользователям каждого тарифа в месяц. Посчитаем среднее количество, дисперсию и стандартное отклонение. Построим гистограммы. Опишем распределения."
   ]
  },
  {
   "cell_type": "code",
   "execution_count": null,
   "metadata": {},
   "outputs": [],
   "source": [
    "data_new = data.pivot_table(index='tariff_name', values = ['sum_duration','count_messages', 'sum_gb_used' ], aggfunc = ['mean', 'var', 'std']).round(1).reset_index()\n",
    "data_new.columns = ['tariff_name', 'mean_count_messages', 'mean_sum_duration', 'mean_sum_gb_used', 'var_count_messages', 'var_sum_duration', 'var_sum_gb_used','std_count_messages', 'std_sum_duration', 'std_sum_gb_used' ]\n",
    "display(data_new)"
   ]
  },
  {
   "cell_type": "code",
   "execution_count": null,
   "metadata": {},
   "outputs": [],
   "source": [
    "print('Дисперсия использованных минут, тариф smart:', data_new.loc[0,'var_sum_duration'])\n",
    "print('Стандартное отклонение использованных минут, тариф smart:', data_new.loc[0,'std_sum_duration'])\n",
    "print('Среднее количество потраченных минут, тариф smart:', data_new.loc[0,'mean_sum_duration'])\n",
    "print('---------------------------------------------------------------------')\n",
    "print('Дисперсия использованных минут, тариф ultra:', data_new.loc[1,'var_sum_duration'])\n",
    "print('Стандартное отклонение использованных минут, тариф ultra:', data_new.loc[1,'std_sum_duration'])\n",
    "print('Среднее количество потраченных минут, тариф ultra:', data_new.loc[1,'mean_sum_duration'])\n",
    "print('---------------------------------------------------------------------')\n",
    "\n",
    "#Построим гистограмму\n",
    "plt.figure(figsize=(15,8))\n",
    "plt.hist((dfs['smart']['sum_duration'], dfs['ultra']['sum_duration']), bins=120, alpha=0.5, label=['smart', 'ultra'], color=['r', 'b'])\n",
    "plt.legend(loc='upper right')\n",
    "plt.title('Гистограмма по количеству потраченных минут')\n",
    "plt.xlabel('sum_duration')\n",
    "plt.ylabel('values')\n",
    "plt.show()\n"
   ]
  },
  {
   "cell_type": "code",
   "execution_count": null,
   "metadata": {},
   "outputs": [],
   "source": [
    "print('Дисперсия количества сообщений, тариф smart:', data_new.loc[0,'var_count_messages'])\n",
    "print('Стандартное отклонение количества сообщений, тариф smart:',  data_new.loc[0,'std_count_messages'])\n",
    "print('Среднее количество потраченных сообщений, тариф smart:',  data_new.loc[0,'mean_count_messages'])\n",
    "print('---------------------------------------------------------------------')\n",
    "print('Дисперсия количества сообщений, тариф ultra:', data_new.loc[1,'var_count_messages'])\n",
    "print('Стандартное отклонение количества сообщений, тариф ultra:',  data_new.loc[1,'std_count_messages'])\n",
    "print('Среднее количество потраченных сообщений, тариф ultra:',  data_new.loc[1,'mean_count_messages'])\n",
    "print('---------------------------------------------------------------------')\n",
    "\n",
    "#Построим гистограмму\n",
    "plt.figure(figsize=(15,8))\n",
    "plt.hist((dfs['smart']['count_messages'], dfs['ultra']['count_messages']), bins=120, alpha=0.5,  label=['smart', 'ultra'], color=['r', 'b'])\n",
    "plt.legend(loc='upper right')\n",
    "plt.title('Гистограмма по количеству потраченных сообщений')\n",
    "plt.xlabel('count_messages')\n",
    "plt.ylabel('values')\n",
    "plt.show()\n"
   ]
  },
  {
   "cell_type": "code",
   "execution_count": null,
   "metadata": {},
   "outputs": [],
   "source": [
    "print('Дисперсия количества интернет-трафика, тариф smart:', data_new.loc[0,'var_sum_gb_used'])\n",
    "print('Стандартное отклонение интернет-трафика, тариф smart:', data_new.loc[0,'std_sum_gb_used'])\n",
    "print('Среднее количество интернет-трафика, тариф smart:', data_new.loc[0,'mean_sum_gb_used'])\n",
    "print('---------------------------------------------------------------------')\n",
    "print('Дисперсия количества интернет-трафика, тариф ultra:', data_new.loc[1,'var_sum_gb_used'])\n",
    "print('Стандартное отклонение интернет-трафика, тариф ultra:', data_new.loc[1,'std_sum_gb_used'])\n",
    "print('Среднее количество интернет-трафика, тариф ultra:', data_new.loc[1,'mean_sum_gb_used'])\n",
    "print('---------------------------------------------------------------------')\n",
    "\n",
    "plt.figure(figsize=(15,8))\n",
    "plt.hist((dfs['smart']['sum_gb_used'], dfs['ultra']['sum_gb_used']), bins=100, alpha=0.5,  label=['smart', 'ultra'], color=['r', 'b'])\n",
    "plt.legend(loc='upper right')\n",
    "plt.title('Гистограмма по количеству потраченного интернет-трафика')\n",
    "plt.xlabel('sum_gb_used')\n",
    "plt.ylabel('values')\n",
    "plt.show()"
   ]
  },
  {
   "cell_type": "markdown",
   "metadata": {},
   "source": [
    "**Вывод**\n",
    "\n",
    "* Мы посчитали среднее количество, дисперсию и стандартное отклонение по количеству израсходованных минут, сообщений и интернет-трафика для каждого тарифа.\n",
    "\n",
    "* Дисперсия показывает насколько данные сильно 'размазаны' относительно среднего. В данном случае видно, что у распределения длительности звонков, количества сообщений и интернет-трафика у тарифа ultra 'хвост' длинее, чем у тарифа smart. Это также видно на построеннных гистограммах.\n",
    "* По графикам видно, что данные имеют нормальное распределение и по которым можно сделать выводы:\n",
    "   + -пользоатели тарифа smart в основном тратят на разговоры  250 до 600 мин, а пользователи тарифа ultra от 0 до 1000 мин\n",
    "   + -пользоатели тарифа smart используют сообщения менее активно (в основном до 50смс), чем пользователи тарифа ultra (в основном до 150смс)\n",
    "   + -пик использованного трафика пользоателями тарифа smart приходится на 17-18Гб, а пользователи тарифа ultra - 20Гб и такого ярковыраженного пика не наблюдается.\n",
    "\n",
    "\n"
   ]
  },
  {
   "cell_type": "markdown",
   "metadata": {},
   "source": [
    "## Проверка гипотез: \n",
    "Средняя выручка пользователей тарифов «Ультра» и «Смарт» различаются: \n",
    "* Проверим нулевую гипотезу, что средняя выручка пользователей тарифов ultra и smart равна; альтернативная гипотеза - средняя выручка отличается\n",
    "\n",
    "Средняя выручка пользователей из Москвы отличается от выручки пользователей из других регионов:\n",
    "* Проверим нулевую гипотезу, что средняя выручка пользователей из Москвы равна выручке пользователей из других регионов; альтернативная гипотеза - средняя выручка отличается\n"
   ]
  },
  {
   "cell_type": "code",
   "execution_count": null,
   "metadata": {},
   "outputs": [],
   "source": [
    "#Проверим нулевую гипотезу, что средняя выручка пользователей тарифов ultra и smart равна\n",
    "alpha = .01 # критический уровень статистической значимости\n",
    "# если p-value окажется меньше него - отвегнем гипотезу\n",
    "\n",
    "results = st.ttest_ind(\n",
    "    dfs['smart']['total_revenue'], \n",
    "    dfs['ultra']['total_revenue'], equal_var = False) # используем equal_var = False, так как выборки разного размера и дисперсии отличаются\n",
    "\n",
    "print('p-значение: ', results.pvalue)\n",
    "\n",
    "if results.pvalue < alpha:\n",
    "    print(\"Отвергаем нулевую гипотезу\")\n",
    "else:\n",
    "    print(\"Не получилось отвергнуть нулевую гипотезу\") "
   ]
  },
  {
   "cell_type": "markdown",
   "metadata": {},
   "source": [
    "**Вывод**\n",
    "* Средняя выручка зависит от тарифа."
   ]
  },
  {
   "cell_type": "code",
   "execution_count": null,
   "metadata": {},
   "outputs": [],
   "source": [
    "dfs_city = dict(tuple(data.groupby('city_group'))) # разделим таблицу по группе городов: Москва/другой\n",
    "print(data['city_group'].value_counts())\n",
    "print( dfs_city['Москва']['total_revenue'].describe())\n",
    "print( dfs_city['другой']['total_revenue'].describe())\n",
    "\n",
    "#Проверим нулевую гипотезу, что средняя выручка пользователей из Москвы равна выручке пользователей из других регионов\n",
    "alpha = .01 # критический уровень статистической значимости\n",
    "# если p-value окажется меньше него - отвегнем гипотезу\n",
    "\n",
    "results = st.ttest_ind(\n",
    "    dfs_city['Москва']['total_revenue'], \n",
    "    dfs_city['другой']['total_revenue'], equal_var = False)\n",
    "\n",
    "print('p-значение: ', results.pvalue)\n",
    "\n",
    "if results.pvalue < alpha:\n",
    "    print(\"Отвергаем нулевую гипотезу\")\n",
    "else:\n",
    "    print(\"Не получилось отвергнуть нулевую гипотезу\") \n",
    "\n"
   ]
  },
  {
   "cell_type": "markdown",
   "metadata": {},
   "source": [
    "**Вывод**\n",
    "* Полученное значение p-value говорит о том, что вероятность получить такое или большее различие случайно почти 52%. Это явно слишком большая вероятность, чтобы делать вывод о значимом различии между средними выручками."
   ]
  },
  {
   "cell_type": "markdown",
   "metadata": {},
   "source": [
    "## Общий вывод\n",
    "\n",
    "* Проанализировав данные можно сказать, что клиенты, пользующиеся тарифом Smart очень часто выходят за его рамки по сообщениям, звонкам и интернет-трафику. А пользователи Ultra не используют даже половину доступных в тарифе минут и сообщений, но иногда докупают интернет-трафик.\n",
    "\n",
    "* Средняя выручка у тарифа smart меньше, чем тарифа ultra, но датасет скошен вправо. Этим тарифом пользуются те, кто платит ощутимо больше медианной суммы. Ешё  можем предположить, что средняя выручка тарифов различна, а вот средняя выручка между пользователями Москвы и других городов не имеет значительной разницы.\n",
    "\n",
    "<span style=\"color:gren\">***Я предложила бы заказчику обратить внимание, что тариф Ultra более перспективен, им пользует меньшее количество пользователей, но он приносит больше выручки. А тем, кто много переплачивает в тарифе smart предложить перейти на тариф Ultra. Так будет выгоднее и для заказчика, и для пользователей*** </span>.\n",
    "\n",
    " \n"
   ]
  },
  {
   "cell_type": "code",
   "execution_count": null,
   "metadata": {},
   "outputs": [],
   "source": []
  }
 ],
 "metadata": {
  "ExecuteTimeLog": [
   {
    "duration": 1542,
    "start_time": "2022-01-03T13:24:50.196Z"
   },
   {
    "duration": 1277,
    "start_time": "2022-01-03T13:25:45.087Z"
   },
   {
    "duration": 1149,
    "start_time": "2022-01-03T13:26:19.334Z"
   },
   {
    "duration": 4,
    "start_time": "2022-01-03T13:29:28.203Z"
   },
   {
    "duration": 1286,
    "start_time": "2022-01-03T13:29:34.976Z"
   },
   {
    "duration": 3,
    "start_time": "2022-01-03T13:31:36.244Z"
   },
   {
    "duration": 1121,
    "start_time": "2022-01-03T13:31:36.687Z"
   },
   {
    "duration": 914,
    "start_time": "2022-01-03T13:43:48.080Z"
   },
   {
    "duration": 719,
    "start_time": "2022-01-03T13:50:59.394Z"
   },
   {
    "duration": 1049,
    "start_time": "2022-01-03T13:53:50.527Z"
   },
   {
    "duration": 690,
    "start_time": "2022-01-03T13:54:07.009Z"
   },
   {
    "duration": 752,
    "start_time": "2022-01-03T13:58:50.747Z"
   },
   {
    "duration": 420,
    "start_time": "2022-01-03T13:59:16.965Z"
   },
   {
    "duration": 487,
    "start_time": "2022-01-03T14:05:20.982Z"
   },
   {
    "duration": 1250,
    "start_time": "2022-01-03T14:23:59.636Z"
   },
   {
    "duration": 910,
    "start_time": "2022-01-03T14:24:02.064Z"
   },
   {
    "duration": 723,
    "start_time": "2022-01-03T14:24:02.976Z"
   },
   {
    "duration": 392,
    "start_time": "2022-01-03T14:24:03.702Z"
   },
   {
    "duration": 364,
    "start_time": "2022-01-03T14:37:35.474Z"
   },
   {
    "duration": 4,
    "start_time": "2022-01-03T14:38:44.860Z"
   },
   {
    "duration": 401,
    "start_time": "2022-01-03T14:38:45.305Z"
   },
   {
    "duration": 1187,
    "start_time": "2022-01-03T14:38:46.510Z"
   },
   {
    "duration": 895,
    "start_time": "2022-01-03T14:38:47.701Z"
   },
   {
    "duration": 793,
    "start_time": "2022-01-03T14:38:48.599Z"
   },
   {
    "duration": 402,
    "start_time": "2022-01-03T14:38:49.395Z"
   },
   {
    "duration": 7,
    "start_time": "2022-01-03T14:38:50.289Z"
   },
   {
    "duration": 421,
    "start_time": "2022-01-03T14:39:07.115Z"
   },
   {
    "duration": 8,
    "start_time": "2022-01-03T14:39:17.073Z"
   },
   {
    "duration": 9,
    "start_time": "2022-01-03T14:40:38.718Z"
   },
   {
    "duration": 8,
    "start_time": "2022-01-03T14:40:43.268Z"
   },
   {
    "duration": 8,
    "start_time": "2022-01-03T14:40:50.730Z"
   },
   {
    "duration": 7,
    "start_time": "2022-01-03T14:40:54.708Z"
   },
   {
    "duration": 8,
    "start_time": "2022-01-03T14:41:07.351Z"
   },
   {
    "duration": 7,
    "start_time": "2022-01-03T14:41:13.024Z"
   },
   {
    "duration": 4,
    "start_time": "2022-01-03T14:41:20.969Z"
   },
   {
    "duration": 475,
    "start_time": "2022-01-03T14:41:21.187Z"
   },
   {
    "duration": 1228,
    "start_time": "2022-01-03T14:41:21.664Z"
   },
   {
    "duration": 895,
    "start_time": "2022-01-03T14:41:22.895Z"
   },
   {
    "duration": 722,
    "start_time": "2022-01-03T14:41:23.793Z"
   },
   {
    "duration": 377,
    "start_time": "2022-01-03T14:41:24.517Z"
   },
   {
    "duration": 6,
    "start_time": "2022-01-03T14:41:24.897Z"
   },
   {
    "duration": 9,
    "start_time": "2022-01-03T14:43:03.179Z"
   },
   {
    "duration": 374,
    "start_time": "2022-01-03T14:43:29.142Z"
   },
   {
    "duration": 8,
    "start_time": "2022-01-03T14:43:45.177Z"
   },
   {
    "duration": 3,
    "start_time": "2022-01-03T14:43:55.597Z"
   },
   {
    "duration": 448,
    "start_time": "2022-01-03T14:43:55.857Z"
   },
   {
    "duration": 1197,
    "start_time": "2022-01-03T14:43:56.307Z"
   },
   {
    "duration": 917,
    "start_time": "2022-01-03T14:43:57.507Z"
   },
   {
    "duration": 745,
    "start_time": "2022-01-03T14:43:58.427Z"
   },
   {
    "duration": 411,
    "start_time": "2022-01-03T14:43:59.174Z"
   },
   {
    "duration": 7,
    "start_time": "2022-01-03T14:43:59.588Z"
   },
   {
    "duration": 415,
    "start_time": "2022-01-03T14:47:55.398Z"
   },
   {
    "duration": 67,
    "start_time": "2022-01-03T14:48:13.855Z"
   },
   {
    "duration": 52,
    "start_time": "2022-01-03T14:48:18.946Z"
   },
   {
    "duration": 759,
    "start_time": "2022-01-03T14:50:28.060Z"
   },
   {
    "duration": 863,
    "start_time": "2022-01-03T14:50:42.358Z"
   },
   {
    "duration": 1206,
    "start_time": "2022-01-03T14:51:23.376Z"
   },
   {
    "duration": 768,
    "start_time": "2022-01-03T14:53:14.573Z"
   },
   {
    "duration": 962,
    "start_time": "2022-01-03T14:53:29.926Z"
   },
   {
    "duration": 126,
    "start_time": "2022-01-03T15:03:43.989Z"
   },
   {
    "duration": 15,
    "start_time": "2022-01-03T15:03:49.153Z"
   },
   {
    "duration": 15,
    "start_time": "2022-01-03T15:04:19.433Z"
   },
   {
    "duration": 9580,
    "start_time": "2022-01-03T15:05:56.713Z"
   },
   {
    "duration": 11,
    "start_time": "2022-01-03T15:06:11.691Z"
   },
   {
    "duration": 474,
    "start_time": "2022-01-03T15:07:29.594Z"
   },
   {
    "duration": 456,
    "start_time": "2022-01-03T15:08:04.816Z"
   },
   {
    "duration": 1405,
    "start_time": "2022-01-03T15:08:18.641Z"
   },
   {
    "duration": 939,
    "start_time": "2022-01-03T15:08:35.229Z"
   },
   {
    "duration": 752,
    "start_time": "2022-01-03T15:08:54.135Z"
   },
   {
    "duration": 487,
    "start_time": "2022-01-03T15:09:18.403Z"
   },
   {
    "duration": 10,
    "start_time": "2022-01-03T15:09:30.545Z"
   },
   {
    "duration": 1040,
    "start_time": "2022-01-05T08:54:16.472Z"
   },
   {
    "duration": 324,
    "start_time": "2022-01-05T08:54:17.514Z"
   },
   {
    "duration": 878,
    "start_time": "2022-01-05T08:54:17.840Z"
   },
   {
    "duration": 643,
    "start_time": "2022-01-05T08:54:18.819Z"
   },
   {
    "duration": 548,
    "start_time": "2022-01-05T08:54:21.057Z"
   },
   {
    "duration": 284,
    "start_time": "2022-01-05T08:54:23.555Z"
   },
   {
    "duration": 6,
    "start_time": "2022-01-05T08:54:25.384Z"
   },
   {
    "duration": 7,
    "start_time": "2022-01-05T08:54:54.545Z"
   },
   {
    "duration": 7,
    "start_time": "2022-01-05T08:56:50.563Z"
   },
   {
    "duration": 12,
    "start_time": "2022-01-05T09:02:58.141Z"
   },
   {
    "duration": 144,
    "start_time": "2022-01-05T09:07:27.634Z"
   },
   {
    "duration": 508,
    "start_time": "2022-01-05T09:13:09.562Z"
   },
   {
    "duration": 618,
    "start_time": "2022-01-05T09:13:26.819Z"
   },
   {
    "duration": 853,
    "start_time": "2022-01-05T09:13:42.709Z"
   },
   {
    "duration": 293,
    "start_time": "2022-01-05T09:14:34.568Z"
   },
   {
    "duration": 809,
    "start_time": "2022-01-05T09:20:51.020Z"
   },
   {
    "duration": 495,
    "start_time": "2022-01-05T09:21:33.615Z"
   },
   {
    "duration": 487,
    "start_time": "2022-01-05T09:23:19.931Z"
   },
   {
    "duration": 508,
    "start_time": "2022-01-05T09:24:28.173Z"
   },
   {
    "duration": 515,
    "start_time": "2022-01-05T09:26:23.503Z"
   },
   {
    "duration": 168,
    "start_time": "2022-01-05T09:28:29.740Z"
   },
   {
    "duration": 172,
    "start_time": "2022-01-05T09:28:57.299Z"
   },
   {
    "duration": 3,
    "start_time": "2022-01-05T09:29:27.384Z"
   },
   {
    "duration": 305,
    "start_time": "2022-01-05T09:29:27.654Z"
   },
   {
    "duration": 921,
    "start_time": "2022-01-05T09:29:28.729Z"
   },
   {
    "duration": 658,
    "start_time": "2022-01-05T09:29:29.652Z"
   },
   {
    "duration": 569,
    "start_time": "2022-01-05T09:29:30.327Z"
   },
   {
    "duration": 305,
    "start_time": "2022-01-05T09:29:30.897Z"
   },
   {
    "duration": 358,
    "start_time": "2022-01-05T09:29:31.228Z"
   },
   {
    "duration": 176,
    "start_time": "2022-01-05T09:30:17.385Z"
   },
   {
    "duration": 350,
    "start_time": "2022-01-05T09:30:34.829Z"
   },
   {
    "duration": 270,
    "start_time": "2022-01-05T09:31:17.430Z"
   },
   {
    "duration": 178,
    "start_time": "2022-01-05T09:40:27.937Z"
   },
   {
    "duration": 177,
    "start_time": "2022-01-05T09:40:46.326Z"
   },
   {
    "duration": 177,
    "start_time": "2022-01-05T09:41:32.691Z"
   },
   {
    "duration": 178,
    "start_time": "2022-01-05T09:43:53.435Z"
   },
   {
    "duration": 180,
    "start_time": "2022-01-05T09:44:02.143Z"
   },
   {
    "duration": 188,
    "start_time": "2022-01-05T09:44:24.449Z"
   },
   {
    "duration": 3,
    "start_time": "2022-01-05T09:44:50.712Z"
   },
   {
    "duration": 287,
    "start_time": "2022-01-05T09:44:50.907Z"
   },
   {
    "duration": 886,
    "start_time": "2022-01-05T09:44:53.856Z"
   },
   {
    "duration": 622,
    "start_time": "2022-01-05T09:44:54.743Z"
   },
   {
    "duration": 525,
    "start_time": "2022-01-05T09:44:55.657Z"
   },
   {
    "duration": 276,
    "start_time": "2022-01-05T09:44:56.983Z"
   },
   {
    "duration": 181,
    "start_time": "2022-01-05T09:44:58.645Z"
   },
   {
    "duration": 2,
    "start_time": "2022-01-05T09:45:28.991Z"
   },
   {
    "duration": 311,
    "start_time": "2022-01-05T09:45:29.646Z"
   },
   {
    "duration": 993,
    "start_time": "2022-01-05T09:45:30.723Z"
   },
   {
    "duration": 647,
    "start_time": "2022-01-05T09:45:31.825Z"
   },
   {
    "duration": 546,
    "start_time": "2022-01-05T09:45:32.789Z"
   },
   {
    "duration": 357,
    "start_time": "2022-01-05T09:45:33.921Z"
   },
   {
    "duration": 173,
    "start_time": "2022-01-05T09:45:36.447Z"
   },
   {
    "duration": 171,
    "start_time": "2022-01-05T09:47:15.818Z"
   },
   {
    "duration": 112,
    "start_time": "2022-01-05T09:59:26.087Z"
   },
   {
    "duration": 49,
    "start_time": "2022-01-05T09:59:37.725Z"
   },
   {
    "duration": 33,
    "start_time": "2022-01-05T09:59:56.415Z"
   },
   {
    "duration": 37,
    "start_time": "2022-01-05T10:00:03.738Z"
   },
   {
    "duration": 904,
    "start_time": "2022-01-05T10:01:36.288Z"
   },
   {
    "duration": 35,
    "start_time": "2022-01-05T10:06:43.242Z"
   },
   {
    "duration": 34,
    "start_time": "2022-01-05T10:06:59.789Z"
   },
   {
    "duration": 401,
    "start_time": "2022-01-05T10:17:22.206Z"
   },
   {
    "duration": 385,
    "start_time": "2022-01-05T10:21:29.890Z"
   },
   {
    "duration": 41,
    "start_time": "2022-01-05T10:21:46.180Z"
   },
   {
    "duration": 81,
    "start_time": "2022-01-05T10:27:27.332Z"
   },
   {
    "duration": 74,
    "start_time": "2022-01-05T10:32:40.828Z"
   },
   {
    "duration": 37,
    "start_time": "2022-01-05T10:33:11.362Z"
   },
   {
    "duration": 37,
    "start_time": "2022-01-05T10:33:24.070Z"
   },
   {
    "duration": 42,
    "start_time": "2022-01-05T10:33:47.559Z"
   },
   {
    "duration": 43,
    "start_time": "2022-01-05T10:34:28.153Z"
   },
   {
    "duration": 78,
    "start_time": "2022-01-05T10:41:40.209Z"
   },
   {
    "duration": 50,
    "start_time": "2022-01-05T10:42:01.758Z"
   },
   {
    "duration": 93,
    "start_time": "2022-01-05T10:42:22.519Z"
   },
   {
    "duration": 1362,
    "start_time": "2022-01-05T10:44:13.260Z"
   },
   {
    "duration": 50,
    "start_time": "2022-01-05T10:44:52.757Z"
   },
   {
    "duration": 52,
    "start_time": "2022-01-05T10:45:48.383Z"
   },
   {
    "duration": 3,
    "start_time": "2022-01-05T10:46:00.003Z"
   },
   {
    "duration": 314,
    "start_time": "2022-01-05T10:46:00.378Z"
   },
   {
    "duration": 969,
    "start_time": "2022-01-05T10:46:00.789Z"
   },
   {
    "duration": 668,
    "start_time": "2022-01-05T10:46:01.759Z"
   },
   {
    "duration": 521,
    "start_time": "2022-01-05T10:46:02.429Z"
   },
   {
    "duration": 268,
    "start_time": "2022-01-05T10:46:02.951Z"
   },
   {
    "duration": 163,
    "start_time": "2022-01-05T10:46:03.221Z"
   },
   {
    "duration": 73,
    "start_time": "2022-01-05T10:46:03.386Z"
   },
   {
    "duration": 838,
    "start_time": "2022-01-05T10:46:40.146Z"
   },
   {
    "duration": 93,
    "start_time": "2022-01-05T10:46:49.771Z"
   },
   {
    "duration": 90,
    "start_time": "2022-01-05T10:47:21.944Z"
   },
   {
    "duration": 144,
    "start_time": "2022-01-05T10:47:31.349Z"
   },
   {
    "duration": 422,
    "start_time": "2022-01-05T10:49:16.195Z"
   },
   {
    "duration": 481,
    "start_time": "2022-01-05T10:49:23.683Z"
   },
   {
    "duration": 430,
    "start_time": "2022-01-05T10:54:33.852Z"
   },
   {
    "duration": 1395,
    "start_time": "2022-01-05T10:54:45.191Z"
   },
   {
    "duration": 415,
    "start_time": "2022-01-05T11:00:33.221Z"
   },
   {
    "duration": 412,
    "start_time": "2022-01-05T11:00:58.166Z"
   },
   {
    "duration": 85,
    "start_time": "2022-01-05T11:03:18.142Z"
   },
   {
    "duration": 428,
    "start_time": "2022-01-05T11:05:44.499Z"
   },
   {
    "duration": 49,
    "start_time": "2022-01-05T11:05:58.694Z"
   },
   {
    "duration": 109,
    "start_time": "2022-01-05T11:06:32.575Z"
   },
   {
    "duration": 792,
    "start_time": "2022-01-05T11:10:21.240Z"
   },
   {
    "duration": 47,
    "start_time": "2022-01-05T11:10:30.907Z"
   },
   {
    "duration": 49,
    "start_time": "2022-01-05T11:11:17.857Z"
   },
   {
    "duration": 51,
    "start_time": "2022-01-05T11:11:41.588Z"
   },
   {
    "duration": 1429,
    "start_time": "2022-01-05T11:19:03.540Z"
   },
   {
    "duration": 87,
    "start_time": "2022-01-05T11:20:05.995Z"
   },
   {
    "duration": 40495,
    "start_time": "2022-01-05T11:22:12.333Z"
   },
   {
    "duration": 41232,
    "start_time": "2022-01-05T11:24:25.247Z"
   },
   {
    "duration": 53,
    "start_time": "2022-01-05T11:25:40.250Z"
   },
   {
    "duration": 179,
    "start_time": "2022-01-05T11:30:01.528Z"
   },
   {
    "duration": 114,
    "start_time": "2022-01-05T11:30:02.752Z"
   },
   {
    "duration": 61,
    "start_time": "2022-01-05T11:30:04.259Z"
   },
   {
    "duration": 61,
    "start_time": "2022-01-05T11:30:05.297Z"
   },
   {
    "duration": 369,
    "start_time": "2022-01-05T11:30:06.070Z"
   },
   {
    "duration": 2,
    "start_time": "2022-01-05T11:30:06.896Z"
   },
   {
    "duration": 316,
    "start_time": "2022-01-05T11:30:43.713Z"
   },
   {
    "duration": 16,
    "start_time": "2022-01-05T11:36:08.977Z"
   },
   {
    "duration": 27,
    "start_time": "2022-01-05T11:36:25.004Z"
   },
   {
    "duration": 342,
    "start_time": "2022-01-05T11:51:36.882Z"
   },
   {
    "duration": 28,
    "start_time": "2022-01-05T11:52:34.987Z"
   },
   {
    "duration": 338,
    "start_time": "2022-01-05T11:53:40.705Z"
   },
   {
    "duration": 323,
    "start_time": "2022-01-05T11:53:53.057Z"
   },
   {
    "duration": 413,
    "start_time": "2022-01-05T11:54:02.952Z"
   },
   {
    "duration": 31,
    "start_time": "2022-01-05T11:54:41.531Z"
   },
   {
    "duration": 33,
    "start_time": "2022-01-05T11:54:55.297Z"
   },
   {
    "duration": 29,
    "start_time": "2022-01-05T11:55:06.483Z"
   },
   {
    "duration": 344,
    "start_time": "2022-01-05T11:57:19.985Z"
   },
   {
    "duration": 29,
    "start_time": "2022-01-05T11:57:27.119Z"
   },
   {
    "duration": 658,
    "start_time": "2022-01-05T11:57:39.577Z"
   },
   {
    "duration": 393,
    "start_time": "2022-01-05T11:57:54.687Z"
   },
   {
    "duration": 35,
    "start_time": "2022-01-05T12:00:14.958Z"
   },
   {
    "duration": 38,
    "start_time": "2022-01-05T12:01:02.838Z"
   },
   {
    "duration": 41,
    "start_time": "2022-01-05T12:01:17.118Z"
   },
   {
    "duration": 39,
    "start_time": "2022-01-05T12:01:31.152Z"
   },
   {
    "duration": 268,
    "start_time": "2022-01-05T12:03:40.687Z"
   },
   {
    "duration": 155,
    "start_time": "2022-01-05T12:03:41.565Z"
   },
   {
    "duration": 117,
    "start_time": "2022-01-05T12:03:42.444Z"
   },
   {
    "duration": 62,
    "start_time": "2022-01-05T12:03:42.910Z"
   },
   {
    "duration": 61,
    "start_time": "2022-01-05T12:03:44.029Z"
   },
   {
    "duration": 40,
    "start_time": "2022-01-05T12:03:44.570Z"
   },
   {
    "duration": 8164,
    "start_time": "2022-01-05T12:03:45.564Z"
   },
   {
    "duration": 6,
    "start_time": "2022-01-05T12:11:32.293Z"
   },
   {
    "duration": 20,
    "start_time": "2022-01-05T12:11:47.894Z"
   },
   {
    "duration": 15,
    "start_time": "2022-01-05T12:13:13.314Z"
   },
   {
    "duration": 519,
    "start_time": "2022-01-05T12:13:57.676Z"
   },
   {
    "duration": 31,
    "start_time": "2022-01-05T12:18:08.175Z"
   },
   {
    "duration": 359,
    "start_time": "2022-01-05T12:20:00.816Z"
   },
   {
    "duration": 616,
    "start_time": "2022-01-05T12:21:18.845Z"
   },
   {
    "duration": 3,
    "start_time": "2022-01-05T12:23:37.715Z"
   },
   {
    "duration": 340,
    "start_time": "2022-01-05T12:23:37.935Z"
   },
   {
    "duration": 973,
    "start_time": "2022-01-05T12:23:38.354Z"
   },
   {
    "duration": 763,
    "start_time": "2022-01-05T12:23:39.329Z"
   },
   {
    "duration": 541,
    "start_time": "2022-01-05T12:23:40.094Z"
   },
   {
    "duration": 290,
    "start_time": "2022-01-05T12:23:40.637Z"
   },
   {
    "duration": 160,
    "start_time": "2022-01-05T12:23:40.929Z"
   },
   {
    "duration": 107,
    "start_time": "2022-01-05T12:23:41.090Z"
   },
   {
    "duration": 69,
    "start_time": "2022-01-05T12:23:41.199Z"
   },
   {
    "duration": 59,
    "start_time": "2022-01-05T12:23:41.330Z"
   },
   {
    "duration": 30,
    "start_time": "2022-01-05T12:23:41.576Z"
   },
   {
    "duration": 600,
    "start_time": "2022-01-05T12:23:41.817Z"
   },
   {
    "duration": 340,
    "start_time": "2022-01-05T12:24:43.100Z"
   },
   {
    "duration": 609,
    "start_time": "2022-01-05T12:24:58.159Z"
   },
   {
    "duration": 324,
    "start_time": "2022-01-05T12:31:21.735Z"
   },
   {
    "duration": 8735,
    "start_time": "2022-01-05T12:31:28.401Z"
   },
   {
    "duration": 13,
    "start_time": "2022-01-05T12:33:43.689Z"
   },
   {
    "duration": 443,
    "start_time": "2022-01-05T12:34:35.066Z"
   },
   {
    "duration": 7492,
    "start_time": "2022-01-05T12:34:46.868Z"
   },
   {
    "duration": 13885,
    "start_time": "2022-01-05T12:35:09.620Z"
   },
   {
    "duration": 1854,
    "start_time": "2022-01-05T12:36:08.347Z"
   },
   {
    "duration": 10169,
    "start_time": "2022-01-05T12:37:29.470Z"
   },
   {
    "duration": 411,
    "start_time": "2022-01-05T12:44:22.037Z"
   },
   {
    "duration": 6719,
    "start_time": "2022-01-05T12:44:44.679Z"
   },
   {
    "duration": 8374,
    "start_time": "2022-01-05T12:45:38.844Z"
   },
   {
    "duration": 2338,
    "start_time": "2022-01-05T12:46:20.495Z"
   },
   {
    "duration": 593,
    "start_time": "2022-01-05T12:46:26.220Z"
   },
   {
    "duration": 206,
    "start_time": "2022-01-05T12:48:12.158Z"
   },
   {
    "duration": 203,
    "start_time": "2022-01-05T12:48:27.659Z"
   },
   {
    "duration": 3,
    "start_time": "2022-01-05T12:48:39.751Z"
   },
   {
    "duration": 367,
    "start_time": "2022-01-05T12:48:39.938Z"
   },
   {
    "duration": 977,
    "start_time": "2022-01-05T12:48:40.334Z"
   },
   {
    "duration": 636,
    "start_time": "2022-01-05T12:48:41.313Z"
   },
   {
    "duration": 537,
    "start_time": "2022-01-05T12:48:41.951Z"
   },
   {
    "duration": 286,
    "start_time": "2022-01-05T12:48:42.490Z"
   },
   {
    "duration": 193,
    "start_time": "2022-01-05T12:48:42.778Z"
   },
   {
    "duration": 117,
    "start_time": "2022-01-05T12:48:42.973Z"
   },
   {
    "duration": 68,
    "start_time": "2022-01-05T12:48:43.092Z"
   },
   {
    "duration": 68,
    "start_time": "2022-01-05T12:48:43.161Z"
   },
   {
    "duration": 32,
    "start_time": "2022-01-05T12:48:43.424Z"
   },
   {
    "duration": 197,
    "start_time": "2022-01-05T12:48:43.613Z"
   },
   {
    "duration": 6440,
    "start_time": "2022-01-05T12:49:57.564Z"
   },
   {
    "duration": 4372,
    "start_time": "2022-01-05T12:50:35.891Z"
   },
   {
    "duration": 39,
    "start_time": "2022-01-05T12:52:21.578Z"
   },
   {
    "duration": 5,
    "start_time": "2022-01-05T12:53:04.501Z"
   },
   {
    "duration": 3,
    "start_time": "2022-01-05T12:53:24.003Z"
   },
   {
    "duration": 310,
    "start_time": "2022-01-05T12:53:24.217Z"
   },
   {
    "duration": 850,
    "start_time": "2022-01-05T12:53:24.688Z"
   },
   {
    "duration": 615,
    "start_time": "2022-01-05T12:53:25.540Z"
   },
   {
    "duration": 555,
    "start_time": "2022-01-05T12:53:26.157Z"
   },
   {
    "duration": 282,
    "start_time": "2022-01-05T12:53:26.714Z"
   },
   {
    "duration": 156,
    "start_time": "2022-01-05T12:53:27.448Z"
   },
   {
    "duration": 101,
    "start_time": "2022-01-05T12:53:27.966Z"
   },
   {
    "duration": 59,
    "start_time": "2022-01-05T12:53:28.243Z"
   },
   {
    "duration": 59,
    "start_time": "2022-01-05T12:53:28.559Z"
   },
   {
    "duration": 38,
    "start_time": "2022-01-05T12:53:28.853Z"
   },
   {
    "duration": 10,
    "start_time": "2022-01-05T12:53:29.143Z"
   },
   {
    "duration": 24,
    "start_time": "2022-01-05T12:54:00.628Z"
   },
   {
    "duration": 13,
    "start_time": "2022-01-05T12:54:20.466Z"
   },
   {
    "duration": 20,
    "start_time": "2022-01-05T12:55:07.871Z"
   },
   {
    "duration": 22,
    "start_time": "2022-01-05T12:55:25.309Z"
   },
   {
    "duration": 22,
    "start_time": "2022-01-05T12:55:45.467Z"
   },
   {
    "duration": 21,
    "start_time": "2022-01-05T12:55:52.831Z"
   },
   {
    "duration": 20,
    "start_time": "2022-01-05T12:55:57.951Z"
   },
   {
    "duration": 20,
    "start_time": "2022-01-05T12:56:15.368Z"
   },
   {
    "duration": 109,
    "start_time": "2022-01-05T12:57:59.400Z"
   },
   {
    "duration": 1333,
    "start_time": "2022-01-05T12:58:04.228Z"
   },
   {
    "duration": 861,
    "start_time": "2022-01-05T12:58:51.890Z"
   },
   {
    "duration": 109,
    "start_time": "2022-01-05T12:58:58.350Z"
   },
   {
    "duration": 375,
    "start_time": "2022-01-05T12:59:04.966Z"
   },
   {
    "duration": 13,
    "start_time": "2022-01-05T13:06:51.568Z"
   },
   {
    "duration": 21,
    "start_time": "2022-01-05T13:07:02.614Z"
   },
   {
    "duration": 4,
    "start_time": "2022-01-05T13:11:37.062Z"
   },
   {
    "duration": 38,
    "start_time": "2022-01-05T13:12:55.917Z"
   },
   {
    "duration": 24,
    "start_time": "2022-01-05T13:13:07.428Z"
   },
   {
    "duration": 24,
    "start_time": "2022-01-05T13:14:20.041Z"
   },
   {
    "duration": 112,
    "start_time": "2022-01-05T13:41:12.069Z"
   },
   {
    "duration": 331,
    "start_time": "2022-01-05T13:42:57.810Z"
   },
   {
    "duration": 151,
    "start_time": "2022-01-05T13:52:24.651Z"
   },
   {
    "duration": 25,
    "start_time": "2022-01-05T13:52:31.101Z"
   },
   {
    "duration": 27,
    "start_time": "2022-01-05T13:53:09.067Z"
   },
   {
    "duration": 26,
    "start_time": "2022-01-05T14:01:05.164Z"
   },
   {
    "duration": 364,
    "start_time": "2022-01-05T14:05:12.528Z"
   },
   {
    "duration": 326,
    "start_time": "2022-01-05T14:05:56.356Z"
   },
   {
    "duration": 322,
    "start_time": "2022-01-05T14:06:57.318Z"
   },
   {
    "duration": 389,
    "start_time": "2022-01-05T14:13:06.619Z"
   },
   {
    "duration": 337,
    "start_time": "2022-01-05T14:15:11.657Z"
   },
   {
    "duration": 317,
    "start_time": "2022-01-05T14:15:27.256Z"
   },
   {
    "duration": 3,
    "start_time": "2022-01-05T14:16:06.427Z"
   },
   {
    "duration": 309,
    "start_time": "2022-01-05T14:16:06.740Z"
   },
   {
    "duration": 967,
    "start_time": "2022-01-05T14:16:07.244Z"
   },
   {
    "duration": 636,
    "start_time": "2022-01-05T14:16:08.213Z"
   },
   {
    "duration": 640,
    "start_time": "2022-01-05T14:16:08.851Z"
   },
   {
    "duration": 340,
    "start_time": "2022-01-05T14:16:09.493Z"
   },
   {
    "duration": 155,
    "start_time": "2022-01-05T14:16:09.834Z"
   },
   {
    "duration": 117,
    "start_time": "2022-01-05T14:16:09.991Z"
   },
   {
    "duration": 62,
    "start_time": "2022-01-05T14:16:10.110Z"
   },
   {
    "duration": 60,
    "start_time": "2022-01-05T14:16:10.346Z"
   },
   {
    "duration": 37,
    "start_time": "2022-01-05T14:16:10.498Z"
   },
   {
    "duration": 325,
    "start_time": "2022-01-05T14:16:10.709Z"
   },
   {
    "duration": 337,
    "start_time": "2022-01-05T14:22:42.474Z"
   },
   {
    "duration": 398,
    "start_time": "2022-01-05T14:24:40.526Z"
   },
   {
    "duration": 403,
    "start_time": "2022-01-05T14:24:59.204Z"
   },
   {
    "duration": 335,
    "start_time": "2022-01-05T14:28:50.995Z"
   },
   {
    "duration": 14418,
    "start_time": "2022-01-05T14:30:29.049Z"
   },
   {
    "duration": 27,
    "start_time": "2022-01-05T14:31:11.670Z"
   },
   {
    "duration": 28,
    "start_time": "2022-01-05T14:34:09.507Z"
   },
   {
    "duration": 38,
    "start_time": "2022-01-05T14:35:58.215Z"
   },
   {
    "duration": 34,
    "start_time": "2022-01-05T14:40:34.310Z"
   },
   {
    "duration": 4,
    "start_time": "2022-01-05T15:01:21.305Z"
   },
   {
    "duration": 4,
    "start_time": "2022-01-05T15:01:56.257Z"
   },
   {
    "duration": 28,
    "start_time": "2022-01-05T15:02:32.457Z"
   },
   {
    "duration": 5,
    "start_time": "2022-01-05T15:05:07.489Z"
   },
   {
    "duration": 30,
    "start_time": "2022-01-05T15:05:14.320Z"
   },
   {
    "duration": 29,
    "start_time": "2022-01-05T15:05:22.439Z"
   },
   {
    "duration": 27,
    "start_time": "2022-01-05T15:08:36.326Z"
   },
   {
    "duration": 17,
    "start_time": "2022-01-05T15:09:54.877Z"
   },
   {
    "duration": 8,
    "start_time": "2022-01-05T15:10:15.922Z"
   },
   {
    "duration": 9,
    "start_time": "2022-01-05T15:24:34.605Z"
   },
   {
    "duration": 147,
    "start_time": "2022-01-05T15:27:41.244Z"
   },
   {
    "duration": 176,
    "start_time": "2022-01-05T15:28:14.090Z"
   },
   {
    "duration": 344,
    "start_time": "2022-01-05T15:31:19.095Z"
   },
   {
    "duration": 317,
    "start_time": "2022-01-05T15:31:35.437Z"
   },
   {
    "duration": 310,
    "start_time": "2022-01-05T15:32:23.499Z"
   },
   {
    "duration": 318,
    "start_time": "2022-01-05T15:33:21.813Z"
   },
   {
    "duration": 311,
    "start_time": "2022-01-05T15:33:31.694Z"
   },
   {
    "duration": 296,
    "start_time": "2022-01-05T15:34:06.325Z"
   },
   {
    "duration": 297,
    "start_time": "2022-01-05T15:34:35.048Z"
   },
   {
    "duration": 615,
    "start_time": "2022-01-05T15:38:20.458Z"
   },
   {
    "duration": 298,
    "start_time": "2022-01-05T15:38:21.291Z"
   },
   {
    "duration": 5,
    "start_time": "2022-01-05T15:39:59.866Z"
   },
   {
    "duration": 9,
    "start_time": "2022-01-05T15:42:03.486Z"
   },
   {
    "duration": 386,
    "start_time": "2022-01-05T15:44:05.982Z"
   },
   {
    "duration": 390,
    "start_time": "2022-01-05T15:44:22.299Z"
   },
   {
    "duration": 389,
    "start_time": "2022-01-05T15:44:41.867Z"
   },
   {
    "duration": 384,
    "start_time": "2022-01-05T15:45:07.552Z"
   },
   {
    "duration": 410,
    "start_time": "2022-01-05T15:45:40.600Z"
   },
   {
    "duration": 8,
    "start_time": "2022-01-05T15:47:04.337Z"
   },
   {
    "duration": 345,
    "start_time": "2022-01-05T15:50:50.719Z"
   },
   {
    "duration": 10,
    "start_time": "2022-01-05T15:50:59.870Z"
   },
   {
    "duration": 119,
    "start_time": "2022-01-05T15:57:02.117Z"
   },
   {
    "duration": 9,
    "start_time": "2022-01-05T15:57:23.404Z"
   },
   {
    "duration": 13,
    "start_time": "2022-01-05T15:58:25.062Z"
   },
   {
    "duration": 13,
    "start_time": "2022-01-05T16:00:08.973Z"
   },
   {
    "duration": 8646,
    "start_time": "2022-01-05T16:02:16.010Z"
   },
   {
    "duration": 14,
    "start_time": "2022-01-05T16:03:18.381Z"
   },
   {
    "duration": 12,
    "start_time": "2022-01-05T16:06:09.787Z"
   },
   {
    "duration": 13,
    "start_time": "2022-01-05T16:06:23.570Z"
   },
   {
    "duration": 12,
    "start_time": "2022-01-05T16:07:11.210Z"
   },
   {
    "duration": 12,
    "start_time": "2022-01-05T16:08:49.433Z"
   },
   {
    "duration": 13,
    "start_time": "2022-01-05T16:13:46.771Z"
   },
   {
    "duration": 14,
    "start_time": "2022-01-05T16:15:55.966Z"
   },
   {
    "duration": 12,
    "start_time": "2022-01-05T16:18:32.012Z"
   },
   {
    "duration": 12,
    "start_time": "2022-01-05T16:18:48.697Z"
   },
   {
    "duration": 8,
    "start_time": "2022-01-05T16:22:26.169Z"
   },
   {
    "duration": 10,
    "start_time": "2022-01-05T16:25:34.231Z"
   },
   {
    "duration": 6,
    "start_time": "2022-01-05T16:25:38.681Z"
   },
   {
    "duration": 7,
    "start_time": "2022-01-05T16:26:01.274Z"
   },
   {
    "duration": 7,
    "start_time": "2022-01-05T16:27:26.045Z"
   },
   {
    "duration": 42,
    "start_time": "2022-01-05T16:41:21.362Z"
   },
   {
    "duration": 348,
    "start_time": "2022-01-05T16:42:29.339Z"
   },
   {
    "duration": 348,
    "start_time": "2022-01-05T16:45:29.433Z"
   },
   {
    "duration": 348,
    "start_time": "2022-01-05T16:48:04.321Z"
   },
   {
    "duration": 33,
    "start_time": "2022-01-05T16:48:15.244Z"
   },
   {
    "duration": 29,
    "start_time": "2022-01-05T16:48:56.769Z"
   },
   {
    "duration": 29,
    "start_time": "2022-01-05T16:50:22.464Z"
   },
   {
    "duration": 337,
    "start_time": "2022-01-05T16:51:05.855Z"
   },
   {
    "duration": 328,
    "start_time": "2022-01-05T17:03:20.564Z"
   },
   {
    "duration": 333,
    "start_time": "2022-01-05T17:03:49.209Z"
   },
   {
    "duration": 336,
    "start_time": "2022-01-05T17:09:06.783Z"
   },
   {
    "duration": 52,
    "start_time": "2022-01-05T17:15:01.754Z"
   },
   {
    "duration": 39,
    "start_time": "2022-01-05T17:15:02.372Z"
   },
   {
    "duration": 361,
    "start_time": "2022-01-05T17:15:02.740Z"
   },
   {
    "duration": 298,
    "start_time": "2022-01-05T17:15:03.187Z"
   },
   {
    "duration": 7,
    "start_time": "2022-01-05T17:15:05.322Z"
   },
   {
    "duration": 54,
    "start_time": "2022-01-05T17:15:46.966Z"
   },
   {
    "duration": 40,
    "start_time": "2022-01-05T17:15:47.633Z"
   },
   {
    "duration": 366,
    "start_time": "2022-01-05T17:15:48.027Z"
   },
   {
    "duration": 630,
    "start_time": "2022-01-05T17:15:48.467Z"
   },
   {
    "duration": 51,
    "start_time": "2022-01-05T17:19:41.918Z"
   },
   {
    "duration": 38,
    "start_time": "2022-01-05T17:19:48.796Z"
   },
   {
    "duration": 345,
    "start_time": "2022-01-05T17:20:02.259Z"
   },
   {
    "duration": 343,
    "start_time": "2022-01-05T17:20:23.970Z"
   },
   {
    "duration": 351,
    "start_time": "2022-01-05T17:36:41.986Z"
   },
   {
    "duration": 296,
    "start_time": "2022-01-05T17:36:44.455Z"
   },
   {
    "duration": 28,
    "start_time": "2022-01-05T17:38:54.035Z"
   },
   {
    "duration": 28,
    "start_time": "2022-01-05T17:39:02.993Z"
   },
   {
    "duration": 29,
    "start_time": "2022-01-05T17:39:17.360Z"
   },
   {
    "duration": 22,
    "start_time": "2022-01-05T17:41:42.225Z"
   },
   {
    "duration": 24,
    "start_time": "2022-01-05T17:41:48.575Z"
   },
   {
    "duration": 30,
    "start_time": "2022-01-05T17:41:54.134Z"
   },
   {
    "duration": 30,
    "start_time": "2022-01-05T17:46:06.093Z"
   },
   {
    "duration": 47,
    "start_time": "2022-01-05T17:50:38.945Z"
   },
   {
    "duration": 8181,
    "start_time": "2022-01-05T17:51:36.586Z"
   },
   {
    "duration": 7977,
    "start_time": "2022-01-05T17:52:48.448Z"
   },
   {
    "duration": 8,
    "start_time": "2022-01-05T17:53:39.557Z"
   },
   {
    "duration": 8656,
    "start_time": "2022-01-05T17:54:16.803Z"
   },
   {
    "duration": 9161,
    "start_time": "2022-01-05T17:56:10.180Z"
   },
   {
    "duration": 31,
    "start_time": "2022-01-05T17:58:43.928Z"
   },
   {
    "duration": 31,
    "start_time": "2022-01-05T17:58:57.215Z"
   },
   {
    "duration": 31,
    "start_time": "2022-01-05T17:59:18.504Z"
   },
   {
    "duration": 320,
    "start_time": "2022-01-05T17:59:53.703Z"
   },
   {
    "duration": 1104,
    "start_time": "2022-01-05T18:00:06.055Z"
   },
   {
    "duration": 8030,
    "start_time": "2022-01-05T18:00:41.554Z"
   },
   {
    "duration": 8415,
    "start_time": "2022-01-05T18:01:10.718Z"
   },
   {
    "duration": 8141,
    "start_time": "2022-01-05T18:01:36.479Z"
   },
   {
    "duration": 6,
    "start_time": "2022-01-05T18:01:48.979Z"
   },
   {
    "duration": 341,
    "start_time": "2022-01-05T18:09:00.492Z"
   },
   {
    "duration": 9,
    "start_time": "2022-01-05T18:09:18.749Z"
   },
   {
    "duration": 6,
    "start_time": "2022-01-05T18:10:52.647Z"
   },
   {
    "duration": 5,
    "start_time": "2022-01-05T18:12:55.004Z"
   },
   {
    "duration": 5,
    "start_time": "2022-01-05T18:13:41.758Z"
   },
   {
    "duration": 5,
    "start_time": "2022-01-05T18:16:04.177Z"
   },
   {
    "duration": 5,
    "start_time": "2022-01-05T18:17:36.586Z"
   },
   {
    "duration": 6,
    "start_time": "2022-01-05T18:18:37.220Z"
   },
   {
    "duration": 141,
    "start_time": "2022-01-05T18:28:22.294Z"
   },
   {
    "duration": 119,
    "start_time": "2022-01-05T18:28:38.990Z"
   },
   {
    "duration": 117,
    "start_time": "2022-01-05T18:28:44.747Z"
   },
   {
    "duration": 30,
    "start_time": "2022-01-05T18:28:52.287Z"
   },
   {
    "duration": 299,
    "start_time": "2022-01-05T19:00:25.669Z"
   },
   {
    "duration": 706,
    "start_time": "2022-01-05T19:01:24.876Z"
   },
   {
    "duration": 615,
    "start_time": "2022-01-05T19:01:32.274Z"
   },
   {
    "duration": 98,
    "start_time": "2022-01-05T19:02:08.523Z"
   },
   {
    "duration": 1438,
    "start_time": "2022-01-05T19:02:19.413Z"
   },
   {
    "duration": 2638,
    "start_time": "2022-01-05T19:03:30.626Z"
   },
   {
    "duration": 546,
    "start_time": "2022-01-05T19:03:44.393Z"
   },
   {
    "duration": 992,
    "start_time": "2022-01-05T19:03:55.232Z"
   },
   {
    "duration": 616,
    "start_time": "2022-01-05T19:04:16.002Z"
   },
   {
    "duration": 950,
    "start_time": "2022-01-05T19:05:41.542Z"
   },
   {
    "duration": 967,
    "start_time": "2022-01-05T19:05:52.523Z"
   },
   {
    "duration": 921,
    "start_time": "2022-01-05T19:07:14.328Z"
   },
   {
    "duration": 617,
    "start_time": "2022-01-05T19:07:31.432Z"
   },
   {
    "duration": 2754,
    "start_time": "2022-01-05T19:09:05.643Z"
   },
   {
    "duration": 1054,
    "start_time": "2022-01-05T19:10:53.977Z"
   },
   {
    "duration": 966,
    "start_time": "2022-01-05T19:12:34.456Z"
   },
   {
    "duration": 964,
    "start_time": "2022-01-05T19:14:02.083Z"
   },
   {
    "duration": 913,
    "start_time": "2022-01-05T19:14:19.298Z"
   },
   {
    "duration": 832,
    "start_time": "2022-01-05T19:16:52.330Z"
   },
   {
    "duration": 1627,
    "start_time": "2022-01-05T19:17:30.966Z"
   },
   {
    "duration": 1004,
    "start_time": "2022-01-05T19:17:56.755Z"
   },
   {
    "duration": 979,
    "start_time": "2022-01-05T19:18:28.885Z"
   },
   {
    "duration": 1149,
    "start_time": "2022-01-05T19:18:52.513Z"
   },
   {
    "duration": 1624,
    "start_time": "2022-01-05T19:19:21.195Z"
   },
   {
    "duration": 1302,
    "start_time": "2022-01-05T19:19:57.594Z"
   },
   {
    "duration": 1166,
    "start_time": "2022-01-05T19:20:15.661Z"
   },
   {
    "duration": 1156,
    "start_time": "2022-01-05T19:20:28.063Z"
   },
   {
    "duration": 1342,
    "start_time": "2022-01-05T19:22:20.094Z"
   },
   {
    "duration": 1344,
    "start_time": "2022-01-05T19:22:37.066Z"
   },
   {
    "duration": 1448,
    "start_time": "2022-01-05T19:23:30.635Z"
   },
   {
    "duration": 1557,
    "start_time": "2022-01-05T19:23:41.033Z"
   },
   {
    "duration": 1167,
    "start_time": "2022-01-05T19:24:02.307Z"
   },
   {
    "duration": 1279,
    "start_time": "2022-01-05T19:24:17.606Z"
   },
   {
    "duration": 1079,
    "start_time": "2022-01-05T19:26:03.061Z"
   },
   {
    "duration": 1419,
    "start_time": "2022-01-05T19:26:33.255Z"
   },
   {
    "duration": 491,
    "start_time": "2022-01-05T19:28:00.182Z"
   },
   {
    "duration": 501,
    "start_time": "2022-01-05T19:29:18.182Z"
   },
   {
    "duration": 516,
    "start_time": "2022-01-05T19:29:40.825Z"
   },
   {
    "duration": 507,
    "start_time": "2022-01-05T19:30:23.194Z"
   },
   {
    "duration": 506,
    "start_time": "2022-01-05T19:31:22.795Z"
   },
   {
    "duration": 687,
    "start_time": "2022-01-05T19:33:23.880Z"
   },
   {
    "duration": 810,
    "start_time": "2022-01-05T19:35:48.409Z"
   },
   {
    "duration": 789,
    "start_time": "2022-01-05T19:36:14.442Z"
   },
   {
    "duration": 1269,
    "start_time": "2022-01-05T19:37:31.098Z"
   },
   {
    "duration": 877,
    "start_time": "2022-01-05T19:38:00.472Z"
   },
   {
    "duration": 803,
    "start_time": "2022-01-05T19:38:54.866Z"
   },
   {
    "duration": 854,
    "start_time": "2022-01-05T19:39:08.627Z"
   },
   {
    "duration": 586,
    "start_time": "2022-01-05T19:39:18.375Z"
   },
   {
    "duration": 447,
    "start_time": "2022-01-05T19:44:16.566Z"
   },
   {
    "duration": 436,
    "start_time": "2022-01-05T19:44:26.169Z"
   },
   {
    "duration": 418,
    "start_time": "2022-01-05T19:44:38.680Z"
   },
   {
    "duration": 467,
    "start_time": "2022-01-05T19:44:53.667Z"
   },
   {
    "duration": 1069,
    "start_time": "2022-01-05T19:44:58.466Z"
   },
   {
    "duration": 480,
    "start_time": "2022-01-05T19:46:00.424Z"
   },
   {
    "duration": 41,
    "start_time": "2022-01-05T20:29:01.837Z"
   },
   {
    "duration": 347,
    "start_time": "2022-01-05T20:29:05.660Z"
   },
   {
    "duration": 304,
    "start_time": "2022-01-05T20:29:06.588Z"
   },
   {
    "duration": 30,
    "start_time": "2022-01-05T20:29:07.961Z"
   },
   {
    "duration": 483,
    "start_time": "2022-01-05T20:29:08.149Z"
   },
   {
    "duration": 472,
    "start_time": "2022-01-05T20:29:08.634Z"
   },
   {
    "duration": 487,
    "start_time": "2022-01-05T20:29:09.107Z"
   },
   {
    "duration": 8869,
    "start_time": "2022-01-05T20:30:36.154Z"
   },
   {
    "duration": 1282,
    "start_time": "2022-01-05T20:30:49.173Z"
   },
   {
    "duration": 332,
    "start_time": "2022-01-05T20:32:27.588Z"
   },
   {
    "duration": 330,
    "start_time": "2022-01-05T20:33:44.618Z"
   },
   {
    "duration": 447,
    "start_time": "2022-01-05T20:33:53.214Z"
   },
   {
    "duration": 443,
    "start_time": "2022-01-05T20:35:30.679Z"
   },
   {
    "duration": 315,
    "start_time": "2022-01-05T20:35:52.919Z"
   },
   {
    "duration": 319,
    "start_time": "2022-01-05T20:36:18.622Z"
   },
   {
    "duration": 3,
    "start_time": "2022-01-05T20:42:40.039Z"
   },
   {
    "duration": 10,
    "start_time": "2022-01-05T20:42:47.197Z"
   },
   {
    "duration": 5,
    "start_time": "2022-01-05T21:02:54.939Z"
   },
   {
    "duration": 4,
    "start_time": "2022-01-05T21:04:15.045Z"
   },
   {
    "duration": 4,
    "start_time": "2022-01-05T21:04:34.961Z"
   },
   {
    "duration": 5,
    "start_time": "2022-01-05T21:04:50.609Z"
   },
   {
    "duration": 328,
    "start_time": "2022-01-05T21:13:31.467Z"
   },
   {
    "duration": 5,
    "start_time": "2022-01-05T21:13:50.920Z"
   },
   {
    "duration": 5,
    "start_time": "2022-01-05T21:16:24.257Z"
   },
   {
    "duration": 5,
    "start_time": "2022-01-05T21:17:04.628Z"
   },
   {
    "duration": 213,
    "start_time": "2022-01-05T21:22:16.290Z"
   },
   {
    "duration": 663,
    "start_time": "2022-01-05T21:23:28.522Z"
   },
   {
    "duration": 294,
    "start_time": "2022-01-05T21:23:33.476Z"
   },
   {
    "duration": 31,
    "start_time": "2022-01-05T21:23:34.724Z"
   },
   {
    "duration": 462,
    "start_time": "2022-01-05T21:23:35.196Z"
   },
   {
    "duration": 803,
    "start_time": "2022-01-05T21:23:35.679Z"
   },
   {
    "duration": 478,
    "start_time": "2022-01-05T21:23:36.484Z"
   },
   {
    "duration": 5,
    "start_time": "2022-01-05T21:23:36.964Z"
   },
   {
    "duration": 9,
    "start_time": "2022-01-05T21:26:25.310Z"
   },
   {
    "duration": 9,
    "start_time": "2022-01-05T21:27:07.661Z"
   },
   {
    "duration": 1078,
    "start_time": "2022-01-06T08:38:11.789Z"
   },
   {
    "duration": 282,
    "start_time": "2022-01-06T08:38:12.869Z"
   },
   {
    "duration": 1089,
    "start_time": "2022-01-06T08:38:13.153Z"
   },
   {
    "duration": 672,
    "start_time": "2022-01-06T08:38:14.244Z"
   },
   {
    "duration": 641,
    "start_time": "2022-01-06T08:38:14.918Z"
   },
   {
    "duration": 280,
    "start_time": "2022-01-06T08:38:15.561Z"
   },
   {
    "duration": 204,
    "start_time": "2022-01-06T08:38:15.843Z"
   },
   {
    "duration": 124,
    "start_time": "2022-01-06T08:38:16.141Z"
   },
   {
    "duration": 65,
    "start_time": "2022-01-06T08:38:16.337Z"
   },
   {
    "duration": 65,
    "start_time": "2022-01-06T08:38:16.558Z"
   },
   {
    "duration": 43,
    "start_time": "2022-01-06T08:38:16.799Z"
   },
   {
    "duration": 679,
    "start_time": "2022-01-06T08:38:17.039Z"
   },
   {
    "duration": 327,
    "start_time": "2022-01-06T08:38:17.720Z"
   },
   {
    "duration": 31,
    "start_time": "2022-01-06T08:38:18.733Z"
   },
   {
    "duration": 518,
    "start_time": "2022-01-06T08:38:19.023Z"
   },
   {
    "duration": 522,
    "start_time": "2022-01-06T08:38:19.543Z"
   },
   {
    "duration": 531,
    "start_time": "2022-01-06T08:38:20.067Z"
   },
   {
    "duration": 5,
    "start_time": "2022-01-06T08:38:20.600Z"
   },
   {
    "duration": 6,
    "start_time": "2022-01-06T08:38:20.714Z"
   },
   {
    "duration": 9,
    "start_time": "2022-01-06T08:38:20.962Z"
   },
   {
    "duration": 736,
    "start_time": "2022-01-06T08:51:48.436Z"
   },
   {
    "duration": 627,
    "start_time": "2022-01-06T08:52:16.181Z"
   },
   {
    "duration": 245,
    "start_time": "2022-01-06T08:52:34.737Z"
   },
   {
    "duration": 576,
    "start_time": "2022-01-06T08:53:21.870Z"
   },
   {
    "duration": 576,
    "start_time": "2022-01-06T08:53:40.557Z"
   },
   {
    "duration": 240,
    "start_time": "2022-01-06T08:54:22.822Z"
   },
   {
    "duration": 552,
    "start_time": "2022-01-06T08:55:02.439Z"
   },
   {
    "duration": 561,
    "start_time": "2022-01-06T08:55:17.452Z"
   },
   {
    "duration": 617,
    "start_time": "2022-01-06T08:56:34.345Z"
   },
   {
    "duration": 564,
    "start_time": "2022-01-06T08:56:52.163Z"
   },
   {
    "duration": 4251,
    "start_time": "2022-01-06T08:57:01.182Z"
   },
   {
    "duration": 577,
    "start_time": "2022-01-06T08:57:06.027Z"
   },
   {
    "duration": 305,
    "start_time": "2022-01-06T08:57:42.473Z"
   },
   {
    "duration": 331,
    "start_time": "2022-01-06T08:58:01.341Z"
   },
   {
    "duration": 324,
    "start_time": "2022-01-06T08:58:18.167Z"
   },
   {
    "duration": 331,
    "start_time": "2022-01-06T08:59:09.010Z"
   },
   {
    "duration": 310,
    "start_time": "2022-01-06T08:59:20.509Z"
   },
   {
    "duration": 227,
    "start_time": "2022-01-06T08:59:37.552Z"
   },
   {
    "duration": 144,
    "start_time": "2022-01-06T08:59:56.916Z"
   },
   {
    "duration": 244,
    "start_time": "2022-01-06T09:01:52.034Z"
   },
   {
    "duration": 144,
    "start_time": "2022-01-06T09:02:12.614Z"
   },
   {
    "duration": 299,
    "start_time": "2022-01-06T09:03:41.283Z"
   },
   {
    "duration": 294,
    "start_time": "2022-01-06T09:04:01.801Z"
   },
   {
    "duration": 294,
    "start_time": "2022-01-06T09:06:12.593Z"
   },
   {
    "duration": 5,
    "start_time": "2022-01-06T09:28:32.052Z"
   },
   {
    "duration": 6,
    "start_time": "2022-01-06T09:28:41.480Z"
   },
   {
    "duration": 6,
    "start_time": "2022-01-06T09:28:52.732Z"
   },
   {
    "duration": 5,
    "start_time": "2022-01-06T09:29:11.844Z"
   },
   {
    "duration": 10,
    "start_time": "2022-01-06T09:29:22.684Z"
   },
   {
    "duration": 611,
    "start_time": "2022-01-06T09:39:51.332Z"
   },
   {
    "duration": 13,
    "start_time": "2022-01-06T09:42:32.072Z"
   },
   {
    "duration": 11,
    "start_time": "2022-01-06T09:47:44.312Z"
   },
   {
    "duration": 12,
    "start_time": "2022-01-06T09:50:00.520Z"
   },
   {
    "duration": 13,
    "start_time": "2022-01-06T09:50:10.637Z"
   },
   {
    "duration": 14,
    "start_time": "2022-01-06T09:50:29.682Z"
   },
   {
    "duration": 17,
    "start_time": "2022-01-06T09:50:39.446Z"
   },
   {
    "duration": 16,
    "start_time": "2022-01-06T09:51:09.936Z"
   },
   {
    "duration": 688,
    "start_time": "2022-01-06T10:06:49.353Z"
   },
   {
    "duration": 7536,
    "start_time": "2022-01-06T10:13:35.913Z"
   },
   {
    "duration": 6539,
    "start_time": "2022-01-06T10:13:45.748Z"
   },
   {
    "duration": 7884,
    "start_time": "2022-01-06T10:13:59.106Z"
   },
   {
    "duration": 6880,
    "start_time": "2022-01-06T10:14:18.149Z"
   },
   {
    "duration": 5961,
    "start_time": "2022-01-06T10:14:31.829Z"
   },
   {
    "duration": 11,
    "start_time": "2022-01-06T10:14:50.229Z"
   },
   {
    "duration": 620,
    "start_time": "2022-01-06T10:15:35.132Z"
   },
   {
    "duration": 737,
    "start_time": "2022-01-06T10:15:35.754Z"
   },
   {
    "duration": 3,
    "start_time": "2022-01-06T10:42:22.815Z"
   },
   {
    "duration": 264,
    "start_time": "2022-01-06T10:42:23.000Z"
   },
   {
    "duration": 1166,
    "start_time": "2022-01-06T10:42:23.364Z"
   },
   {
    "duration": 661,
    "start_time": "2022-01-06T10:42:24.541Z"
   },
   {
    "duration": 506,
    "start_time": "2022-01-06T10:42:25.204Z"
   },
   {
    "duration": 249,
    "start_time": "2022-01-06T10:42:25.713Z"
   },
   {
    "duration": 202,
    "start_time": "2022-01-06T10:42:25.964Z"
   },
   {
    "duration": 135,
    "start_time": "2022-01-06T10:42:26.167Z"
   },
   {
    "duration": 63,
    "start_time": "2022-01-06T10:42:26.303Z"
   },
   {
    "duration": 63,
    "start_time": "2022-01-06T10:42:27.181Z"
   },
   {
    "duration": 40,
    "start_time": "2022-01-06T10:42:27.246Z"
   },
   {
    "duration": 591,
    "start_time": "2022-01-06T10:42:27.287Z"
   },
   {
    "duration": 699,
    "start_time": "2022-01-06T10:42:27.880Z"
   },
   {
    "duration": 9,
    "start_time": "2022-01-06T10:42:28.580Z"
   },
   {
    "duration": 32,
    "start_time": "2022-01-06T10:42:28.591Z"
   },
   {
    "duration": 527,
    "start_time": "2022-01-06T10:42:28.625Z"
   },
   {
    "duration": 494,
    "start_time": "2022-01-06T10:42:30.223Z"
   },
   {
    "duration": 544,
    "start_time": "2022-01-06T10:42:30.719Z"
   },
   {
    "duration": 5,
    "start_time": "2022-01-06T10:42:31.265Z"
   },
   {
    "duration": 18,
    "start_time": "2022-01-06T10:42:31.641Z"
   },
   {
    "duration": 3,
    "start_time": "2022-01-06T10:43:23.461Z"
   },
   {
    "duration": 385,
    "start_time": "2022-01-06T10:43:23.965Z"
   },
   {
    "duration": 922,
    "start_time": "2022-01-06T10:43:24.583Z"
   },
   {
    "duration": 590,
    "start_time": "2022-01-06T10:43:25.507Z"
   },
   {
    "duration": 515,
    "start_time": "2022-01-06T10:43:26.235Z"
   },
   {
    "duration": 300,
    "start_time": "2022-01-06T10:43:26.914Z"
   },
   {
    "duration": 279,
    "start_time": "2022-01-06T10:43:28.286Z"
   },
   {
    "duration": 120,
    "start_time": "2022-01-06T10:43:29.206Z"
   },
   {
    "duration": 65,
    "start_time": "2022-01-06T10:43:29.642Z"
   },
   {
    "duration": 73,
    "start_time": "2022-01-06T10:43:30.144Z"
   },
   {
    "duration": 42,
    "start_time": "2022-01-06T10:43:30.625Z"
   },
   {
    "duration": 645,
    "start_time": "2022-01-06T10:43:31.175Z"
   },
   {
    "duration": 676,
    "start_time": "2022-01-06T10:43:31.822Z"
   },
   {
    "duration": 9,
    "start_time": "2022-01-06T10:43:32.500Z"
   },
   {
    "duration": 33,
    "start_time": "2022-01-06T10:43:34.214Z"
   },
   {
    "duration": 687,
    "start_time": "2022-01-06T10:43:35.005Z"
   },
   {
    "duration": 511,
    "start_time": "2022-01-06T10:43:35.694Z"
   },
   {
    "duration": 495,
    "start_time": "2022-01-06T10:43:41.207Z"
   },
   {
    "duration": 5,
    "start_time": "2022-01-06T10:43:42.170Z"
   },
   {
    "duration": 16,
    "start_time": "2022-01-06T10:43:43.986Z"
   },
   {
    "duration": 203,
    "start_time": "2022-01-07T10:03:10.628Z"
   },
   {
    "duration": 1134,
    "start_time": "2022-01-07T10:03:21.585Z"
   },
   {
    "duration": 222,
    "start_time": "2022-01-07T10:03:22.721Z"
   },
   {
    "duration": 985,
    "start_time": "2022-01-07T10:03:22.944Z"
   },
   {
    "duration": 614,
    "start_time": "2022-01-07T10:03:23.931Z"
   },
   {
    "duration": 474,
    "start_time": "2022-01-07T10:03:24.669Z"
   },
   {
    "duration": 223,
    "start_time": "2022-01-07T10:03:25.668Z"
   },
   {
    "duration": 188,
    "start_time": "2022-01-07T10:03:28.228Z"
   },
   {
    "duration": 129,
    "start_time": "2022-01-07T10:03:30.927Z"
   },
   {
    "duration": 66,
    "start_time": "2022-01-07T10:03:33.215Z"
   },
   {
    "duration": 64,
    "start_time": "2022-01-07T10:03:34.847Z"
   },
   {
    "duration": 46,
    "start_time": "2022-01-07T10:03:36.247Z"
   },
   {
    "duration": 733,
    "start_time": "2022-01-07T10:03:37.580Z"
   },
   {
    "duration": 693,
    "start_time": "2022-01-07T10:03:38.830Z"
   },
   {
    "duration": 118,
    "start_time": "2022-01-07T10:04:58.097Z"
   },
   {
    "duration": 104,
    "start_time": "2022-01-07T10:05:09.374Z"
   },
   {
    "duration": 176,
    "start_time": "2022-01-07T10:05:36.811Z"
   },
   {
    "duration": 60,
    "start_time": "2022-01-07T10:07:30.770Z"
   },
   {
    "duration": 59,
    "start_time": "2022-01-07T10:07:31.090Z"
   },
   {
    "duration": 47,
    "start_time": "2022-01-07T10:07:33.602Z"
   },
   {
    "duration": 669,
    "start_time": "2022-01-07T10:07:37.361Z"
   },
   {
    "duration": 696,
    "start_time": "2022-01-07T10:07:40.476Z"
   },
   {
    "duration": 10,
    "start_time": "2022-01-07T10:07:42.708Z"
   },
   {
    "duration": 35,
    "start_time": "2022-01-07T10:08:38.736Z"
   },
   {
    "duration": 1111,
    "start_time": "2022-01-07T10:08:47.545Z"
   },
   {
    "duration": 891,
    "start_time": "2022-01-07T10:09:00.785Z"
   },
   {
    "duration": 985,
    "start_time": "2022-01-07T10:09:20.076Z"
   },
   {
    "duration": 625,
    "start_time": "2022-01-07T10:09:33.983Z"
   },
   {
    "duration": 683,
    "start_time": "2022-01-07T10:09:43.756Z"
   },
   {
    "duration": 716,
    "start_time": "2022-01-07T10:09:49.964Z"
   },
   {
    "duration": 823,
    "start_time": "2022-01-07T10:10:04.893Z"
   },
   {
    "duration": 815,
    "start_time": "2022-01-07T10:10:14.829Z"
   },
   {
    "duration": 689,
    "start_time": "2022-01-07T10:10:27.416Z"
   },
   {
    "duration": 472,
    "start_time": "2022-01-07T10:10:39.781Z"
   },
   {
    "duration": 589,
    "start_time": "2022-01-07T10:10:53.592Z"
   },
   {
    "duration": 681,
    "start_time": "2022-01-07T10:11:04.316Z"
   },
   {
    "duration": 653,
    "start_time": "2022-01-07T10:11:20.808Z"
   },
   {
    "duration": 468,
    "start_time": "2022-01-07T10:12:04.126Z"
   },
   {
    "duration": 847,
    "start_time": "2022-01-07T10:12:14.479Z"
   },
   {
    "duration": 1000,
    "start_time": "2022-01-07T10:25:02.177Z"
   },
   {
    "duration": 1349,
    "start_time": "2022-01-07T10:28:00.773Z"
   },
   {
    "duration": 498,
    "start_time": "2022-01-07T10:31:22.611Z"
   },
   {
    "duration": 508,
    "start_time": "2022-01-07T10:32:14.913Z"
   },
   {
    "duration": 1248,
    "start_time": "2022-01-07T10:32:30.385Z"
   },
   {
    "duration": 4428,
    "start_time": "2022-01-07T10:33:45.339Z"
   },
   {
    "duration": 4609,
    "start_time": "2022-01-07T10:34:08.409Z"
   },
   {
    "duration": 114,
    "start_time": "2022-01-07T10:37:07.828Z"
   },
   {
    "duration": 367,
    "start_time": "2022-01-07T10:37:19.595Z"
   },
   {
    "duration": 376,
    "start_time": "2022-01-07T10:38:43.741Z"
   },
   {
    "duration": 382,
    "start_time": "2022-01-07T10:41:38.285Z"
   },
   {
    "duration": 902,
    "start_time": "2022-01-07T10:45:52.300Z"
   },
   {
    "duration": 1406,
    "start_time": "2022-01-07T10:52:29.426Z"
   },
   {
    "duration": 676,
    "start_time": "2022-01-07T10:52:47.824Z"
   },
   {
    "duration": 214,
    "start_time": "2022-01-07T10:56:12.552Z"
   },
   {
    "duration": 199,
    "start_time": "2022-01-07T10:58:35.586Z"
   },
   {
    "duration": 207,
    "start_time": "2022-01-07T10:59:07.127Z"
   },
   {
    "duration": 195,
    "start_time": "2022-01-07T11:00:19.012Z"
   },
   {
    "duration": 200,
    "start_time": "2022-01-07T11:00:31.506Z"
   },
   {
    "duration": 195,
    "start_time": "2022-01-07T11:00:45.621Z"
   },
   {
    "duration": 197,
    "start_time": "2022-01-07T11:00:58.520Z"
   },
   {
    "duration": 6099,
    "start_time": "2022-01-07T11:04:36.796Z"
   },
   {
    "duration": 394,
    "start_time": "2022-01-07T11:04:48.136Z"
   },
   {
    "duration": 444,
    "start_time": "2022-01-07T11:07:34.101Z"
   },
   {
    "duration": 243,
    "start_time": "2022-01-07T11:09:09.960Z"
   },
   {
    "duration": 183,
    "start_time": "2022-01-07T11:09:36.155Z"
   },
   {
    "duration": 1195,
    "start_time": "2022-01-07T11:09:56.372Z"
   },
   {
    "duration": 1071,
    "start_time": "2022-01-07T11:09:57.569Z"
   },
   {
    "duration": 1098,
    "start_time": "2022-01-07T11:09:58.642Z"
   },
   {
    "duration": 803,
    "start_time": "2022-01-07T11:09:59.743Z"
   },
   {
    "duration": 551,
    "start_time": "2022-01-07T11:10:00.548Z"
   },
   {
    "duration": 1320,
    "start_time": "2022-01-07T11:10:01.101Z"
   },
   {
    "duration": 222,
    "start_time": "2022-01-07T11:18:14.153Z"
   },
   {
    "duration": 178,
    "start_time": "2022-01-07T11:18:59.568Z"
   },
   {
    "duration": 1574,
    "start_time": "2022-01-07T11:19:17.968Z"
   },
   {
    "duration": 294,
    "start_time": "2022-01-07T11:19:19.544Z"
   },
   {
    "duration": 1345,
    "start_time": "2022-01-07T11:19:19.840Z"
   },
   {
    "duration": 718,
    "start_time": "2022-01-07T11:19:21.191Z"
   },
   {
    "duration": 533,
    "start_time": "2022-01-07T11:19:21.911Z"
   },
   {
    "duration": 250,
    "start_time": "2022-01-07T11:19:22.447Z"
   },
   {
    "duration": 223,
    "start_time": "2022-01-07T11:19:24.424Z"
   },
   {
    "duration": 455,
    "start_time": "2022-01-07T11:22:33.443Z"
   },
   {
    "duration": 396,
    "start_time": "2022-01-07T11:23:00.974Z"
   },
   {
    "duration": 1398,
    "start_time": "2022-01-07T11:26:20.976Z"
   },
   {
    "duration": 1173,
    "start_time": "2022-01-07T11:28:37.168Z"
   },
   {
    "duration": 267,
    "start_time": "2022-01-07T11:28:38.343Z"
   },
   {
    "duration": 971,
    "start_time": "2022-01-07T11:28:38.612Z"
   },
   {
    "duration": 653,
    "start_time": "2022-01-07T11:28:39.585Z"
   },
   {
    "duration": 520,
    "start_time": "2022-01-07T11:28:40.241Z"
   },
   {
    "duration": 266,
    "start_time": "2022-01-07T11:28:40.763Z"
   },
   {
    "duration": 1093,
    "start_time": "2022-01-07T11:30:07.128Z"
   },
   {
    "duration": 278,
    "start_time": "2022-01-07T11:30:08.223Z"
   },
   {
    "duration": 936,
    "start_time": "2022-01-07T11:30:08.504Z"
   },
   {
    "duration": 653,
    "start_time": "2022-01-07T11:30:09.441Z"
   },
   {
    "duration": 615,
    "start_time": "2022-01-07T11:30:10.097Z"
   },
   {
    "duration": 184,
    "start_time": "2022-01-07T11:30:10.815Z"
   },
   {
    "duration": 1139,
    "start_time": "2022-01-07T11:31:00.799Z"
   },
   {
    "duration": 272,
    "start_time": "2022-01-07T11:31:01.940Z"
   },
   {
    "duration": 985,
    "start_time": "2022-01-07T11:31:02.215Z"
   },
   {
    "duration": 636,
    "start_time": "2022-01-07T11:31:03.202Z"
   },
   {
    "duration": 503,
    "start_time": "2022-01-07T11:31:03.840Z"
   },
   {
    "duration": 192,
    "start_time": "2022-01-07T11:31:04.345Z"
   },
   {
    "duration": 260,
    "start_time": "2022-01-07T11:31:04.539Z"
   },
   {
    "duration": 206,
    "start_time": "2022-01-07T11:35:35.418Z"
   },
   {
    "duration": 158,
    "start_time": "2022-01-08T03:06:25.911Z"
   }
  ],
  "kernelspec": {
   "display_name": "Python 3",
   "language": "python",
   "name": "python3"
  },
  "language_info": {
   "codemirror_mode": {
    "name": "ipython",
    "version": 3
   },
   "file_extension": ".py",
   "mimetype": "text/x-python",
   "name": "python",
   "nbconvert_exporter": "python",
   "pygments_lexer": "ipython3",
   "version": "3.7.0"
  },
  "toc": {
   "base_numbering": 1,
   "nav_menu": {},
   "number_sections": true,
   "sideBar": true,
   "skip_h1_title": true,
   "title_cell": "Table of Contents",
   "title_sidebar": "Contents",
   "toc_cell": false,
   "toc_position": {
    "height": "calc(100% - 180px)",
    "left": "10px",
    "top": "150px",
    "width": "285.99px"
   },
   "toc_section_display": true,
   "toc_window_display": true
  }
 },
 "nbformat": 4,
 "nbformat_minor": 2
}
