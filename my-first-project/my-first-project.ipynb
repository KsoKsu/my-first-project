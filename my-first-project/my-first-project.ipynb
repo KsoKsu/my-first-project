{
 "cells": [
  {
   "cell_type": "markdown",
   "metadata": {
    "id": "E0vqbgi9ay0H"
   },
   "source": [
    "# Яндекс.Музыка"
   ]
  },
  {
   "cell_type": "markdown",
   "metadata": {
    "id": "VUC88oWjTJw2"
   },
   "source": [
    "Сравнение Москвы и Петербурга окружено мифами. Например:\n",
    " * Москва — мегаполис, подчинённый жёсткому ритму рабочей недели;\n",
    " * Петербург — культурная столица, со своими вкусами.\n",
    "\n",
    "На данных Яндекс.Музыки вы сравните поведение пользователей двух столиц.\n",
    "\n",
    "**Цель исследования** — проверьте три гипотезы:\n",
    "1. Активность пользователей зависит от дня недели. Причём в Москве и Петербурге это проявляется по-разному.\n",
    "2. В понедельник утром в Москве преобладают одни жанры, а в Петербурге — другие. Так же и вечером пятницы преобладают разные жанры — в зависимости от города. \n",
    "3. Москва и Петербург предпочитают разные жанры музыки. В Москве чаще слушают поп-музыку, в Петербурге — русский рэп.\n",
    "\n",
    "**Ход исследования**\n",
    "\n",
    " \n",
    "Исследование пройдёт в три этапа:\n",
    " 1. Обзор данных.\n",
    " 2. Предобработка данных.\n",
    " 3. Проверка гипотез.\n",
    "\n"
   ]
  },
  {
   "cell_type": "markdown",
   "metadata": {
    "id": "Ml1hmfXC_Zcs"
   },
   "source": [
    "## Обзор данных\n",
    "\n",
    "\n",
    "\n",
    "\n"
   ]
  },
  {
   "cell_type": "code",
   "execution_count": 1,
   "metadata": {
    "id": "AXN7PHPN_Zcs"
   },
   "outputs": [],
   "source": [
    "import pandas as pd# импорт библиотеки pandas"
   ]
  },
  {
   "cell_type": "code",
   "execution_count": 2,
   "metadata": {
    "id": "fFVu7vqh_Zct"
   },
   "outputs": [],
   "source": [
    "df = pd.read_csv(***)# чтение файла с данными и сохранение в df"
   ]
  },
  {
   "cell_type": "code",
   "execution_count": null,
   "metadata": {
    "id": "oWTVX3gW_Zct"
   },
   "outputs": [],
   "source": [
    "display(df.head(10))# получение первых 10 строк таблицы df"
   ]
  },
  {
   "cell_type": "code",
   "execution_count": null,
   "metadata": {
    "id": "DSf2kIb-_Zct"
   },
   "outputs": [],
   "source": [
    "df.info()# получение общей информации о данных в таблице df"
   ]
  },
  {
   "cell_type": "markdown",
   "metadata": {
    "id": "TaQ2Iwbr_Zct"
   },
   "source": [
    "Итак, в таблице семь столбцов. Тип данных во всех столбцах — `object`.\n",
    "\n",
    "Согласно документации к данным:\n",
    "* `userID` — идентификатор пользователя;\n",
    "* `Track` — название трека;  \n",
    "* `artist` — имя исполнителя;\n",
    "* `genre` — название жанра;\n",
    "* `City` — город пользователя;\n",
    "* `time` — время начала прослушивания;\n",
    "* `Day` — день недели.\n",
    "\n",
    "В названиях колонок видны три нарушения стиля:\n",
    "1. Строчные буквы сочетаются с прописными.\n",
    "2. Встречаются пробелы.\n",
    "3. Используется 'Верблюжий регистр'.\n",
    "\n",
    "\n",
    "Количество значений в столбцах различается. Значит, в данных есть пропущенные значения.\n"
   ]
  },
  {
   "cell_type": "markdown",
   "metadata": {
    "id": "MCB6-dXG_Zct"
   },
   "source": [
    "**Выводы**\n",
    "\n",
    "В каждой строке таблицы — данные о прослушанном треке. Часть колонок описывает саму композицию: название, исполнителя и жанр. Остальные данные рассказывают о пользователе: из какого он города, когда он слушал музыку. \n",
    "\n",
    "Предварительно можно утверждать, что, данных достаточно для проверки гипотез. Но встречаются пропуски в данных, а в названиях колонок — расхождения с хорошим стилем.\n",
    "\n",
    "Чтобы двигаться дальше, нужно устранить проблемы в данных."
   ]
  },
  {
   "cell_type": "markdown",
   "metadata": {
    "id": "SjYF6Ub9_Zct"
   },
   "source": [
    "## Предобработка данных\n"
   ]
  },
  {
   "cell_type": "markdown",
   "metadata": {
    "id": "dIaKXr29_Zct"
   },
   "source": [
    "### Стиль заголовков\n"
   ]
  },
  {
   "cell_type": "code",
   "execution_count": null,
   "metadata": {
    "id": "oKOTdF_Q_Zct"
   },
   "outputs": [],
   "source": [
    "df.columns# перечень названий столбцов таблицы df"
   ]
  },
  {
   "cell_type": "markdown",
   "metadata": {
    "id": "zj5534cv_Zct"
   },
   "source": [
    "Приведем названия в соответствие с хорошим стилем:\n",
    "* несколько слов в названии запишем в «змеином_регистре»,\n",
    "* все символы сделаем строчными,\n",
    "* устраним пробелы.\n",
    "\n",
    "Для этого переименуем колонки так:\n",
    "* `'  userID'` → `'user_id'`;\n",
    "* `'Track'` → `'track'`;\n",
    "* `'  City  '` → `'city'`;\n",
    "* `'Day'` → `'day'`."
   ]
  },
  {
   "cell_type": "code",
   "execution_count": 6,
   "metadata": {
    "id": "ISlFqs5y_Zct"
   },
   "outputs": [],
   "source": [
    "df = df.rename(columns={'  userID': 'user_id', 'Track': 'track', '  City  ': 'city', 'Day': 'day'})# переименование столбцов"
   ]
  },
  {
   "cell_type": "code",
   "execution_count": 39,
   "metadata": {},
   "outputs": [],
   "source": [
    "df = df.rename(columns = {\n",
    "    '  userID':'user_id',\n",
    "    'Track':'track',\n",
    "    '  City  ':'city',\n",
    "    'Day':'day'})"
   ]
  },
  {
   "cell_type": "markdown",
   "metadata": {
    "id": "1dqbh00J_Zct"
   },
   "source": [
    "Проверим результат. Для этого ещё раз выведим на экран названия столбцов:"
   ]
  },
  {
   "cell_type": "code",
   "execution_count": 7,
   "metadata": {
    "id": "d4NOAmTW_Zct"
   },
   "outputs": [
    {
     "data": {
      "text/plain": [
       "Index(['user_id', 'track', 'artist', 'genre', 'city', 'time', 'day'], dtype='object')"
      ]
     },
     "execution_count": 7,
     "metadata": {},
     "output_type": "execute_result"
    }
   ],
   "source": [
    "df.columns# проверка результатов - перечень названий столбцов"
   ]
  },
  {
   "cell_type": "markdown",
   "metadata": {
    "id": "5ISfbcfY_Zct"
   },
   "source": [
    "### Пропуски значений\n",
    "Сначала посчитаем, сколько в таблице пропущенных значений. Для этого достаточно двух методов `pandas`:"
   ]
  },
  {
   "cell_type": "code",
   "execution_count": null,
   "metadata": {
    "id": "RskX29qr_Zct"
   },
   "outputs": [],
   "source": [
    "df.isna().sum()# подсчёт пропусков"
   ]
  },
  {
   "cell_type": "markdown",
   "metadata": {
    "id": "qubhgnlO_Zct"
   },
   "source": [
    "Не все пропущенные значения влияют на исследование. Так в `track` и `artist` пропуски не важны для вашей работы. Достаточно заменить их явными обозначениями.\n",
    "\n",
    "Но пропуски в `genre` могут помешать сравнению музыкальных вкусов в Москве и Санкт-Петербурге. На практике было бы правильно установить причину пропусков и восстановить данные. Такой возможности нет в учебном проекте. Придётся:\n",
    "* заполним и эти пропуски явными обозначениями,\n",
    "* оценим, насколько они повредят расчётам. "
   ]
  },
  {
   "cell_type": "markdown",
   "metadata": {
    "id": "fSv2laPA_Zct"
   },
   "source": [
    "Заменим пропущенные значения в столбцах `track`, `artist` и `genre` на строку `'unknown'`. Для этого создадим список `columns_to_replace`, переберем его элементы циклом `for` и для каждого столбца выполним замену пропущенных значений:"
   ]
  },
  {
   "cell_type": "code",
   "execution_count": 9,
   "metadata": {
    "id": "KplB5qWs_Zct",
    "scrolled": true
   },
   "outputs": [],
   "source": [
    "columns_to_replace = ['track', 'artist', 'genre']\n",
    "for column in columns_to_replace:\n",
    "    df[column] = df[column].fillna('unknown')\n",
    "\n",
    "    # перебор названий столбцов в цикле и замена пропущенных значений на 'unknown'"
   ]
  },
  {
   "cell_type": "markdown",
   "metadata": {
    "id": "Ilsm-MZo_Zct"
   },
   "source": [
    "Убедимся, что в таблице не осталось пропусков. Для этого ещё раз посчитаем пропущенные значения."
   ]
  },
  {
   "cell_type": "code",
   "execution_count": null,
   "metadata": {
    "id": "Tq4nYRX4_Zct"
   },
   "outputs": [],
   "source": [
    "df.isna().sum()# подсчёт пропусков"
   ]
  },
  {
   "cell_type": "markdown",
   "metadata": {
    "id": "BWKRtBJ3_Zct"
   },
   "source": [
    "### Дубликаты\n",
    "Посчитаем явные дубликаты в таблице одной командой:"
   ]
  },
  {
   "cell_type": "code",
   "execution_count": null,
   "metadata": {
    "id": "36eES_S0_Zct"
   },
   "outputs": [],
   "source": [
    "print(df.duplicated().sum()) # подсчёт явных дубликатов"
   ]
  },
  {
   "cell_type": "markdown",
   "metadata": {
    "id": "Ot25h6XR_Zct"
   },
   "source": [
    "Вызовем специальный метод `pandas`, чтобы удалить явные дубликаты:"
   ]
  },
  {
   "cell_type": "code",
   "execution_count": 12,
   "metadata": {
    "id": "exFHq6tt_Zct"
   },
   "outputs": [],
   "source": [
    "df = df.drop_duplicates().reset_index(drop=True) # удаление явных дубликатов (с удалением старых индексов и формированием новых)"
   ]
  },
  {
   "cell_type": "markdown",
   "metadata": {
    "id": "Im2YwBEG_Zct"
   },
   "source": [
    "Ещё раз посчитаем явные дубликаты в таблице — убедимся, что полностью от них избавились:"
   ]
  },
  {
   "cell_type": "code",
   "execution_count": 13,
   "metadata": {
    "id": "-8PuNWQ0_Zct"
   },
   "outputs": [
    {
     "name": "stdout",
     "output_type": "stream",
     "text": [
      "0\n"
     ]
    }
   ],
   "source": [
    "print(df.duplicated().sum())# проверка на отсутствие дубликатов"
   ]
  },
  {
   "cell_type": "code",
   "execution_count": null,
   "metadata": {},
   "outputs": [],
   "source": [
    "print(\"Количество пропусков: {}\".format(df.duplicated().sum()))"
   ]
  },
  {
   "cell_type": "markdown",
   "metadata": {
    "id": "QlFBsxAr_Zct"
   },
   "source": [
    "Теперь избавимся от неявных дубликатов в колонке `genre`. Например, название одного и того же жанра может быть записано немного по-разному. Такие ошибки тоже повлияют на результат исследования."
   ]
  },
  {
   "cell_type": "markdown",
   "metadata": {
    "id": "eSjWwsOh_Zct"
   },
   "source": [
    "Выведим на экран список уникальных названий жанров, отсортированный в алфавитном порядке. Для этого:\n",
    "* извлечем нужный столбец датафрейма, \n",
    "* применим к нему метод сортировки,\n",
    "* для отсортированного столбца вызовем метод, который вернёт уникальные значения из столбца."
   ]
  },
  {
   "cell_type": "code",
   "execution_count": null,
   "metadata": {
    "id": "JIUcqzZN_Zct"
   },
   "outputs": [],
   "source": [
    "genre_sort = df['genre']\n",
    "genre_sort = genre_sort.sort_values()\n",
    "print(genre_sort.unique()) # Просмотр уникальных названий жанров"
   ]
  },
  {
   "cell_type": "markdown",
   "metadata": {
    "id": "qej-Qmuo_Zct"
   },
   "source": [
    "Просмотрим список и найдем неявные дубликаты названия `hiphop`. Это могут быть названия с ошибками или альтернативные названия того же жанра.\n",
    "\n",
    "Мы увидим следующие неявные дубликаты:\n",
    "* *hip*,\n",
    "* *hop*,\n",
    "* *hip-hop*.\n",
    "\n",
    "Чтобы очистить от них таблицу, напишем функцию `replace_wrong_genres()` с двумя параметрами: \n",
    "* `wrong_genres` — список дубликатов,\n",
    "* `correct_genre` — строка с правильным значением.\n",
    "\n",
    "Функция должна исправить колонку `genre` в таблице `df`: заменить каждое значение из списка `wrong_genres` на значение из `correct_genre`."
   ]
  },
  {
   "cell_type": "code",
   "execution_count": 15,
   "metadata": {
    "id": "ErNDkmns_Zct"
   },
   "outputs": [],
   "source": [
    "def replace_wrong_genres(wrong_genres, correct_genre):\n",
    "    df['genre'] = df['genre'].replace(wrong_genres, correct_genre)\n",
    "    return df['genre']\n",
    "#Функция для замены неявных дубликатов"
   ]
  },
  {
   "cell_type": "markdown",
   "metadata": {
    "id": "aDoBJxbA_Zct"
   },
   "source": [
    "Вызовим `replace_wrong_genres()` и передадим ей такие аргументы, чтобы она устранила неявные дубликаты: вместо `hip`, `hop` и `hip-hop` в таблице должно быть значение `hiphop`:"
   ]
  },
  {
   "cell_type": "code",
   "execution_count": null,
   "metadata": {
    "id": "YN5i2hpmSo09"
   },
   "outputs": [],
   "source": [
    "replace_wrong_genres('hip', 'hiphop')\n",
    "replace_wrong_genres('hop', 'hiphop')\n",
    "replace_wrong_genres('hip-hop', 'hiphop')\n",
    "replace_wrong_genres('электроника', 'electronic')# Устранение неявных дубликатов\n"
   ]
  },
  {
   "cell_type": "markdown",
   "metadata": {
    "id": "zQKF16_RG15m"
   },
   "source": [
    "Проверим, что заменили неправильные названия:\n",
    "\n",
    "*   hip\n",
    "*   hop\n",
    "*   hip-hop\n",
    "\n",
    "Выведим отсортированный список уникальных значений столбца `genre`:"
   ]
  },
  {
   "cell_type": "code",
   "execution_count": null,
   "metadata": {
    "id": "wvixALnFG15m"
   },
   "outputs": [],
   "source": [
    "genre_sort = df['genre']\n",
    "genre_sort = genre_sort.sort_values()\n",
    "print(genre_sort.unique())# Проверка на неявные дубликаты"
   ]
  },
  {
   "cell_type": "markdown",
   "metadata": {
    "id": "jz6a9-7HQUDd"
   },
   "source": [
    "**Выводы**\n",
    "\n",
    "Предобработка обнаружила три проблемы в данных:\n",
    "\n",
    "- нарушения в стиле заголовков,\n",
    "- пропущенные значения,\n",
    "- дубликаты — явные и неявные.\n",
    "\n",
    "Мы исправили заголовки, чтобы упростить работу с таблицей. Без дубликатов исследование станет более точным.\n",
    "\n",
    "Пропущенные значения мы заменили на `'unknown'`. Ещё предстоит увидеть, не повредят ли исследованию пропуски в колонке `genre`.\n",
    "\n",
    "Теперь можно перейти к проверке гипотез. "
   ]
  },
  {
   "cell_type": "markdown",
   "metadata": {
    "id": "WttZHXH0SqKk"
   },
   "source": [
    "## Проверка гипотез"
   ]
  },
  {
   "cell_type": "markdown",
   "metadata": {
    "id": "Im936VVi_Zcu"
   },
   "source": [
    "### Сравнение поведения пользователей двух столиц"
   ]
  },
  {
   "cell_type": "code",
   "execution_count": null,
   "metadata": {
    "id": "0_Qs96oh_Zcu"
   },
   "outputs": [],
   "source": [
    "df.groupby('city')['day'].count()"
   ]
  },
  {
   "cell_type": "markdown",
   "metadata": {
    "id": "nwt_MuaL_Zcu"
   },
   "source": [
    "Первая гипотеза утверждает, что пользователи по-разному слушают музыку в Москве и Санкт-Петербурге. Проверим это предположение по данным о трёх днях недели — понедельнике, среде и пятнице. Для этого:\n",
    "\n",
    "* Разделим пользователей Москвы и Санкт-Петербурга\n",
    "* Сравним, сколько треков послушала каждая группа пользователей в понедельник, среду и пятницу.\n"
   ]
  },
  {
   "cell_type": "markdown",
   "metadata": {
    "id": "8Dw_YMmT_Zcu"
   },
   "source": [
    "Для тренировки сначала выполним каждый из расчётов по отдельности. \n",
    "\n",
    "Оценим активность пользователей в каждом городе. Сгруппируем данные по городу и посчитаем прослушивания в каждой группе.\n",
    "\n"
   ]
  },
  {
   "cell_type": "markdown",
   "metadata": {
    "id": "uZMKjiJz_Zcu"
   },
   "source": [
    "В Москве прослушиваний больше, чем в Петербурге. Из этого не следует, что московские пользователи чаще слушают музыку. Просто самих пользователей в Москве больше.\n",
    "\n",
    "Теперь сгруппируем данные по дню недели и подсчитаем прослушивания в понедельник, среду и пятницу. Учтем, что в данных есть информация только о прослушиваниях только за эти дни.\n",
    "\n",
    "\n"
   ]
  },
  {
   "cell_type": "code",
   "execution_count": null,
   "metadata": {},
   "outputs": [],
   "source": [
    "df.groupby('day')['city'].count()\n",
    "\n"
   ]
  },
  {
   "cell_type": "markdown",
   "metadata": {
    "id": "cC2tNrlL_Zcu"
   },
   "source": [
    "В среднем пользователи из двух городов менее активны по средам. Но картина может измениться, если рассмотреть каждый город в отдельности."
   ]
  },
  {
   "cell_type": "markdown",
   "metadata": {
    "id": "POzs8bGa_Zcu"
   },
   "source": [
    "Создадим функцию `number_tracks()`, которая посчитает прослушивания для заданного дня и города. Ей понадобятся два параметра:\n",
    "* день недели,\n",
    "* название города.\n",
    "\n",
    "В функции сохраним в переменную строки исходной таблицы, у которых значение:\n",
    "  * в колонке `day` равно параметру `day`,\n",
    "  * в колонке `city` равно параметру `city`.\n",
    "\n",
    "Для этого применим последовательную фильтрацию с логической индексацией.\n",
    "\n",
    "Затем посчитаем значения в столбце `user_id` получившейся таблицы. Результат сохраним в новую переменную. Вернем эту переменную из функции."
   ]
  },
  {
   "cell_type": "code",
   "execution_count": 2,
   "metadata": {
    "id": "Nz3GdQB1_Zcu"
   },
   "outputs": [],
   "source": [
    "def number_tracks(day, city):\n",
    "    track_list = df[df['day'] == day]\n",
    "    track_list = track_list[track_list['city'] == city]\n",
    "    track_list_count = track_list['user_id'].count()\n",
    "    return track_list_count\n",
    "    # <создание функции number_tracks()>\n",
    "# Объявляется функция с двумя параметрами: day, city.\n",
    "# В переменной track_list сохраняются те строки таблицы df, для которых \n",
    "# значение в столбце 'day' равно параметру day и одновременно значение\n",
    "# в столбце 'city' равно параметру city (используйте последовательную фильтрацию\n",
    "# с помощью логической индексации).\n",
    "# В переменной track_list_count сохраняется число значений столбца 'user_id',\n",
    "# рассчитанное методом count() для таблицы track_list.\n",
    "# Функция возвращает число - значение track_list_count.\n",
    "\n",
    "# Функция для подсчёта прослушиваний для конкретного города и дня.\n",
    "# С помощью последовательной фильтрации с логической индексацией она \n",
    "# сначала получит из исходной таблицы строки с нужным днём,\n",
    "# затем из результата отфильтрует строки с нужным городом,\n",
    "# методом count() посчитает количество значений в колонке user_id. \n",
    "# Это количество функция вернёт в качестве результата"
   ]
  },
  {
   "cell_type": "markdown",
   "metadata": {
    "id": "ytf7xFrFJQ2r"
   },
   "source": [
    "Вызовем `number_tracks()` шесть раз, меняя значение параметров — так, чтобы получить данные для каждого города в каждый из трёх дней."
   ]
  },
  {
   "cell_type": "code",
   "execution_count": null,
   "metadata": {
    "id": "rJcRATNQ_Zcu"
   },
   "outputs": [],
   "source": [
    "number_tracks('Monday', 'Moscow')# количество прослушиваний в Москве по понедельникам"
   ]
  },
  {
   "cell_type": "code",
   "execution_count": null,
   "metadata": {
    "id": "hq_ncZ5T_Zcu"
   },
   "outputs": [],
   "source": [
    "number_tracks('Monday', 'Saint-Petersburg')# количество прослушиваний в Санкт-Петербурге по понедельникам"
   ]
  },
  {
   "cell_type": "code",
   "execution_count": null,
   "metadata": {
    "id": "_NTy2VPU_Zcu"
   },
   "outputs": [],
   "source": [
    "number_tracks('Wednesday', 'Moscow')# количество прослушиваний в Москве по средам"
   ]
  },
  {
   "cell_type": "code",
   "execution_count": null,
   "metadata": {
    "id": "j2y3TAwo_Zcu"
   },
   "outputs": [],
   "source": [
    "number_tracks('Wednesday', 'Saint-Petersburg')# количество прослушиваний в Санкт-Петербурге по средам"
   ]
  },
  {
   "cell_type": "code",
   "execution_count": null,
   "metadata": {
    "id": "vYDw5u_K_Zcu"
   },
   "outputs": [],
   "source": [
    "number_tracks('Friday', 'Moscow')# количество прослушиваний в Москве по пятницам"
   ]
  },
  {
   "cell_type": "code",
   "execution_count": null,
   "metadata": {
    "id": "8_yzFtW3_Zcu"
   },
   "outputs": [],
   "source": [
    "number_tracks('Friday', 'Saint-Petersburg')# количество прослушиваний в Санкт-Петербурге по пятницам"
   ]
  },
  {
   "cell_type": "markdown",
   "metadata": {
    "id": "7QXffbO-_Zcu"
   },
   "source": [
    "Создадим c помощью конструктора `pd.DataFrame` таблицу, где\n",
    "* названия колонок — `['city', 'monday', 'wednesday', 'friday']`;\n",
    "* данные — результаты, которые вы получили с помощью `number_tracks`."
   ]
  },
  {
   "cell_type": "code",
   "execution_count": null,
   "metadata": {
    "id": "APAcLpOr_Zcu"
   },
   "outputs": [],
   "source": [
    "names = ['city', 'monday', 'wednesday', 'friday']\n",
    "data = [['Moscow', 15740, 11056, 15945], ['Saint-Petersburg', 5614, 7003, 5895]]\n",
    "pd.DataFrame(data = data, columns = names) # Таблица с результатами"
   ]
  },
  {
   "cell_type": "markdown",
   "metadata": {
    "id": "-EgPIHYu_Zcu"
   },
   "source": [
    "**Выводы**\n",
    "\n",
    "Данные показывают разницу поведения пользователей:\n",
    "\n",
    "- В Москве пик прослушиваний приходится на понедельник и пятницу, а в среду заметен спад.\n",
    "- В Петербурге, наоборот, больше слушают музыку по средам. Активность в понедельник и пятницу здесь почти в равной мере уступает среде.\n",
    "\n",
    "Значит, данные говорят в пользу первой гипотезы."
   ]
  },
  {
   "cell_type": "markdown",
   "metadata": {
    "id": "atZAxtq4_Zcu"
   },
   "source": [
    "### Музыка в начале и в конце недели"
   ]
  },
  {
   "cell_type": "markdown",
   "metadata": {
    "id": "eXrQqXFH_Zcu"
   },
   "source": [
    "Согласно второй гипотезе, утром в понедельник в Москве преобладают одни жанры, а в Петербурге — другие. Так же и вечером пятницы преобладают разные жанры — в зависимости от города."
   ]
  },
  {
   "cell_type": "markdown",
   "metadata": {
    "id": "S8UcW6Hw_Zcu"
   },
   "source": [
    "Сохраним таблицы с данными в две переменные:\n",
    "* по Москве — в `moscow_general`;\n",
    "* по Санкт-Петербургу — в `spb_general`."
   ]
  },
  {
   "cell_type": "code",
   "execution_count": 28,
   "metadata": {
    "id": "qeaFfM_P_Zcu"
   },
   "outputs": [],
   "source": [
    "moscow_general = df[df['city'] == 'Moscow']# получение таблицы moscow_general из тех строк таблицы df, \n",
    "# для которых значение в столбце 'city' равно 'Moscow'\n"
   ]
  },
  {
   "cell_type": "code",
   "execution_count": 29,
   "metadata": {
    "id": "ORaVRKto_Zcu"
   },
   "outputs": [],
   "source": [
    "spb_general = df[df['city'] == 'Saint-Petersburg']# получение таблицы spb_general из тех строк таблицы df,\n",
    "# для которых значение в столбце 'city' равно 'Saint-Petersburg'\n"
   ]
  },
  {
   "cell_type": "markdown",
   "metadata": {
    "id": "MEJV-CX2_Zcu"
   },
   "source": [
    "Создадим функцию `genre_weekday()` с четырьмя параметрами:\n",
    "* таблица (датафрейм) с данными,\n",
    "* день недели,\n",
    "* начальная временная метка в формате 'hh:mm', \n",
    "* последняя временная метка в формате 'hh:mm'.\n",
    "\n",
    "Функция должна вернуть информацию о топ-10 жанров тех треков, которые прослушивали в указанный день, в промежутке между двумя отметками времени."
   ]
  },
  {
   "cell_type": "code",
   "execution_count": 30,
   "metadata": {
    "id": "laJT9BYl_Zcu"
   },
   "outputs": [],
   "source": [
    "def genre_weekday(table, day, time1, time2):\n",
    "    genre_df = table[table['day'] == day]\n",
    "    genre_df = genre_df[genre_df['time'] > time1]\n",
    "    genre_df = genre_df[genre_df['time'] < time2]\n",
    "    genre_df_count = genre_df.groupby('genre')['genre'].count()\n",
    "    genre_df_sorted = genre_df_count.sort_values(ascending = False)\n",
    "    return genre_df_sorted.head(10)\n",
    "    \n",
    "    # Объявление функции genre_weekday() с параметрами table, day, time1, time2,\n",
    "# которая возвращает информацию о самых популярных жанрах в указанный день в\n",
    "# заданное время:\n",
    "# 1) в переменную genre_df сохраняются те строки переданного датафрейма table, для\n",
    "#    которых одновременно:\n",
    "#    - значение в столбце day равно значению аргумента day\n",
    "#    - значение в столбце time больше значения аргумента time1\n",
    "#    - значение в столбце time меньше значения аргумента time2\n",
    "#    Используйте последовательную фильтрацию с помощью логической индексации.\n",
    "# 2) сгруппировать датафрейм genre_df по столбцу genre, взять один из его\n",
    "#    столбцов и посчитать методом count() количество записей для каждого из\n",
    "#    присутствующих жанров, получившийся Series записать в переменную\n",
    "#    genre_df_count\n",
    "# 3) отсортировать genre_df_count по убыванию встречаемости и сохранить\n",
    "#    в переменную genre_df_sorted\n",
    "# 4) вернуть Series из 10 первых значений genre_df_sorted, это будут топ-10\n",
    "#    популярных жанров (в указанный день, в заданное время)"
   ]
  },
  {
   "cell_type": "markdown",
   "metadata": {
    "id": "la2s2_PF_Zcu"
   },
   "source": [
    "Cравним результаты функции `genre_weekday()` для Москвы и Санкт-Петербурга в понедельник утром (с 7:00 до 11:00) и в пятницу вечером (с 17:00 до 23:00):"
   ]
  },
  {
   "cell_type": "code",
   "execution_count": null,
   "metadata": {
    "id": "yz7itPUQ_Zcu"
   },
   "outputs": [],
   "source": [
    "genre_weekday(moscow_general, 'Monday', '07:00', '11:00')# вызов функции для утра понедельника в Москве (вместо df — таблица moscow_general)\n",
    "# объекты, хранящие время, являются строками и сравниваются как строки\n",
    "# пример вызова: genre_weekday(moscow_general, 'Monday', '07:00', '11:00')"
   ]
  },
  {
   "cell_type": "code",
   "execution_count": null,
   "metadata": {
    "id": "kwUcHPdy_Zcu"
   },
   "outputs": [],
   "source": [
    "genre_weekday(spb_general, 'Monday', '07:00', '11:00')# вызов функции для утра понедельника в Петербурге (вместо df — таблица spb_general)"
   ]
  },
  {
   "cell_type": "code",
   "execution_count": null,
   "metadata": {
    "id": "EzXVRE1o_Zcu"
   },
   "outputs": [],
   "source": [
    "genre_weekday(moscow_general, 'Friday', '18:00', '22:00')# вызов функции для вечера пятницы в Москве"
   ]
  },
  {
   "cell_type": "code",
   "execution_count": null,
   "metadata": {
    "id": "JZaEKu5v_Zcu"
   },
   "outputs": [],
   "source": [
    "genre_weekday(spb_general, 'Friday', '18:00', '22:00')# вызов функции для вечера пятницы в Петербурге"
   ]
  },
  {
   "cell_type": "markdown",
   "metadata": {
    "id": "wrCe4MNX_Zcu"
   },
   "source": [
    "**Выводы**\n",
    "\n",
    "Если сравнить топ-10 жанров в понедельник утром, можно сделать такие выводы:\n",
    "\n",
    "1. В Москве и Петербурге слушают похожую музыку. Единственное отличие — в московский рейтинг вошёл жанр “world”, а в петербургский — джаз и классика.\n",
    "\n",
    "2. В Москве пропущенных значений оказалось так много, что значение `'unknown'` заняло десятое место среди самых популярных жанров. Значит, пропущенные значения занимают существенную долю в данных и угрожают достоверности исследования.\n",
    "\n",
    "Вечер пятницы не меняет эту картину. Некоторые жанры поднимаются немного выше, другие спускаются, но в целом топ-10 остаётся тем же самым.\n",
    "\n",
    "Таким образом, вторая гипотеза подтвердилась лишь частично:\n",
    "* Пользователи слушают похожую музыку в начале недели и в конце.\n",
    "* Разница между Москвой и Петербургом не слишком выражена. В Москве чаще слушают русскую популярную музыку, в Петербурге — джаз.\n",
    "\n",
    "Однако пропуски в данных ставят под сомнение этот результат. В Москве их так много, что рейтинг топ-10 мог бы выглядеть иначе, если бы не утерянные  данные о жанрах."
   ]
  },
  {
   "cell_type": "markdown",
   "metadata": {
    "id": "JolODAqr_Zcu"
   },
   "source": [
    "### Жанровые предпочтения в Москве и Петербурге\n",
    "\n",
    "Гипотеза: Петербург — столица рэпа, музыку этого жанра там слушают чаще, чем в Москве.  А Москва — город контрастов, в котором, тем не менее, преобладает поп-музыка."
   ]
  },
  {
   "cell_type": "markdown",
   "metadata": {
    "id": "DlegSvaT_Zcu"
   },
   "source": [
    "Сгруппируем таблицу `moscow_general` по жанру и посчитаем прослушивания треков каждого жанра методом `count()`. Затем отсортируем результат в порядке убывания и сохраним его в таблице `moscow_genres`."
   ]
  },
  {
   "cell_type": "code",
   "execution_count": null,
   "metadata": {
    "id": "r19lIPke_Zcu"
   },
   "outputs": [],
   "source": [
    "moscow = moscow_general.groupby('genre')['genre'].count()\n",
    "moscow_genres = moscow.sort_values(ascending = False)# одной строкой: группировка таблицы moscow_general по столбцу 'genre', \n",
    "# подсчёт числа значений 'genre' в этой группировке методом count(), \n",
    "# сортировка получившегося Series в порядке убывания и сохранение в moscow_genres"
   ]
  },
  {
   "cell_type": "markdown",
   "metadata": {
    "id": "6kMuomxTiIr8"
   },
   "source": [
    "Выведите на экран первые десять строк `moscow_genres`:"
   ]
  },
  {
   "cell_type": "code",
   "execution_count": null,
   "metadata": {
    "id": "WhCSooF8_Zcv"
   },
   "outputs": [],
   "source": [
    "moscow_genres.head(10)# просмотр первых 10 строк moscow_genres"
   ]
  },
  {
   "cell_type": "markdown",
   "metadata": {
    "id": "cnPG2vnN_Zcv"
   },
   "source": [
    "Теперь повторим то же и для Петербурга.\n",
    "\n",
    "Сгруппируем таблицу `spb_general` по жанру. Посчитаем прослушивания треков каждого жанра. Результат отсортируем в порядке убывания и сохраним в таблице `spb_genres`:\n"
   ]
  },
  {
   "cell_type": "code",
   "execution_count": null,
   "metadata": {
    "id": "gluLIpE7_Zcv"
   },
   "outputs": [],
   "source": [
    "spb = spb_general.groupby('genre')['genre'].count()\n",
    "spb_genres = spb.sort_values(ascending = False)# одной строкой: группировка таблицы spb_general по столбцу 'genre', \n",
    "# подсчёт числа значений 'genre' в этой группировке методом count(), \n",
    "# сортировка получившегося Series в порядке убывания и сохранение в spb_genres"
   ]
  },
  {
   "cell_type": "markdown",
   "metadata": {
    "id": "5Doha_ODgyQ8"
   },
   "source": [
    "Выведим на экран первые десять строк `spb_genres`:"
   ]
  },
  {
   "cell_type": "code",
   "execution_count": null,
   "metadata": {
    "id": "uaGJHjVU_Zcv"
   },
   "outputs": [],
   "source": [
    "spb_genres.head(10)# просмотр первых 10 строк spb_genres"
   ]
  },
  {
   "cell_type": "markdown",
   "metadata": {
    "id": "RY51YJYu_Zcv"
   },
   "source": [
    "**Выводы**"
   ]
  },
  {
   "cell_type": "markdown",
   "metadata": {
    "id": "nVhnJEm__Zcv"
   },
   "source": [
    "Гипотеза частично подтвердилась:\n",
    "* Поп-музыка — самый популярный жанр в Москве, как и предполагала гипотеза. Более того, в топ-10 жанров встречается близкий жанр — русская популярная музыка.\n",
    "* Вопреки ожиданиям, рэп одинаково популярен в Москве и Петербурге. \n"
   ]
  },
  {
   "cell_type": "markdown",
   "metadata": {
    "id": "ykKQ0N65_Zcv"
   },
   "source": [
    "## Итоги исследования"
   ]
  },
  {
   "cell_type": "markdown",
   "metadata": {
    "id": "tjUwbHb3_Zcv"
   },
   "source": [
    "Мы проверили три гипотезы и установили:\n",
    "\n",
    "1. День недели по-разному влияет на активность пользователей в Москве и Петербурге. \n",
    "\n",
    "Первая гипотеза полностью подтвердилась.\n",
    "\n",
    "2. Музыкальные предпочтения не сильно меняются в течение недели — будь то Москва или Петербург. Небольшие различия заметны в начале недели, по понедельникам:\n",
    "* в Москве слушают музыку жанра “world”,\n",
    "* в Петербурге — джаз и классику.\n",
    "\n",
    "Таким образом, вторая гипотеза подтвердилась лишь отчасти. Этот результат мог оказаться иным, если бы не пропуски в данных.\n",
    "\n",
    "3. Во вкусах пользователей Москвы и Петербурга больше общего чем различий. Вопреки ожиданиям, предпочтения жанров в Петербурге напоминают московские.\n",
    "\n",
    "Третья гипотеза не подтвердилась. Если различия в предпочтениях и существуют, на основной массе пользователей они незаметны.\n",
    "\n",
    "**На практике исследования содержат проверки статистических гипотез.**\n",
    "Из данных одного сервиса не всегда можно сделать вывод о всех жителях города.\n",
    "Проверки статистических гипотез покажут, насколько они достоверны, исходя из имеющихся данных. \n",
    "С методами проверок гипотез вы ещё познакомитесь в следующих темах."
   ]
  },
  {
   "cell_type": "code",
   "execution_count": null,
   "metadata": {},
   "outputs": [],
   "source": []
  }
 ],
 "metadata": {
  "ExecuteTimeLog": [
   {
    "duration": 715,
    "start_time": "2021-11-22T05:44:47.774Z"
   },
   {
    "duration": 389,
    "start_time": "2021-11-22T05:49:29.233Z"
   },
   {
    "duration": 202,
    "start_time": "2021-11-22T05:49:43.320Z"
   },
   {
    "duration": 189,
    "start_time": "2021-11-22T05:49:45.729Z"
   },
   {
    "duration": 27,
    "start_time": "2021-11-22T05:50:33.355Z"
   },
   {
    "duration": 37,
    "start_time": "2021-11-22T05:51:04.954Z"
   },
   {
    "duration": 5,
    "start_time": "2021-11-22T07:09:27.650Z"
   },
   {
    "duration": 29,
    "start_time": "2021-11-22T07:13:41.982Z"
   },
   {
    "duration": 5,
    "start_time": "2021-11-22T07:13:58.516Z"
   },
   {
    "duration": 43,
    "start_time": "2021-11-22T07:15:28.698Z"
   },
   {
    "duration": 32,
    "start_time": "2021-11-22T07:15:50.308Z"
   },
   {
    "duration": 93,
    "start_time": "2021-11-22T07:34:12.274Z"
   },
   {
    "duration": 276,
    "start_time": "2021-11-22T07:44:33.212Z"
   },
   {
    "duration": 289,
    "start_time": "2021-11-22T07:45:31.619Z"
   },
   {
    "duration": 4,
    "start_time": "2021-11-22T07:46:09.696Z"
   },
   {
    "duration": 4,
    "start_time": "2021-11-22T07:46:12.294Z"
   },
   {
    "duration": 303,
    "start_time": "2021-11-22T07:46:18.672Z"
   },
   {
    "duration": 294,
    "start_time": "2021-11-22T07:46:29.252Z"
   },
   {
    "duration": 10,
    "start_time": "2021-11-22T07:47:13.989Z"
   },
   {
    "duration": 274,
    "start_time": "2021-11-22T07:47:57.429Z"
   },
   {
    "duration": 279,
    "start_time": "2021-11-22T07:48:12.334Z"
   },
   {
    "duration": 289,
    "start_time": "2021-11-22T07:48:28.201Z"
   },
   {
    "duration": 25,
    "start_time": "2021-11-22T07:58:49.416Z"
   },
   {
    "duration": 23,
    "start_time": "2021-11-22T07:58:53.630Z"
   },
   {
    "duration": 25,
    "start_time": "2021-11-22T07:59:16.443Z"
   },
   {
    "duration": 20,
    "start_time": "2021-11-22T07:59:29.336Z"
   },
   {
    "duration": 32,
    "start_time": "2021-11-22T07:59:42.603Z"
   },
   {
    "duration": 86,
    "start_time": "2021-11-22T08:08:46.673Z"
   },
   {
    "duration": 91,
    "start_time": "2021-11-22T08:09:04.528Z"
   },
   {
    "duration": 78,
    "start_time": "2021-11-22T08:09:13.869Z"
   },
   {
    "duration": 371,
    "start_time": "2021-11-22T08:10:32.232Z"
   },
   {
    "duration": 90,
    "start_time": "2021-11-22T08:10:44.450Z"
   },
   {
    "duration": 78,
    "start_time": "2021-11-22T08:10:47.453Z"
   },
   {
    "duration": 9,
    "start_time": "2021-11-22T08:12:10.846Z"
   },
   {
    "duration": 262,
    "start_time": "2021-11-22T08:18:42.045Z"
   },
   {
    "duration": 295,
    "start_time": "2021-11-22T08:19:05.734Z"
   },
   {
    "duration": 292,
    "start_time": "2021-11-22T08:20:19.924Z"
   },
   {
    "duration": 10,
    "start_time": "2021-11-22T08:20:38.722Z"
   },
   {
    "duration": 302,
    "start_time": "2021-11-22T08:20:50.679Z"
   },
   {
    "duration": 304,
    "start_time": "2021-11-22T08:21:08.282Z"
   },
   {
    "duration": 303,
    "start_time": "2021-11-22T08:21:41.689Z"
   },
   {
    "duration": 350,
    "start_time": "2021-11-22T10:40:33.240Z"
   },
   {
    "duration": 441,
    "start_time": "2021-11-22T10:40:43.484Z"
   },
   {
    "duration": 279,
    "start_time": "2021-11-22T10:40:50.923Z"
   },
   {
    "duration": 316,
    "start_time": "2021-11-22T10:41:00.203Z"
   },
   {
    "duration": 329,
    "start_time": "2021-11-22T10:41:05.675Z"
   },
   {
    "duration": 329,
    "start_time": "2021-11-22T10:45:28.241Z"
   },
   {
    "duration": 808,
    "start_time": "2021-11-22T10:46:02.857Z"
   },
   {
    "duration": 177,
    "start_time": "2021-11-22T10:46:04.055Z"
   },
   {
    "duration": 27,
    "start_time": "2021-11-22T10:46:04.593Z"
   },
   {
    "duration": 33,
    "start_time": "2021-11-22T10:46:05.101Z"
   },
   {
    "duration": 6,
    "start_time": "2021-11-22T10:46:06.148Z"
   },
   {
    "duration": 29,
    "start_time": "2021-11-22T10:46:06.550Z"
   },
   {
    "duration": 6,
    "start_time": "2021-11-22T10:46:06.966Z"
   },
   {
    "duration": 31,
    "start_time": "2021-11-22T10:46:08.263Z"
   },
   {
    "duration": 27,
    "start_time": "2021-11-22T10:46:15.231Z"
   },
   {
    "duration": 32,
    "start_time": "2021-11-22T10:46:16.829Z"
   },
   {
    "duration": 93,
    "start_time": "2021-11-22T10:46:21.629Z"
   },
   {
    "duration": 102,
    "start_time": "2021-11-22T10:46:23.192Z"
   },
   {
    "duration": 78,
    "start_time": "2021-11-22T10:46:24.911Z"
   },
   {
    "duration": 57,
    "start_time": "2021-11-22T10:46:28.315Z"
   },
   {
    "duration": 334,
    "start_time": "2021-11-22T10:47:25.905Z"
   },
   {
    "duration": 318,
    "start_time": "2021-11-22T10:47:34.961Z"
   },
   {
    "duration": 58,
    "start_time": "2021-11-22T10:47:40.998Z"
   },
   {
    "duration": 4,
    "start_time": "2021-11-22T10:56:28.056Z"
   },
   {
    "duration": 12,
    "start_time": "2021-11-22T10:57:48.039Z"
   },
   {
    "duration": 14,
    "start_time": "2021-11-22T10:58:06.368Z"
   },
   {
    "duration": 9,
    "start_time": "2021-11-22T10:58:31.384Z"
   },
   {
    "duration": 100,
    "start_time": "2021-11-22T10:58:37.964Z"
   },
   {
    "duration": 17,
    "start_time": "2021-11-22T10:59:20.629Z"
   },
   {
    "duration": 64,
    "start_time": "2021-11-22T10:59:49.453Z"
   },
   {
    "duration": 62,
    "start_time": "2021-11-22T10:59:52.832Z"
   },
   {
    "duration": 63,
    "start_time": "2021-11-22T11:00:09.199Z"
   },
   {
    "duration": 67,
    "start_time": "2021-11-22T11:00:37.027Z"
   },
   {
    "duration": 18,
    "start_time": "2021-11-22T11:01:15.975Z"
   },
   {
    "duration": 58,
    "start_time": "2021-11-22T11:01:28.000Z"
   },
   {
    "duration": 537,
    "start_time": "2021-11-22T18:29:23.016Z"
   },
   {
    "duration": 117,
    "start_time": "2021-11-22T18:29:23.835Z"
   },
   {
    "duration": 16,
    "start_time": "2021-11-22T18:29:24.497Z"
   },
   {
    "duration": 21,
    "start_time": "2021-11-22T18:29:24.956Z"
   },
   {
    "duration": 4,
    "start_time": "2021-11-22T18:29:26.014Z"
   },
   {
    "duration": 19,
    "start_time": "2021-11-22T18:29:26.446Z"
   },
   {
    "duration": 4,
    "start_time": "2021-11-22T18:29:26.853Z"
   },
   {
    "duration": 21,
    "start_time": "2021-11-22T18:29:28.056Z"
   },
   {
    "duration": 17,
    "start_time": "2021-11-22T18:29:30.008Z"
   },
   {
    "duration": 20,
    "start_time": "2021-11-22T18:29:33.346Z"
   },
   {
    "duration": 73,
    "start_time": "2021-11-22T18:29:34.519Z"
   },
   {
    "duration": 59,
    "start_time": "2021-11-22T18:29:35.799Z"
   },
   {
    "duration": 43,
    "start_time": "2021-11-22T18:29:36.976Z"
   },
   {
    "duration": 35,
    "start_time": "2021-11-22T18:29:40.695Z"
   },
   {
    "duration": 3,
    "start_time": "2021-11-22T18:29:43.226Z"
   },
   {
    "duration": 11,
    "start_time": "2021-11-22T18:29:46.780Z"
   },
   {
    "duration": 12,
    "start_time": "2021-11-22T18:30:39.866Z"
   },
   {
    "duration": 35,
    "start_time": "2021-11-22T18:30:42.339Z"
   },
   {
    "duration": 268,
    "start_time": "2021-11-22T19:04:49.996Z"
   },
   {
    "duration": 4082,
    "start_time": "2021-11-22T19:12:26.863Z"
   },
   {
    "duration": 4254,
    "start_time": "2021-11-22T19:12:41.712Z"
   },
   {
    "duration": 26,
    "start_time": "2021-11-22T19:13:21.187Z"
   },
   {
    "duration": 9,
    "start_time": "2021-11-22T19:14:46.221Z"
   },
   {
    "duration": 9,
    "start_time": "2021-11-22T19:16:38.177Z"
   },
   {
    "duration": 289,
    "start_time": "2021-11-22T19:17:17.649Z"
   },
   {
    "duration": 240,
    "start_time": "2021-11-22T19:17:34.048Z"
   },
   {
    "duration": 305,
    "start_time": "2021-11-22T19:23:59.512Z"
   },
   {
    "duration": 8,
    "start_time": "2021-11-22T19:30:02.820Z"
   },
   {
    "duration": 14,
    "start_time": "2021-11-22T19:32:42.549Z"
   },
   {
    "duration": 14,
    "start_time": "2021-11-22T19:34:28.293Z"
   },
   {
    "duration": 12,
    "start_time": "2021-11-22T19:34:37.753Z"
   },
   {
    "duration": 12,
    "start_time": "2021-11-22T19:34:44.286Z"
   },
   {
    "duration": 18,
    "start_time": "2021-11-22T19:34:59.553Z"
   },
   {
    "duration": 18,
    "start_time": "2021-11-22T19:35:01.605Z"
   },
   {
    "duration": 14,
    "start_time": "2021-11-22T19:35:49.469Z"
   },
   {
    "duration": 18,
    "start_time": "2021-11-22T19:36:10.289Z"
   },
   {
    "duration": 22,
    "start_time": "2021-11-22T19:37:47.643Z"
   },
   {
    "duration": 244,
    "start_time": "2021-11-22T19:38:17.007Z"
   },
   {
    "duration": 14,
    "start_time": "2021-11-22T19:43:52.054Z"
   },
   {
    "duration": 26,
    "start_time": "2021-11-22T19:45:10.717Z"
   },
   {
    "duration": 31,
    "start_time": "2021-11-22T19:46:03.846Z"
   },
   {
    "duration": 32,
    "start_time": "2021-11-22T19:46:07.929Z"
   },
   {
    "duration": 31,
    "start_time": "2021-11-22T19:46:22.970Z"
   },
   {
    "duration": 2,
    "start_time": "2021-11-22T19:46:38.556Z"
   },
   {
    "duration": 113,
    "start_time": "2021-11-22T19:46:39.682Z"
   },
   {
    "duration": 3,
    "start_time": "2021-11-22T19:47:16.787Z"
   },
   {
    "duration": 166,
    "start_time": "2021-11-22T19:47:17.204Z"
   },
   {
    "duration": 12,
    "start_time": "2021-11-22T19:47:17.594Z"
   },
   {
    "duration": 36,
    "start_time": "2021-11-22T19:47:17.968Z"
   },
   {
    "duration": 5,
    "start_time": "2021-11-22T19:47:18.961Z"
   },
   {
    "duration": 17,
    "start_time": "2021-11-22T19:47:19.376Z"
   },
   {
    "duration": 5,
    "start_time": "2021-11-22T19:47:19.767Z"
   },
   {
    "duration": 21,
    "start_time": "2021-11-22T19:47:20.174Z"
   },
   {
    "duration": 15,
    "start_time": "2021-11-22T19:47:20.787Z"
   },
   {
    "duration": 20,
    "start_time": "2021-11-22T19:47:21.184Z"
   },
   {
    "duration": 49,
    "start_time": "2021-11-22T19:47:21.601Z"
   },
   {
    "duration": 53,
    "start_time": "2021-11-22T19:47:22.017Z"
   },
   {
    "duration": 43,
    "start_time": "2021-11-22T19:47:22.423Z"
   },
   {
    "duration": 36,
    "start_time": "2021-11-22T19:47:23.018Z"
   },
   {
    "duration": 3,
    "start_time": "2021-11-22T19:47:23.424Z"
   },
   {
    "duration": 14,
    "start_time": "2021-11-22T19:47:23.825Z"
   },
   {
    "duration": 63,
    "start_time": "2021-11-22T19:47:25.008Z"
   },
   {
    "duration": 13,
    "start_time": "2021-11-22T19:47:29.684Z"
   },
   {
    "duration": 36,
    "start_time": "2021-11-22T19:47:33.347Z"
   },
   {
    "duration": 23,
    "start_time": "2021-11-22T19:47:44.896Z"
   },
   {
    "duration": 23,
    "start_time": "2021-11-22T19:47:47.610Z"
   },
   {
    "duration": 22,
    "start_time": "2021-11-22T19:47:50.093Z"
   },
   {
    "duration": 36,
    "start_time": "2021-11-22T19:51:58.384Z"
   },
   {
    "duration": 39,
    "start_time": "2021-11-22T19:52:01.480Z"
   },
   {
    "duration": 35,
    "start_time": "2021-11-22T19:52:04.065Z"
   },
   {
    "duration": 22,
    "start_time": "2021-11-22T19:52:08.814Z"
   },
   {
    "duration": 75,
    "start_time": "2021-11-22T19:52:24.797Z"
   },
   {
    "duration": 20,
    "start_time": "2021-11-22T19:52:29.580Z"
   },
   {
    "duration": 14,
    "start_time": "2021-11-22T19:52:38.952Z"
   },
   {
    "duration": 14,
    "start_time": "2021-11-22T19:52:56.140Z"
   },
   {
    "duration": 30,
    "start_time": "2021-11-22T19:53:10.778Z"
   },
   {
    "duration": 263,
    "start_time": "2021-11-22T20:06:00.944Z"
   },
   {
    "duration": 537,
    "start_time": "2021-11-22T20:06:24.024Z"
   },
   {
    "duration": 237,
    "start_time": "2021-11-22T20:06:48.915Z"
   },
   {
    "duration": 18,
    "start_time": "2021-11-22T20:07:08.622Z"
   },
   {
    "duration": 18,
    "start_time": "2021-11-22T20:07:11.597Z"
   },
   {
    "duration": 18,
    "start_time": "2021-11-22T20:07:16.168Z"
   },
   {
    "duration": 18,
    "start_time": "2021-11-22T20:07:19.043Z"
   },
   {
    "duration": 2,
    "start_time": "2021-11-22T20:07:29.553Z"
   },
   {
    "duration": 128,
    "start_time": "2021-11-22T20:07:29.935Z"
   },
   {
    "duration": 10,
    "start_time": "2021-11-22T20:07:30.349Z"
   },
   {
    "duration": 21,
    "start_time": "2021-11-22T20:07:30.943Z"
   },
   {
    "duration": 3,
    "start_time": "2021-11-22T20:07:32.585Z"
   },
   {
    "duration": 19,
    "start_time": "2021-11-22T20:07:33.058Z"
   },
   {
    "duration": 3,
    "start_time": "2021-11-22T20:07:33.889Z"
   },
   {
    "duration": 21,
    "start_time": "2021-11-22T20:07:34.838Z"
   },
   {
    "duration": 15,
    "start_time": "2021-11-22T20:07:36.777Z"
   },
   {
    "duration": 21,
    "start_time": "2021-11-22T20:07:37.879Z"
   },
   {
    "duration": 50,
    "start_time": "2021-11-22T20:07:43.216Z"
   },
   {
    "duration": 54,
    "start_time": "2021-11-22T20:07:45.199Z"
   },
   {
    "duration": 46,
    "start_time": "2021-11-22T20:07:47.753Z"
   },
   {
    "duration": 36,
    "start_time": "2021-11-22T20:07:49.530Z"
   },
   {
    "duration": 2,
    "start_time": "2021-11-22T20:07:51.315Z"
   },
   {
    "duration": 14,
    "start_time": "2021-11-22T20:07:52.624Z"
   },
   {
    "duration": 42,
    "start_time": "2021-11-22T20:07:53.863Z"
   },
   {
    "duration": 10,
    "start_time": "2021-11-22T20:07:56.740Z"
   },
   {
    "duration": 20,
    "start_time": "2021-11-22T20:07:59.588Z"
   },
   {
    "duration": 23,
    "start_time": "2021-11-22T20:08:15.105Z"
   },
   {
    "duration": 76,
    "start_time": "2021-11-22T20:08:26.065Z"
   },
   {
    "duration": 14,
    "start_time": "2021-11-22T20:08:32.844Z"
   },
   {
    "duration": 24,
    "start_time": "2021-11-22T20:08:58.843Z"
   },
   {
    "duration": 23,
    "start_time": "2021-11-22T20:09:02.930Z"
   },
   {
    "duration": 14,
    "start_time": "2021-11-22T20:09:07.045Z"
   },
   {
    "duration": 23,
    "start_time": "2021-11-22T20:09:15.506Z"
   },
   {
    "duration": 15,
    "start_time": "2021-11-22T20:11:35.422Z"
   },
   {
    "duration": 23,
    "start_time": "2021-11-22T20:11:41.555Z"
   },
   {
    "duration": 31,
    "start_time": "2021-11-22T20:11:55.718Z"
   },
   {
    "duration": 9,
    "start_time": "2021-11-22T20:13:16.704Z"
   },
   {
    "duration": 44,
    "start_time": "2021-11-22T20:14:09.484Z"
   },
   {
    "duration": 9,
    "start_time": "2021-11-22T20:14:21.048Z"
   },
   {
    "duration": 8,
    "start_time": "2021-11-22T20:14:28.811Z"
   },
   {
    "duration": 3,
    "start_time": "2021-11-22T20:23:37.735Z"
   },
   {
    "duration": 15,
    "start_time": "2021-11-22T20:24:18.191Z"
   },
   {
    "duration": 10,
    "start_time": "2021-11-22T20:24:36.153Z"
   },
   {
    "duration": 14,
    "start_time": "2021-11-22T20:25:34.795Z"
   },
   {
    "duration": 13,
    "start_time": "2021-11-22T20:25:48.584Z"
   },
   {
    "duration": 14,
    "start_time": "2021-11-22T20:26:21.005Z"
   },
   {
    "duration": 13,
    "start_time": "2021-11-22T20:26:22.014Z"
   },
   {
    "duration": 16,
    "start_time": "2021-11-22T20:26:22.808Z"
   },
   {
    "duration": 16,
    "start_time": "2021-11-22T20:26:52.245Z"
   },
   {
    "duration": 14,
    "start_time": "2021-11-22T20:26:52.431Z"
   },
   {
    "duration": 27,
    "start_time": "2021-11-22T20:26:53.057Z"
   },
   {
    "duration": 15,
    "start_time": "2021-11-22T20:26:53.683Z"
   },
   {
    "duration": 16,
    "start_time": "2021-11-22T20:26:54.257Z"
   },
   {
    "duration": 13,
    "start_time": "2021-11-22T20:26:54.979Z"
   },
   {
    "duration": 10,
    "start_time": "2021-11-22T20:34:14.088Z"
   },
   {
    "duration": 15,
    "start_time": "2021-11-22T20:35:56.142Z"
   },
   {
    "duration": 15,
    "start_time": "2021-11-22T20:36:37.733Z"
   },
   {
    "duration": 79,
    "start_time": "2021-11-22T20:36:38.313Z"
   },
   {
    "duration": 12,
    "start_time": "2021-11-22T20:36:46.356Z"
   },
   {
    "duration": 5,
    "start_time": "2021-11-22T20:45:29.187Z"
   },
   {
    "duration": 519,
    "start_time": "2021-11-22T20:46:34.577Z"
   },
   {
    "duration": 5,
    "start_time": "2021-11-22T20:49:23.521Z"
   },
   {
    "duration": 9,
    "start_time": "2021-11-22T20:50:04.188Z"
   },
   {
    "duration": 4,
    "start_time": "2021-11-22T20:50:05.686Z"
   },
   {
    "duration": 20,
    "start_time": "2021-11-22T20:50:07.022Z"
   },
   {
    "duration": 4,
    "start_time": "2021-11-22T20:51:03.248Z"
   },
   {
    "duration": 20,
    "start_time": "2021-11-22T20:51:04.749Z"
   },
   {
    "duration": 2,
    "start_time": "2021-11-22T20:51:06.198Z"
   },
   {
    "duration": 13,
    "start_time": "2021-11-22T20:51:39.539Z"
   },
   {
    "duration": 16,
    "start_time": "2021-11-22T20:52:41.883Z"
   },
   {
    "duration": 17,
    "start_time": "2021-11-22T20:52:54.951Z"
   },
   {
    "duration": 12,
    "start_time": "2021-11-22T20:53:07.898Z"
   },
   {
    "duration": 82,
    "start_time": "2021-11-22T20:57:03.746Z"
   },
   {
    "duration": 233,
    "start_time": "2021-11-22T20:57:13.548Z"
   },
   {
    "duration": 250,
    "start_time": "2021-11-22T20:57:58.510Z"
   },
   {
    "duration": 257,
    "start_time": "2021-11-22T20:58:08.251Z"
   },
   {
    "duration": 13,
    "start_time": "2021-11-22T20:59:07.394Z"
   },
   {
    "duration": 7,
    "start_time": "2021-11-22T20:59:08.204Z"
   },
   {
    "duration": 10,
    "start_time": "2021-11-22T20:59:09.300Z"
   },
   {
    "duration": 9,
    "start_time": "2021-11-22T20:59:09.541Z"
   },
   {
    "duration": 4,
    "start_time": "2021-11-22T20:59:10.114Z"
   },
   {
    "duration": 17,
    "start_time": "2021-11-22T20:59:10.700Z"
   },
   {
    "duration": 13,
    "start_time": "2021-11-22T20:59:11.347Z"
   },
   {
    "duration": 18,
    "start_time": "2021-11-22T20:59:11.670Z"
   },
   {
    "duration": 12,
    "start_time": "2021-11-22T20:59:12.115Z"
   },
   {
    "duration": 261,
    "start_time": "2021-11-22T20:59:14.789Z"
   },
   {
    "duration": 80,
    "start_time": "2021-11-22T21:00:06.775Z"
   },
   {
    "duration": 10,
    "start_time": "2021-11-22T21:00:33.761Z"
   },
   {
    "duration": 7,
    "start_time": "2021-11-22T21:00:37.878Z"
   },
   {
    "duration": 5,
    "start_time": "2021-11-22T21:00:55.344Z"
   },
   {
    "duration": 6,
    "start_time": "2021-11-22T21:02:05.203Z"
   },
   {
    "duration": 4,
    "start_time": "2021-11-22T21:02:13.049Z"
   },
   {
    "duration": 6,
    "start_time": "2021-11-22T21:02:16.623Z"
   },
   {
    "duration": 4,
    "start_time": "2021-11-22T21:02:35.630Z"
   },
   {
    "duration": 1029,
    "start_time": "2021-11-23T07:40:50.303Z"
   },
   {
    "duration": 260,
    "start_time": "2021-11-23T07:40:51.337Z"
   },
   {
    "duration": 37,
    "start_time": "2021-11-23T07:40:51.601Z"
   },
   {
    "duration": 49,
    "start_time": "2021-11-23T07:40:51.641Z"
   },
   {
    "duration": 6,
    "start_time": "2021-11-23T07:40:51.693Z"
   },
   {
    "duration": 36,
    "start_time": "2021-11-23T07:40:51.701Z"
   },
   {
    "duration": 7,
    "start_time": "2021-11-23T07:40:51.739Z"
   },
   {
    "duration": 60,
    "start_time": "2021-11-23T07:40:51.749Z"
   },
   {
    "duration": 23,
    "start_time": "2021-11-23T07:40:51.813Z"
   },
   {
    "duration": 55,
    "start_time": "2021-11-23T07:40:51.839Z"
   },
   {
    "duration": 102,
    "start_time": "2021-11-23T07:40:51.897Z"
   },
   {
    "duration": 114,
    "start_time": "2021-11-23T07:40:52.001Z"
   },
   {
    "duration": 82,
    "start_time": "2021-11-23T07:40:52.117Z"
   },
   {
    "duration": 56,
    "start_time": "2021-11-23T07:40:52.202Z"
   },
   {
    "duration": 21,
    "start_time": "2021-11-23T07:40:52.261Z"
   },
   {
    "duration": 29,
    "start_time": "2021-11-23T07:40:52.285Z"
   },
   {
    "duration": 84,
    "start_time": "2021-11-23T07:40:52.317Z"
   },
   {
    "duration": 14,
    "start_time": "2021-11-23T07:40:52.403Z"
   },
   {
    "duration": 13,
    "start_time": "2021-11-23T07:40:52.419Z"
   },
   {
    "duration": 6,
    "start_time": "2021-11-23T07:40:52.435Z"
   },
   {
    "duration": 29,
    "start_time": "2021-11-23T07:40:52.483Z"
   },
   {
    "duration": 27,
    "start_time": "2021-11-23T07:40:52.515Z"
   },
   {
    "duration": 51,
    "start_time": "2021-11-23T07:40:52.545Z"
   },
   {
    "duration": 26,
    "start_time": "2021-11-23T07:40:52.599Z"
   },
   {
    "duration": 56,
    "start_time": "2021-11-23T07:40:52.627Z"
   },
   {
    "duration": 20,
    "start_time": "2021-11-23T07:40:52.686Z"
   },
   {
    "duration": 12,
    "start_time": "2021-11-23T07:40:52.711Z"
   },
   {
    "duration": 15,
    "start_time": "2021-11-23T07:40:52.725Z"
   },
   {
    "duration": 48,
    "start_time": "2021-11-23T07:40:52.742Z"
   },
   {
    "duration": 6,
    "start_time": "2021-11-23T07:40:52.792Z"
   },
   {
    "duration": 30,
    "start_time": "2021-11-23T07:40:52.800Z"
   },
   {
    "duration": 51,
    "start_time": "2021-11-23T07:40:52.832Z"
   },
   {
    "duration": 25,
    "start_time": "2021-11-23T07:40:52.885Z"
   },
   {
    "duration": 16,
    "start_time": "2021-11-23T07:40:52.912Z"
   },
   {
    "duration": 11,
    "start_time": "2021-11-23T07:40:52.930Z"
   },
   {
    "duration": 41,
    "start_time": "2021-11-23T07:40:52.943Z"
   },
   {
    "duration": 14,
    "start_time": "2021-11-23T07:40:52.987Z"
   },
   {
    "duration": 13,
    "start_time": "2021-11-23T07:40:53.003Z"
   },
   {
    "duration": 28,
    "start_time": "2021-11-23T07:42:05.020Z"
   },
   {
    "duration": 112,
    "start_time": "2021-11-23T07:42:33.450Z"
   },
   {
    "duration": 5,
    "start_time": "2021-11-23T07:45:10.075Z"
   }
  ],
  "colab": {
   "collapsed_sections": [
    "E0vqbgi9ay0H",
    "VUC88oWjTJw2"
   ],
   "name": "yandex_music_project_2021.2.ipynb",
   "provenance": []
  },
  "kernelspec": {
   "display_name": "Python 3",
   "language": "python",
   "name": "python3"
  },
  "language_info": {
   "codemirror_mode": {
    "name": "ipython",
    "version": 3
   },
   "file_extension": ".py",
   "mimetype": "text/x-python",
   "name": "python",
   "nbconvert_exporter": "python",
   "pygments_lexer": "ipython3",
   "version": "3.7.0"
  },
  "toc": {
   "base_numbering": 1,
   "nav_menu": {},
   "number_sections": true,
   "sideBar": true,
   "skip_h1_title": true,
   "title_cell": "Table of Contents",
   "title_sidebar": "Contents",
   "toc_cell": false,
   "toc_position": {
    "height": "calc(100% - 180px)",
    "left": "10px",
    "top": "150px",
    "width": "285.99px"
   },
   "toc_section_display": true,
   "toc_window_display": true
  }
 },
 "nbformat": 4,
 "nbformat_minor": 1
}
