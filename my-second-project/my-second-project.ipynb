{
 "cells": [
  {
   "cell_type": "markdown",
   "metadata": {},
   "source": [
    "# Исследование надёжности заёмщиков\n",
    "\n",
    "Заказчик — кредитный отдел банка. Нужно разобраться, влияет ли семейное положение и количество детей клиента на факт погашения кредита в срок. Входные данные от банка — статистика о платёжеспособности клиентов.\n",
    "\n",
    "Результаты исследования будут учтены при построении модели **кредитного скоринга** — специальной системы, которая оценивает способность потенциального заёмщика вернуть кредит банку."
   ]
  },
  {
   "cell_type": "markdown",
   "metadata": {},
   "source": [
    "## Шаг 1. Откроем файл с данными и изучим общую информацию"
   ]
  },
  {
   "cell_type": "code",
   "execution_count": null,
   "metadata": {},
   "outputs": [],
   "source": [
    "import pandas as pd #вызов библиотеки pandas и сохранение как 'pd'\n",
    "data = pd.read_csv('***') #чтение файла\n",
    "data.info() #общая информация о данных\n",
    "#оценила значения данных в таблице выводом на экран функции value_counts(), p.s.: закомментировала, чтобы программа долго не работала\n",
    "print(data.head(10)) #вывели на экран 10 первых значений, чтобы ознакомиться с таблицей\n",
    "for col in data.columns:\n",
    "    print(\"-----------------------------\")\n",
    "    print(col)\n",
    "    display(data[col].describe())\n",
    "    display(data[col].value_counts())\n",
    "\n",
    "\n",
    "\n",
    "\n",
    "\n",
    "\n"
   ]
  },
  {
   "cell_type": "markdown",
   "metadata": {},
   "source": [
    "**Вывод** : "
   ]
  },
  {
   "cell_type": "markdown",
   "metadata": {},
   "source": [
    "Из полученной информации можно сделать вывод, что всего у нас 21525 строк, в столбцах в количественных переменных days_employed и total_income есть пустые строки. Также делаем вывод о типе данных: столбцы children , dob_years ,education_id, family_status_id, debt - имеют целочисленные значения; days_employed, total_income - числа с плавающей точкой; остальные - текстовые или смешанные числовые и нечисловые значения.\n",
    "Значения в столбце Дети имеют отрицательное значение, скорей всего это ошибка при записи, приведем потом значения столбца к модулю.\n",
    "В столбце с возрастом есть '0', но этого не может быть, скорей всего просто не указали возраст при заполнении данных, поменяем нули на среднее значение.\n",
    "Также можно заметить, что в данных трудового стажа есть отрицательные значения, это противоречит здравому смыслу. Скорей всего была допущена ошибка в добавлении '-'. Также есть аномально большие значения, скорей всего они записаны в часах, а не в днях.\n",
    "П.С.: было бы неплохо уточнить у коллег, которые прислали данные, почему есть минусовые значения."
   ]
  },
  {
   "cell_type": "code",
   "execution_count": null,
   "metadata": {},
   "outputs": [],
   "source": [
    "display(data.head())"
   ]
  },
  {
   "cell_type": "markdown",
   "metadata": {},
   "source": [
    "## Шаг 2. Предобработка данных"
   ]
  },
  {
   "cell_type": "markdown",
   "metadata": {},
   "source": [
    "### Обработка пропусков"
   ]
  },
  {
   "cell_type": "code",
   "execution_count": null,
   "metadata": {},
   "outputs": [],
   "source": [
    "# так как общий трудовой стаж в днях и ежемесяный доход - количественные переменные, то пропуски заменим медианным значением.\n",
    "data['total_income'] = data['total_income'].fillna(data['total_income'].median()) #Заменили пропущенные значения в столбце total_income на медианное значение ежемесячного дохода\n",
    "\n",
    "# приведем данные из столбца children к положительным значениям \n",
    "data['children'] = data['children'].apply(abs) #берем значения по модулю столбца Дети\n",
    "\n",
    "# приведем данные из столбца days_employed к положительным значениям и поделим на 24ч\n",
    "data['days_employed'] = data['days_employed'].apply(abs) #берем значения по модулю\n",
    "data.loc[data['days_employed'] > 20000, 'days_employed'] = data.loc[data['days_employed'] > 20000, 'days_employed'] / 24 #получаем стаж в днях\n",
    "data['days_employed'] = data['days_employed'].fillna(data['days_employed'].median()) #Заменили пропущенные значения в столбце days_employed на медианное значение трудового стажа\n",
    "\n",
    "#Заменим нулевое значение возраста на медиану\n",
    "median_dob_value = int(data['dob_years'].median())\n",
    "data.loc[data['dob_years'] == 0, 'dob_years'] = median_dob_value\n",
    "data.info() # проверим наличие пустых строк\n",
    "\n",
    "\n",
    "        \n",
    "    \n"
   ]
  },
  {
   "cell_type": "markdown",
   "metadata": {},
   "source": [
    "**Вывод**"
   ]
  },
  {
   "cell_type": "markdown",
   "metadata": {},
   "source": [
    "Провели обработку пропусков, заменили все пропущенный значения в столбцах 'Общий трудовой стаж' и 'ежемесячный доход' на медианные значения. Перед этим приведя данные в столбце 'Общий трудовой стаж' к положительным значениям и поработав с аномально большими значениями. Как видим из проверки, пропусков больше нет."
   ]
  },
  {
   "cell_type": "markdown",
   "metadata": {},
   "source": [
    "### Замена типа данных"
   ]
  },
  {
   "cell_type": "code",
   "execution_count": null,
   "metadata": {},
   "outputs": [],
   "source": [
    "#Чтобы легче было работать с числами, заменим вещественные типы данных на целочисленные (это операция не сильно повлияет на итоговые значения анализа таблицы)\n",
    "data['days_employed'] = data['days_employed'].astype('int')\n",
    "data['total_income'] = data['total_income'].astype('int')\n",
    "data.info() #Проверим нашу таблицу\n"
   ]
  },
  {
   "cell_type": "markdown",
   "metadata": {},
   "source": [
    "**Вывод**"
   ]
  },
  {
   "cell_type": "markdown",
   "metadata": {},
   "source": [
    "Теперь вместо чисел с плавающей точкой у нас - целочисленные значения. С ними удобней работать и проще читать таблицу."
   ]
  },
  {
   "cell_type": "markdown",
   "metadata": {},
   "source": [
    "### Обработка дубликатов"
   ]
  },
  {
   "cell_type": "code",
   "execution_count": null,
   "metadata": {},
   "outputs": [],
   "source": [
    "#Для начала приведем все символы в столбце education и gender к нижнему регистру:\n",
    "data['education'] = data['education'].str.lower()\n",
    "data['gender'] = data['gender'].str.lower()\n",
    "print('Количество дубликатов до удаления', data.duplicated().sum()) # проверим количество дубликатов, если не большое количество, то их удаление будет не критично\n",
    "data = data.drop_duplicates().reset_index(drop=True) # удалим дубликаты\n",
    "\n"
   ]
  },
  {
   "cell_type": "code",
   "execution_count": null,
   "metadata": {},
   "outputs": [],
   "source": [
    "print('Количество дубликатов после удаления', data.duplicated().sum())"
   ]
  },
  {
   "cell_type": "markdown",
   "metadata": {},
   "source": [
    "**Вывод**"
   ]
  },
  {
   "cell_type": "markdown",
   "metadata": {},
   "source": [
    "После обработки данных все символы приведены к нижнему регистру и удалены дубликаты. Что можно подвердить крайней проверкой, где сумма дубликатов равно 0."
   ]
  },
  {
   "cell_type": "markdown",
   "metadata": {},
   "source": [
    "### Лемматизация"
   ]
  },
  {
   "cell_type": "code",
   "execution_count": null,
   "metadata": {},
   "outputs": [],
   "source": [
    "#мы видим, что лемматизацию стоит провести для столбца purpose\n",
    "unique_purpose = data['purpose'].unique() #получим уникальные значения столбца purpose\n",
    "unique_purpose = ' '.join(unique_purpose) #склеим их в одну строку с помощью join\n",
    "# для лемматизации данных импортируем библиотеку pymystem3:\n",
    "from pymystem3 import Mystem\n",
    "m = Mystem()\n",
    "lemmas = m.lemmatize(unique_purpose)\n",
    "#print(lemmas)\n",
    "from collections import Counter\n",
    "print(Counter(lemmas)) \n",
    "datas=['недвижимость', 'автомобиль', 'образование', 'жилье', 'операция', 'свадьба', 'строительство'] #выделили основные категории целей получения кредита\n",
    "\n",
    "#создаем функцию, которая будет после лемитизации столбца purpose сравнивать и присваивать категории целей кредита \n",
    "def lemmas_func(row):\n",
    "    lemmas = m.lemmatize(row)\n",
    "    if (datas[0] in lemmas or datas[3] in lemmas):\n",
    "        return 'недвижимость'\n",
    "    if datas[1] in lemmas:\n",
    "        return 'автомобиль'\n",
    "    if datas[2] in lemmas:\n",
    "        return 'образование'\n",
    "    if datas[4] in lemmas:\n",
    "        return 'операция'\n",
    "    if datas[5] in lemmas:\n",
    "        return 'свадьба'\n",
    "    if datas[6] in lemmas:\n",
    "        return 'строительство'\n",
    "        \n",
    "    return 'другое'\n",
    "    \n",
    "\n",
    "#Применяем функцию и создаем отдельный столбец purpose_group с соответствующими категориями     \n",
    "data['purpose_group'] = data['purpose'].apply(lemmas_func)\n",
    "print(data.head(10))"
   ]
  },
  {
   "cell_type": "markdown",
   "metadata": {},
   "source": [
    "**Вывод**"
   ]
  },
  {
   "cell_type": "markdown",
   "metadata": {},
   "source": [
    "Добавили отдельный столбец purpose_group, в котором указана классификацию клиентов по целям кредита."
   ]
  },
  {
   "cell_type": "markdown",
   "metadata": {},
   "source": [
    "### Категоризация данных"
   ]
  },
  {
   "cell_type": "code",
   "execution_count": null,
   "metadata": {},
   "outputs": [],
   "source": [
    "#Проведем классификацию по наличию детей:\n",
    "def children_func(row):\n",
    "    if row == 0:\n",
    "        return 'нет детей'    \n",
    "    return 'есть дети'    \n",
    "\n",
    "#Применяем функцию и создаем отдельный столбец having_children с соответствующими категориями     \n",
    "data['having_children'] = data['children'].apply(children_func)\n",
    "\n",
    "#Проведем классификацию по сумме ежемесячного дохода, где по средним данным доход ниже 35тыс - низкий,от 35 до 120тыс - средний, выше 120тыс - высокий:\n",
    "def total_income_func(row):\n",
    "    if row <= 35000:\n",
    "        return 'низкий' \n",
    "    if row >120000:\n",
    "        return 'высокий'\n",
    "    return 'средний'    \n",
    "\n",
    "#Применяем функцию и создаем отдельный столбец having_children с соответствующими категориями     \n",
    "data['income_level'] = data['total_income'].apply(total_income_func)\n",
    "print(data.head(10))\n",
    "\n"
   ]
  },
  {
   "cell_type": "markdown",
   "metadata": {},
   "source": [
    "**Вывод**"
   ]
  },
  {
   "cell_type": "markdown",
   "metadata": {},
   "source": [
    "Чтобы легче отвечать на заданные вопросы, мы классифицировали некоторые столбцы: цели кредита, наличие детей и ежемесячный  доход."
   ]
  },
  {
   "cell_type": "markdown",
   "metadata": {},
   "source": [
    "## Шаг 3. Ответим на вопросы"
   ]
  },
  {
   "cell_type": "markdown",
   "metadata": {},
   "source": [
    "- Есть ли зависимость между наличием детей и возвратом кредита в срок?"
   ]
  },
  {
   "cell_type": "code",
   "execution_count": null,
   "metadata": {},
   "outputs": [],
   "source": [
    "#Используем сводную таблицу с использованием pivot:\n",
    "children_debt = data.pivot_table(index=['having_children'], values = 'debt', aggfunc = ['sum', 'count', 'mean'])\n",
    "children_debt.columns = ['debt', 'total', '%']\n",
    "children_debt['%'] = round(children_debt['%']*100,1)\n",
    "#Получили таблицу, в строках которой указано наличие детей, а в столбцах: dept - количество клиентов с задолженностью, total - общее количество клиентов в категории и процент.\n",
    "print(children_debt)\n",
    "\n"
   ]
  },
  {
   "cell_type": "markdown",
   "metadata": {},
   "source": [
    "**Вывод**"
   ]
  },
  {
   "cell_type": "markdown",
   "metadata": {},
   "source": [
    "Из таблицы можно сделать вывод, что количество клиентов с задолженностью и имеющих детей равен 9,2% от всех клиентов симеющих детей, а количесво клиентов с задолженностью и без детей равен 7,5% от всех клиентов без детей.\n",
    "То есть клиенты без детей чаще возвращают кредит в срок.\n"
   ]
  },
  {
   "cell_type": "code",
   "execution_count": null,
   "metadata": {},
   "outputs": [],
   "source": [
    "#Можно добавить также зависимость не только наличия детей, но и уровень дохода\n",
    "children_debt = data.pivot_table(index=['having_children','income_level'], values = 'debt', aggfunc = ['sum', 'count', 'mean'])\n",
    "children_debt.columns = ['debt', 'total', '%']\n",
    "children_debt['%'] = round(children_debt['%']*100,1)\n",
    "\n",
    "#Получили таблицу, в строках которой указано наличие детей, а в столбцах: dept - количество клиентов с задолженностью, total - общее количество клиентов в категории и процент.\n",
    "print(children_debt)\n",
    "\n"
   ]
  },
  {
   "cell_type": "markdown",
   "metadata": {},
   "source": [
    "**Вывод**:\n",
    "\n",
    "Можно будет сделать вывод, что клиенты с детьми и с низким уровнем дохода вообще не задерживают выплаты и у них нет задолженностей.\n",
    "А вот клиенты с детьми и средним заработком чаще остальных имеют проблемы с возвратом кредита в срок."
   ]
  },
  {
   "cell_type": "markdown",
   "metadata": {},
   "source": [
    "- Есть ли зависимость между семейным положением и возвратом кредита в срок?"
   ]
  },
  {
   "cell_type": "code",
   "execution_count": null,
   "metadata": {},
   "outputs": [],
   "source": [
    "#Используем сводную таблицу с использованием pivot:\n",
    "family_status_debt = data.pivot_table(index=['family_status'], values = 'debt', aggfunc = ['sum', 'count', 'mean'])\n",
    "family_status_debt.columns = ['debt', 'total', '%']\n",
    "family_status_debt['%'] = round(family_status_debt['%']*100,1)\n",
    "#Получили таблицу, в строках которой указано наличие детей, а в столбцах: dept - количество клиентов с задолженностью, total - общее количество клиентов в категории и процент.\n",
    "print(family_status_debt)"
   ]
  },
  {
   "cell_type": "markdown",
   "metadata": {},
   "source": [
    "**Вывод**"
   ]
  },
  {
   "cell_type": "markdown",
   "metadata": {},
   "source": [
    "Из таблицы можно сделать вывод, что задолженность чаще возникает, если клиент не женат/не замужем или в гражданском браке.\n"
   ]
  },
  {
   "cell_type": "markdown",
   "metadata": {},
   "source": [
    "- Есть ли зависимость между уровнем дохода и возвратом кредита в срок?"
   ]
  },
  {
   "cell_type": "code",
   "execution_count": null,
   "metadata": {},
   "outputs": [],
   "source": [
    "# Используем сводную таблицу с использованием pivot:\n",
    "income_level_debt = data.pivot_table(index=['income_level'], values = 'debt', aggfunc = ['sum', 'count', 'mean'])\n",
    "income_level_debt.columns = ['debt', 'total', '%']\n",
    "income_level_debt['%'] =  round(income_level_debt['%']*100,1)\n",
    "#Получили таблицу, в строках которой указано наличие детей, а в столбцах: dept - количество клиентов с задолженностью, total - общее количество клиентов в категории и процент.\n",
    "print(income_level_debt)\n"
   ]
  },
  {
   "cell_type": "markdown",
   "metadata": {},
   "source": [
    "**Вывод**"
   ]
  },
  {
   "cell_type": "markdown",
   "metadata": {},
   "source": [
    "Клиенты с низким доходом возвращают кредит в срок чаще,чем остальные. Но как видим, количество людей с низким доходом вообще не часто берут кредиты (всего 69 человек из 21454)."
   ]
  },
  {
   "cell_type": "markdown",
   "metadata": {},
   "source": [
    "- Как разные цели кредита влияют на его возврат в срок?"
   ]
  },
  {
   "cell_type": "code",
   "execution_count": null,
   "metadata": {},
   "outputs": [],
   "source": [
    "#Используем сводную таблицу с использованием pivot:\n",
    "purpose_group_debt = data.pivot_table(index=['purpose_group'], values = 'debt', aggfunc = ['sum', 'count', 'mean'])\n",
    "purpose_group_debt.columns = ['debt', 'total', '%']\n",
    "purpose_group_debt['%'] = round(purpose_group_debt['%']*100,1)\n",
    "#Получили таблицу, в строках которой указано наличие детей, а в столбцах: dept - количество клиентов с задолженностью, total - общее количество клиентов в категории и процент.\n",
    "print(purpose_group_debt)"
   ]
  },
  {
   "cell_type": "markdown",
   "metadata": {},
   "source": [
    "**Вывод**"
   ]
  },
  {
   "cell_type": "markdown",
   "metadata": {},
   "source": [
    "Клиенты, берующие кредит на недвижимость возвращают кредит в срок чаще остальных. Любители новых кредитованных автомобилей делают это с меньшим удовольствием, у них больший процент зависимости возврата кредита в срок в отличае от других целевых категорий"
   ]
  },
  {
   "cell_type": "markdown",
   "metadata": {},
   "source": [
    "## Шаг 4. Общий вывод"
   ]
  },
  {
   "cell_type": "markdown",
   "metadata": {},
   "source": [
    "Посмотрев на таблицы можно сделать вывод, что на возврат кредита в срок влияют все факторы. Если уровень дохода низкий или нет детей, то возврат кредита в срок наиболее вероятен. Возвращают чаще кредиты в срок, которые оформляют на недвижимость. А семейное положение 'гражданский брак' или 'не женат/не замужем' усугубляет ситуацию возврата кредита.\n",
    "\n",
    "Для более точного анализа можно дополнительно проверять несколько условий, например: влияет ли на выплаты кредита в срок не только наличие детей, но и уровень ежемесячного дохода. \n",
    "И, по-моему мнению, судя по данным процент не возврата кредита во всех ситуациях не такой уж и большой, менее 1%."
   ]
  }
 ],
 "metadata": {
  "ExecuteTimeLog": [
   {
    "duration": 447,
    "start_time": "2021-12-02T09:56:10.159Z"
   },
   {
    "duration": 661,
    "start_time": "2021-12-02T09:57:02.767Z"
   },
   {
    "duration": 299,
    "start_time": "2021-12-02T09:58:49.369Z"
   },
   {
    "duration": 62,
    "start_time": "2021-12-02T09:59:04.682Z"
   },
   {
    "duration": 56,
    "start_time": "2021-12-02T10:01:17.575Z"
   },
   {
    "duration": 56,
    "start_time": "2021-12-02T10:09:48.629Z"
   },
   {
    "duration": 61,
    "start_time": "2021-12-02T10:10:23.247Z"
   },
   {
    "duration": 8,
    "start_time": "2021-12-02T10:21:25.628Z"
   },
   {
    "duration": -3505,
    "start_time": "2021-12-02T10:21:58.184Z"
   },
   {
    "duration": 8,
    "start_time": "2021-12-02T10:21:57.471Z"
   },
   {
    "duration": 5,
    "start_time": "2021-12-02T10:22:36.022Z"
   },
   {
    "duration": 5,
    "start_time": "2021-12-02T10:22:49.606Z"
   },
   {
    "duration": 4,
    "start_time": "2021-12-02T10:32:17.365Z"
   },
   {
    "duration": 63,
    "start_time": "2021-12-02T10:41:50.196Z"
   },
   {
    "duration": 59,
    "start_time": "2021-12-02T10:42:09.439Z"
   },
   {
    "duration": 5,
    "start_time": "2021-12-02T10:43:43.631Z"
   },
   {
    "duration": 176,
    "start_time": "2021-12-02T10:50:52.411Z"
   },
   {
    "duration": 9,
    "start_time": "2021-12-02T10:51:52.553Z"
   },
   {
    "duration": 16,
    "start_time": "2021-12-02T11:04:18.787Z"
   },
   {
    "duration": 15,
    "start_time": "2021-12-02T11:09:22.018Z"
   },
   {
    "duration": 15,
    "start_time": "2021-12-02T11:09:42.198Z"
   },
   {
    "duration": 14,
    "start_time": "2021-12-02T11:17:03.287Z"
   },
   {
    "duration": 14,
    "start_time": "2021-12-02T11:17:07.913Z"
   },
   {
    "duration": 12,
    "start_time": "2021-12-02T11:20:34.212Z"
   },
   {
    "duration": 14,
    "start_time": "2021-12-02T11:20:57.894Z"
   },
   {
    "duration": 21,
    "start_time": "2021-12-02T11:22:31.699Z"
   },
   {
    "duration": 19,
    "start_time": "2021-12-02T11:22:52.198Z"
   },
   {
    "duration": 10,
    "start_time": "2021-12-02T11:31:55.114Z"
   },
   {
    "duration": 5,
    "start_time": "2021-12-02T11:38:48.091Z"
   },
   {
    "duration": 5,
    "start_time": "2021-12-02T11:39:09.471Z"
   },
   {
    "duration": 4308,
    "start_time": "2021-12-02T11:39:37.425Z"
   },
   {
    "duration": 12,
    "start_time": "2021-12-02T11:41:20.959Z"
   },
   {
    "duration": 11,
    "start_time": "2021-12-02T11:41:43.088Z"
   },
   {
    "duration": 8,
    "start_time": "2021-12-02T11:41:53.888Z"
   },
   {
    "duration": 8,
    "start_time": "2021-12-02T11:42:17.712Z"
   },
   {
    "duration": 6,
    "start_time": "2021-12-02T11:42:22.994Z"
   },
   {
    "duration": 5,
    "start_time": "2021-12-02T11:42:35.295Z"
   },
   {
    "duration": 189,
    "start_time": "2021-12-02T11:43:39.556Z"
   },
   {
    "duration": 188,
    "start_time": "2021-12-02T11:44:12.824Z"
   },
   {
    "duration": 3314,
    "start_time": "2021-12-02T11:44:25.275Z"
   },
   {
    "duration": 13,
    "start_time": "2021-12-02T11:45:31.055Z"
   },
   {
    "duration": 15,
    "start_time": "2021-12-02T11:45:53.787Z"
   },
   {
    "duration": 17,
    "start_time": "2021-12-02T11:46:22.637Z"
   },
   {
    "duration": 18,
    "start_time": "2021-12-02T12:09:21.960Z"
   },
   {
    "duration": 23,
    "start_time": "2021-12-02T12:10:54.231Z"
   },
   {
    "duration": 194,
    "start_time": "2021-12-02T12:12:56.215Z"
   },
   {
    "duration": 42,
    "start_time": "2021-12-02T12:13:18.678Z"
   },
   {
    "duration": 370,
    "start_time": "2021-12-02T12:14:36.252Z"
   },
   {
    "duration": 36,
    "start_time": "2021-12-02T12:14:47.062Z"
   },
   {
    "duration": 33,
    "start_time": "2021-12-02T12:14:54.048Z"
   },
   {
    "duration": 197,
    "start_time": "2021-12-02T12:16:12.936Z"
   },
   {
    "duration": 199,
    "start_time": "2021-12-02T12:16:25.287Z"
   },
   {
    "duration": 70,
    "start_time": "2021-12-02T12:16:43.489Z"
   },
   {
    "duration": 53,
    "start_time": "2021-12-02T12:20:00.586Z"
   },
   {
    "duration": 228,
    "start_time": "2021-12-02T12:20:53.850Z"
   },
   {
    "duration": 51,
    "start_time": "2021-12-02T12:21:02.899Z"
   },
   {
    "duration": 5,
    "start_time": "2021-12-02T12:24:49.877Z"
   },
   {
    "duration": 4,
    "start_time": "2021-12-02T12:26:41.339Z"
   },
   {
    "duration": 6,
    "start_time": "2021-12-02T12:26:49.513Z"
   },
   {
    "duration": 5,
    "start_time": "2021-12-02T12:27:07.013Z"
   },
   {
    "duration": 5,
    "start_time": "2021-12-02T12:27:23.433Z"
   },
   {
    "duration": 5,
    "start_time": "2021-12-02T12:27:38.996Z"
   },
   {
    "duration": 188,
    "start_time": "2021-12-02T12:33:04.350Z"
   },
   {
    "duration": 3293,
    "start_time": "2021-12-02T12:33:22.629Z"
   },
   {
    "duration": 3300,
    "start_time": "2021-12-02T12:33:36.863Z"
   },
   {
    "duration": -3364,
    "start_time": "2021-12-02T12:33:51.211Z"
   },
   {
    "duration": 3290,
    "start_time": "2021-12-02T12:34:43.516Z"
   },
   {
    "duration": 185,
    "start_time": "2021-12-02T12:37:52.792Z"
   },
   {
    "duration": 4260,
    "start_time": "2021-12-02T12:38:03.961Z"
   },
   {
    "duration": 6,
    "start_time": "2021-12-02T12:42:07.944Z"
   },
   {
    "duration": 474,
    "start_time": "2021-12-02T12:42:17.694Z"
   },
   {
    "duration": 181,
    "start_time": "2021-12-02T12:42:21.343Z"
   },
   {
    "duration": 6,
    "start_time": "2021-12-02T12:42:27.089Z"
   },
   {
    "duration": 6,
    "start_time": "2021-12-02T12:42:35.624Z"
   },
   {
    "duration": 5,
    "start_time": "2021-12-02T12:42:40.093Z"
   },
   {
    "duration": 637,
    "start_time": "2021-12-02T12:43:14.078Z"
   },
   {
    "duration": 652,
    "start_time": "2021-12-02T12:44:08.567Z"
   },
   {
    "duration": 654,
    "start_time": "2021-12-02T12:44:28.016Z"
   },
   {
    "duration": 665,
    "start_time": "2021-12-02T12:45:26.479Z"
   },
   {
    "duration": 648,
    "start_time": "2021-12-02T12:46:42.808Z"
   },
   {
    "duration": 668,
    "start_time": "2021-12-02T12:46:59.503Z"
   },
   {
    "duration": 64,
    "start_time": "2021-12-02T13:01:45.855Z"
   },
   {
    "duration": 65,
    "start_time": "2021-12-02T13:08:02.164Z"
   },
   {
    "duration": 56,
    "start_time": "2021-12-02T13:08:17.020Z"
   },
   {
    "duration": 65,
    "start_time": "2021-12-02T13:08:28.605Z"
   },
   {
    "duration": 68,
    "start_time": "2021-12-02T13:09:21.220Z"
   },
   {
    "duration": 61,
    "start_time": "2021-12-02T13:09:29.059Z"
   },
   {
    "duration": 56,
    "start_time": "2021-12-02T13:09:36.030Z"
   },
   {
    "duration": 849,
    "start_time": "2021-12-02T13:09:41.599Z"
   },
   {
    "duration": 834,
    "start_time": "2021-12-02T13:09:57.399Z"
   },
   {
    "duration": 961,
    "start_time": "2021-12-02T13:10:10.740Z"
   },
   {
    "duration": 668,
    "start_time": "2021-12-02T13:10:23.893Z"
   },
   {
    "duration": 667,
    "start_time": "2021-12-03T11:35:06.654Z"
   },
   {
    "duration": 34,
    "start_time": "2021-12-03T11:35:10.037Z"
   },
   {
    "duration": 12,
    "start_time": "2021-12-03T11:35:12.022Z"
   },
   {
    "duration": 51,
    "start_time": "2021-12-03T11:35:13.789Z"
   },
   {
    "duration": 640,
    "start_time": "2021-12-03T11:35:15.726Z"
   },
   {
    "duration": 669,
    "start_time": "2021-12-03T11:37:33.516Z"
   },
   {
    "duration": 672,
    "start_time": "2021-12-03T11:37:59.000Z"
   },
   {
    "duration": 738,
    "start_time": "2021-12-03T11:38:04.033Z"
   },
   {
    "duration": 736,
    "start_time": "2021-12-03T11:38:20.651Z"
   },
   {
    "duration": 765,
    "start_time": "2021-12-03T11:39:03.096Z"
   },
   {
    "duration": 746,
    "start_time": "2021-12-03T11:39:17.545Z"
   },
   {
    "duration": 744,
    "start_time": "2021-12-03T11:39:54.129Z"
   },
   {
    "duration": 706,
    "start_time": "2021-12-03T11:40:00.087Z"
   },
   {
    "duration": 676,
    "start_time": "2021-12-03T11:41:11.736Z"
   },
   {
    "duration": 668,
    "start_time": "2021-12-03T11:41:20.473Z"
   },
   {
    "duration": 64,
    "start_time": "2021-12-03T11:41:56.336Z"
   },
   {
    "duration": 72,
    "start_time": "2021-12-03T11:42:08.173Z"
   },
   {
    "duration": 755,
    "start_time": "2021-12-03T11:42:15.077Z"
   },
   {
    "duration": 754,
    "start_time": "2021-12-03T11:42:21.761Z"
   },
   {
    "duration": 749,
    "start_time": "2021-12-03T11:42:48.930Z"
   },
   {
    "duration": 687,
    "start_time": "2021-12-03T11:53:18.940Z"
   },
   {
    "duration": 785,
    "start_time": "2021-12-03T11:53:29.341Z"
   },
   {
    "duration": 767,
    "start_time": "2021-12-03T11:53:46.422Z"
   },
   {
    "duration": 754,
    "start_time": "2021-12-03T11:54:54.663Z"
   },
   {
    "duration": 777,
    "start_time": "2021-12-03T11:55:07.252Z"
   },
   {
    "duration": 716,
    "start_time": "2021-12-03T11:58:50.545Z"
   },
   {
    "duration": 6514,
    "start_time": "2021-12-03T12:02:24.100Z"
   },
   {
    "duration": 1688,
    "start_time": "2021-12-03T12:03:05.476Z"
   },
   {
    "duration": 5660,
    "start_time": "2021-12-03T12:03:20.949Z"
   },
   {
    "duration": 5828,
    "start_time": "2021-12-03T12:03:52.155Z"
   },
   {
    "duration": 1579,
    "start_time": "2021-12-03T12:04:09.342Z"
   },
   {
    "duration": 1802,
    "start_time": "2021-12-03T12:04:19.299Z"
   },
   {
    "duration": 1693,
    "start_time": "2021-12-03T12:04:47.770Z"
   },
   {
    "duration": 3401,
    "start_time": "2021-12-03T12:05:28.189Z"
   },
   {
    "duration": 3747,
    "start_time": "2021-12-03T12:06:47.209Z"
   },
   {
    "duration": 3866,
    "start_time": "2021-12-03T12:07:00.794Z"
   },
   {
    "duration": 3771,
    "start_time": "2021-12-03T12:08:07.575Z"
   },
   {
    "duration": 683,
    "start_time": "2021-12-03T12:09:37.240Z"
   },
   {
    "duration": 723,
    "start_time": "2021-12-03T12:09:46.604Z"
   },
   {
    "duration": 674,
    "start_time": "2021-12-03T12:15:46.652Z"
   },
   {
    "duration": 739,
    "start_time": "2021-12-03T12:15:54.709Z"
   },
   {
    "duration": 1060,
    "start_time": "2021-12-03T12:16:21.393Z"
   },
   {
    "duration": 778,
    "start_time": "2021-12-03T12:16:40.493Z"
   },
   {
    "duration": 677,
    "start_time": "2021-12-03T12:17:08.340Z"
   },
   {
    "duration": 695,
    "start_time": "2021-12-03T12:21:07.931Z"
   },
   {
    "duration": 684,
    "start_time": "2021-12-03T12:21:41.418Z"
   },
   {
    "duration": 84,
    "start_time": "2021-12-03T12:26:53.509Z"
   },
   {
    "duration": 63,
    "start_time": "2021-12-03T12:27:57.935Z"
   },
   {
    "duration": 702,
    "start_time": "2021-12-03T12:28:06.713Z"
   },
   {
    "duration": 682,
    "start_time": "2021-12-03T12:29:22.534Z"
   },
   {
    "duration": 693,
    "start_time": "2021-12-03T12:29:38.135Z"
   },
   {
    "duration": 722,
    "start_time": "2021-12-03T12:31:30.106Z"
   },
   {
    "duration": 8281,
    "start_time": "2021-12-03T12:31:45.842Z"
   },
   {
    "duration": 3564,
    "start_time": "2021-12-03T12:31:55.430Z"
   },
   {
    "duration": 3415,
    "start_time": "2021-12-03T12:32:14.194Z"
   },
   {
    "duration": 3392,
    "start_time": "2021-12-03T12:37:15.079Z"
   },
   {
    "duration": 3495,
    "start_time": "2021-12-03T12:38:19.554Z"
   },
   {
    "duration": 3428,
    "start_time": "2021-12-03T12:38:37.576Z"
   },
   {
    "duration": 668,
    "start_time": "2021-12-04T06:42:52.326Z"
   },
   {
    "duration": 23,
    "start_time": "2021-12-04T06:42:53.136Z"
   },
   {
    "duration": 10,
    "start_time": "2021-12-04T06:42:54.013Z"
   },
   {
    "duration": 57,
    "start_time": "2021-12-04T06:42:55.182Z"
   },
   {
    "duration": 3587,
    "start_time": "2021-12-04T06:43:05.262Z"
   },
   {
    "duration": 6,
    "start_time": "2021-12-04T06:59:06.043Z"
   },
   {
    "duration": 6,
    "start_time": "2021-12-04T07:00:52.447Z"
   },
   {
    "duration": 8,
    "start_time": "2021-12-04T07:01:57.872Z"
   },
   {
    "duration": 7,
    "start_time": "2021-12-04T07:02:21.872Z"
   },
   {
    "duration": 6,
    "start_time": "2021-12-04T07:02:29.084Z"
   },
   {
    "duration": 32,
    "start_time": "2021-12-04T07:04:44.489Z"
   },
   {
    "duration": 69,
    "start_time": "2021-12-04T07:12:51.126Z"
   },
   {
    "duration": 6012,
    "start_time": "2021-12-04T07:13:53.223Z"
   },
   {
    "duration": 6908,
    "start_time": "2021-12-04T07:14:29.384Z"
   },
   {
    "duration": 78,
    "start_time": "2021-12-04T07:16:10.619Z"
   },
   {
    "duration": 60,
    "start_time": "2021-12-04T07:19:30.644Z"
   },
   {
    "duration": 85,
    "start_time": "2021-12-04T07:23:41.479Z"
   },
   {
    "duration": 84,
    "start_time": "2021-12-04T07:23:57.817Z"
   },
   {
    "duration": 102,
    "start_time": "2021-12-04T07:26:19.466Z"
   },
   {
    "duration": 74,
    "start_time": "2021-12-04T07:26:22.983Z"
   },
   {
    "duration": 255,
    "start_time": "2021-12-04T07:26:45.959Z"
   },
   {
    "duration": 57,
    "start_time": "2021-12-04T07:27:13.247Z"
   },
   {
    "duration": 62,
    "start_time": "2021-12-04T07:27:22.809Z"
   },
   {
    "duration": 273,
    "start_time": "2021-12-04T07:27:39.883Z"
   },
   {
    "duration": 262,
    "start_time": "2021-12-04T07:27:57.048Z"
   },
   {
    "duration": 93,
    "start_time": "2021-12-04T07:29:47.628Z"
   },
   {
    "duration": 267,
    "start_time": "2021-12-04T07:30:07.199Z"
   },
   {
    "duration": 7121,
    "start_time": "2021-12-04T07:30:28.190Z"
   },
   {
    "duration": 80,
    "start_time": "2021-12-04T07:31:27.854Z"
   },
   {
    "duration": 76,
    "start_time": "2021-12-04T07:31:41.112Z"
   },
   {
    "duration": 37,
    "start_time": "2021-12-04T07:35:49.431Z"
   },
   {
    "duration": 36,
    "start_time": "2021-12-04T07:36:14.140Z"
   },
   {
    "duration": 37,
    "start_time": "2021-12-04T07:36:33.836Z"
   },
   {
    "duration": 32,
    "start_time": "2021-12-04T07:37:12.831Z"
   },
   {
    "duration": 283,
    "start_time": "2021-12-04T07:37:46.489Z"
   },
   {
    "duration": 277,
    "start_time": "2021-12-04T07:38:02.190Z"
   },
   {
    "duration": 33,
    "start_time": "2021-12-04T07:38:37.680Z"
   },
   {
    "duration": 32,
    "start_time": "2021-12-04T07:39:09.049Z"
   },
   {
    "duration": 32,
    "start_time": "2021-12-04T07:39:38.489Z"
   },
   {
    "duration": 30,
    "start_time": "2021-12-04T07:40:57.138Z"
   },
   {
    "duration": 12,
    "start_time": "2021-12-04T07:41:27.522Z"
   },
   {
    "duration": 52,
    "start_time": "2021-12-04T07:41:29.936Z"
   },
   {
    "duration": 249,
    "start_time": "2021-12-04T07:41:31.548Z"
   },
   {
    "duration": 248,
    "start_time": "2021-12-04T07:41:44.490Z"
   },
   {
    "duration": 65,
    "start_time": "2021-12-04T07:41:53.272Z"
   },
   {
    "duration": 36,
    "start_time": "2021-12-04T07:41:54.741Z"
   },
   {
    "duration": 11,
    "start_time": "2021-12-04T07:41:56.747Z"
   },
   {
    "duration": 49,
    "start_time": "2021-12-04T07:41:58.342Z"
   },
   {
    "duration": 248,
    "start_time": "2021-12-04T07:42:00.735Z"
   },
   {
    "duration": 249,
    "start_time": "2021-12-04T07:42:20.196Z"
   },
   {
    "duration": 6,
    "start_time": "2021-12-04T07:42:22.056Z"
   },
   {
    "duration": 6,
    "start_time": "2021-12-04T07:42:58.034Z"
   },
   {
    "duration": 38,
    "start_time": "2021-12-04T07:45:08.949Z"
   },
   {
    "duration": 65,
    "start_time": "2021-12-04T07:45:19.291Z"
   },
   {
    "duration": 63,
    "start_time": "2021-12-04T07:45:29.712Z"
   },
   {
    "duration": 62,
    "start_time": "2021-12-04T07:46:21.041Z"
   },
   {
    "duration": 63,
    "start_time": "2021-12-04T07:46:29.588Z"
   },
   {
    "duration": 38,
    "start_time": "2021-12-04T07:46:34.159Z"
   },
   {
    "duration": 11,
    "start_time": "2021-12-04T07:46:40.587Z"
   },
   {
    "duration": 47,
    "start_time": "2021-12-04T07:46:42.678Z"
   },
   {
    "duration": 243,
    "start_time": "2021-12-04T07:46:44.675Z"
   },
   {
    "duration": 36,
    "start_time": "2021-12-04T07:47:19.680Z"
   },
   {
    "duration": 11,
    "start_time": "2021-12-04T07:47:23.458Z"
   },
   {
    "duration": 11,
    "start_time": "2021-12-04T07:47:54.884Z"
   },
   {
    "duration": 29,
    "start_time": "2021-12-04T07:48:38.795Z"
   },
   {
    "duration": 11,
    "start_time": "2021-12-04T07:48:40.943Z"
   },
   {
    "duration": 62,
    "start_time": "2021-12-04T07:48:51.908Z"
   },
   {
    "duration": 21,
    "start_time": "2021-12-04T07:49:28.584Z"
   },
   {
    "duration": 10,
    "start_time": "2021-12-04T07:49:36.951Z"
   },
   {
    "duration": 36,
    "start_time": "2021-12-04T07:49:58.392Z"
   },
   {
    "duration": 12,
    "start_time": "2021-12-04T07:50:04.446Z"
   },
   {
    "duration": 30,
    "start_time": "2021-12-04T07:50:49.349Z"
   },
   {
    "duration": 11,
    "start_time": "2021-12-04T07:50:57.294Z"
   },
   {
    "duration": 10,
    "start_time": "2021-12-04T07:51:05.787Z"
   },
   {
    "duration": 32,
    "start_time": "2021-12-04T07:51:23.815Z"
   },
   {
    "duration": 21,
    "start_time": "2021-12-04T07:51:43.499Z"
   },
   {
    "duration": 62,
    "start_time": "2021-12-04T07:51:50.575Z"
   },
   {
    "duration": 20,
    "start_time": "2021-12-04T07:51:53.025Z"
   },
   {
    "duration": 668,
    "start_time": "2021-12-04T09:20:30.169Z"
   },
   {
    "duration": 29,
    "start_time": "2021-12-04T09:21:56.443Z"
   },
   {
    "duration": 22,
    "start_time": "2021-12-04T09:22:07.000Z"
   },
   {
    "duration": 21,
    "start_time": "2021-12-04T09:22:26.143Z"
   },
   {
    "duration": 23,
    "start_time": "2021-12-04T09:22:36.238Z"
   },
   {
    "duration": 61,
    "start_time": "2021-12-04T09:22:50.231Z"
   },
   {
    "duration": 27,
    "start_time": "2021-12-04T09:23:11.773Z"
   },
   {
    "duration": 23,
    "start_time": "2021-12-04T09:23:39.175Z"
   },
   {
    "duration": 12,
    "start_time": "2021-12-04T09:23:56.767Z"
   },
   {
    "duration": 27,
    "start_time": "2021-12-04T09:24:47.668Z"
   },
   {
    "duration": 10,
    "start_time": "2021-12-04T09:24:50.997Z"
   },
   {
    "duration": 56,
    "start_time": "2021-12-04T09:24:54.126Z"
   },
   {
    "duration": 10,
    "start_time": "2021-12-04T09:25:13.064Z"
   },
   {
    "duration": 52,
    "start_time": "2021-12-04T09:25:15.638Z"
   },
   {
    "duration": 3701,
    "start_time": "2021-12-04T09:25:18.102Z"
   },
   {
    "duration": 8,
    "start_time": "2021-12-04T09:28:08.658Z"
   },
   {
    "duration": 6,
    "start_time": "2021-12-04T09:33:33.023Z"
   },
   {
    "duration": 5,
    "start_time": "2021-12-04T09:41:02.727Z"
   },
   {
    "duration": 43,
    "start_time": "2021-12-04T09:41:10.047Z"
   },
   {
    "duration": 10,
    "start_time": "2021-12-04T09:41:13.684Z"
   },
   {
    "duration": 56,
    "start_time": "2021-12-04T09:41:15.977Z"
   },
   {
    "duration": 4343,
    "start_time": "2021-12-04T09:41:19.340Z"
   },
   {
    "duration": 11,
    "start_time": "2021-12-04T09:41:24.263Z"
   },
   {
    "duration": 9,
    "start_time": "2021-12-04T09:42:42.065Z"
   },
   {
    "duration": 21,
    "start_time": "2021-12-04T09:45:28.320Z"
   },
   {
    "duration": 18,
    "start_time": "2021-12-04T09:47:41.778Z"
   },
   {
    "duration": 28,
    "start_time": "2021-12-04T09:48:29.238Z"
   },
   {
    "duration": 11,
    "start_time": "2021-12-04T09:49:00.214Z"
   },
   {
    "duration": 12,
    "start_time": "2021-12-04T09:49:43.779Z"
   },
   {
    "duration": -6076,
    "start_time": "2021-12-04T09:51:34.419Z"
   },
   {
    "duration": 15,
    "start_time": "2021-12-04T09:51:30.900Z"
   },
   {
    "duration": 269,
    "start_time": "2021-12-04T09:52:31.036Z"
   },
   {
    "duration": 278,
    "start_time": "2021-12-04T09:52:41.614Z"
   },
   {
    "duration": 14,
    "start_time": "2021-12-04T09:52:47.994Z"
   },
   {
    "duration": 280,
    "start_time": "2021-12-04T09:53:17.808Z"
   },
   {
    "duration": 382,
    "start_time": "2021-12-04T09:53:27.173Z"
   },
   {
    "duration": 294,
    "start_time": "2021-12-04T09:53:49.706Z"
   },
   {
    "duration": 292,
    "start_time": "2021-12-04T09:54:08.076Z"
   },
   {
    "duration": 311,
    "start_time": "2021-12-04T09:54:19.605Z"
   },
   {
    "duration": 23,
    "start_time": "2021-12-04T09:54:49.879Z"
   },
   {
    "duration": 20,
    "start_time": "2021-12-04T09:55:07.168Z"
   },
   {
    "duration": 21,
    "start_time": "2021-12-04T10:04:55.676Z"
   },
   {
    "duration": 20,
    "start_time": "2021-12-04T10:07:34.006Z"
   },
   {
    "duration": 3,
    "start_time": "2021-12-04T10:08:42.223Z"
   },
   {
    "duration": 10,
    "start_time": "2021-12-04T10:12:28.158Z"
   },
   {
    "duration": 15,
    "start_time": "2021-12-04T10:14:15.032Z"
   },
   {
    "duration": 14,
    "start_time": "2021-12-04T10:24:34.293Z"
   },
   {
    "duration": 267,
    "start_time": "2021-12-04T10:24:55.328Z"
   },
   {
    "duration": 13,
    "start_time": "2021-12-04T10:25:01.683Z"
   },
   {
    "duration": 100,
    "start_time": "2021-12-04T10:29:33.251Z"
   },
   {
    "duration": 284,
    "start_time": "2021-12-04T10:29:53.556Z"
   },
   {
    "duration": 17,
    "start_time": "2021-12-04T10:30:05.878Z"
   },
   {
    "duration": 17,
    "start_time": "2021-12-04T10:30:22.886Z"
   },
   {
    "duration": 17,
    "start_time": "2021-12-04T10:31:21.285Z"
   },
   {
    "duration": 328,
    "start_time": "2021-12-04T10:33:07.998Z"
   },
   {
    "duration": 111,
    "start_time": "2021-12-04T10:34:04.497Z"
   },
   {
    "duration": 42,
    "start_time": "2021-12-04T10:34:16.725Z"
   },
   {
    "duration": 35,
    "start_time": "2021-12-04T10:34:22.121Z"
   },
   {
    "duration": 32,
    "start_time": "2021-12-04T10:34:34.659Z"
   },
   {
    "duration": 45,
    "start_time": "2021-12-04T10:34:41.133Z"
   },
   {
    "duration": 296,
    "start_time": "2021-12-04T10:34:57.067Z"
   },
   {
    "duration": 30,
    "start_time": "2021-12-04T10:35:30.880Z"
   },
   {
    "duration": 26,
    "start_time": "2021-12-04T10:37:38.994Z"
   },
   {
    "duration": 25,
    "start_time": "2021-12-04T10:38:58.567Z"
   },
   {
    "duration": 282,
    "start_time": "2021-12-04T10:41:39.844Z"
   },
   {
    "duration": 85,
    "start_time": "2021-12-04T10:41:53.685Z"
   },
   {
    "duration": 8,
    "start_time": "2021-12-04T10:42:00.583Z"
   },
   {
    "duration": 8,
    "start_time": "2021-12-04T10:42:33.343Z"
   },
   {
    "duration": 111,
    "start_time": "2021-12-04T10:42:45.369Z"
   },
   {
    "duration": 8,
    "start_time": "2021-12-04T10:42:58.536Z"
   },
   {
    "duration": -6041,
    "start_time": "2021-12-04T10:43:29.781Z"
   },
   {
    "duration": 3,
    "start_time": "2021-12-04T10:43:58.176Z"
   },
   {
    "duration": 28,
    "start_time": "2021-12-04T10:44:08.664Z"
   },
   {
    "duration": 329,
    "start_time": "2021-12-04T10:54:31.588Z"
   },
   {
    "duration": 287,
    "start_time": "2021-12-04T10:55:06.055Z"
   },
   {
    "duration": 293,
    "start_time": "2021-12-04T10:55:44.916Z"
   },
   {
    "duration": 284,
    "start_time": "2021-12-04T10:56:43.699Z"
   },
   {
    "duration": 28,
    "start_time": "2021-12-04T10:56:53.398Z"
   },
   {
    "duration": 294,
    "start_time": "2021-12-04T11:08:33.464Z"
   },
   {
    "duration": 27,
    "start_time": "2021-12-04T11:08:44.462Z"
   },
   {
    "duration": 93,
    "start_time": "2021-12-04T11:13:37.213Z"
   },
   {
    "duration": 27,
    "start_time": "2021-12-04T11:13:42.994Z"
   },
   {
    "duration": 289,
    "start_time": "2021-12-04T11:14:00.568Z"
   },
   {
    "duration": 27,
    "start_time": "2021-12-04T11:14:48.331Z"
   },
   {
    "duration": 35,
    "start_time": "2021-12-04T11:15:03.597Z"
   },
   {
    "duration": 31,
    "start_time": "2021-12-04T11:15:15.514Z"
   },
   {
    "duration": 30,
    "start_time": "2021-12-04T11:25:45.399Z"
   },
   {
    "duration": 26,
    "start_time": "2021-12-04T11:25:59.812Z"
   },
   {
    "duration": 29,
    "start_time": "2021-12-04T11:26:05.388Z"
   },
   {
    "duration": 42,
    "start_time": "2021-12-04T11:26:12.749Z"
   },
   {
    "duration": 44,
    "start_time": "2021-12-04T11:26:19.884Z"
   },
   {
    "duration": 67,
    "start_time": "2021-12-04T11:30:57.365Z"
   },
   {
    "duration": 1071,
    "start_time": "2021-12-04T11:31:21.715Z"
   },
   {
    "duration": 1170,
    "start_time": "2021-12-04T11:32:06.570Z"
   },
   {
    "duration": 1103,
    "start_time": "2021-12-04T11:32:38.077Z"
   },
   {
    "duration": 1082,
    "start_time": "2021-12-04T11:32:40.673Z"
   },
   {
    "duration": 1084,
    "start_time": "2021-12-04T11:33:03.529Z"
   },
   {
    "duration": 55,
    "start_time": "2021-12-04T11:33:19.497Z"
   },
   {
    "duration": 26,
    "start_time": "2021-12-04T11:33:35.531Z"
   },
   {
    "duration": 16,
    "start_time": "2021-12-04T11:34:06.171Z"
   },
   {
    "duration": 23,
    "start_time": "2021-12-04T11:34:23.054Z"
   },
   {
    "duration": 164,
    "start_time": "2021-12-04T11:34:54.281Z"
   },
   {
    "duration": 160,
    "start_time": "2021-12-04T11:35:01.347Z"
   },
   {
    "duration": 100,
    "start_time": "2021-12-04T11:35:22.499Z"
   },
   {
    "duration": 97,
    "start_time": "2021-12-04T11:35:35.241Z"
   },
   {
    "duration": 99,
    "start_time": "2021-12-04T11:36:18.112Z"
   },
   {
    "duration": 88,
    "start_time": "2021-12-04T11:36:35.836Z"
   },
   {
    "duration": 90,
    "start_time": "2021-12-04T11:36:44.756Z"
   },
   {
    "duration": 19,
    "start_time": "2021-12-04T11:36:51.402Z"
   },
   {
    "duration": 86,
    "start_time": "2021-12-04T11:36:57.715Z"
   },
   {
    "duration": 29,
    "start_time": "2021-12-04T11:37:01.394Z"
   },
   {
    "duration": 147,
    "start_time": "2021-12-04T11:37:16.319Z"
   },
   {
    "duration": 37,
    "start_time": "2021-12-04T11:37:47.253Z"
   },
   {
    "duration": 52,
    "start_time": "2021-12-04T11:38:06.030Z"
   },
   {
    "duration": 35,
    "start_time": "2021-12-04T11:38:36.766Z"
   },
   {
    "duration": 36,
    "start_time": "2021-12-04T11:39:10.448Z"
   },
   {
    "duration": 35,
    "start_time": "2021-12-04T11:39:37.874Z"
   },
   {
    "duration": 38,
    "start_time": "2021-12-04T11:40:54.956Z"
   },
   {
    "duration": 50,
    "start_time": "2021-12-04T11:44:50.485Z"
   },
   {
    "duration": 43,
    "start_time": "2021-12-04T11:45:20.532Z"
   },
   {
    "duration": 44,
    "start_time": "2021-12-04T11:45:57.244Z"
   },
   {
    "duration": 43,
    "start_time": "2021-12-04T11:46:12.053Z"
   },
   {
    "duration": 329,
    "start_time": "2021-12-04T11:50:36.089Z"
   },
   {
    "duration": 297,
    "start_time": "2021-12-04T11:50:47.322Z"
   },
   {
    "duration": 225,
    "start_time": "2021-12-04T11:51:39.057Z"
   },
   {
    "duration": 862,
    "start_time": "2021-12-04T11:51:49.521Z"
   },
   {
    "duration": 3,
    "start_time": "2021-12-04T11:54:28.597Z"
   },
   {
    "duration": 3,
    "start_time": "2021-12-04T11:54:33.387Z"
   },
   {
    "duration": 3,
    "start_time": "2021-12-04T11:54:53.131Z"
   },
   {
    "duration": 4,
    "start_time": "2021-12-04T11:55:12.786Z"
   },
   {
    "duration": 3,
    "start_time": "2021-12-04T11:55:21.681Z"
   },
   {
    "duration": 4,
    "start_time": "2021-12-04T11:55:24.339Z"
   },
   {
    "duration": 25,
    "start_time": "2021-12-04T11:55:35.114Z"
   },
   {
    "duration": 34,
    "start_time": "2021-12-04T11:55:36.877Z"
   },
   {
    "duration": 27,
    "start_time": "2021-12-04T11:55:37.716Z"
   },
   {
    "duration": 28,
    "start_time": "2021-12-04T11:55:39.121Z"
   },
   {
    "duration": 26,
    "start_time": "2021-12-04T11:55:41.183Z"
   },
   {
    "duration": 4,
    "start_time": "2021-12-04T11:55:42.700Z"
   },
   {
    "duration": 5,
    "start_time": "2021-12-04T11:55:50.624Z"
   },
   {
    "duration": 4,
    "start_time": "2021-12-04T11:56:27.980Z"
   },
   {
    "duration": 4,
    "start_time": "2021-12-04T11:56:36.683Z"
   },
   {
    "duration": 82,
    "start_time": "2021-12-04T15:05:34.847Z"
   },
   {
    "duration": 78,
    "start_time": "2021-12-04T15:08:20.687Z"
   },
   {
    "duration": 830,
    "start_time": "2021-12-04T18:18:18.371Z"
   },
   {
    "duration": 88,
    "start_time": "2021-12-04T18:21:36.190Z"
   },
   {
    "duration": 79,
    "start_time": "2021-12-04T18:22:09.019Z"
   },
   {
    "duration": 78,
    "start_time": "2021-12-04T18:22:52.209Z"
   },
   {
    "duration": 78,
    "start_time": "2021-12-04T18:23:23.965Z"
   },
   {
    "duration": 319,
    "start_time": "2021-12-04T18:24:19.571Z"
   },
   {
    "duration": 274,
    "start_time": "2021-12-04T18:28:39.395Z"
   },
   {
    "duration": 368,
    "start_time": "2021-12-04T18:29:06.721Z"
   },
   {
    "duration": 45,
    "start_time": "2021-12-04T18:29:53.552Z"
   },
   {
    "duration": 42,
    "start_time": "2021-12-04T18:31:23.007Z"
   },
   {
    "duration": 15,
    "start_time": "2021-12-04T18:31:36.059Z"
   },
   {
    "duration": 17,
    "start_time": "2021-12-04T18:32:13.491Z"
   },
   {
    "duration": 16,
    "start_time": "2021-12-04T18:32:20.516Z"
   },
   {
    "duration": 79,
    "start_time": "2021-12-04T18:32:59.043Z"
   },
   {
    "duration": 43,
    "start_time": "2021-12-04T18:33:26.963Z"
   },
   {
    "duration": 19,
    "start_time": "2021-12-04T18:33:32.866Z"
   },
   {
    "duration": 18,
    "start_time": "2021-12-04T18:34:29.042Z"
   },
   {
    "duration": 16,
    "start_time": "2021-12-04T18:34:40.583Z"
   },
   {
    "duration": 20,
    "start_time": "2021-12-04T18:34:50.918Z"
   },
   {
    "duration": 16,
    "start_time": "2021-12-04T18:34:57.258Z"
   },
   {
    "duration": 16,
    "start_time": "2021-12-04T18:35:04.075Z"
   },
   {
    "duration": 70,
    "start_time": "2021-12-04T18:37:19.084Z"
   },
   {
    "duration": 87,
    "start_time": "2021-12-04T18:38:03.840Z"
   },
   {
    "duration": 87,
    "start_time": "2021-12-04T18:38:23.560Z"
   },
   {
    "duration": 73,
    "start_time": "2021-12-04T18:38:46.223Z"
   },
   {
    "duration": 48,
    "start_time": "2021-12-04T18:38:54.884Z"
   },
   {
    "duration": 48,
    "start_time": "2021-12-04T18:38:57.283Z"
   },
   {
    "duration": 65,
    "start_time": "2021-12-04T18:39:06.843Z"
   },
   {
    "duration": 47,
    "start_time": "2021-12-04T18:39:10.607Z"
   },
   {
    "duration": 294,
    "start_time": "2021-12-04T18:39:41.723Z"
   },
   {
    "duration": 40,
    "start_time": "2021-12-04T18:39:43.195Z"
   },
   {
    "duration": 18,
    "start_time": "2021-12-04T18:39:44.439Z"
   },
   {
    "duration": 48,
    "start_time": "2021-12-04T18:39:47.527Z"
   },
   {
    "duration": 85,
    "start_time": "2021-12-04T18:39:55.536Z"
   },
   {
    "duration": 90,
    "start_time": "2021-12-04T18:40:22.803Z"
   },
   {
    "duration": 87,
    "start_time": "2021-12-04T18:40:32.144Z"
   },
   {
    "duration": 72,
    "start_time": "2021-12-04T18:40:39.956Z"
   },
   {
    "duration": 17,
    "start_time": "2021-12-04T18:40:42.434Z"
   },
   {
    "duration": 69,
    "start_time": "2021-12-04T18:40:45.024Z"
   },
   {
    "duration": 320,
    "start_time": "2021-12-04T18:43:51.388Z"
   },
   {
    "duration": 40,
    "start_time": "2021-12-04T18:43:54.090Z"
   },
   {
    "duration": 18,
    "start_time": "2021-12-04T18:44:05.251Z"
   },
   {
    "duration": 66,
    "start_time": "2021-12-04T18:44:22.803Z"
   },
   {
    "duration": 23,
    "start_time": "2021-12-04T18:44:23.859Z"
   },
   {
    "duration": 4758,
    "start_time": "2021-12-04T18:45:29.277Z"
   },
   {
    "duration": 348,
    "start_time": "2021-12-04T18:48:39.738Z"
   },
   {
    "duration": 271,
    "start_time": "2021-12-04T18:49:14.958Z"
   },
   {
    "duration": 267,
    "start_time": "2021-12-04T18:50:19.122Z"
   },
   {
    "duration": 90,
    "start_time": "2021-12-04T18:51:40.048Z"
   },
   {
    "duration": 247,
    "start_time": "2021-12-04T18:51:49.407Z"
   },
   {
    "duration": 276,
    "start_time": "2021-12-04T18:52:03.027Z"
   },
   {
    "duration": 287,
    "start_time": "2021-12-04T18:52:21.238Z"
   },
   {
    "duration": 31,
    "start_time": "2021-12-04T18:52:28.331Z"
   },
   {
    "duration": 46,
    "start_time": "2021-12-04T18:52:33.061Z"
   },
   {
    "duration": 51,
    "start_time": "2021-12-04T18:52:33.836Z"
   },
   {
    "duration": 40,
    "start_time": "2021-12-04T18:52:35.433Z"
   },
   {
    "duration": 38,
    "start_time": "2021-12-04T18:52:40.871Z"
   },
   {
    "duration": 40,
    "start_time": "2021-12-04T18:54:14.884Z"
   },
   {
    "duration": 85,
    "start_time": "2021-12-04T18:56:09.455Z"
   },
   {
    "duration": 286,
    "start_time": "2021-12-04T18:56:17.438Z"
   },
   {
    "duration": 310,
    "start_time": "2021-12-04T18:56:32.352Z"
   },
   {
    "duration": 313,
    "start_time": "2021-12-04T18:56:46.816Z"
   },
   {
    "duration": 285,
    "start_time": "2021-12-04T18:58:13.130Z"
   },
   {
    "duration": 292,
    "start_time": "2021-12-04T18:58:36.788Z"
   },
   {
    "duration": 324,
    "start_time": "2021-12-04T19:00:18.753Z"
   },
   {
    "duration": 41,
    "start_time": "2021-12-04T19:00:25.923Z"
   },
   {
    "duration": 46,
    "start_time": "2021-12-04T19:01:11.067Z"
   },
   {
    "duration": 43,
    "start_time": "2021-12-04T19:02:11.598Z"
   },
   {
    "duration": 44,
    "start_time": "2021-12-04T19:02:17.179Z"
   },
   {
    "duration": 45,
    "start_time": "2021-12-04T19:02:28.630Z"
   },
   {
    "duration": 41,
    "start_time": "2021-12-04T19:02:32.883Z"
   },
   {
    "duration": 57,
    "start_time": "2021-12-04T19:03:52.294Z"
   },
   {
    "duration": 318,
    "start_time": "2021-12-04T19:05:14.038Z"
   },
   {
    "duration": 44,
    "start_time": "2021-12-04T19:05:43.103Z"
   },
   {
    "duration": 40,
    "start_time": "2021-12-04T19:05:54.043Z"
   },
   {
    "duration": 42,
    "start_time": "2021-12-04T19:05:59.957Z"
   },
   {
    "duration": 43,
    "start_time": "2021-12-04T19:06:24.608Z"
   },
   {
    "duration": 1128,
    "start_time": "2021-12-05T04:37:54.648Z"
   },
   {
    "duration": 445,
    "start_time": "2021-12-05T04:39:58.997Z"
   },
   {
    "duration": 357,
    "start_time": "2021-12-05T04:40:10.870Z"
   },
   {
    "duration": 19,
    "start_time": "2021-12-05T04:40:18.153Z"
   },
   {
    "duration": 111,
    "start_time": "2021-12-05T04:40:37.954Z"
   },
   {
    "duration": 126,
    "start_time": "2021-12-05T04:41:42.309Z"
   },
   {
    "duration": 1162,
    "start_time": "2021-12-19T14:38:25.112Z"
   },
   {
    "duration": 331,
    "start_time": "2021-12-19T14:38:56.594Z"
   },
   {
    "duration": 346,
    "start_time": "2021-12-19T14:39:01.529Z"
   },
   {
    "duration": 70,
    "start_time": "2021-12-19T17:09:28.374Z"
   }
  ],
  "kernelspec": {
   "display_name": "Python 3",
   "language": "python",
   "name": "python3"
  },
  "language_info": {
   "codemirror_mode": {
    "name": "ipython",
    "version": 3
   },
   "file_extension": ".py",
   "mimetype": "text/x-python",
   "name": "python",
   "nbconvert_exporter": "python",
   "pygments_lexer": "ipython3",
   "version": "3.7.0"
  },
  "toc": {
   "base_numbering": 1,
   "nav_menu": {},
   "number_sections": true,
   "sideBar": true,
   "skip_h1_title": true,
   "title_cell": "Table of Contents",
   "title_sidebar": "Contents",
   "toc_cell": false,
   "toc_position": {},
   "toc_section_display": true,
   "toc_window_display": false
  }
 },
 "nbformat": 4,
 "nbformat_minor": 2
}
