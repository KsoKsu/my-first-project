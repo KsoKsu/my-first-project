{
 "cells": [
  {
   "cell_type": "markdown",
   "metadata": {
    "toc": true
   },
   "source": [
    "<h1>Содержание<span class=\"tocSkip\"></span></h1>\n",
    "<div class=\"toc\"><ul class=\"toc-item\"><li><span><a href=\"#Изучение-данных-из-файла\" data-toc-modified-id=\"Изучение-данных-из-файла-1\"><span class=\"toc-item-num\">1&nbsp;&nbsp;</span>Изучение данных из файла</a></span><ul class=\"toc-item\"><li><span><a href=\"#Вывод\" data-toc-modified-id=\"Вывод-1.1\"><span class=\"toc-item-num\">1.1&nbsp;&nbsp;</span>Вывод</a></span></li></ul></li><li><span><a href=\"#Предобработка-данных\" data-toc-modified-id=\"Предобработка-данных-2\"><span class=\"toc-item-num\">2&nbsp;&nbsp;</span>Предобработка данных</a></span><ul class=\"toc-item\"><li><span><a href=\"#Вывод\" data-toc-modified-id=\"Вывод-2.1\"><span class=\"toc-item-num\">2.1&nbsp;&nbsp;</span>Вывод</a></span></li></ul></li><li><span><a href=\"#Расчёты-и-добавление-результатов-в-таблицу\" data-toc-modified-id=\"Расчёты-и-добавление-результатов-в-таблицу-3\"><span class=\"toc-item-num\">3&nbsp;&nbsp;</span>Расчёты и добавление результатов в таблицу</a></span></li><li><span><a href=\"#Исследовательский-анализ-данных\" data-toc-modified-id=\"Исследовательский-анализ-данных-4\"><span class=\"toc-item-num\">4&nbsp;&nbsp;</span>Исследовательский анализ данных</a></span><ul class=\"toc-item\"><li><span><a href=\"#Вывод\" data-toc-modified-id=\"Вывод-4.1\"><span class=\"toc-item-num\">4.1&nbsp;&nbsp;</span>Вывод</a></span><ul class=\"toc-item\"><li><span><a href=\"#Вывод\" data-toc-modified-id=\"Вывод-4.1.1\"><span class=\"toc-item-num\">4.1.1&nbsp;&nbsp;</span>Вывод</a></span></li></ul></li><li><span><a href=\"#Вывод\" data-toc-modified-id=\"Вывод-4.2\"><span class=\"toc-item-num\">4.2&nbsp;&nbsp;</span>Вывод</a></span></li><li><span><a href=\"#Вывод\" data-toc-modified-id=\"Вывод-4.3\"><span class=\"toc-item-num\">4.3&nbsp;&nbsp;</span>Вывод</a></span></li><li><span><a href=\"#Вывод\" data-toc-modified-id=\"Вывод-4.4\"><span class=\"toc-item-num\">4.4&nbsp;&nbsp;</span>Вывод</a></span></li><li><span><a href=\"#Вывод\" data-toc-modified-id=\"Вывод-4.5\"><span class=\"toc-item-num\">4.5&nbsp;&nbsp;</span>Вывод</a></span></li><li><span><a href=\"#Вывод\" data-toc-modified-id=\"Вывод-4.6\"><span class=\"toc-item-num\">4.6&nbsp;&nbsp;</span>Вывод</a></span></li><li><span><a href=\"#Вывод\" data-toc-modified-id=\"Вывод-4.7\"><span class=\"toc-item-num\">4.7&nbsp;&nbsp;</span>Вывод</a></span></li><li><span><a href=\"#Вывод\" data-toc-modified-id=\"Вывод-4.8\"><span class=\"toc-item-num\">4.8&nbsp;&nbsp;</span>Вывод</a></span></li><li><span><a href=\"#Вывод\" data-toc-modified-id=\"Вывод-4.9\"><span class=\"toc-item-num\">4.9&nbsp;&nbsp;</span>Вывод</a></span></li><li><span><a href=\"#Вывод\" data-toc-modified-id=\"Вывод-4.10\"><span class=\"toc-item-num\">4.10&nbsp;&nbsp;</span>Вывод</a></span></li></ul></li><li><span><a href=\"#Общий-вывод\" data-toc-modified-id=\"Общий-вывод-5\"><span class=\"toc-item-num\">5&nbsp;&nbsp;</span>Общий вывод</a></span></li><li><span><a href=\"#Чек-лист-готовности-проекта\" data-toc-modified-id=\"Чек-лист-готовности-проекта-6\"><span class=\"toc-item-num\">6&nbsp;&nbsp;</span>Чек-лист готовности проекта</a></span></li></ul></div>"
   ]
  },
  {
   "cell_type": "markdown",
   "metadata": {},
   "source": [
    "# Исследование объявлений о продаже квартир\n",
    "\n",
    "В вашем распоряжении данные сервиса Яндекс.Недвижимость — архив объявлений о продаже квартир в Санкт-Петербурге и соседних населённых пунктах за несколько лет. Нужно научиться определять рыночную стоимость объектов недвижимости. Ваша задача — установить параметры. Это позволит построить автоматизированную систему: она отследит аномалии и мошенническую деятельность. \n",
    "\n",
    "По каждой квартире на продажу доступны два вида данных. Первые вписаны пользователем, вторые получены автоматически на основе картографических данных. Например, расстояние до центра, аэропорта, ближайшего парка и водоёма. "
   ]
  },
  {
   "cell_type": "markdown",
   "metadata": {},
   "source": [
    "## Изучение данных из файла"
   ]
  },
  {
   "cell_type": "code",
   "execution_count": null,
   "metadata": {},
   "outputs": [],
   "source": [
    "import pandas as pd #вызов библиотеки pandas и сохранение как 'pd'\n",
    "import seaborn as sns \n",
    "#чтение файла, указаваем в качестве разделителя знак табуляции \\t\n",
    "try:\n",
    "    data = pd.read_csv('***')  # Локальный путь\n",
    "except:\n",
    "    data = pd.read_csv('***') # Серверный путь \n",
    "data.info() #общая информация о данных\n",
    "print(data.head(10)) #вывели на экран 10 первых значений, чтобы ознакомиться с таблицей\n",
    "for col in data.columns:\n",
    "    print(\"-----------------------------\")\n",
    "    print(col)\n",
    "    display(data[col].describe(include=None))\n",
    "    display(data[col].value_counts()) #оценим значения данных с помощью функци describe и value_counts\n",
    "\n",
    "data.isna().sum()*100/len(data)\n",
    "\n"
   ]
  },
  {
   "cell_type": "markdown",
   "metadata": {},
   "source": [
    "### Вывод"
   ]
  },
  {
   "cell_type": "markdown",
   "metadata": {},
   "source": [
    "Из полученной информации можно сделать вывод, что всего у нас 23699 строк. Пропуски есть в столбцах: ceiling_height, floors_total, living_area, is_apartment, kitchen_area, balcony, locality_name, airports_nearest, cityCenters_nearest, parks_around3000, parks_nearest, ponds_around3000, ponds_nearest, days_exposition. \n",
    "\n",
    "Также делаем вывод о типе данных: столбцы total_images, rooms, floor,   - имеют целочисленные значения; studio, open_plan - булевые значения; first_day_exposition, is_apartment, locality_name - текстовые или смешанные числовые и нечисловые значения; остальные столбцы - числа с плавающей точкой.\n",
    "\n",
    "В данных с комнатами минимальное значение = 0, но это странно, возможно так обозначается квартира-студия. Максимально количество комнат = 19, это, конечно, возможно, но лучше проверить.\n",
    "Высота потолковтакже настораживает, min =1м (это подвал?), максимальное значение 100м (очень странно).\n",
    "Минимальные значения жилой площади 2м^2, в таких условия невозможно жить.\n",
    "Расстояние до аэропорта не можетбыть равно 0.\n",
    "Посмотрели сколько процентовотсутствующих данных по каждому столбцу.\n",
    "Можно сделать вывод, что во многих столбцах есть выбросы истранные значения, будем разбираться.\n",
    "\n",
    "\n",
    "\n",
    "\n",
    "\n",
    "\n"
   ]
  },
  {
   "cell_type": "markdown",
   "metadata": {},
   "source": [
    "## Предобработка данных"
   ]
  },
  {
   "cell_type": "code",
   "execution_count": null,
   "metadata": {},
   "outputs": [],
   "source": [
    "#Переменуем столбец cityCenters_nearest\n",
    "data.rename(columns={ 'cityCenters_nearest': 'city_centers_nearest' } , inplace = True)\n",
    "#Заменим путые знаечния в столбце balcony на 0\n",
    "data['balcony'] = data['balcony'].fillna(0)\n",
    "\n",
    "#Исключаем строки с пропущенными этажами и названиями нас.пункта, так как их очень мало и их отсутствие не особо скажется на результаты исследования.\n",
    "data = data[~data['floors_total'].isnull()]\n",
    "data = data[~data['locality_name'].isnull()]\n",
    "\n",
    "\n",
    "#Приведем дату в удобный формат\n",
    "data['first_day_exposition'] = pd.to_datetime(data['first_day_exposition'], format='%Y-%m-%dT')\n",
    "#Поработаем со столбцом locality_name\n",
    "#Для начала приведем все символы в столбце к нижнему регистру:\n",
    "data['locality_name'] = data['locality_name'].str.lower()\n",
    "print(data['locality_name'].unique()) #получим уникальные значения столбца\n",
    "#для удобства удалим слова:\n",
    "words_del = ['деревня ', 'городской посёлок ', 'коттеджный поселок ', 'коттеджный посёлок ', 'поселок станции ','село ', 'садовое товарищество ', 'садоводческое некоммерческое товарищество ', 'посёлок станции ', 'посёлок при железнодорожной станции','поселок городского типа ', 'посёлок городского типа ', 'посёлок ', 'поселок ']\n",
    "for word in words_del:  \n",
    "    data['locality_name'] = data['locality_name'].str.replace(word, '')\n",
    "\n",
    "print(data['locality_name'].unique()) #получим уникальные значения столбца\n",
    "locality_name_stat = data.pivot_table(index='locality_name', values='city_centers_nearest') \n",
    "#print(locality_name_stat)\n",
    "\n",
    "\n",
    "#В столбце in_apartament заменим все пустые строки на значения False\n",
    "data['is_apartment'] = data['is_apartment'].fillna(False)\n",
    "\n",
    "#Пропуски в ceiling_height, airports_nearest, city_centers_nearest, parks_around3000, parks_nearest, ponds_around3000,ponds_nearest  заменим медианным значением\n",
    "data['ceiling_height'] = data['ceiling_height'].fillna(data['ceiling_height'].median())\n",
    "data['airports_nearest'] = data['airports_nearest'].fillna(data['airports_nearest'].median())\n",
    "data['city_centers_nearest'] = data['city_centers_nearest'].fillna(data['city_centers_nearest'].median())\n",
    "data['parks_around3000'] = data['parks_around3000'].fillna(data['parks_around3000'].median())\n",
    "data['parks_nearest'] = data['parks_nearest'].fillna(data['parks_nearest'].median())\n",
    "data['ponds_around3000'] = data['ponds_around3000'].fillna(data['ponds_around3000'].median())\n",
    "data['ponds_nearest'] = data['ponds_nearest'].fillna(data['ponds_nearest'].median())\n",
    "\n",
    "#Проработаем чило пропусков в 'days_exposition'\n",
    "data.query('days_exposition.isna()')['first_day_exposition'].hist(bins=30)\n",
    "max_data = data['first_day_exposition'].max()\n",
    "data.loc[data['days_exposition'].isna(), 'days_exposition'] = (max_data - data.loc[data['days_exposition'].isna(),'first_day_exposition']).dt.days \n",
    "\n",
    "#Заполянем living_area и kitchen_area медианой с разбивкой по количеству комнат\n",
    "data['living_ratio'] = data['living_area']/data['total_area']\n",
    "data['living_ratio'] = data['living_area'].fillna(data['living_ratio'].median()) \n",
    "#запоолняем пропуски жилой площади\n",
    "isna_filter = data['living_area'].isna()\n",
    "data.loc[isna_filter, 'living_area'] = data.loc[isna_filter, 'total_area']*data.loc[isna_filter, 'living_ratio']\n",
    "\n",
    "\n",
    "data['kitchen_ratio'] = data['kitchen_area']/data['total_area']\n",
    "data['kitchen_ratio'] = data['kitchen_area'].fillna(data['kitchen_ratio'].median())\n",
    "#запоолняем пропуски площади кухни\n",
    "isna_filter = data['kitchen_area'].isna()\n",
    "data.loc[isna_filter, 'kitchen_area'] = data.loc[isna_filter, 'total_area']*data.loc[isna_filter, 'kitchen_ratio']\n",
    "\n",
    "data.info()\n",
    "\n",
    "\n"
   ]
  },
  {
   "cell_type": "code",
   "execution_count": null,
   "metadata": {},
   "outputs": [],
   "source": [
    "#Проверим количество дубликатов\n",
    "print('Количество дубликатов', data.duplicated().sum())\n",
    "#Чтобы легче было работать с числами, заменим вещественные типы данных на целочисленные\n",
    "data[['last_price', 'floors_total', 'balcony', 'airports_nearest', 'city_centers_nearest', 'parks_around3000', 'parks_nearest', 'ponds_around3000', 'ponds_nearest', 'days_exposition']] = data[['last_price', 'floors_total', 'balcony', 'airports_nearest', 'city_centers_nearest', 'parks_around3000', 'parks_nearest', 'ponds_around3000', 'ponds_nearest', 'days_exposition']].astype(int)\n",
    "data.info()"
   ]
  },
  {
   "cell_type": "markdown",
   "metadata": {},
   "source": [
    "### Вывод\n",
    "В предобработке данных мы заменили все пропущенные значения в столбце с балконами на 0, так как скорее всего в данных домах нет балконов, поэтому вписывать ничего и не стали.\n",
    "\n",
    "Исключили строки с пропущенными этажами и названиями нас.пункта, так как их очень мало и их отсутствие не особо скажется на результаты исследования.\n",
    "\n",
    "Привели столбец locality_name к обшему виду, чтобы названия одного и того же насселенного пункта не отличалось.\n",
    "\n",
    "В столбце in_apartament заменили все пустые строки на значения False, так как скорее всего значение True указали люди, у которых действительно аппартаменты.\n",
    "\n",
    "Пропуски в ceiling_height, airports_nearest, city_centers_nearest, parks_around3000, parks_nearest, ponds_around3000,ponds_nearest  заменим медианным значением. А выбросы мы рассмотрим уже в другом пункте проекта.\n",
    "\n",
    "Построив гистрограмму пропущенных значений  в 'days_exposition' и first_day_exposition - сделали вывод, что количество пропусков увеличилось в последних опубликованных объявлениях, значит скорей всего эти объявления еще не закрыты. Поэтому мы взяли крайнюю(максимальную) дату объявления и будем считать её датой закрытия.\n",
    "\n",
    "Заполянили living_area и kitchen_area медианой с разбивкой по количеству комнат.\n",
    "\n",
    "После проверки уедились, что пропущенных значений и дубликатов в наших данных нет.\n",
    "\n",
    "\n",
    "Для удобства рассчетов и визуализации заменили данные с плавающей точкой на целочисленные, где это было возможно.\n",
    "\n",
    "\n",
    "\n",
    "\n"
   ]
  },
  {
   "cell_type": "markdown",
   "metadata": {},
   "source": [
    "## Расчёты и добавление результатов в таблицу"
   ]
  },
  {
   "cell_type": "code",
   "execution_count": null,
   "metadata": {},
   "outputs": [],
   "source": [
    "#Добавим в таблицу цену за квадратный метр\n",
    "data['price_metre'] = data['last_price']/data['total_area']\n",
    "#Создаим столбцы: день недели, месяц и год публикации\n",
    "data['year_data_exposition']=pd.DatetimeIndex(data['first_day_exposition']).year\n",
    "#data['month_data_exposition']=pd.DatetimeIndex(data['first_day_exposition']).month\n",
    "#data['day_data_exposition']=pd.DatetimeIndex(data['first_day_exposition']).day\n",
    "data['month_data_exposition']= pd.to_datetime(data['first_day_exposition'])\n",
    "data['month_data_exposition'] = data['month_data_exposition'].dt.month_name()\n",
    "data['day_data_exposition']= pd.to_datetime(data['first_day_exposition'])\n",
    "data['day_data_exposition'] = data['day_data_exposition'].dt.day_name()\n",
    "\n",
    "\n",
    "#проведем категоризацию по этажам\n",
    "def floor_group(row):\n",
    "    if row['floor'] == 1:\n",
    "        return 'первый'\n",
    "    if row['floor'] == row['floors_total']:\n",
    "        return 'последний'\n",
    "    return 'другой'\n",
    "data['floor_group'] = data.apply(floor_group, axis=1)\n",
    "\n",
    "#Добавим в таблицу соотношение жилой и общей площади, а также отношение площади кухни к общей\n",
    "data['living_ratio'] = data['living_area']/data['total_area']\n",
    "data['kitchen_ratio'] = data['kitchen_area']/data['total_area']\n",
    "\n",
    "#проверим выполнение функции\n",
    "display(data.head(15)) \n",
    "\n",
    "\n",
    "\n",
    "\n",
    "\n",
    "\n"
   ]
  },
  {
   "cell_type": "markdown",
   "metadata": {},
   "source": [
    "## Исследовательский анализ данных"
   ]
  },
  {
   "cell_type": "code",
   "execution_count": null,
   "metadata": {},
   "outputs": [],
   "source": [
    "#Построим гистограммы для каждого из параметров: площадь, цена, число комнат и высота потолков\n",
    "import matplotlib.pyplot as plt\n",
    "pd.Series(data['total_area']).hist(bins=100,figsize=(15,5))\n",
    "\n",
    "# Add title and axis names\n",
    "plt.title('Гистограмма по параметру \"Площадь\"')\n",
    "plt.xlabel('total_area')\n",
    "plt.ylabel('values')\n",
    "plt.show()"
   ]
  },
  {
   "cell_type": "code",
   "execution_count": null,
   "metadata": {},
   "outputs": [],
   "source": [
    "pd.Series(data['total_area']).hist(bins=100, range=(0,200),figsize=(15,5)) # возьмем интервал от о до 200, где больше всего распределены значения\n",
    "\n",
    "# Add title and axis names\n",
    "plt.title('Гистограмма по параметру \"Площадь\" в интервале от  0 до 200м2')\n",
    "plt.xlabel('total_area')\n",
    "plt.ylabel('values')\n",
    "plt.show()\n",
    "\n",
    "\n",
    "print(data['total_area'].describe())"
   ]
  },
  {
   "cell_type": "code",
   "execution_count": null,
   "metadata": {},
   "outputs": [],
   "source": [
    "pd.Series(data['last_price']/1000000).hist(bins=100, figsize=(15,5)) #для удобства визуализации - поделим цену на 1000000\n",
    "\n",
    "# Add title and axis names\n",
    "plt.title('Гистограмма по параметру \"Цена\"')\n",
    "plt.xlabel('last_price')\n",
    "plt.ylabel('values')\n",
    "plt.show()\n"
   ]
  },
  {
   "cell_type": "code",
   "execution_count": null,
   "metadata": {},
   "outputs": [],
   "source": [
    "pd.Series(data['last_price']/1000000).hist(bins=100, range=(0,20), figsize=(15,5)) # возьмем интервал от о до 20 миллионов\n",
    "# Add title and axis names\n",
    "plt.title('Гистограмма по параметру \"Цена\" в интервале от  0 до 20млн')\n",
    "plt.xlabel('last_price')\n",
    "plt.ylabel('values')\n",
    "plt.show()\n",
    "\n",
    "\n",
    "print(data['last_price'].describe())\n"
   ]
  },
  {
   "cell_type": "code",
   "execution_count": null,
   "metadata": {},
   "outputs": [],
   "source": [
    "pd.Series(data['rooms']).hist(bins=100, figsize=(15,5))\n",
    "# Add title and axis names\n",
    "plt.title('Гистограмма по параметру \"Количество комнат\"')\n",
    "plt.xlabel('rooms')\n",
    "plt.ylabel('values')\n",
    "plt.show()\n",
    "\n",
    "print(data['rooms'].describe())\n"
   ]
  },
  {
   "cell_type": "code",
   "execution_count": null,
   "metadata": {},
   "outputs": [],
   "source": [
    "pd.Series(data['ceiling_height']).hist(bins=100, figsize=(15,5))\n",
    "# Add title and axis names\n",
    "plt.title('Гистограмма по параметру \"Высота потолков\"')\n",
    "plt.xlabel('ceiling_height')\n",
    "plt.ylabel('values')\n",
    "plt.show()\n",
    "\n",
    "\n"
   ]
  },
  {
   "cell_type": "code",
   "execution_count": null,
   "metadata": {},
   "outputs": [],
   "source": [
    "pd.Series(data['ceiling_height']).hist(bins=100,range=(2,3.5), figsize=(15,5)) # возьмем интервал от 2 до 3.5, где больше всего распределены значения\n",
    "# Add title and axis names\n",
    "plt.title('Гистограмма по параметру \"Высота потолков\" в интервале от  3 до 3,5м')\n",
    "plt.xlabel('ceiling_height')\n",
    "plt.ylabel('values')\n",
    "plt.show()\n",
    "\n",
    "\n",
    "print(data['ceiling_height'].describe())\n",
    "\n"
   ]
  },
  {
   "cell_type": "markdown",
   "metadata": {},
   "source": [
    "### Вывод\n",
    "Больше всего квартир продано с площадью около 45 м2\n",
    "\n",
    "Чаще всего покупают квартиры стоимостью около 4млн\n",
    "\n",
    "1 и 2-х комнатные квартиры в топе\n",
    "\n",
    "Чаще покупают квартиры с высотой потолков около 2,65м"
   ]
  },
  {
   "cell_type": "code",
   "execution_count": null,
   "metadata": {},
   "outputs": [],
   "source": [
    "#Для изучения времени продажи квартиры построим гистрограмму и посчитаем среднее и медиану.\n",
    "pd.Series(data['days_exposition']).hist(bins=100, figsize=(15,5))\n",
    "\n",
    "plt.title('Гистограмма по параметру \"Количество дней размещения объявления\"')\n",
    "plt.xlabel('days_exposition')\n",
    "plt.ylabel('values')\n",
    "plt.show()\n",
    "\n",
    "\n",
    "\n"
   ]
  },
  {
   "cell_type": "code",
   "execution_count": null,
   "metadata": {},
   "outputs": [],
   "source": [
    "data['days_exposition'].plot(kind = 'hist', bins=100, range=(0,150), xticks = range(0,150,5), figsize=(15,5))\n",
    "\n",
    "plt.title('Гистограмма по параметру \"Количество дней размещения объявления\" в интервале от 0 до 150дней')\n",
    "plt.xlabel('days_exposition')\n",
    "plt.ylabel('values')\n",
    "plt.show()\n",
    "\n",
    "print(data['days_exposition'].describe())"
   ]
  },
  {
   "cell_type": "code",
   "execution_count": null,
   "metadata": {},
   "outputs": [],
   "source": [
    "\n",
    "\n",
    "print(data['days_exposition'].describe())\n",
    "\n"
   ]
  },
  {
   "cell_type": "markdown",
   "metadata": {},
   "source": [
    "#### Вывод\n",
    "Среднее и медиана очень отличаются, значит в значениях есть выбросы с большим количеством дней публикации построив гистограмму, мы видим, что пик приходится на другие числа: 45 и 60 дней.\n",
    "\n",
    "Можно считать, что продажи пошли очень быстро, если были проданы меньше, чем за 40 дней и очень долгими, если были проданы более, чем за 600 дней, так как гистограмма стремится к 0 (значений в промежутке более 600 дней - очень мало).\n",
    "\n"
   ]
  },
  {
   "cell_type": "code",
   "execution_count": null,
   "metadata": {},
   "outputs": [],
   "source": [
    "#Найдем редкие и выбивающиеся значения\n",
    "plt.figure(figsize=(15,15))\n",
    "data.boxplot(column = ['days_exposition', 'total_area'])\n",
    "plt.ylim(0, 1600)\n",
    "plt.title('Диаграмма размаха')\n",
    "plt.ylabel('values')\n",
    "plt.show()\n",
    "\n",
    "plt.figure(figsize=(15,15))\n",
    "data.boxplot(column = ['rooms','ceiling_height' ])\n",
    "plt.ylim(0, 50)\n",
    "plt.ylim(0, 35)\n",
    "plt.title('Диаграмма размаха')\n",
    "plt.ylabel('values')\n",
    "plt.show()\n",
    "\n",
    "\n",
    "data['last_price_mln'] = data['last_price']/1000000\n",
    "plt.figure(figsize=(15,15))\n",
    "plt.ylim(0, 100)\n",
    "data.boxplot(column = ['last_price_mln'])\n",
    "plt.title('Диаграмма размаха')\n",
    "plt.ylabel('values')\n",
    "plt.show()"
   ]
  },
  {
   "cell_type": "markdown",
   "metadata": {},
   "source": [
    "### Вывод\n",
    "\n",
    "По диаграмме размаха мы можем сделать вывод, что большинство значений лежит в диапозоне до 300 дней, что выглядит правдоподобно. А первый квартиль - менее 43 дней.\n",
    "Значения, которые отсёк верхний «ус», — редкие, это видно по гистограмме, насколько медиана не стремится к длинному хвосту высоких значений. \n"
   ]
  },
  {
   "cell_type": "code",
   "execution_count": null,
   "metadata": {},
   "outputs": [],
   "source": [
    "#Сравним две гистограммы: в data_new Уберем редкие значения: более 580 дней, площадь квартиры больше 500м2, комнат больше 7, высота потолковбольше 3.5м и ценой больше 40млн\n",
    "data_new = data.query('days_exposition < 580  and 10 < total_area < 800 and rooms < 7 and 2 < ceiling_height < 5 and last_price_mln < 40' ) \n",
    "#data['days_exposition'].hist(bins=100, range=(0,1500), figsize=(15,5))\n",
    "#plt.title('Гистограмма по параметру \"Количество дней размещения объявления\"')\n",
    "#plt.xlabel('days_exposition')\n",
    "#plt.ylabel('values')\n",
    "#plt.show()\n",
    "\n",
    "#data_new['days_exposition'].hist(bins=100, range=(0,1500),figsize=(15,5))\n",
    "#plt.title('Гистограмма по параметру \"Количество дней размещения объявления\" без выбросов')\n",
    "#plt.xlabel('days_exposition')\n",
    "#plt.ylabel('values')\n",
    "#plt.show()\n",
    "\n",
    "\n",
    "print(data_new['days_exposition'].describe())\n",
    "print('------------------------------------')\n",
    "print(data_new['total_area'].describe())\n",
    "print('------------------------------------')\n",
    "print(data_new['last_price_mln'].describe())\n",
    "print('------------------------------------')\n",
    "print(data_new['rooms'].describe())\n",
    "print('------------------------------------')\n",
    "print(data_new['ceiling_height'].describe())\n",
    " "
   ]
  },
  {
   "cell_type": "markdown",
   "metadata": {},
   "source": [
    "### Вывод\n",
    "После того, как мы убрали выбросы: медиана и среднее значение приблизились друг к другу.\n",
    "Значения с продажами, которые прошли очень быстро - лучше не убирать, так как в этом дипозоне очень много данных.\n",
    "\n",
    "Решено, что дальше будем работать с новой таблицей data_new."
   ]
  },
  {
   "cell_type": "code",
   "execution_count": null,
   "metadata": {},
   "outputs": [],
   "source": [
    "\n",
    "\n",
    "#Построим корреляционную матрицу\n",
    "print(data_new[['last_price','total_area', 'rooms','city_centers_nearest' ]].corr())\n",
    "pd.plotting.scatter_matrix(data_new[['last_price','total_area', 'rooms','city_centers_nearest' ]], figsize=(15, 15))\n",
    "plt.suptitle('Корреляционная матрица')\n",
    "plt.show()\n",
    "\n",
    "#Построим тепловую карту\n",
    "sns.heatmap(data_new[['last_price','total_area', 'rooms','city_centers_nearest' ]].corr())\n",
    "plt.title('Тепловая карта')\n",
    "plt.show()\n",
    "\n",
    "#Построим графики зависимости цены от этажа\n",
    "import seaborn as sns    \n",
    "sns.barplot(data=data_new, x=\"floor_group\", y=\"last_price\")    \n",
    "plt.title('Зависимость цены от этажа')\n",
    "plt.show()\n",
    "\n"
   ]
  },
  {
   "cell_type": "markdown",
   "metadata": {},
   "source": [
    "### Вывод\n",
    "По матрице видно, что корреляция есть между ценой и площадью квартиры: небольшое повышение в цене при увеличении площади квартиры. \n",
    "\n",
    "Цены на последнем этаже и в категории 'другой' выше, чем у квартир на 1 этаже\n",
    "\n",
    "\n",
    "\n",
    "\n",
    "\n"
   ]
  },
  {
   "cell_type": "code",
   "execution_count": null,
   "metadata": {},
   "outputs": [],
   "source": [
    "\n",
    "\n",
    "plt.figure(figsize=(10,6))\n",
    "sns.barplot(data=data_new, x=\"year_data_exposition\", y=\"last_price\")    \n",
    "plt.title('Зависимость цены от года')\n",
    "plt.show()\n",
    "\n",
    "plt.figure(figsize=(15,6))\n",
    "sns.barplot(data=data_new, x=\"month_data_exposition\", y=\"last_price\")    \n",
    "plt.title('Зависимость цены от месяца')\n",
    "plt.show()\n",
    "\n",
    "\n",
    "plt.figure(figsize=(10,6))\n",
    "sns.barplot(data=data_new, x=\"day_data_exposition\", y=\"last_price\")    \n",
    "plt.title('Зависимость цены от дня')\n",
    "plt.show()\n",
    "\n"
   ]
  },
  {
   "cell_type": "markdown",
   "metadata": {},
   "source": [
    "### Вывод\n",
    "\n",
    "Год размещения  2014 с высокой ценой.\n",
    "\n",
    "Месяцы не очень влияют на цену квартиры,всё более менее стабильно.\n",
    "\n",
    "Нельзя также выделить конкретный день(число), когда квартиры продавались бы более дорогие. \n"
   ]
  },
  {
   "cell_type": "code",
   "execution_count": null,
   "metadata": {},
   "outputs": [],
   "source": [
    "#Выберем 10 населённых пунктов с наибольшим числом объявлений\n",
    "top_10 = data_new.pivot_table(index=['locality_name'],  values='balcony', aggfunc='count', fill_value=0).sort_values('balcony', ascending=False).head(10).reset_index()\n",
    "top_10.columns = ['locality_name', 'count'] #переименуем столбцы для удобства\n",
    "display(top_10)\n",
    "\n",
    "#получим таблицу с исходными столбцамидля ТОП-10 населенных пунктов, используем метод merge()\n",
    "data_new_top_10 = top_10.merge(data_new, on='locality_name', how='left')\n",
    "#посчитаем среднюю цену квадратного метра в этих населенных пунктах\n",
    "data_new_top_10.pivot_table(index=['locality_name'],  values='price_metre', aggfunc='mean').sort_values('price_metre', ascending = False)\n",
    "\n"
   ]
  },
  {
   "cell_type": "markdown",
   "metadata": {},
   "source": [
    "### Вывод\n",
    "\n",
    "Из данных видно, что самая высокая цена за квадратный метр - в Санкт-Петербурге, а самая низкая - в Выборге\n"
   ]
  },
  {
   "cell_type": "code",
   "execution_count": null,
   "metadata": {},
   "outputs": [],
   "source": [
    "#Изучим предложение квартир\n",
    "#Выделим квартиры в Санкт-Петербурге\n",
    "good_data = data_new.query('locality_name == \"санкт-петербург\"')\n",
    "good_data['distance_km'] = round(good_data['city_centers_nearest']/1000) #создадим столбец с расстоянием до центра в км\n",
    "\n",
    "#print(good_data.head(10))\n",
    "#посчитаем среднюю цену для каждого км\n",
    "good_data_new = good_data.pivot_table(index=['distance_km'],  values='price_metre', aggfunc='mean').sort_values('distance_km', ascending = False).reset_index()\n",
    "good_data_new.columns = ['distance_km', 'price_km'] #переименуем столбцы для удобства\n",
    "print(good_data_new)\n",
    "good_data_new.plot(x='distance_km', y= 'price_km' , xticks = range(0,30,1),  grid=True, figsize=(15, 5))\n",
    "plt.title('Зависимость цены за кв м от удаленности от центра')\n",
    "plt.show()\n",
    "\n"
   ]
  },
  {
   "cell_type": "markdown",
   "metadata": {},
   "source": [
    "### Вывод\n",
    "\n",
    "На графике видно, что максимальная цена за квартиру в самом центре, где удаленность от центра = 0, потом снижается. Можно заметить,что на расстроянии 3км от цетра цена резко падает (возможно, это промзоны и мало кто хочет там жить?), где-то в 27 км от центра также цена немного скачет вверх (видимо коттеджный посёлок, шутка). \n"
   ]
  },
  {
   "cell_type": "code",
   "execution_count": null,
   "metadata": {},
   "outputs": [],
   "source": [
    "#Выделим сегмент квартир в центре. В радиусе до 7км.\n",
    "good_segment = good_data.query('distance_km < 7 ' )\n",
    "\n",
    "pd.Series(good_segment['days_exposition']).hist(bins=100, figsize=(15,5))\n",
    "\n",
    "plt.title('Гистограмма по параметру \"Количество дней размещения объявления\"')\n",
    "plt.xlabel('days_exposition')\n",
    "plt.ylabel('values')\n",
    "plt.show()\n",
    "\n",
    "#Построим гистограммы для каждого из параметров: площадь, цена, число комнат и высота потолков\n",
    "\n",
    "pd.Series(good_segment['total_area']).hist(bins=100, range=(0,300), figsize=(15,5))\n",
    "plt.title('Гистограмма по параметру \"Площадь\" в интервале от о до 300')\n",
    "plt.xlabel('total_area')\n",
    "plt.ylabel('values')\n",
    "plt.show()"
   ]
  },
  {
   "cell_type": "code",
   "execution_count": null,
   "metadata": {},
   "outputs": [],
   "source": [
    "pd.Series(good_segment['last_price']/1000000).hist(bins=100, range=(0,40), figsize=(15,5)) #для удобства визуализации - поделим цену на 1000000\n",
    "\n",
    "plt.title('Гистограмма по параметру \"Цена\" в интервале от о до 40млн')\n",
    "plt.xlabel('last_price')\n",
    "plt.ylabel('values')\n",
    "plt.show()"
   ]
  },
  {
   "cell_type": "code",
   "execution_count": null,
   "metadata": {},
   "outputs": [],
   "source": [
    "pd.Series(good_segment['rooms']).hist(bins=100, figsize=(15,5))\n",
    "plt.title('Гистограмма по параметру \"Кол-во комнат\"')\n",
    "plt.xlabel('rooms')\n",
    "plt.ylabel('values')\n",
    "plt.show()"
   ]
  },
  {
   "cell_type": "code",
   "execution_count": null,
   "metadata": {},
   "outputs": [],
   "source": [
    "pd.Series(good_segment['ceiling_height']).hist(bins=100,range=(2,5), figsize=(15,4.5)) # возьмем интервал от 2 до 3.5, где больше всего распределены значения\n",
    "plt.title('Гистограмма по параметру \"Высота потолков\" в интервале от 2 до 5м')\n",
    "plt.xlabel('ceiling_height')\n",
    "plt.ylabel('values')\n",
    "plt.show()"
   ]
  },
  {
   "cell_type": "markdown",
   "metadata": {},
   "source": [
    "### Вывод\n",
    "Больше всего квартир продано с площадью около 100 м2, также популярностью пользуются квартиры площадью 60м2\n",
    "\n",
    "Чаще всего покупают квартиры стоимостью около 9млн\n",
    "\n",
    "2 и 3-х комнатные квартиры в топе и квартиры с потолками 2,65м"
   ]
  },
  {
   "cell_type": "code",
   "execution_count": null,
   "metadata": {},
   "outputs": [],
   "source": [
    "#Изучим факторы влияющие на стоимость квартиры\n",
    "\n",
    "#Построим корреляционную матрицу\n",
    "print(good_segment[['last_price','total_area', 'rooms','city_centers_nearest' ]].corr())\n",
    "pd.plotting.scatter_matrix(good_segment[['last_price','total_area', 'rooms','city_centers_nearest' ]], figsize=(15, 15))\n",
    "plt.suptitle('Корреляционная матрица')\n",
    "plt.show()\n",
    "\n",
    "#Построим тепловую карту\n",
    "sns.heatmap(good_segment[['last_price','total_area', 'rooms','city_centers_nearest' ]].corr())\n",
    "plt.title('Тепловая карта')\n",
    "plt.show()\n",
    "\n",
    "\n",
    "#Построим графики зависимости цены от этажа\n",
    "import seaborn as sns    \n",
    "sns.barplot(data=good_segment, x=\"floor_group\", y=\"last_price\")    \n",
    "plt.title('Зависимость цены от этажа')\n",
    "plt.show()\n",
    "\n",
    "\n"
   ]
  },
  {
   "cell_type": "markdown",
   "metadata": {},
   "source": [
    "### Вывод\n",
    "По матрице видно, что корреляция есть только между ценой и площадью квартиры: небольшое повышение в цене при увеличении площади квартиры. И никакой корреляции по расстоянию от центра.\n",
    "\n",
    "\n",
    "\n",
    "Цены на последнем этаже и в категории 'другой' выше, чем у квартир на 1 этаже"
   ]
  },
  {
   "cell_type": "code",
   "execution_count": null,
   "metadata": {},
   "outputs": [],
   "source": [
    "#Построим график зависимости цены от года\n",
    "plt.figure(figsize=(10,6))\n",
    "sns.barplot(data=good_segment, x=\"year_data_exposition\", y=\"last_price\")    \n",
    "plt.title('Зависимость цены от года')\n",
    "plt.show()\n",
    "\n",
    "plt.figure(figsize=(15,6))\n",
    "sns.barplot(data=good_segment, x=\"month_data_exposition\", y=\"last_price\")    \n",
    "plt.title('Зависимость цены от месяца')\n",
    "plt.show()\n",
    "\n",
    "plt.figure(figsize=(10,6))\n",
    "sns.barplot(data=good_segment, x=\"day_data_exposition\", y=\"last_price\")    \n",
    "plt.title('Зависимость цены от дня')\n",
    "plt.show()\n"
   ]
  },
  {
   "cell_type": "markdown",
   "metadata": {},
   "source": [
    "### Вывод\n",
    "\n",
    "Видно, что был небольшой спад в ценах в 2016 году. Лучшим годом можно считать 2015, сильно вверх пошли цены (или покупались более дорогие квартиры)\n",
    "\n",
    "В апреле и сентябре продавались квартиры по более высокой цене, а в июне - по более низкой. \n",
    "\n",
    "В субботу люди не отдыхают, а покупают квартиры)\n"
   ]
  },
  {
   "cell_type": "markdown",
   "metadata": {},
   "source": [
    "## Общий вывод\n",
    "\n",
    "В данном проекте мы собрали данные, обработали их, убрали ненужные данные, которые не сильно повлияли на итоговый результат и изучили следующие параметры продаваемых квартир: площадь, цена, число комнат, высота потолков. Для лучшей визуализации использовали графики.\n",
    "\n",
    "Все имеющиеся данные вполне реалистичны. Больше всего продаются одно- и двухкомнатные квартиры. Самая продоваемая недвижимость приходится на диапазон от 30 до 40 кв. метров.\n",
    "\n",
    "\n",
    "По графику также видно, что большинство квартир продается по рыночной стоимости в пределах 10 млн рублей. Пик цены на продаваемую недвижимость в пределах 3-4 млн рублей.\n",
    "\n",
    "Большинство квартир продается в тчение 100 дней. Если квартира не продалась за это время, то, возможно, надо уменьшить цену для более быстрого достижения результата.\n",
    "\n",
    "Мы изучили параметры отдельно по городу Саннкт-Петербургу, где больше всего объяалений.\n",
    "Средняя стоимость жилья в Санкт-Петербурге - 111 тыс за кв метр.\n",
    "\n",
    "\n",
    "\n",
    "В Санкт-Петербурге готовы покупать более дорогие квартиры, в большем количестве, с большим числов комнат (2-3х) и с большей площадью. Высота потолков, как и в зависимости цен от общих параметров находится в районе 2,65м. \n",
    "Каких-то супер продажных месяцев нет.\n",
    "Еще можно сделать вывод: чем дальше от центра и площадь квартиры меньше - тем дешевле цена, за исключением мест, где цена в радиусе 3км падает, скорей всего это территория промзон.\n",
    "\n"
   ]
  }
 ],
 "metadata": {
  "ExecuteTimeLog": [
   {
    "duration": 3559,
    "start_time": "2021-12-19T14:35:45.850Z"
   },
   {
    "duration": 145,
    "start_time": "2021-12-19T14:36:31.300Z"
   },
   {
    "duration": 150,
    "start_time": "2021-12-19T14:36:58.724Z"
   },
   {
    "duration": 132,
    "start_time": "2021-12-19T14:37:37.274Z"
   },
   {
    "duration": 87,
    "start_time": "2021-12-19T14:39:17.124Z"
   },
   {
    "duration": 147,
    "start_time": "2021-12-19T14:41:26.917Z"
   },
   {
    "duration": 135,
    "start_time": "2021-12-19T14:41:32.758Z"
   },
   {
    "duration": 141,
    "start_time": "2021-12-19T14:42:19.483Z"
   },
   {
    "duration": 107,
    "start_time": "2021-12-19T14:42:27.776Z"
   },
   {
    "duration": 573,
    "start_time": "2021-12-19T14:42:32.095Z"
   },
   {
    "duration": 287,
    "start_time": "2021-12-19T16:05:19.629Z"
   },
   {
    "duration": 20,
    "start_time": "2021-12-19T16:06:15.724Z"
   },
   {
    "duration": 5,
    "start_time": "2021-12-19T16:06:26.211Z"
   },
   {
    "duration": 298,
    "start_time": "2021-12-19T16:30:10.859Z"
   },
   {
    "duration": 23,
    "start_time": "2021-12-19T16:30:25.753Z"
   },
   {
    "duration": 18,
    "start_time": "2021-12-19T16:31:12.351Z"
   },
   {
    "duration": 17,
    "start_time": "2021-12-19T16:31:17.128Z"
   },
   {
    "duration": 21,
    "start_time": "2021-12-19T16:38:18.579Z"
   },
   {
    "duration": 30,
    "start_time": "2021-12-19T16:38:44.189Z"
   },
   {
    "duration": 29,
    "start_time": "2021-12-19T16:38:47.776Z"
   },
   {
    "duration": -4734,
    "start_time": "2021-12-19T16:47:04.790Z"
   },
   {
    "duration": 65,
    "start_time": "2021-12-19T16:47:17.522Z"
   },
   {
    "duration": 566,
    "start_time": "2021-12-19T16:47:39.813Z"
   },
   {
    "duration": 8748,
    "start_time": "2021-12-19T16:47:42.948Z"
   },
   {
    "duration": 3177,
    "start_time": "2021-12-19T16:48:44.094Z"
   },
   {
    "duration": 30,
    "start_time": "2021-12-19T16:51:11.929Z"
   },
   {
    "duration": 355,
    "start_time": "2021-12-19T16:51:44.462Z"
   },
   {
    "duration": 313,
    "start_time": "2021-12-19T16:52:03.169Z"
   },
   {
    "duration": 316,
    "start_time": "2021-12-19T16:54:13.485Z"
   },
   {
    "duration": 26,
    "start_time": "2021-12-19T16:55:11.212Z"
   },
   {
    "duration": 307,
    "start_time": "2021-12-19T16:55:21.417Z"
   },
   {
    "duration": 301,
    "start_time": "2021-12-19T16:56:31.396Z"
   },
   {
    "duration": 674,
    "start_time": "2021-12-19T16:56:52.232Z"
   },
   {
    "duration": 333,
    "start_time": "2021-12-19T16:58:56.599Z"
   },
   {
    "duration": 309,
    "start_time": "2021-12-19T16:59:24.174Z"
   },
   {
    "duration": 24,
    "start_time": "2021-12-19T16:59:37.058Z"
   },
   {
    "duration": 9875,
    "start_time": "2021-12-19T17:03:33.328Z"
   },
   {
    "duration": 30,
    "start_time": "2021-12-19T17:04:28.249Z"
   },
   {
    "duration": 37,
    "start_time": "2021-12-19T17:04:53.177Z"
   },
   {
    "duration": 41,
    "start_time": "2021-12-19T17:05:28.883Z"
   },
   {
    "duration": 520,
    "start_time": "2021-12-19T17:05:56.422Z"
   },
   {
    "duration": 30,
    "start_time": "2021-12-19T17:06:13.327Z"
   },
   {
    "duration": 331,
    "start_time": "2021-12-19T17:06:41.357Z"
   },
   {
    "duration": 31,
    "start_time": "2021-12-19T17:06:51.318Z"
   },
   {
    "duration": 29,
    "start_time": "2021-12-19T17:07:13.368Z"
   },
   {
    "duration": 44,
    "start_time": "2021-12-19T17:08:55.658Z"
   },
   {
    "duration": 63,
    "start_time": "2021-12-19T17:09:33.491Z"
   },
   {
    "duration": 72,
    "start_time": "2021-12-19T17:09:38.882Z"
   },
   {
    "duration": 96,
    "start_time": "2021-12-19T17:09:57.813Z"
   },
   {
    "duration": 37,
    "start_time": "2021-12-19T17:10:58.505Z"
   },
   {
    "duration": 37,
    "start_time": "2021-12-19T17:11:22.547Z"
   },
   {
    "duration": 60,
    "start_time": "2021-12-19T17:17:39.904Z"
   },
   {
    "duration": 57,
    "start_time": "2021-12-19T17:17:55.847Z"
   },
   {
    "duration": 73,
    "start_time": "2021-12-19T17:22:48.511Z"
   },
   {
    "duration": 96,
    "start_time": "2021-12-19T17:24:43.507Z"
   },
   {
    "duration": 476,
    "start_time": "2021-12-19T17:24:52.105Z"
   },
   {
    "duration": 53,
    "start_time": "2021-12-19T17:24:59.523Z"
   },
   {
    "duration": 76,
    "start_time": "2021-12-19T17:25:12.782Z"
   },
   {
    "duration": 46,
    "start_time": "2021-12-19T17:42:46.763Z"
   },
   {
    "duration": 44,
    "start_time": "2021-12-19T17:43:03.687Z"
   },
   {
    "duration": 37,
    "start_time": "2021-12-19T17:44:03.549Z"
   },
   {
    "duration": 35,
    "start_time": "2021-12-19T17:44:18.384Z"
   },
   {
    "duration": 36,
    "start_time": "2021-12-19T17:44:22.520Z"
   },
   {
    "duration": 37,
    "start_time": "2021-12-19T17:44:34.239Z"
   },
   {
    "duration": 39,
    "start_time": "2021-12-19T17:44:54.095Z"
   },
   {
    "duration": 39,
    "start_time": "2021-12-19T17:45:14.195Z"
   },
   {
    "duration": 36,
    "start_time": "2021-12-19T17:45:28.044Z"
   },
   {
    "duration": 591,
    "start_time": "2021-12-19T17:45:39.776Z"
   },
   {
    "duration": 47,
    "start_time": "2021-12-19T17:45:42.546Z"
   },
   {
    "duration": 43,
    "start_time": "2021-12-19T17:46:06.658Z"
   },
   {
    "duration": 528,
    "start_time": "2021-12-19T17:46:10.656Z"
   },
   {
    "duration": 49,
    "start_time": "2021-12-19T17:46:14.803Z"
   },
   {
    "duration": 94,
    "start_time": "2021-12-19T17:49:35.711Z"
   },
   {
    "duration": 40,
    "start_time": "2021-12-19T17:50:08.875Z"
   },
   {
    "duration": 565,
    "start_time": "2021-12-19T17:50:37.204Z"
   },
   {
    "duration": 43,
    "start_time": "2021-12-19T17:50:39.512Z"
   },
   {
    "duration": 94,
    "start_time": "2021-12-19T17:51:48.824Z"
   },
   {
    "duration": 8037,
    "start_time": "2021-12-19T17:51:57.988Z"
   },
   {
    "duration": 626,
    "start_time": "2021-12-19T17:53:27.720Z"
   },
   {
    "duration": 339,
    "start_time": "2021-12-19T17:53:46.100Z"
   },
   {
    "duration": 38,
    "start_time": "2021-12-19T18:01:01.847Z"
   },
   {
    "duration": 309,
    "start_time": "2021-12-19T18:03:05.084Z"
   },
   {
    "duration": 668,
    "start_time": "2021-12-19T18:04:00.552Z"
   },
   {
    "duration": 329,
    "start_time": "2021-12-19T18:04:05.246Z"
   },
   {
    "duration": 480,
    "start_time": "2021-12-19T18:08:06.538Z"
   },
   {
    "duration": 43,
    "start_time": "2021-12-19T18:08:27.469Z"
   },
   {
    "duration": 638,
    "start_time": "2021-12-19T18:30:58.826Z"
   },
   {
    "duration": 4288,
    "start_time": "2021-12-19T18:31:51.542Z"
   },
   {
    "duration": 3566,
    "start_time": "2021-12-19T18:32:13.107Z"
   },
   {
    "duration": 318,
    "start_time": "2021-12-19T18:34:55.573Z"
   },
   {
    "duration": 36,
    "start_time": "2021-12-19T18:47:53.706Z"
   },
   {
    "duration": 125,
    "start_time": "2021-12-19T18:48:23.260Z"
   },
   {
    "duration": 142,
    "start_time": "2021-12-19T18:49:27.190Z"
   },
   {
    "duration": 555,
    "start_time": "2021-12-19T18:49:38.636Z"
   },
   {
    "duration": 147,
    "start_time": "2021-12-19T18:49:40.089Z"
   },
   {
    "duration": 35,
    "start_time": "2021-12-19T18:50:04.639Z"
   },
   {
    "duration": 541,
    "start_time": "2021-12-19T18:50:19.458Z"
   },
   {
    "duration": 42,
    "start_time": "2021-12-19T18:50:22.766Z"
   },
   {
    "duration": 139,
    "start_time": "2021-12-19T18:51:05.316Z"
   },
   {
    "duration": 109,
    "start_time": "2021-12-19T18:52:08.565Z"
   },
   {
    "duration": 534,
    "start_time": "2021-12-19T18:52:15.064Z"
   },
   {
    "duration": 112,
    "start_time": "2021-12-19T18:52:17.918Z"
   },
   {
    "duration": 96,
    "start_time": "2021-12-19T18:52:52.856Z"
   },
   {
    "duration": 178,
    "start_time": "2021-12-19T18:53:26.866Z"
   },
   {
    "duration": 565,
    "start_time": "2021-12-19T18:53:31.318Z"
   },
   {
    "duration": 204,
    "start_time": "2021-12-19T18:53:33.564Z"
   },
   {
    "duration": 222,
    "start_time": "2021-12-19T19:12:01.107Z"
   },
   {
    "duration": 220,
    "start_time": "2021-12-19T19:18:58.517Z"
   },
   {
    "duration": 580,
    "start_time": "2021-12-19T19:19:19.732Z"
   },
   {
    "duration": 236,
    "start_time": "2021-12-19T19:19:22.096Z"
   },
   {
    "duration": 216,
    "start_time": "2021-12-19T19:20:26.516Z"
   },
   {
    "duration": 562,
    "start_time": "2021-12-19T19:20:35.452Z"
   },
   {
    "duration": 244,
    "start_time": "2021-12-19T19:20:40.963Z"
   },
   {
    "duration": 225,
    "start_time": "2021-12-19T19:21:22.068Z"
   },
   {
    "duration": 193,
    "start_time": "2021-12-19T19:32:19.816Z"
   },
   {
    "duration": 197,
    "start_time": "2021-12-19T19:33:02.898Z"
   },
   {
    "duration": 307,
    "start_time": "2021-12-19T19:33:12.747Z"
   },
   {
    "duration": 225,
    "start_time": "2021-12-19T19:34:35.192Z"
   },
   {
    "duration": 237,
    "start_time": "2021-12-19T19:35:06.359Z"
   },
   {
    "duration": 524,
    "start_time": "2021-12-19T19:35:57.113Z"
   },
   {
    "duration": 479,
    "start_time": "2021-12-19T19:36:23.587Z"
   },
   {
    "duration": 492,
    "start_time": "2021-12-19T19:37:25.664Z"
   },
   {
    "duration": 496,
    "start_time": "2021-12-19T19:37:52.117Z"
   },
   {
    "duration": 476,
    "start_time": "2021-12-19T19:38:33.146Z"
   },
   {
    "duration": 594,
    "start_time": "2021-12-19T19:39:11.433Z"
   },
   {
    "duration": 587,
    "start_time": "2021-12-19T19:40:26.090Z"
   },
   {
    "duration": 463,
    "start_time": "2021-12-19T19:40:40.930Z"
   },
   {
    "duration": 473,
    "start_time": "2021-12-19T19:40:49.831Z"
   },
   {
    "duration": 223,
    "start_time": "2021-12-19T19:42:31.505Z"
   },
   {
    "duration": 535,
    "start_time": "2021-12-19T19:43:25.265Z"
   },
   {
    "duration": 102,
    "start_time": "2021-12-19T19:44:13.651Z"
   },
   {
    "duration": 219,
    "start_time": "2021-12-19T19:44:17.328Z"
   },
   {
    "duration": 288,
    "start_time": "2021-12-19T19:46:29.259Z"
   },
   {
    "duration": 229,
    "start_time": "2021-12-19T19:48:49.499Z"
   },
   {
    "duration": 499,
    "start_time": "2021-12-19T19:53:41.876Z"
   },
   {
    "duration": 855,
    "start_time": "2021-12-19T19:54:30.275Z"
   },
   {
    "duration": 591,
    "start_time": "2021-12-19T19:56:28.420Z"
   },
   {
    "duration": 647,
    "start_time": "2021-12-19T19:59:32.460Z"
   },
   {
    "duration": 664,
    "start_time": "2021-12-19T20:02:25.077Z"
   },
   {
    "duration": 1598,
    "start_time": "2021-12-19T20:02:35.212Z"
   },
   {
    "duration": 2193,
    "start_time": "2021-12-19T20:04:20.536Z"
   },
   {
    "duration": 2175,
    "start_time": "2021-12-19T20:05:21.891Z"
   },
   {
    "duration": 201,
    "start_time": "2021-12-19T20:10:30.409Z"
   },
   {
    "duration": 638,
    "start_time": "2021-12-19T20:10:44.570Z"
   },
   {
    "duration": 206,
    "start_time": "2021-12-19T20:10:46.516Z"
   },
   {
    "duration": 609,
    "start_time": "2021-12-19T20:12:12.688Z"
   },
   {
    "duration": 281,
    "start_time": "2021-12-19T20:12:15.519Z"
   },
   {
    "duration": 339,
    "start_time": "2021-12-19T20:13:17.157Z"
   },
   {
    "duration": 253,
    "start_time": "2021-12-19T20:13:55.518Z"
   },
   {
    "duration": 227,
    "start_time": "2021-12-19T20:16:36.318Z"
   },
   {
    "duration": 318,
    "start_time": "2021-12-19T20:16:47.689Z"
   },
   {
    "duration": 709,
    "start_time": "2021-12-19T20:16:59.700Z"
   },
   {
    "duration": 363,
    "start_time": "2021-12-19T20:17:00.471Z"
   },
   {
    "duration": 343,
    "start_time": "2021-12-19T20:21:21.329Z"
   },
   {
    "duration": 303,
    "start_time": "2021-12-19T20:22:15.626Z"
   },
   {
    "duration": 278,
    "start_time": "2021-12-19T20:22:44.365Z"
   },
   {
    "duration": 350,
    "start_time": "2021-12-19T20:23:21.888Z"
   },
   {
    "duration": 848,
    "start_time": "2021-12-19T20:29:17.411Z"
   },
   {
    "duration": 217,
    "start_time": "2021-12-19T20:30:44.314Z"
   },
   {
    "duration": 215,
    "start_time": "2021-12-19T20:32:50.827Z"
   },
   {
    "duration": 597,
    "start_time": "2021-12-19T20:35:18.579Z"
   },
   {
    "duration": 257,
    "start_time": "2021-12-19T20:35:21.763Z"
   },
   {
    "duration": 235,
    "start_time": "2021-12-19T20:36:02.853Z"
   },
   {
    "duration": 281,
    "start_time": "2021-12-20T06:37:51.834Z"
   },
   {
    "duration": 892,
    "start_time": "2021-12-20T06:37:56.052Z"
   },
   {
    "duration": 7528,
    "start_time": "2021-12-20T06:37:59.530Z"
   },
   {
    "duration": 6016,
    "start_time": "2021-12-20T06:38:25.566Z"
   },
   {
    "duration": 121,
    "start_time": "2021-12-20T06:40:02.157Z"
   },
   {
    "duration": 117,
    "start_time": "2021-12-20T06:40:48.492Z"
   },
   {
    "duration": 119,
    "start_time": "2021-12-20T06:46:11.974Z"
   },
   {
    "duration": 362,
    "start_time": "2021-12-20T07:04:49.562Z"
   },
   {
    "duration": 366,
    "start_time": "2021-12-20T07:06:29.557Z"
   },
   {
    "duration": 402,
    "start_time": "2021-12-20T07:06:47.135Z"
   },
   {
    "duration": 197,
    "start_time": "2021-12-20T07:06:59.225Z"
   },
   {
    "duration": 137,
    "start_time": "2021-12-20T07:07:30.602Z"
   },
   {
    "duration": 129,
    "start_time": "2021-12-20T07:08:02.612Z"
   },
   {
    "duration": 412,
    "start_time": "2021-12-20T07:11:18.894Z"
   },
   {
    "duration": 362,
    "start_time": "2021-12-20T07:12:30.713Z"
   },
   {
    "duration": 134,
    "start_time": "2021-12-20T07:13:58.108Z"
   },
   {
    "duration": 372,
    "start_time": "2021-12-20T07:14:27.896Z"
   },
   {
    "duration": 85,
    "start_time": "2021-12-20T07:18:03.376Z"
   },
   {
    "duration": 528,
    "start_time": "2021-12-20T07:18:30.939Z"
   },
   {
    "duration": 378,
    "start_time": "2021-12-20T07:19:09.652Z"
   },
   {
    "duration": 314,
    "start_time": "2021-12-20T07:19:17.282Z"
   },
   {
    "duration": 308,
    "start_time": "2021-12-20T07:22:12.142Z"
   },
   {
    "duration": 374,
    "start_time": "2021-12-20T07:22:32.234Z"
   },
   {
    "duration": 505,
    "start_time": "2021-12-20T07:22:34.886Z"
   },
   {
    "duration": 313,
    "start_time": "2021-12-20T07:23:15.561Z"
   },
   {
    "duration": 354,
    "start_time": "2021-12-20T07:23:21.454Z"
   },
   {
    "duration": 485,
    "start_time": "2021-12-20T07:23:23.140Z"
   },
   {
    "duration": 6544,
    "start_time": "2021-12-20T07:24:14.289Z"
   },
   {
    "duration": 6320,
    "start_time": "2021-12-20T07:24:33.905Z"
   },
   {
    "duration": 7142,
    "start_time": "2021-12-20T07:25:01.035Z"
   },
   {
    "duration": 310,
    "start_time": "2021-12-20T07:25:21.197Z"
   },
   {
    "duration": 334,
    "start_time": "2021-12-20T07:25:34.678Z"
   },
   {
    "duration": 361,
    "start_time": "2021-12-20T07:25:35.653Z"
   },
   {
    "duration": 1340,
    "start_time": "2021-12-20T13:06:04.817Z"
   },
   {
    "duration": 805,
    "start_time": "2021-12-20T13:06:09.709Z"
   },
   {
    "duration": 574,
    "start_time": "2021-12-20T13:06:15.917Z"
   },
   {
    "duration": 591,
    "start_time": "2021-12-20T13:06:30.455Z"
   },
   {
    "duration": 679,
    "start_time": "2021-12-20T13:06:31.667Z"
   },
   {
    "duration": 970,
    "start_time": "2021-12-20T13:07:26.940Z"
   },
   {
    "duration": 577,
    "start_time": "2021-12-20T13:07:39.177Z"
   },
   {
    "duration": 625,
    "start_time": "2021-12-20T13:17:23.178Z"
   },
   {
    "duration": 630,
    "start_time": "2021-12-20T13:17:35.705Z"
   },
   {
    "duration": 798,
    "start_time": "2021-12-20T13:17:37.463Z"
   },
   {
    "duration": 629,
    "start_time": "2021-12-20T13:21:34.709Z"
   },
   {
    "duration": 573,
    "start_time": "2021-12-20T13:21:56.469Z"
   },
   {
    "duration": 729,
    "start_time": "2021-12-20T13:21:58.028Z"
   },
   {
    "duration": 733,
    "start_time": "2021-12-20T13:33:47.868Z"
   },
   {
    "duration": 605,
    "start_time": "2021-12-20T13:36:31.400Z"
   },
   {
    "duration": 538,
    "start_time": "2021-12-20T13:36:50.429Z"
   },
   {
    "duration": 686,
    "start_time": "2021-12-20T13:36:51.537Z"
   },
   {
    "duration": 581,
    "start_time": "2021-12-20T13:37:37.513Z"
   },
   {
    "duration": 39,
    "start_time": "2021-12-20T13:39:55.912Z"
   },
   {
    "duration": 1124,
    "start_time": "2021-12-20T19:12:11.169Z"
   },
   {
    "duration": 599,
    "start_time": "2021-12-20T19:12:15.445Z"
   },
   {
    "duration": 491,
    "start_time": "2021-12-20T19:12:31.002Z"
   },
   {
    "duration": 679,
    "start_time": "2021-12-20T19:12:32.950Z"
   },
   {
    "duration": 45,
    "start_time": "2021-12-20T19:12:33.632Z"
   },
   {
    "duration": 871,
    "start_time": "2021-12-20T19:17:27.665Z"
   },
   {
    "duration": 7741,
    "start_time": "2021-12-20T19:17:53.269Z"
   },
   {
    "duration": 8622,
    "start_time": "2021-12-20T19:18:24.813Z"
   },
   {
    "duration": 8059,
    "start_time": "2021-12-20T19:22:58.360Z"
   },
   {
    "duration": 8000,
    "start_time": "2021-12-20T19:24:36.091Z"
   },
   {
    "duration": -1877,
    "start_time": "2021-12-20T19:27:51.596Z"
   },
   {
    "duration": 7953,
    "start_time": "2021-12-20T19:27:52.980Z"
   },
   {
    "duration": 435,
    "start_time": "2021-12-20T19:28:18.616Z"
   },
   {
    "duration": 4308,
    "start_time": "2021-12-20T19:28:55.270Z"
   },
   {
    "duration": 5588,
    "start_time": "2021-12-20T19:32:41.098Z"
   },
   {
    "duration": 6249,
    "start_time": "2021-12-20T19:32:58.327Z"
   },
   {
    "duration": 824,
    "start_time": "2021-12-20T19:33:30.123Z"
   },
   {
    "duration": 801,
    "start_time": "2021-12-20T19:34:02.508Z"
   },
   {
    "duration": 7312,
    "start_time": "2021-12-20T19:34:57.266Z"
   },
   {
    "duration": 5767,
    "start_time": "2021-12-20T19:35:27.813Z"
   },
   {
    "duration": 425,
    "start_time": "2021-12-20T19:36:27.213Z"
   },
   {
    "duration": 427,
    "start_time": "2021-12-20T19:36:47.867Z"
   },
   {
    "duration": 427,
    "start_time": "2021-12-20T19:36:59.707Z"
   },
   {
    "duration": 436,
    "start_time": "2021-12-20T19:37:08.237Z"
   },
   {
    "duration": 504,
    "start_time": "2021-12-20T19:37:10.003Z"
   },
   {
    "duration": 107,
    "start_time": "2021-12-20T19:37:58.112Z"
   },
   {
    "duration": 8285,
    "start_time": "2021-12-20T19:38:06.168Z"
   },
   {
    "duration": 481,
    "start_time": "2021-12-20T19:50:38.363Z"
   },
   {
    "duration": 7797,
    "start_time": "2021-12-20T19:50:58.161Z"
   },
   {
    "duration": 6853,
    "start_time": "2021-12-20T19:51:21.877Z"
   },
   {
    "duration": 6949,
    "start_time": "2021-12-20T19:51:43.518Z"
   },
   {
    "duration": 745,
    "start_time": "2021-12-20T19:57:04.947Z"
   },
   {
    "duration": 107,
    "start_time": "2021-12-20T20:04:49.219Z"
   },
   {
    "duration": 95,
    "start_time": "2021-12-20T20:04:58.042Z"
   },
   {
    "duration": 681,
    "start_time": "2021-12-20T20:05:03.125Z"
   },
   {
    "duration": 745,
    "start_time": "2021-12-20T20:05:30.407Z"
   },
   {
    "duration": 833,
    "start_time": "2021-12-20T20:05:44.627Z"
   },
   {
    "duration": 920,
    "start_time": "2021-12-20T20:05:54.656Z"
   },
   {
    "duration": 600,
    "start_time": "2021-12-20T20:06:04.766Z"
   },
   {
    "duration": 835,
    "start_time": "2021-12-20T20:06:06.514Z"
   },
   {
    "duration": 794,
    "start_time": "2021-12-20T20:06:38.854Z"
   },
   {
    "duration": 469,
    "start_time": "2021-12-20T20:08:54.391Z"
   },
   {
    "duration": 536,
    "start_time": "2021-12-20T20:09:11.089Z"
   },
   {
    "duration": 8395,
    "start_time": "2021-12-20T20:09:47.212Z"
   },
   {
    "duration": 549,
    "start_time": "2021-12-20T20:10:10.388Z"
   },
   {
    "duration": 12019,
    "start_time": "2021-12-20T20:10:31.936Z"
   },
   {
    "duration": 462,
    "start_time": "2021-12-20T20:17:46.429Z"
   },
   {
    "duration": 136,
    "start_time": "2021-12-20T20:23:04.695Z"
   },
   {
    "duration": 449,
    "start_time": "2021-12-20T20:23:15.016Z"
   },
   {
    "duration": 418,
    "start_time": "2021-12-20T20:23:28.070Z"
   },
   {
    "duration": 660,
    "start_time": "2021-12-20T20:23:55.687Z"
   },
   {
    "duration": 467,
    "start_time": "2021-12-20T20:24:06.436Z"
   },
   {
    "duration": 421,
    "start_time": "2021-12-20T20:24:19.787Z"
   },
   {
    "duration": 698,
    "start_time": "2021-12-20T20:33:29.492Z"
   },
   {
    "duration": 487,
    "start_time": "2021-12-20T20:34:00.686Z"
   },
   {
    "duration": 766,
    "start_time": "2021-12-20T20:34:02.124Z"
   },
   {
    "duration": 38,
    "start_time": "2021-12-20T20:34:03.542Z"
   },
   {
    "duration": 85,
    "start_time": "2021-12-20T20:35:14.430Z"
   },
   {
    "duration": 696,
    "start_time": "2021-12-20T20:35:21.708Z"
   },
   {
    "duration": 811,
    "start_time": "2021-12-20T20:37:28.213Z"
   },
   {
    "duration": 736,
    "start_time": "2021-12-20T20:39:47.880Z"
   },
   {
    "duration": 823,
    "start_time": "2021-12-20T20:40:12.237Z"
   },
   {
    "duration": 577,
    "start_time": "2021-12-20T20:40:16.027Z"
   },
   {
    "duration": 1000,
    "start_time": "2021-12-20T20:40:17.608Z"
   },
   {
    "duration": 33,
    "start_time": "2021-12-20T20:40:19.206Z"
   },
   {
    "duration": 488,
    "start_time": "2021-12-20T20:42:09.253Z"
   },
   {
    "duration": 534,
    "start_time": "2021-12-20T20:42:31.854Z"
   },
   {
    "duration": 614,
    "start_time": "2021-12-20T20:42:34.793Z"
   },
   {
    "duration": 537,
    "start_time": "2021-12-20T20:43:51.079Z"
   },
   {
    "duration": 520,
    "start_time": "2021-12-20T20:44:05.152Z"
   },
   {
    "duration": 538,
    "start_time": "2021-12-20T20:44:25.557Z"
   },
   {
    "duration": 888,
    "start_time": "2021-12-20T21:03:07.355Z"
   },
   {
    "duration": 9748,
    "start_time": "2021-12-20T21:03:38.801Z"
   },
   {
    "duration": 767,
    "start_time": "2021-12-20T21:04:09.573Z"
   },
   {
    "duration": 746,
    "start_time": "2021-12-20T21:04:44.340Z"
   },
   {
    "duration": 720,
    "start_time": "2021-12-20T21:05:01.325Z"
   },
   {
    "duration": 645,
    "start_time": "2021-12-20T21:05:12.893Z"
   },
   {
    "duration": 703,
    "start_time": "2021-12-20T21:05:23.226Z"
   },
   {
    "duration": 1164,
    "start_time": "2021-12-20T21:09:29.572Z"
   },
   {
    "duration": 6924,
    "start_time": "2021-12-20T21:09:47.615Z"
   },
   {
    "duration": 120,
    "start_time": "2021-12-20T21:10:28.094Z"
   },
   {
    "duration": 92,
    "start_time": "2021-12-20T21:35:02.746Z"
   },
   {
    "duration": 1264,
    "start_time": "2021-12-20T21:35:14.519Z"
   },
   {
    "duration": 1192,
    "start_time": "2021-12-20T21:35:40.269Z"
   },
   {
    "duration": 1120,
    "start_time": "2021-12-20T21:35:57.899Z"
   },
   {
    "duration": 1288,
    "start_time": "2021-12-20T21:36:29.883Z"
   },
   {
    "duration": 1106,
    "start_time": "2021-12-20T21:38:39.025Z"
   },
   {
    "duration": 470,
    "start_time": "2021-12-20T21:38:50.310Z"
   },
   {
    "duration": 1274,
    "start_time": "2021-12-20T21:38:51.583Z"
   },
   {
    "duration": 154,
    "start_time": "2021-12-20T21:39:45.877Z"
   },
   {
    "duration": 1197,
    "start_time": "2021-12-20T21:39:50.573Z"
   },
   {
    "duration": 982,
    "start_time": "2021-12-20T21:40:35.054Z"
   },
   {
    "duration": 1100,
    "start_time": "2021-12-20T21:43:05.521Z"
   },
   {
    "duration": 1098,
    "start_time": "2021-12-20T21:44:40.761Z"
   },
   {
    "duration": 498,
    "start_time": "2021-12-20T21:44:53.108Z"
   },
   {
    "duration": 1097,
    "start_time": "2021-12-20T21:44:55.878Z"
   },
   {
    "duration": 36,
    "start_time": "2021-12-20T21:44:56.978Z"
   },
   {
    "duration": 1005,
    "start_time": "2021-12-20T21:45:52.904Z"
   },
   {
    "duration": 503,
    "start_time": "2021-12-20T21:51:32.143Z"
   },
   {
    "duration": 493,
    "start_time": "2021-12-20T21:51:43.356Z"
   },
   {
    "duration": 485,
    "start_time": "2021-12-20T21:51:44.317Z"
   },
   {
    "duration": 452,
    "start_time": "2021-12-20T21:53:30.779Z"
   },
   {
    "duration": 478,
    "start_time": "2021-12-20T22:00:29.733Z"
   },
   {
    "duration": 43,
    "start_time": "2021-12-20T22:05:11.026Z"
   },
   {
    "duration": 49,
    "start_time": "2021-12-20T22:05:23.761Z"
   },
   {
    "duration": 1262,
    "start_time": "2021-12-21T06:09:26.680Z"
   },
   {
    "duration": 769,
    "start_time": "2021-12-21T06:09:27.945Z"
   },
   {
    "duration": 60,
    "start_time": "2021-12-21T06:09:28.725Z"
   },
   {
    "duration": 394,
    "start_time": "2021-12-21T06:39:50.663Z"
   },
   {
    "duration": 16,
    "start_time": "2021-12-21T06:40:01.887Z"
   },
   {
    "duration": 9,
    "start_time": "2021-12-21T06:40:24.142Z"
   },
   {
    "duration": 282,
    "start_time": "2021-12-21T06:49:05.750Z"
   },
   {
    "duration": 267,
    "start_time": "2021-12-21T06:49:30.454Z"
   },
   {
    "duration": 1558,
    "start_time": "2021-12-21T06:51:24.675Z"
   },
   {
    "duration": 1319,
    "start_time": "2021-12-21T06:51:42.048Z"
   },
   {
    "duration": 1298,
    "start_time": "2021-12-21T06:52:32.153Z"
   },
   {
    "duration": 4034,
    "start_time": "2021-12-21T06:52:38.122Z"
   },
   {
    "duration": 904,
    "start_time": "2021-12-21T06:52:49.177Z"
   },
   {
    "duration": 1014,
    "start_time": "2021-12-21T06:56:18.364Z"
   },
   {
    "duration": 935,
    "start_time": "2021-12-21T06:56:40.812Z"
   },
   {
    "duration": 1054,
    "start_time": "2021-12-21T06:57:49.959Z"
   },
   {
    "duration": 574,
    "start_time": "2021-12-21T06:58:25.495Z"
   },
   {
    "duration": 776,
    "start_time": "2021-12-21T06:58:26.774Z"
   },
   {
    "duration": 59,
    "start_time": "2021-12-21T06:58:28.331Z"
   },
   {
    "duration": 979,
    "start_time": "2021-12-21T06:58:28.701Z"
   },
   {
    "duration": 8150,
    "start_time": "2021-12-21T07:18:51.303Z"
   },
   {
    "duration": 8313,
    "start_time": "2021-12-21T07:22:56.533Z"
   },
   {
    "duration": 971,
    "start_time": "2021-12-21T07:23:14.909Z"
   },
   {
    "duration": 517,
    "start_time": "2021-12-21T07:26:11.828Z"
   },
   {
    "duration": 728,
    "start_time": "2021-12-21T07:27:59.818Z"
   },
   {
    "duration": 665,
    "start_time": "2021-12-21T07:29:07.894Z"
   },
   {
    "duration": 509,
    "start_time": "2021-12-21T07:30:03.660Z"
   },
   {
    "duration": 775,
    "start_time": "2021-12-21T07:30:04.863Z"
   },
   {
    "duration": 864,
    "start_time": "2021-12-21T07:31:14.573Z"
   },
   {
    "duration": 582,
    "start_time": "2021-12-21T07:31:19.850Z"
   },
   {
    "duration": 788,
    "start_time": "2021-12-21T07:31:20.562Z"
   },
   {
    "duration": 74,
    "start_time": "2021-12-21T07:31:21.353Z"
   },
   {
    "duration": 1080,
    "start_time": "2021-12-21T07:31:35.979Z"
   },
   {
    "duration": 257,
    "start_time": "2021-12-21T07:48:19.547Z"
   },
   {
    "duration": 436,
    "start_time": "2021-12-21T07:48:38.331Z"
   },
   {
    "duration": 12890,
    "start_time": "2021-12-21T07:51:13.065Z"
   },
   {
    "duration": 781,
    "start_time": "2021-12-21T07:52:29.179Z"
   },
   {
    "duration": 1481,
    "start_time": "2021-12-21T07:52:37.318Z"
   },
   {
    "duration": 542,
    "start_time": "2021-12-21T07:52:53.644Z"
   },
   {
    "duration": 769,
    "start_time": "2021-12-21T07:52:54.518Z"
   },
   {
    "duration": 67,
    "start_time": "2021-12-21T07:52:55.289Z"
   },
   {
    "duration": 1027,
    "start_time": "2021-12-21T07:52:55.578Z"
   },
   {
    "duration": 1345,
    "start_time": "2021-12-21T07:52:56.608Z"
   },
   {
    "duration": 574,
    "start_time": "2021-12-21T07:53:12.822Z"
   },
   {
    "duration": 659,
    "start_time": "2021-12-21T07:53:25.724Z"
   },
   {
    "duration": 587,
    "start_time": "2021-12-21T07:54:20.988Z"
   },
   {
    "duration": 438,
    "start_time": "2021-12-21T07:54:28.918Z"
   },
   {
    "duration": 372,
    "start_time": "2021-12-21T07:54:36.703Z"
   },
   {
    "duration": 467,
    "start_time": "2021-12-21T07:54:42.973Z"
   },
   {
    "duration": 488,
    "start_time": "2021-12-21T07:54:49.393Z"
   },
   {
    "duration": 520,
    "start_time": "2021-12-21T07:55:04.542Z"
   },
   {
    "duration": 304,
    "start_time": "2021-12-21T07:55:17.667Z"
   },
   {
    "duration": 504,
    "start_time": "2021-12-21T07:55:29.007Z"
   },
   {
    "duration": 355,
    "start_time": "2021-12-21T07:55:35.450Z"
   },
   {
    "duration": 373,
    "start_time": "2021-12-21T07:55:47.815Z"
   },
   {
    "duration": 352,
    "start_time": "2021-12-21T07:56:00.174Z"
   },
   {
    "duration": 322,
    "start_time": "2021-12-21T07:56:06.081Z"
   },
   {
    "duration": 325,
    "start_time": "2021-12-21T07:56:15.736Z"
   },
   {
    "duration": 406,
    "start_time": "2021-12-21T07:56:25.520Z"
   },
   {
    "duration": 414,
    "start_time": "2021-12-21T07:56:36.612Z"
   },
   {
    "duration": 521,
    "start_time": "2021-12-21T07:57:11.394Z"
   },
   {
    "duration": 274,
    "start_time": "2021-12-21T07:57:38.764Z"
   },
   {
    "duration": 646,
    "start_time": "2021-12-21T07:59:01.228Z"
   },
   {
    "duration": 298,
    "start_time": "2021-12-21T07:59:19.128Z"
   },
   {
    "duration": 270,
    "start_time": "2021-12-21T07:59:40.524Z"
   },
   {
    "duration": 620,
    "start_time": "2021-12-21T07:59:49.075Z"
   },
   {
    "duration": 292,
    "start_time": "2021-12-21T07:59:57.891Z"
   },
   {
    "duration": 511,
    "start_time": "2021-12-21T08:00:05.194Z"
   },
   {
    "duration": 527,
    "start_time": "2021-12-21T08:00:15.892Z"
   },
   {
    "duration": 520,
    "start_time": "2021-12-21T08:00:23.818Z"
   },
   {
    "duration": 2572,
    "start_time": "2021-12-21T08:00:29.809Z"
   },
   {
    "duration": 303,
    "start_time": "2021-12-21T08:00:46.308Z"
   },
   {
    "duration": 389,
    "start_time": "2021-12-21T08:00:53.691Z"
   },
   {
    "duration": 526,
    "start_time": "2021-12-21T08:01:03.109Z"
   },
   {
    "duration": 506,
    "start_time": "2021-12-21T08:01:40.827Z"
   },
   {
    "duration": 594,
    "start_time": "2021-12-21T08:01:54.521Z"
   },
   {
    "duration": 789,
    "start_time": "2021-12-21T08:02:20.140Z"
   },
   {
    "duration": 526,
    "start_time": "2021-12-21T08:02:54.174Z"
   },
   {
    "duration": 548,
    "start_time": "2021-12-21T08:03:07.186Z"
   },
   {
    "duration": 538,
    "start_time": "2021-12-21T08:03:14.390Z"
   },
   {
    "duration": 630,
    "start_time": "2021-12-21T08:03:22.837Z"
   },
   {
    "duration": 554,
    "start_time": "2021-12-21T08:03:26.695Z"
   },
   {
    "duration": 536,
    "start_time": "2021-12-21T08:03:51.149Z"
   },
   {
    "duration": 566,
    "start_time": "2021-12-21T08:04:04.727Z"
   },
   {
    "duration": 437,
    "start_time": "2021-12-21T08:04:15.865Z"
   },
   {
    "duration": 946,
    "start_time": "2021-12-21T08:04:22.222Z"
   },
   {
    "duration": 412,
    "start_time": "2021-12-21T08:04:23.906Z"
   },
   {
    "duration": 531,
    "start_time": "2021-12-21T08:46:44.550Z"
   },
   {
    "duration": 770,
    "start_time": "2021-12-21T08:46:45.904Z"
   },
   {
    "duration": 68,
    "start_time": "2021-12-21T08:46:46.676Z"
   },
   {
    "duration": 277,
    "start_time": "2021-12-21T08:48:57.481Z"
   },
   {
    "duration": 936,
    "start_time": "2021-12-21T08:49:19.512Z"
   },
   {
    "duration": 1068,
    "start_time": "2021-12-21T08:50:25.180Z"
   },
   {
    "duration": 539,
    "start_time": "2021-12-21T08:51:26.321Z"
   },
   {
    "duration": 785,
    "start_time": "2021-12-21T08:51:27.018Z"
   },
   {
    "duration": 68,
    "start_time": "2021-12-21T08:51:27.806Z"
   },
   {
    "duration": 1007,
    "start_time": "2021-12-21T08:51:28.068Z"
   },
   {
    "duration": 521,
    "start_time": "2021-12-21T08:51:32.970Z"
   },
   {
    "duration": 532,
    "start_time": "2021-12-21T08:52:06.383Z"
   },
   {
    "duration": 541,
    "start_time": "2021-12-21T08:52:13.619Z"
   },
   {
    "duration": 511,
    "start_time": "2021-12-21T08:52:24.097Z"
   },
   {
    "duration": 500,
    "start_time": "2021-12-21T08:52:42.555Z"
   },
   {
    "duration": 537,
    "start_time": "2021-12-21T08:52:51.332Z"
   },
   {
    "duration": 527,
    "start_time": "2021-12-21T08:53:05.244Z"
   },
   {
    "duration": 503,
    "start_time": "2021-12-21T08:53:41.385Z"
   },
   {
    "duration": 520,
    "start_time": "2021-12-21T08:53:49.442Z"
   },
   {
    "duration": 568,
    "start_time": "2021-12-21T08:54:03.274Z"
   },
   {
    "duration": 652,
    "start_time": "2021-12-21T08:56:06.651Z"
   },
   {
    "duration": 89,
    "start_time": "2021-12-21T08:56:27.022Z"
   },
   {
    "duration": 162,
    "start_time": "2021-12-21T08:56:38.968Z"
   },
   {
    "duration": 489,
    "start_time": "2021-12-21T08:57:05.076Z"
   },
   {
    "duration": 579,
    "start_time": "2021-12-21T08:57:48.246Z"
   },
   {
    "duration": 793,
    "start_time": "2021-12-21T08:57:49.501Z"
   },
   {
    "duration": 97,
    "start_time": "2021-12-21T08:57:50.297Z"
   },
   {
    "duration": 1055,
    "start_time": "2021-12-21T08:57:51.613Z"
   },
   {
    "duration": 666,
    "start_time": "2021-12-21T08:57:53.052Z"
   },
   {
    "duration": 690,
    "start_time": "2021-12-21T08:57:54.915Z"
   },
   {
    "duration": 462,
    "start_time": "2021-12-21T08:57:56.742Z"
   },
   {
    "duration": 556,
    "start_time": "2021-12-21T08:58:30.272Z"
   },
   {
    "duration": 601,
    "start_time": "2021-12-21T08:58:36.664Z"
   },
   {
    "duration": 279,
    "start_time": "2021-12-21T08:58:49.960Z"
   },
   {
    "duration": 268,
    "start_time": "2021-12-21T08:58:56.435Z"
   },
   {
    "duration": 279,
    "start_time": "2021-12-21T08:59:02.615Z"
   },
   {
    "duration": 325,
    "start_time": "2021-12-21T08:59:07.708Z"
   },
   {
    "duration": 289,
    "start_time": "2021-12-21T08:59:27.619Z"
   },
   {
    "duration": 273,
    "start_time": "2021-12-21T08:59:31.575Z"
   },
   {
    "duration": 290,
    "start_time": "2021-12-21T08:59:39.096Z"
   },
   {
    "duration": 305,
    "start_time": "2021-12-21T08:59:48.819Z"
   },
   {
    "duration": 543,
    "start_time": "2021-12-21T08:59:59.137Z"
   },
   {
    "duration": 62,
    "start_time": "2021-12-21T09:00:09.720Z"
   },
   {
    "duration": 1136,
    "start_time": "2021-12-21T09:00:12.761Z"
   },
   {
    "duration": 534,
    "start_time": "2021-12-21T09:01:16.362Z"
   },
   {
    "duration": 592,
    "start_time": "2021-12-21T09:01:17.053Z"
   },
   {
    "duration": 572,
    "start_time": "2021-12-21T09:01:18.716Z"
   },
   {
    "duration": 676,
    "start_time": "2021-12-21T09:01:20.678Z"
   },
   {
    "duration": 466,
    "start_time": "2021-12-21T09:01:27.222Z"
   },
   {
    "duration": 626,
    "start_time": "2021-12-21T09:01:34.208Z"
   },
   {
    "duration": 646,
    "start_time": "2021-12-21T09:03:41.996Z"
   },
   {
    "duration": 938,
    "start_time": "2021-12-21T09:03:47.485Z"
   },
   {
    "duration": 896,
    "start_time": "2021-12-21T09:03:51.628Z"
   },
   {
    "duration": 784,
    "start_time": "2021-12-21T09:04:04.911Z"
   },
   {
    "duration": 591,
    "start_time": "2021-12-21T09:04:25.497Z"
   },
   {
    "duration": 574,
    "start_time": "2021-12-21T09:04:32.542Z"
   },
   {
    "duration": 867,
    "start_time": "2021-12-21T09:04:40.005Z"
   },
   {
    "duration": 964,
    "start_time": "2021-12-21T09:13:57.922Z"
   },
   {
    "duration": 615,
    "start_time": "2021-12-21T09:14:10.740Z"
   },
   {
    "duration": 656,
    "start_time": "2021-12-21T09:14:17.780Z"
   },
   {
    "duration": 642,
    "start_time": "2021-12-21T09:14:26.108Z"
   },
   {
    "duration": 689,
    "start_time": "2021-12-21T09:14:31.587Z"
   },
   {
    "duration": 801,
    "start_time": "2021-12-21T09:14:37.235Z"
   },
   {
    "duration": 1004,
    "start_time": "2021-12-21T09:14:44.044Z"
   },
   {
    "duration": 692,
    "start_time": "2021-12-21T09:15:15.705Z"
   },
   {
    "duration": 829,
    "start_time": "2021-12-21T09:15:42.294Z"
   },
   {
    "duration": 768,
    "start_time": "2021-12-21T09:15:56.421Z"
   },
   {
    "duration": 834,
    "start_time": "2021-12-21T09:16:05.637Z"
   },
   {
    "duration": 715,
    "start_time": "2021-12-21T09:16:19.575Z"
   },
   {
    "duration": 7,
    "start_time": "2021-12-21T09:17:21.026Z"
   },
   {
    "duration": 619,
    "start_time": "2021-12-21T09:17:58.447Z"
   },
   {
    "duration": 603,
    "start_time": "2021-12-21T09:18:05.016Z"
   },
   {
    "duration": 620,
    "start_time": "2021-12-21T09:18:13.640Z"
   },
   {
    "duration": 2132,
    "start_time": "2021-12-21T09:27:20.448Z"
   },
   {
    "duration": 1321,
    "start_time": "2021-12-21T09:32:55.396Z"
   },
   {
    "duration": 1130,
    "start_time": "2021-12-21T09:33:06.239Z"
   },
   {
    "duration": 1132,
    "start_time": "2021-12-21T09:33:29.534Z"
   },
   {
    "duration": 1351,
    "start_time": "2021-12-21T09:33:52.121Z"
   },
   {
    "duration": 741,
    "start_time": "2021-12-21T09:34:04.334Z"
   },
   {
    "duration": 2815,
    "start_time": "2021-12-21T09:34:20.049Z"
   },
   {
    "duration": 773,
    "start_time": "2021-12-21T09:34:29.637Z"
   },
   {
    "duration": 627,
    "start_time": "2021-12-21T09:34:43.007Z"
   },
   {
    "duration": 572,
    "start_time": "2021-12-21T09:36:08.392Z"
   },
   {
    "duration": 592,
    "start_time": "2021-12-21T09:36:23.739Z"
   },
   {
    "duration": 3095,
    "start_time": "2021-12-21T09:36:31.494Z"
   },
   {
    "duration": 705,
    "start_time": "2021-12-21T09:36:38.721Z"
   },
   {
    "duration": 651,
    "start_time": "2021-12-21T09:36:51.775Z"
   },
   {
    "duration": 991,
    "start_time": "2021-12-21T09:44:17.418Z"
   },
   {
    "duration": 779,
    "start_time": "2021-12-21T09:44:34.536Z"
   },
   {
    "duration": 532,
    "start_time": "2021-12-21T09:49:26.040Z"
   },
   {
    "duration": 1571,
    "start_time": "2021-12-21T09:50:09.187Z"
   },
   {
    "duration": 655,
    "start_time": "2021-12-21T09:52:26.974Z"
   },
   {
    "duration": 217,
    "start_time": "2021-12-21T09:53:17.406Z"
   },
   {
    "duration": 228,
    "start_time": "2021-12-21T09:53:26.653Z"
   },
   {
    "duration": 285,
    "start_time": "2021-12-21T09:53:38.480Z"
   },
   {
    "duration": 226,
    "start_time": "2021-12-21T09:53:51.618Z"
   },
   {
    "duration": 222,
    "start_time": "2021-12-21T09:55:11.312Z"
   },
   {
    "duration": 603,
    "start_time": "2021-12-21T09:57:19.370Z"
   },
   {
    "duration": 755,
    "start_time": "2021-12-21T09:57:20.073Z"
   },
   {
    "duration": 57,
    "start_time": "2021-12-21T09:57:20.831Z"
   },
   {
    "duration": 980,
    "start_time": "2021-12-21T09:57:21.343Z"
   },
   {
    "duration": 613,
    "start_time": "2021-12-21T09:57:22.468Z"
   },
   {
    "duration": 692,
    "start_time": "2021-12-21T09:57:23.084Z"
   },
   {
    "duration": 697,
    "start_time": "2021-12-21T09:57:23.780Z"
   },
   {
    "duration": 688,
    "start_time": "2021-12-21T09:57:24.479Z"
   },
   {
    "duration": 705,
    "start_time": "2021-12-21T09:57:25.170Z"
   },
   {
    "duration": 687,
    "start_time": "2021-12-21T09:57:25.879Z"
   },
   {
    "duration": 778,
    "start_time": "2021-12-21T09:57:26.570Z"
   },
   {
    "duration": 678,
    "start_time": "2021-12-21T09:57:27.351Z"
   },
   {
    "duration": 729,
    "start_time": "2021-12-21T09:57:28.033Z"
   },
   {
    "duration": 7,
    "start_time": "2021-12-21T09:57:28.764Z"
   },
   {
    "duration": 240,
    "start_time": "2021-12-21T09:57:28.773Z"
   },
   {
    "duration": 219,
    "start_time": "2021-12-21T09:57:39.744Z"
   },
   {
    "duration": 219,
    "start_time": "2021-12-21T09:58:33.470Z"
   },
   {
    "duration": 13,
    "start_time": "2021-12-21T09:59:07.930Z"
   },
   {
    "duration": 7,
    "start_time": "2021-12-21T09:59:24.758Z"
   },
   {
    "duration": 627,
    "start_time": "2021-12-21T09:59:29.242Z"
   },
   {
    "duration": 1102,
    "start_time": "2021-12-21T09:59:34.148Z"
   },
   {
    "duration": 6,
    "start_time": "2021-12-21T09:59:41.212Z"
   },
   {
    "duration": 12,
    "start_time": "2021-12-21T09:59:46.082Z"
   },
   {
    "duration": 539,
    "start_time": "2021-12-21T10:00:00.643Z"
   },
   {
    "duration": 800,
    "start_time": "2021-12-21T10:00:01.926Z"
   },
   {
    "duration": 72,
    "start_time": "2021-12-21T10:00:02.729Z"
   },
   {
    "duration": 1208,
    "start_time": "2021-12-21T10:00:22.915Z"
   },
   {
    "duration": 660,
    "start_time": "2021-12-21T10:00:24.127Z"
   },
   {
    "duration": 679,
    "start_time": "2021-12-21T10:00:24.789Z"
   },
   {
    "duration": 982,
    "start_time": "2021-12-21T10:00:25.609Z"
   },
   {
    "duration": 689,
    "start_time": "2021-12-21T10:00:26.595Z"
   },
   {
    "duration": 859,
    "start_time": "2021-12-21T10:00:27.352Z"
   },
   {
    "duration": 885,
    "start_time": "2021-12-21T10:00:28.461Z"
   },
   {
    "duration": 641,
    "start_time": "2021-12-21T10:00:29.549Z"
   },
   {
    "duration": 627,
    "start_time": "2021-12-21T10:00:30.553Z"
   },
   {
    "duration": 733,
    "start_time": "2021-12-21T10:00:34.339Z"
   },
   {
    "duration": 13,
    "start_time": "2021-12-21T10:00:36.006Z"
   },
   {
    "duration": 789,
    "start_time": "2021-12-21T10:00:48.187Z"
   },
   {
    "duration": 4,
    "start_time": "2021-12-21T10:00:50.473Z"
   },
   {
    "duration": 12,
    "start_time": "2021-12-21T10:00:51.175Z"
   },
   {
    "duration": 634,
    "start_time": "2021-12-21T10:01:13.692Z"
   },
   {
    "duration": 634,
    "start_time": "2021-12-21T10:01:15.236Z"
   },
   {
    "duration": 647,
    "start_time": "2021-12-21T10:01:16.688Z"
   },
   {
    "duration": 649,
    "start_time": "2021-12-21T10:01:20.824Z"
   },
   {
    "duration": 1458,
    "start_time": "2021-12-21T11:36:23.699Z"
   },
   {
    "duration": 977,
    "start_time": "2021-12-21T11:36:25.159Z"
   },
   {
    "duration": 62,
    "start_time": "2021-12-21T11:36:26.139Z"
   },
   {
    "duration": 1040,
    "start_time": "2021-12-21T11:36:26.640Z"
   },
   {
    "duration": 623,
    "start_time": "2021-12-21T11:36:28.619Z"
   },
   {
    "duration": 647,
    "start_time": "2021-12-21T11:36:29.499Z"
   },
   {
    "duration": 745,
    "start_time": "2021-12-21T11:36:30.393Z"
   },
   {
    "duration": 672,
    "start_time": "2021-12-21T11:36:31.163Z"
   },
   {
    "duration": 670,
    "start_time": "2021-12-21T11:36:32.038Z"
   },
   {
    "duration": 1106,
    "start_time": "2021-12-21T11:36:32.968Z"
   },
   {
    "duration": 815,
    "start_time": "2021-12-21T11:36:34.078Z"
   },
   {
    "duration": 668,
    "start_time": "2021-12-21T11:36:34.896Z"
   },
   {
    "duration": 3,
    "start_time": "2021-12-21T11:36:35.602Z"
   },
   {
    "duration": 12,
    "start_time": "2021-12-21T11:36:36.802Z"
   },
   {
    "duration": 358,
    "start_time": "2021-12-21T11:36:42.825Z"
   },
   {
    "duration": 680,
    "start_time": "2021-12-21T11:38:26.912Z"
   },
   {
    "duration": 777,
    "start_time": "2021-12-21T11:38:37.846Z"
   },
   {
    "duration": 1348,
    "start_time": "2021-12-21T11:38:52.387Z"
   },
   {
    "duration": 609,
    "start_time": "2021-12-21T11:39:37.978Z"
   },
   {
    "duration": 768,
    "start_time": "2021-12-21T11:39:40.178Z"
   },
   {
    "duration": 56,
    "start_time": "2021-12-21T11:39:41.914Z"
   },
   {
    "duration": 1860,
    "start_time": "2021-12-21T11:39:55.145Z"
   },
   {
    "duration": 980,
    "start_time": "2021-12-21T11:40:57.737Z"
   },
   {
    "duration": 596,
    "start_time": "2021-12-21T11:41:05.669Z"
   },
   {
    "duration": 732,
    "start_time": "2021-12-21T11:41:06.268Z"
   },
   {
    "duration": 644,
    "start_time": "2021-12-21T11:41:07.003Z"
   },
   {
    "duration": 774,
    "start_time": "2021-12-21T11:41:07.649Z"
   },
   {
    "duration": 1062,
    "start_time": "2021-12-21T11:41:08.427Z"
   },
   {
    "duration": 1035,
    "start_time": "2021-12-21T11:41:09.493Z"
   },
   {
    "duration": 850,
    "start_time": "2021-12-21T11:41:10.532Z"
   },
   {
    "duration": 682,
    "start_time": "2021-12-21T11:41:11.386Z"
   },
   {
    "duration": 3,
    "start_time": "2021-12-21T11:41:12.070Z"
   },
   {
    "duration": 13,
    "start_time": "2021-12-21T11:41:12.632Z"
   },
   {
    "duration": 295,
    "start_time": "2021-12-21T11:41:19.331Z"
   },
   {
    "duration": 575,
    "start_time": "2021-12-21T11:41:50.892Z"
   },
   {
    "duration": 823,
    "start_time": "2021-12-21T11:42:04.361Z"
   },
   {
    "duration": 1004,
    "start_time": "2021-12-21T11:42:44.353Z"
   },
   {
    "duration": 1471,
    "start_time": "2021-12-21T11:43:08.278Z"
   },
   {
    "duration": 578,
    "start_time": "2021-12-21T11:43:12.092Z"
   },
   {
    "duration": 639,
    "start_time": "2021-12-21T11:43:12.753Z"
   },
   {
    "duration": 683,
    "start_time": "2021-12-21T11:43:13.395Z"
   },
   {
    "duration": 714,
    "start_time": "2021-12-21T11:43:14.081Z"
   },
   {
    "duration": 684,
    "start_time": "2021-12-21T11:43:14.798Z"
   },
   {
    "duration": 1060,
    "start_time": "2021-12-21T11:43:15.484Z"
   },
   {
    "duration": 783,
    "start_time": "2021-12-21T11:43:16.548Z"
   },
   {
    "duration": 1053,
    "start_time": "2021-12-21T11:43:27.333Z"
   },
   {
    "duration": 3,
    "start_time": "2021-12-21T11:43:28.389Z"
   },
   {
    "duration": 14,
    "start_time": "2021-12-21T11:43:29.598Z"
   },
   {
    "duration": 1196,
    "start_time": "2021-12-21T11:45:51.201Z"
   },
   {
    "duration": 225,
    "start_time": "2021-12-21T11:46:24.048Z"
   },
   {
    "duration": 229,
    "start_time": "2021-12-21T11:46:38.896Z"
   },
   {
    "duration": 288,
    "start_time": "2021-12-21T11:46:46.849Z"
   },
   {
    "duration": 244,
    "start_time": "2021-12-21T11:47:05.236Z"
   },
   {
    "duration": 230,
    "start_time": "2021-12-21T11:48:40.542Z"
   },
   {
    "duration": 231,
    "start_time": "2021-12-21T11:51:40.352Z"
   },
   {
    "duration": 1117,
    "start_time": "2021-12-21T12:04:59.487Z"
   },
   {
    "duration": 2112,
    "start_time": "2021-12-21T12:05:39.854Z"
   },
   {
    "duration": 116,
    "start_time": "2021-12-21T12:09:06.084Z"
   },
   {
    "duration": 310,
    "start_time": "2021-12-21T12:09:12.036Z"
   },
   {
    "duration": 475,
    "start_time": "2021-12-21T12:09:27.069Z"
   },
   {
    "duration": 1470,
    "start_time": "2021-12-21T12:10:16.460Z"
   },
   {
    "duration": 670,
    "start_time": "2021-12-21T12:10:42.186Z"
   },
   {
    "duration": 858,
    "start_time": "2021-12-21T12:10:43.938Z"
   },
   {
    "duration": 77,
    "start_time": "2021-12-21T12:10:44.799Z"
   },
   {
    "duration": 1115,
    "start_time": "2021-12-21T12:10:47.467Z"
   },
   {
    "duration": 1978,
    "start_time": "2021-12-21T12:11:04.687Z"
   },
   {
    "duration": 1023,
    "start_time": "2021-12-21T12:11:06.669Z"
   },
   {
    "duration": 1092,
    "start_time": "2021-12-21T12:11:07.695Z"
   },
   {
    "duration": 1081,
    "start_time": "2021-12-21T12:11:08.790Z"
   },
   {
    "duration": 712,
    "start_time": "2021-12-21T12:11:09.875Z"
   },
   {
    "duration": 885,
    "start_time": "2021-12-21T12:11:10.590Z"
   },
   {
    "duration": 704,
    "start_time": "2021-12-21T12:11:11.480Z"
   },
   {
    "duration": 700,
    "start_time": "2021-12-21T12:11:12.189Z"
   },
   {
    "duration": 711,
    "start_time": "2021-12-21T12:11:12.892Z"
   },
   {
    "duration": 779,
    "start_time": "2021-12-21T12:11:13.606Z"
   },
   {
    "duration": 14,
    "start_time": "2021-12-21T12:11:14.388Z"
   },
   {
    "duration": 288,
    "start_time": "2021-12-21T12:11:14.405Z"
   },
   {
    "duration": 1202,
    "start_time": "2021-12-21T12:12:01.812Z"
   },
   {
    "duration": 29,
    "start_time": "2021-12-21T12:12:38.061Z"
   },
   {
    "duration": 7,
    "start_time": "2021-12-21T12:13:55.091Z"
   },
   {
    "duration": 25,
    "start_time": "2021-12-21T12:14:27.648Z"
   },
   {
    "duration": 282,
    "start_time": "2021-12-21T12:15:34.549Z"
   },
   {
    "duration": 43,
    "start_time": "2021-12-21T12:15:41.507Z"
   },
   {
    "duration": 12,
    "start_time": "2021-12-21T12:16:22.868Z"
   },
   {
    "duration": 537,
    "start_time": "2021-12-21T12:17:35.942Z"
   },
   {
    "duration": 398,
    "start_time": "2021-12-21T12:17:43.706Z"
   },
   {
    "duration": 230,
    "start_time": "2021-12-21T12:20:56.480Z"
   },
   {
    "duration": 1229,
    "start_time": "2021-12-21T12:21:53.355Z"
   },
   {
    "duration": 301,
    "start_time": "2021-12-21T12:22:13.561Z"
   },
   {
    "duration": 1079,
    "start_time": "2021-12-21T12:22:16.292Z"
   },
   {
    "duration": 230,
    "start_time": "2021-12-21T12:22:57.069Z"
   },
   {
    "duration": 1036,
    "start_time": "2021-12-21T12:23:58.851Z"
   },
   {
    "duration": 1375,
    "start_time": "2021-12-21T12:24:33.386Z"
   },
   {
    "duration": 1406,
    "start_time": "2021-12-21T12:29:47.646Z"
   },
   {
    "duration": 306,
    "start_time": "2021-12-21T12:31:56.012Z"
   },
   {
    "duration": 1604,
    "start_time": "2021-12-21T12:32:48.080Z"
   },
   {
    "duration": 1323,
    "start_time": "2021-12-21T12:33:01.808Z"
   },
   {
    "duration": 588,
    "start_time": "2021-12-21T12:42:43.372Z"
   },
   {
    "duration": 448,
    "start_time": "2021-12-21T12:43:11.239Z"
   },
   {
    "duration": 1875,
    "start_time": "2021-12-21T12:48:54.413Z"
   },
   {
    "duration": 1379,
    "start_time": "2021-12-21T12:49:39.415Z"
   },
   {
    "duration": 1768,
    "start_time": "2021-12-21T13:02:46.889Z"
   },
   {
    "duration": 1978,
    "start_time": "2021-12-21T13:08:00.508Z"
   },
   {
    "duration": 2523,
    "start_time": "2021-12-21T13:09:17.725Z"
   },
   {
    "duration": 1750,
    "start_time": "2021-12-21T13:09:49.756Z"
   },
   {
    "duration": 2586,
    "start_time": "2021-12-21T13:10:01.862Z"
   },
   {
    "duration": 2235,
    "start_time": "2021-12-21T13:12:05.640Z"
   },
   {
    "duration": 2187,
    "start_time": "2021-12-21T13:13:27.890Z"
   },
   {
    "duration": 2577,
    "start_time": "2021-12-21T13:13:53.895Z"
   },
   {
    "duration": 7630,
    "start_time": "2021-12-21T13:18:45.793Z"
   },
   {
    "duration": 2273,
    "start_time": "2021-12-21T13:21:22.084Z"
   },
   {
    "duration": 3613,
    "start_time": "2021-12-21T13:23:12.510Z"
   },
   {
    "duration": 1808,
    "start_time": "2021-12-21T13:23:50.667Z"
   },
   {
    "duration": 1430,
    "start_time": "2021-12-21T13:23:56.184Z"
   },
   {
    "duration": 2136,
    "start_time": "2021-12-21T13:41:19.692Z"
   },
   {
    "duration": 2234,
    "start_time": "2021-12-21T13:49:19.548Z"
   },
   {
    "duration": 2316,
    "start_time": "2021-12-21T13:49:32.908Z"
   },
   {
    "duration": 2335,
    "start_time": "2021-12-21T13:55:39.870Z"
   },
   {
    "duration": 2152,
    "start_time": "2021-12-21T13:56:28.714Z"
   },
   {
    "duration": 3630,
    "start_time": "2021-12-21T13:56:41.654Z"
   },
   {
    "duration": 3343,
    "start_time": "2021-12-21T13:57:41.840Z"
   },
   {
    "duration": 92,
    "start_time": "2021-12-21T14:43:29.089Z"
   },
   {
    "duration": 105,
    "start_time": "2021-12-21T14:43:42.032Z"
   },
   {
    "duration": 97,
    "start_time": "2021-12-21T14:43:55.532Z"
   },
   {
    "duration": 109,
    "start_time": "2021-12-21T14:46:19.110Z"
   },
   {
    "duration": 139,
    "start_time": "2021-12-21T14:47:33.883Z"
   },
   {
    "duration": 101,
    "start_time": "2021-12-21T14:47:57.014Z"
   },
   {
    "duration": 113,
    "start_time": "2021-12-21T14:47:58.914Z"
   },
   {
    "duration": 3075,
    "start_time": "2021-12-21T14:48:08.950Z"
   },
   {
    "duration": 3425,
    "start_time": "2021-12-21T14:50:08.056Z"
   },
   {
    "duration": 3285,
    "start_time": "2021-12-21T14:51:26.886Z"
   },
   {
    "duration": 2891,
    "start_time": "2021-12-21T14:52:06.092Z"
   },
   {
    "duration": 2830,
    "start_time": "2021-12-21T14:52:24.529Z"
   },
   {
    "duration": 1990,
    "start_time": "2021-12-21T14:52:59.450Z"
   },
   {
    "duration": 2942,
    "start_time": "2021-12-21T14:53:18.733Z"
   },
   {
    "duration": 6,
    "start_time": "2021-12-21T15:00:15.803Z"
   },
   {
    "duration": 42,
    "start_time": "2021-12-21T15:00:29.250Z"
   },
   {
    "duration": 100,
    "start_time": "2021-12-21T15:01:22.006Z"
   },
   {
    "duration": 16,
    "start_time": "2021-12-21T15:04:55.724Z"
   },
   {
    "duration": 15,
    "start_time": "2021-12-21T15:06:29.823Z"
   },
   {
    "duration": 16,
    "start_time": "2021-12-21T15:06:41.358Z"
   },
   {
    "duration": 358,
    "start_time": "2021-12-21T15:06:57.947Z"
   },
   {
    "duration": 16,
    "start_time": "2021-12-21T15:07:11.168Z"
   },
   {
    "duration": 26,
    "start_time": "2021-12-21T15:07:41.888Z"
   },
   {
    "duration": 4179,
    "start_time": "2021-12-21T15:08:40.841Z"
   },
   {
    "duration": 20,
    "start_time": "2021-12-21T15:09:15.809Z"
   },
   {
    "duration": 24,
    "start_time": "2021-12-21T15:09:32.847Z"
   },
   {
    "duration": 308,
    "start_time": "2021-12-21T15:10:25.337Z"
   },
   {
    "duration": 299,
    "start_time": "2021-12-21T15:10:53.938Z"
   },
   {
    "duration": 297,
    "start_time": "2021-12-21T15:11:13.179Z"
   },
   {
    "duration": 307,
    "start_time": "2021-12-21T15:11:19.996Z"
   },
   {
    "duration": 364,
    "start_time": "2021-12-21T15:11:34.416Z"
   },
   {
    "duration": 26,
    "start_time": "2021-12-21T15:11:55.721Z"
   },
   {
    "duration": 303,
    "start_time": "2021-12-21T15:12:12.466Z"
   },
   {
    "duration": 326,
    "start_time": "2021-12-21T15:12:19.820Z"
   },
   {
    "duration": 1231,
    "start_time": "2021-12-21T15:12:31.355Z"
   },
   {
    "duration": 16,
    "start_time": "2021-12-21T15:20:48.180Z"
   },
   {
    "duration": 26,
    "start_time": "2021-12-21T15:21:02.576Z"
   },
   {
    "duration": 11,
    "start_time": "2021-12-21T15:21:20.421Z"
   },
   {
    "duration": 12,
    "start_time": "2021-12-21T15:22:27.037Z"
   },
   {
    "duration": 16,
    "start_time": "2021-12-21T15:22:31.145Z"
   },
   {
    "duration": 12,
    "start_time": "2021-12-21T15:23:12.833Z"
   },
   {
    "duration": 19,
    "start_time": "2021-12-21T15:27:38.786Z"
   },
   {
    "duration": 18,
    "start_time": "2021-12-21T15:28:24.915Z"
   },
   {
    "duration": 11,
    "start_time": "2021-12-21T15:28:42.208Z"
   },
   {
    "duration": 321,
    "start_time": "2021-12-21T15:31:29.443Z"
   },
   {
    "duration": 395,
    "start_time": "2021-12-21T15:33:55.907Z"
   },
   {
    "duration": 337,
    "start_time": "2021-12-21T15:39:41.523Z"
   },
   {
    "duration": 320,
    "start_time": "2021-12-21T15:40:21.574Z"
   },
   {
    "duration": 381,
    "start_time": "2021-12-21T15:41:21.761Z"
   },
   {
    "duration": 299,
    "start_time": "2021-12-21T15:41:35.684Z"
   },
   {
    "duration": 310,
    "start_time": "2021-12-21T15:41:46.747Z"
   },
   {
    "duration": 285,
    "start_time": "2021-12-21T15:42:03.341Z"
   },
   {
    "duration": 18,
    "start_time": "2021-12-21T15:43:21.542Z"
   },
   {
    "duration": 18,
    "start_time": "2021-12-21T15:43:28.129Z"
   },
   {
    "duration": 16,
    "start_time": "2021-12-21T15:43:49.372Z"
   },
   {
    "duration": 314,
    "start_time": "2021-12-21T16:40:25.871Z"
   },
   {
    "duration": 107,
    "start_time": "2021-12-21T16:51:05.782Z"
   },
   {
    "duration": 420,
    "start_time": "2021-12-21T16:52:56.591Z"
   },
   {
    "duration": 304,
    "start_time": "2021-12-21T16:53:10.546Z"
   },
   {
    "duration": 759,
    "start_time": "2021-12-21T16:53:37.938Z"
   },
   {
    "duration": 332,
    "start_time": "2021-12-21T16:54:42.673Z"
   },
   {
    "duration": 292,
    "start_time": "2021-12-21T16:54:51.823Z"
   },
   {
    "duration": 331,
    "start_time": "2021-12-21T16:56:49.098Z"
   },
   {
    "duration": 428,
    "start_time": "2021-12-21T16:56:59.954Z"
   },
   {
    "duration": 89,
    "start_time": "2021-12-21T16:57:14.349Z"
   },
   {
    "duration": 61,
    "start_time": "2021-12-21T16:57:51.843Z"
   },
   {
    "duration": 803,
    "start_time": "2021-12-21T16:58:23.057Z"
   },
   {
    "duration": 44,
    "start_time": "2021-12-21T16:59:16.297Z"
   },
   {
    "duration": 39,
    "start_time": "2021-12-21T17:01:04.359Z"
   },
   {
    "duration": 102,
    "start_time": "2021-12-21T17:02:14.025Z"
   },
   {
    "duration": 39,
    "start_time": "2021-12-21T17:02:31.691Z"
   },
   {
    "duration": 36,
    "start_time": "2021-12-21T17:03:00.892Z"
   },
   {
    "duration": 34,
    "start_time": "2021-12-21T17:03:41.883Z"
   },
   {
    "duration": 48,
    "start_time": "2021-12-21T17:03:59.646Z"
   },
   {
    "duration": 63,
    "start_time": "2021-12-21T17:04:57.701Z"
   },
   {
    "duration": 99,
    "start_time": "2021-12-21T17:05:13.133Z"
   },
   {
    "duration": 99,
    "start_time": "2021-12-21T17:07:31.565Z"
   },
   {
    "duration": 304,
    "start_time": "2021-12-21T17:07:40.357Z"
   },
   {
    "duration": 316,
    "start_time": "2021-12-21T17:07:56.513Z"
   },
   {
    "duration": 79,
    "start_time": "2021-12-21T17:09:47.827Z"
   },
   {
    "duration": 65,
    "start_time": "2021-12-21T17:10:55.449Z"
   },
   {
    "duration": 68,
    "start_time": "2021-12-21T17:11:15.419Z"
   },
   {
    "duration": 62,
    "start_time": "2021-12-21T17:11:32.354Z"
   },
   {
    "duration": 63,
    "start_time": "2021-12-21T17:12:37.811Z"
   },
   {
    "duration": 136,
    "start_time": "2021-12-21T17:14:10.173Z"
   },
   {
    "duration": 72,
    "start_time": "2021-12-21T17:15:05.678Z"
   },
   {
    "duration": 1303,
    "start_time": "2021-12-21T17:15:48.659Z"
   },
   {
    "duration": 47,
    "start_time": "2021-12-21T17:16:17.423Z"
   },
   {
    "duration": 96,
    "start_time": "2021-12-21T17:16:37.401Z"
   },
   {
    "duration": 113,
    "start_time": "2021-12-21T17:16:57.721Z"
   },
   {
    "duration": 56,
    "start_time": "2021-12-21T17:17:03.906Z"
   },
   {
    "duration": 378,
    "start_time": "2021-12-21T17:18:43.021Z"
   },
   {
    "duration": 76,
    "start_time": "2021-12-21T17:19:43.791Z"
   },
   {
    "duration": 57,
    "start_time": "2021-12-21T17:20:19.924Z"
   },
   {
    "duration": 58,
    "start_time": "2021-12-21T17:20:34.825Z"
   },
   {
    "duration": 55,
    "start_time": "2021-12-21T17:20:58.867Z"
   },
   {
    "duration": 68,
    "start_time": "2021-12-21T17:21:25.860Z"
   },
   {
    "duration": 64,
    "start_time": "2021-12-21T17:21:51.359Z"
   },
   {
    "duration": 64,
    "start_time": "2021-12-21T17:22:02.380Z"
   },
   {
    "duration": 63,
    "start_time": "2021-12-21T17:22:22.375Z"
   },
   {
    "duration": 63,
    "start_time": "2021-12-21T17:22:50.145Z"
   },
   {
    "duration": 15,
    "start_time": "2021-12-21T17:30:07.296Z"
   },
   {
    "duration": 35,
    "start_time": "2021-12-21T17:30:18.824Z"
   },
   {
    "duration": 66,
    "start_time": "2021-12-21T17:30:31.240Z"
   },
   {
    "duration": 7416,
    "start_time": "2021-12-21T17:33:23.824Z"
   },
   {
    "duration": 7799,
    "start_time": "2021-12-21T17:34:56.675Z"
   },
   {
    "duration": 33,
    "start_time": "2021-12-21T17:36:10.295Z"
   },
   {
    "duration": 309,
    "start_time": "2021-12-21T17:39:51.055Z"
   },
   {
    "duration": 33,
    "start_time": "2021-12-21T17:40:07.965Z"
   },
   {
    "duration": 36,
    "start_time": "2021-12-21T17:41:13.842Z"
   },
   {
    "duration": 1182,
    "start_time": "2021-12-21T17:50:13.268Z"
   },
   {
    "duration": 1220,
    "start_time": "2021-12-21T17:50:27.949Z"
   },
   {
    "duration": 470,
    "start_time": "2021-12-21T17:50:57.134Z"
   },
   {
    "duration": 405,
    "start_time": "2021-12-21T17:51:30.089Z"
   },
   {
    "duration": 412,
    "start_time": "2021-12-21T17:52:06.893Z"
   },
   {
    "duration": 440,
    "start_time": "2021-12-21T17:55:25.474Z"
   },
   {
    "duration": 537,
    "start_time": "2021-12-21T17:55:47.496Z"
   },
   {
    "duration": 801,
    "start_time": "2021-12-21T17:55:48.689Z"
   },
   {
    "duration": 69,
    "start_time": "2021-12-21T17:55:49.493Z"
   },
   {
    "duration": 1398,
    "start_time": "2021-12-21T17:55:49.565Z"
   },
   {
    "duration": 596,
    "start_time": "2021-12-21T17:55:52.327Z"
   },
   {
    "duration": 672,
    "start_time": "2021-12-21T17:55:52.926Z"
   },
   {
    "duration": 645,
    "start_time": "2021-12-21T17:55:53.600Z"
   },
   {
    "duration": 688,
    "start_time": "2021-12-21T17:55:54.249Z"
   },
   {
    "duration": 640,
    "start_time": "2021-12-21T17:55:54.939Z"
   },
   {
    "duration": 941,
    "start_time": "2021-12-21T17:55:55.583Z"
   },
   {
    "duration": 744,
    "start_time": "2021-12-21T17:55:56.526Z"
   },
   {
    "duration": 640,
    "start_time": "2021-12-21T17:55:57.272Z"
   },
   {
    "duration": 708,
    "start_time": "2021-12-21T17:55:57.915Z"
   },
   {
    "duration": 11,
    "start_time": "2021-12-21T17:55:58.625Z"
   },
   {
    "duration": 253,
    "start_time": "2021-12-21T17:55:58.639Z"
   },
   {
    "duration": 1478,
    "start_time": "2021-12-21T17:55:58.895Z"
   },
   {
    "duration": 2947,
    "start_time": "2021-12-21T17:56:00.376Z"
   },
   {
    "duration": 1336,
    "start_time": "2021-12-21T17:56:03.326Z"
   },
   {
    "duration": 82,
    "start_time": "2021-12-21T17:56:04.664Z"
   },
   {
    "duration": 417,
    "start_time": "2021-12-21T17:56:06.038Z"
   },
   {
    "duration": 435,
    "start_time": "2021-12-21T17:56:55.041Z"
   },
   {
    "duration": 439,
    "start_time": "2021-12-21T17:57:15.916Z"
   },
   {
    "duration": 448,
    "start_time": "2021-12-21T17:57:24.976Z"
   },
   {
    "duration": 469,
    "start_time": "2021-12-21T17:57:56.015Z"
   },
   {
    "duration": 460,
    "start_time": "2021-12-21T17:58:41.388Z"
   },
   {
    "duration": 586,
    "start_time": "2021-12-21T17:58:49.441Z"
   },
   {
    "duration": 100,
    "start_time": "2021-12-21T17:59:16.431Z"
   },
   {
    "duration": 574,
    "start_time": "2021-12-21T17:59:22.136Z"
   },
   {
    "duration": 7873,
    "start_time": "2021-12-21T17:59:51.561Z"
   },
   {
    "duration": 589,
    "start_time": "2021-12-21T18:00:14.793Z"
   },
   {
    "duration": 592,
    "start_time": "2021-12-21T18:00:22.334Z"
   },
   {
    "duration": 590,
    "start_time": "2021-12-21T18:00:58.863Z"
   },
   {
    "duration": 7030,
    "start_time": "2021-12-21T18:01:11.311Z"
   },
   {
    "duration": 611,
    "start_time": "2021-12-21T18:01:40.617Z"
   },
   {
    "duration": 8081,
    "start_time": "2021-12-21T18:01:58.901Z"
   },
   {
    "duration": 13313,
    "start_time": "2021-12-21T18:03:48.858Z"
   },
   {
    "duration": 351,
    "start_time": "2021-12-21T18:04:23.985Z"
   },
   {
    "duration": 581,
    "start_time": "2021-12-21T18:05:26.057Z"
   },
   {
    "duration": 334,
    "start_time": "2021-12-21T18:05:57.044Z"
   },
   {
    "duration": 409,
    "start_time": "2021-12-21T18:06:19.806Z"
   },
   {
    "duration": 389,
    "start_time": "2021-12-21T18:07:59.381Z"
   },
   {
    "duration": 740,
    "start_time": "2021-12-21T18:08:16.266Z"
   },
   {
    "duration": 876,
    "start_time": "2021-12-21T18:08:41.240Z"
   },
   {
    "duration": 785,
    "start_time": "2021-12-21T18:09:22.241Z"
   },
   {
    "duration": 825,
    "start_time": "2021-12-21T18:12:12.573Z"
   },
   {
    "duration": 491,
    "start_time": "2021-12-21T18:13:17.783Z"
   },
   {
    "duration": 499,
    "start_time": "2021-12-21T18:22:17.565Z"
   },
   {
    "duration": 104,
    "start_time": "2021-12-21T18:25:13.901Z"
   },
   {
    "duration": 97,
    "start_time": "2021-12-21T18:25:36.467Z"
   },
   {
    "duration": 289,
    "start_time": "2021-12-21T18:25:52.219Z"
   },
   {
    "duration": 307,
    "start_time": "2021-12-21T18:26:04.252Z"
   },
   {
    "duration": 504,
    "start_time": "2021-12-21T18:26:33.408Z"
   },
   {
    "duration": 504,
    "start_time": "2021-12-21T18:26:48.297Z"
   },
   {
    "duration": 9,
    "start_time": "2021-12-21T18:31:16.645Z"
   },
   {
    "duration": 33,
    "start_time": "2021-12-21T18:31:27.683Z"
   },
   {
    "duration": 702,
    "start_time": "2021-12-21T18:33:09.433Z"
   },
   {
    "duration": 620,
    "start_time": "2021-12-21T18:34:03.110Z"
   },
   {
    "duration": 650,
    "start_time": "2021-12-21T18:34:17.736Z"
   },
   {
    "duration": 624,
    "start_time": "2021-12-21T18:35:08.943Z"
   },
   {
    "duration": 107,
    "start_time": "2021-12-21T18:35:22.540Z"
   },
   {
    "duration": 589,
    "start_time": "2021-12-21T18:35:40.769Z"
   },
   {
    "duration": 665,
    "start_time": "2021-12-21T18:35:51.011Z"
   },
   {
    "duration": 615,
    "start_time": "2021-12-21T18:37:28.081Z"
   },
   {
    "duration": 702,
    "start_time": "2021-12-21T18:38:32.942Z"
   },
   {
    "duration": 633,
    "start_time": "2021-12-21T18:38:57.577Z"
   },
   {
    "duration": 695,
    "start_time": "2021-12-21T18:39:04.200Z"
   },
   {
    "duration": 746,
    "start_time": "2021-12-21T18:39:10.930Z"
   },
   {
    "duration": 1012,
    "start_time": "2021-12-21T18:39:20.559Z"
   },
   {
    "duration": 617,
    "start_time": "2021-12-21T18:39:32.119Z"
   },
   {
    "duration": 781,
    "start_time": "2021-12-21T18:42:48.100Z"
   },
   {
    "duration": 515,
    "start_time": "2021-12-21T18:43:12.555Z"
   },
   {
    "duration": 762,
    "start_time": "2021-12-21T18:43:13.381Z"
   },
   {
    "duration": 56,
    "start_time": "2021-12-21T18:43:14.146Z"
   },
   {
    "duration": 975,
    "start_time": "2021-12-21T18:43:15.004Z"
   },
   {
    "duration": 605,
    "start_time": "2021-12-21T18:43:16.068Z"
   },
   {
    "duration": 853,
    "start_time": "2021-12-21T18:43:17.414Z"
   },
   {
    "duration": 762,
    "start_time": "2021-12-21T18:43:25.206Z"
   },
   {
    "duration": 902,
    "start_time": "2021-12-21T18:44:10.775Z"
   },
   {
    "duration": 645,
    "start_time": "2021-12-21T18:44:45.226Z"
   },
   {
    "duration": 616,
    "start_time": "2021-12-21T18:44:54.786Z"
   },
   {
    "duration": 621,
    "start_time": "2021-12-21T18:45:04.103Z"
   },
   {
    "duration": 630,
    "start_time": "2021-12-21T18:45:12.393Z"
   },
   {
    "duration": 614,
    "start_time": "2021-12-21T18:48:30.469Z"
   },
   {
    "duration": 2570,
    "start_time": "2021-12-21T18:54:50.426Z"
   },
   {
    "duration": 8748,
    "start_time": "2021-12-21T19:00:37.365Z"
   },
   {
    "duration": 2670,
    "start_time": "2021-12-21T19:01:21.742Z"
   },
   {
    "duration": 92,
    "start_time": "2021-12-21T19:02:01.765Z"
   },
   {
    "duration": 1268,
    "start_time": "2021-12-21T19:02:07.812Z"
   },
   {
    "duration": 3045,
    "start_time": "2021-12-21T19:02:31.047Z"
   },
   {
    "duration": 2512,
    "start_time": "2021-12-21T19:03:13.334Z"
   },
   {
    "duration": 2956,
    "start_time": "2021-12-21T19:18:29.853Z"
   },
   {
    "duration": 2532,
    "start_time": "2021-12-21T19:18:39.132Z"
   },
   {
    "duration": 1067,
    "start_time": "2021-12-21T19:20:45.867Z"
   },
   {
    "duration": 2506,
    "start_time": "2021-12-21T19:47:13.603Z"
   },
   {
    "duration": 1059,
    "start_time": "2021-12-21T19:50:10.267Z"
   },
   {
    "duration": 873,
    "start_time": "2021-12-22T13:59:15.752Z"
   },
   {
    "duration": 605,
    "start_time": "2021-12-22T13:59:16.627Z"
   },
   {
    "duration": 55,
    "start_time": "2021-12-22T13:59:17.236Z"
   },
   {
    "duration": 641,
    "start_time": "2021-12-22T13:59:17.293Z"
   },
   {
    "duration": 389,
    "start_time": "2021-12-22T13:59:17.936Z"
   },
   {
    "duration": 422,
    "start_time": "2021-12-22T13:59:18.326Z"
   },
   {
    "duration": 403,
    "start_time": "2021-12-22T13:59:18.750Z"
   },
   {
    "duration": 408,
    "start_time": "2021-12-22T13:59:19.155Z"
   },
   {
    "duration": 401,
    "start_time": "2021-12-22T13:59:19.564Z"
   },
   {
    "duration": 463,
    "start_time": "2021-12-22T13:59:19.966Z"
   },
   {
    "duration": 407,
    "start_time": "2021-12-22T13:59:20.431Z"
   },
   {
    "duration": 421,
    "start_time": "2021-12-22T13:59:20.840Z"
   },
   {
    "duration": 454,
    "start_time": "2021-12-22T13:59:21.263Z"
   },
   {
    "duration": 9,
    "start_time": "2021-12-22T13:59:21.719Z"
   },
   {
    "duration": 161,
    "start_time": "2021-12-22T13:59:21.730Z"
   },
   {
    "duration": 898,
    "start_time": "2021-12-22T13:59:21.893Z"
   },
   {
    "duration": 1812,
    "start_time": "2021-12-22T13:59:22.793Z"
   },
   {
    "duration": 873,
    "start_time": "2021-12-22T13:59:24.607Z"
   },
   {
    "duration": 52,
    "start_time": "2021-12-22T13:59:25.481Z"
   },
   {
    "duration": 339,
    "start_time": "2021-12-22T13:59:25.534Z"
   },
   {
    "duration": 493,
    "start_time": "2021-12-22T13:59:25.875Z"
   },
   {
    "duration": 412,
    "start_time": "2021-12-22T13:59:26.371Z"
   },
   {
    "duration": 382,
    "start_time": "2021-12-22T13:59:26.785Z"
   },
   {
    "duration": 388,
    "start_time": "2021-12-22T13:59:27.168Z"
   },
   {
    "duration": 1652,
    "start_time": "2021-12-22T13:59:27.558Z"
   },
   {
    "duration": 702,
    "start_time": "2021-12-22T13:59:29.212Z"
   },
   {
    "duration": 1131,
    "start_time": "2021-12-22T20:08:10.863Z"
   },
   {
    "duration": 518,
    "start_time": "2021-12-22T20:11:26.886Z"
   },
   {
    "duration": 779,
    "start_time": "2021-12-22T20:12:56.845Z"
   },
   {
    "duration": 569,
    "start_time": "2021-12-22T20:13:06.645Z"
   },
   {
    "duration": 534,
    "start_time": "2021-12-22T20:13:41.993Z"
   },
   {
    "duration": 201,
    "start_time": "2021-12-22T20:56:47.007Z"
   },
   {
    "duration": 453,
    "start_time": "2021-12-22T20:58:36.289Z"
   },
   {
    "duration": 602,
    "start_time": "2021-12-22T20:59:17.246Z"
   },
   {
    "duration": 673,
    "start_time": "2021-12-22T21:00:02.395Z"
   },
   {
    "duration": 633,
    "start_time": "2021-12-22T21:05:26.344Z"
   },
   {
    "duration": 444,
    "start_time": "2021-12-22T21:05:51.065Z"
   },
   {
    "duration": 421,
    "start_time": "2021-12-22T21:05:59.833Z"
   },
   {
    "duration": 420,
    "start_time": "2021-12-22T21:06:05.111Z"
   },
   {
    "duration": 438,
    "start_time": "2021-12-22T21:06:11.527Z"
   },
   {
    "duration": 481,
    "start_time": "2021-12-22T21:06:17.025Z"
   },
   {
    "duration": 453,
    "start_time": "2021-12-22T21:06:22.701Z"
   },
   {
    "duration": 584,
    "start_time": "2021-12-22T21:06:29.635Z"
   },
   {
    "duration": 1860,
    "start_time": "2021-12-23T09:34:22.934Z"
   },
   {
    "duration": 1236,
    "start_time": "2021-12-23T09:34:24.798Z"
   },
   {
    "duration": 62,
    "start_time": "2021-12-23T09:34:26.659Z"
   },
   {
    "duration": 1106,
    "start_time": "2021-12-23T09:34:29.434Z"
   },
   {
    "duration": 595,
    "start_time": "2021-12-23T09:34:32.364Z"
   },
   {
    "duration": 632,
    "start_time": "2021-12-23T09:34:32.978Z"
   },
   {
    "duration": 655,
    "start_time": "2021-12-23T09:34:33.613Z"
   },
   {
    "duration": 660,
    "start_time": "2021-12-23T09:34:34.271Z"
   },
   {
    "duration": 640,
    "start_time": "2021-12-23T09:34:34.934Z"
   },
   {
    "duration": 763,
    "start_time": "2021-12-23T09:34:35.578Z"
   },
   {
    "duration": 652,
    "start_time": "2021-12-23T09:34:36.343Z"
   },
   {
    "duration": 659,
    "start_time": "2021-12-23T09:34:36.999Z"
   },
   {
    "duration": 719,
    "start_time": "2021-12-23T09:34:37.743Z"
   },
   {
    "duration": 13,
    "start_time": "2021-12-23T09:34:40.025Z"
   },
   {
    "duration": 238,
    "start_time": "2021-12-23T09:34:42.595Z"
   },
   {
    "duration": 1360,
    "start_time": "2021-12-23T09:34:44.025Z"
   },
   {
    "duration": 3054,
    "start_time": "2021-12-23T09:34:48.821Z"
   },
   {
    "duration": 1366,
    "start_time": "2021-12-23T09:35:06.340Z"
   },
   {
    "duration": 716,
    "start_time": "2021-12-23T09:38:00.478Z"
   },
   {
    "duration": 716,
    "start_time": "2021-12-23T09:39:10.497Z"
   },
   {
    "duration": 674,
    "start_time": "2021-12-23T09:39:31.182Z"
   },
   {
    "duration": 669,
    "start_time": "2021-12-23T09:39:58.870Z"
   },
   {
    "duration": 658,
    "start_time": "2021-12-23T09:40:42.196Z"
   },
   {
    "duration": 631,
    "start_time": "2021-12-23T09:40:43.216Z"
   },
   {
    "duration": 771,
    "start_time": "2021-12-23T09:41:13.406Z"
   },
   {
    "duration": 762,
    "start_time": "2021-12-23T09:41:14.918Z"
   },
   {
    "duration": 692,
    "start_time": "2021-12-23T09:41:19.173Z"
   },
   {
    "duration": 617,
    "start_time": "2021-12-23T09:41:51.345Z"
   },
   {
    "duration": 665,
    "start_time": "2021-12-23T09:42:06.319Z"
   },
   {
    "duration": 652,
    "start_time": "2021-12-23T09:42:15.324Z"
   },
   {
    "duration": 761,
    "start_time": "2021-12-23T09:42:24.121Z"
   },
   {
    "duration": 647,
    "start_time": "2021-12-23T09:43:10.339Z"
   },
   {
    "duration": 621,
    "start_time": "2021-12-23T09:44:03.265Z"
   },
   {
    "duration": 663,
    "start_time": "2021-12-23T09:44:43.903Z"
   },
   {
    "duration": 644,
    "start_time": "2021-12-23T09:45:49.064Z"
   },
   {
    "duration": 844,
    "start_time": "2021-12-23T09:47:24.974Z"
   },
   {
    "duration": 256,
    "start_time": "2021-12-23T09:50:47.903Z"
   },
   {
    "duration": 1317,
    "start_time": "2021-12-23T09:51:48.001Z"
   },
   {
    "duration": 1381,
    "start_time": "2021-12-23T09:52:05.045Z"
   },
   {
    "duration": 1634,
    "start_time": "2021-12-23T10:02:33.025Z"
   },
   {
    "duration": 1474,
    "start_time": "2021-12-23T10:02:43.313Z"
   },
   {
    "duration": 1670,
    "start_time": "2021-12-23T10:03:03.059Z"
   },
   {
    "duration": 1513,
    "start_time": "2021-12-23T10:04:31.181Z"
   },
   {
    "duration": 1430,
    "start_time": "2021-12-23T10:04:42.219Z"
   },
   {
    "duration": 265,
    "start_time": "2021-12-23T10:05:35.055Z"
   },
   {
    "duration": 2988,
    "start_time": "2021-12-23T10:07:46.833Z"
   },
   {
    "duration": 2499,
    "start_time": "2021-12-23T10:09:47.092Z"
   },
   {
    "duration": 137,
    "start_time": "2021-12-23T10:10:48.858Z"
   },
   {
    "duration": 2889,
    "start_time": "2021-12-23T10:10:57.097Z"
   },
   {
    "duration": 3731,
    "start_time": "2021-12-23T10:57:54.030Z"
   },
   {
    "duration": 3587,
    "start_time": "2021-12-23T10:58:00.551Z"
   },
   {
    "duration": 14619,
    "start_time": "2021-12-23T10:59:40.338Z"
   },
   {
    "duration": 830,
    "start_time": "2021-12-23T11:02:06.640Z"
   },
   {
    "duration": 3759,
    "start_time": "2021-12-23T11:02:19.305Z"
   },
   {
    "duration": 3455,
    "start_time": "2021-12-23T11:03:09.329Z"
   },
   {
    "duration": 13205,
    "start_time": "2021-12-23T11:03:26.927Z"
   },
   {
    "duration": 10058,
    "start_time": "2021-12-23T11:07:07.637Z"
   },
   {
    "duration": 10953,
    "start_time": "2021-12-23T11:07:31.332Z"
   },
   {
    "duration": 1882,
    "start_time": "2021-12-23T11:13:49.727Z"
   },
   {
    "duration": 2049,
    "start_time": "2021-12-23T11:14:13.654Z"
   },
   {
    "duration": 12358,
    "start_time": "2021-12-23T11:14:44.557Z"
   },
   {
    "duration": 9689,
    "start_time": "2021-12-23T11:15:37.536Z"
   },
   {
    "duration": 9910,
    "start_time": "2021-12-23T11:18:20.362Z"
   },
   {
    "duration": 9829,
    "start_time": "2021-12-23T11:19:55.283Z"
   },
   {
    "duration": 9682,
    "start_time": "2021-12-23T11:20:18.996Z"
   },
   {
    "duration": 204,
    "start_time": "2021-12-23T11:24:48.709Z"
   },
   {
    "duration": 905,
    "start_time": "2021-12-23T11:31:17.289Z"
   },
   {
    "duration": 853,
    "start_time": "2021-12-23T11:31:18.197Z"
   },
   {
    "duration": 79,
    "start_time": "2021-12-23T11:31:19.054Z"
   },
   {
    "duration": 1133,
    "start_time": "2021-12-23T11:31:19.135Z"
   },
   {
    "duration": 645,
    "start_time": "2021-12-23T11:31:20.270Z"
   },
   {
    "duration": 685,
    "start_time": "2021-12-23T11:31:20.918Z"
   },
   {
    "duration": 670,
    "start_time": "2021-12-23T11:31:21.607Z"
   },
   {
    "duration": 665,
    "start_time": "2021-12-23T11:31:22.280Z"
   },
   {
    "duration": 673,
    "start_time": "2021-12-23T11:31:22.948Z"
   },
   {
    "duration": 765,
    "start_time": "2021-12-23T11:31:23.624Z"
   },
   {
    "duration": 670,
    "start_time": "2021-12-23T11:31:24.392Z"
   },
   {
    "duration": 678,
    "start_time": "2021-12-23T11:31:25.065Z"
   },
   {
    "duration": 764,
    "start_time": "2021-12-23T11:31:25.745Z"
   },
   {
    "duration": 13,
    "start_time": "2021-12-23T11:31:26.512Z"
   },
   {
    "duration": 286,
    "start_time": "2021-12-23T11:31:26.527Z"
   },
   {
    "duration": 1348,
    "start_time": "2021-12-23T11:31:26.816Z"
   },
   {
    "duration": 9593,
    "start_time": "2021-12-23T11:31:28.166Z"
   },
   {
    "duration": 90,
    "start_time": "2021-12-23T11:38:00.845Z"
   },
   {
    "duration": 626,
    "start_time": "2021-12-23T11:38:00.939Z"
   },
   {
    "duration": -4182,
    "start_time": "2021-12-23T11:38:05.752Z"
   },
   {
    "duration": 2812,
    "start_time": "2021-12-23T11:39:37.606Z"
   },
   {
    "duration": 2626,
    "start_time": "2021-12-23T11:45:08.760Z"
   },
   {
    "duration": 3902,
    "start_time": "2021-12-23T11:46:23.017Z"
   },
   {
    "duration": 71,
    "start_time": "2021-12-23T11:46:45.084Z"
   },
   {
    "duration": 561,
    "start_time": "2021-12-23T11:46:48.356Z"
   },
   {
    "duration": 656,
    "start_time": "2021-12-23T11:46:51.881Z"
   },
   {
    "duration": 654,
    "start_time": "2021-12-23T11:47:30.978Z"
   },
   {
    "duration": 636,
    "start_time": "2021-12-23T11:49:11.498Z"
   },
   {
    "duration": 689,
    "start_time": "2021-12-23T11:49:49.202Z"
   },
   {
    "duration": 635,
    "start_time": "2021-12-23T11:49:56.399Z"
   },
   {
    "duration": 659,
    "start_time": "2021-12-23T11:51:01.905Z"
   },
   {
    "duration": 656,
    "start_time": "2021-12-23T11:51:38.754Z"
   },
   {
    "duration": 380,
    "start_time": "2021-12-23T11:53:04.734Z"
   },
   {
    "duration": 378,
    "start_time": "2021-12-23T11:53:15.702Z"
   },
   {
    "duration": 384,
    "start_time": "2021-12-23T11:53:26.895Z"
   },
   {
    "duration": 3721,
    "start_time": "2021-12-23T11:53:42.177Z"
   },
   {
    "duration": 4020,
    "start_time": "2021-12-23T11:56:22.896Z"
   },
   {
    "duration": 2065,
    "start_time": "2021-12-23T11:56:56.469Z"
   },
   {
    "duration": 3962,
    "start_time": "2021-12-23T11:58:31.056Z"
   },
   {
    "duration": 3977,
    "start_time": "2021-12-23T11:59:36.382Z"
   },
   {
    "duration": 3990,
    "start_time": "2021-12-23T12:00:02.717Z"
   },
   {
    "duration": 3709,
    "start_time": "2021-12-23T12:02:17.474Z"
   },
   {
    "duration": 3934,
    "start_time": "2021-12-23T12:02:41.515Z"
   },
   {
    "duration": 3706,
    "start_time": "2021-12-23T12:02:58.975Z"
   },
   {
    "duration": 2272,
    "start_time": "2021-12-23T12:06:22.492Z"
   },
   {
    "duration": 4340,
    "start_time": "2021-12-23T12:11:47.206Z"
   },
   {
    "duration": 4437,
    "start_time": "2021-12-23T12:12:14.618Z"
   },
   {
    "duration": 4578,
    "start_time": "2021-12-23T12:13:44.144Z"
   },
   {
    "duration": 10202,
    "start_time": "2021-12-23T12:14:02.977Z"
   },
   {
    "duration": 477,
    "start_time": "2021-12-23T12:30:09.408Z"
   },
   {
    "duration": 594,
    "start_time": "2021-12-23T12:30:25.032Z"
   },
   {
    "duration": 489,
    "start_time": "2021-12-23T12:30:48.261Z"
   },
   {
    "duration": 1663,
    "start_time": "2021-12-23T12:35:54.259Z"
   },
   {
    "duration": 743,
    "start_time": "2021-12-23T12:37:00.124Z"
   },
   {
    "duration": 725,
    "start_time": "2021-12-23T12:37:03.174Z"
   },
   {
    "duration": 612,
    "start_time": "2021-12-23T12:37:13.747Z"
   },
   {
    "duration": 356,
    "start_time": "2021-12-23T12:37:34.320Z"
   },
   {
    "duration": 4070,
    "start_time": "2021-12-23T12:37:55.092Z"
   },
   {
    "duration": 720,
    "start_time": "2021-12-23T12:38:09.605Z"
   },
   {
    "duration": 633,
    "start_time": "2021-12-23T12:38:39.643Z"
   },
   {
    "duration": 673,
    "start_time": "2021-12-23T12:38:56.479Z"
   },
   {
    "duration": 846,
    "start_time": "2021-12-23T12:39:20.549Z"
   },
   {
    "duration": 722,
    "start_time": "2021-12-23T12:39:35.730Z"
   },
   {
    "duration": 670,
    "start_time": "2021-12-23T12:39:55.157Z"
   },
   {
    "duration": 1183,
    "start_time": "2021-12-23T12:40:31.005Z"
   },
   {
    "duration": 1170,
    "start_time": "2021-12-23T12:40:41.810Z"
   },
   {
    "duration": 1265,
    "start_time": "2021-12-23T12:41:01.847Z"
   },
   {
    "duration": 1763,
    "start_time": "2021-12-23T12:41:40.015Z"
   },
   {
    "duration": 1781,
    "start_time": "2021-12-23T12:42:44.947Z"
   },
   {
    "duration": 2418,
    "start_time": "2021-12-23T12:42:59.568Z"
   },
   {
    "duration": 1830,
    "start_time": "2021-12-23T12:43:44.976Z"
   },
   {
    "duration": 1797,
    "start_time": "2021-12-23T12:45:05.291Z"
   },
   {
    "duration": 1348,
    "start_time": "2021-12-23T12:46:15.937Z"
   },
   {
    "duration": 664,
    "start_time": "2021-12-23T12:48:57.687Z"
   },
   {
    "duration": 660,
    "start_time": "2021-12-23T12:49:43.136Z"
   },
   {
    "duration": 725,
    "start_time": "2021-12-23T12:50:46.845Z"
   },
   {
    "duration": 677,
    "start_time": "2021-12-23T12:51:22.004Z"
   },
   {
    "duration": 700,
    "start_time": "2021-12-23T12:51:44.689Z"
   },
   {
    "duration": 168,
    "start_time": "2021-12-23T12:54:06.774Z"
   },
   {
    "duration": 253,
    "start_time": "2021-12-23T12:54:18.059Z"
   },
   {
    "duration": 459,
    "start_time": "2021-12-23T12:54:56.772Z"
   },
   {
    "duration": 297,
    "start_time": "2021-12-23T12:55:04.626Z"
   },
   {
    "duration": 1963,
    "start_time": "2021-12-23T12:55:23.887Z"
   },
   {
    "duration": 701,
    "start_time": "2021-12-23T12:56:59.721Z"
   },
   {
    "duration": 906,
    "start_time": "2021-12-23T12:57:52.673Z"
   },
   {
    "duration": 754,
    "start_time": "2021-12-23T12:59:14.167Z"
   },
   {
    "duration": 654,
    "start_time": "2021-12-23T12:59:38.048Z"
   },
   {
    "duration": 664,
    "start_time": "2021-12-23T12:59:39.334Z"
   },
   {
    "duration": 7063,
    "start_time": "2021-12-23T13:01:50.646Z"
   },
   {
    "duration": 1696,
    "start_time": "2021-12-23T13:02:07.812Z"
   },
   {
    "duration": 1738,
    "start_time": "2021-12-23T13:02:38.625Z"
   },
   {
    "duration": 1522,
    "start_time": "2021-12-23T13:04:34.104Z"
   },
   {
    "duration": 1462,
    "start_time": "2021-12-23T13:04:47.368Z"
   },
   {
    "duration": 1325,
    "start_time": "2021-12-23T13:05:20.114Z"
   },
   {
    "duration": 1341,
    "start_time": "2021-12-23T13:05:43.571Z"
   },
   {
    "duration": 1862,
    "start_time": "2021-12-23T13:06:35.553Z"
   },
   {
    "duration": 1405,
    "start_time": "2021-12-23T13:06:50.917Z"
   },
   {
    "duration": 11,
    "start_time": "2021-12-23T13:07:01.409Z"
   },
   {
    "duration": 1462,
    "start_time": "2021-12-23T13:07:14.242Z"
   },
   {
    "duration": 1614,
    "start_time": "2021-12-23T13:07:45.645Z"
   },
   {
    "duration": 1343,
    "start_time": "2021-12-23T13:09:17.499Z"
   },
   {
    "duration": 791,
    "start_time": "2021-12-23T13:09:32.002Z"
   },
   {
    "duration": 781,
    "start_time": "2021-12-23T13:09:34.025Z"
   },
   {
    "duration": 57,
    "start_time": "2021-12-23T13:09:36.542Z"
   },
   {
    "duration": 989,
    "start_time": "2021-12-23T13:09:38.348Z"
   },
   {
    "duration": 631,
    "start_time": "2021-12-23T13:09:40.877Z"
   },
   {
    "duration": 694,
    "start_time": "2021-12-23T13:09:41.768Z"
   },
   {
    "duration": 679,
    "start_time": "2021-12-23T13:09:42.560Z"
   },
   {
    "duration": 700,
    "start_time": "2021-12-23T13:09:43.333Z"
   },
   {
    "duration": 684,
    "start_time": "2021-12-23T13:09:44.142Z"
   },
   {
    "duration": 737,
    "start_time": "2021-12-23T13:09:44.829Z"
   },
   {
    "duration": 890,
    "start_time": "2021-12-23T13:09:45.569Z"
   },
   {
    "duration": 671,
    "start_time": "2021-12-23T13:09:48.744Z"
   },
   {
    "duration": 745,
    "start_time": "2021-12-23T13:09:49.968Z"
   },
   {
    "duration": 11,
    "start_time": "2021-12-23T13:09:53.635Z"
   },
   {
    "duration": 1894,
    "start_time": "2021-12-23T13:09:59.789Z"
   },
   {
    "duration": 1351,
    "start_time": "2021-12-23T13:10:01.686Z"
   },
   {
    "duration": 1310,
    "start_time": "2021-12-23T13:11:17.706Z"
   },
   {
    "duration": 563,
    "start_time": "2021-12-23T13:11:59.043Z"
   },
   {
    "duration": 1306,
    "start_time": "2021-12-23T13:12:09.216Z"
   },
   {
    "duration": 674,
    "start_time": "2021-12-23T13:12:57.419Z"
   },
   {
    "duration": 746,
    "start_time": "2021-12-23T13:13:28.561Z"
   },
   {
    "duration": 10035,
    "start_time": "2021-12-23T13:13:32.277Z"
   },
   {
    "duration": 3687,
    "start_time": "2021-12-23T13:14:23.844Z"
   },
   {
    "duration": 81,
    "start_time": "2021-12-23T13:14:27.535Z"
   },
   {
    "duration": 536,
    "start_time": "2021-12-23T13:14:38.284Z"
   },
   {
    "duration": 641,
    "start_time": "2021-12-23T13:14:38.823Z"
   },
   {
    "duration": 669,
    "start_time": "2021-12-23T13:14:41.010Z"
   },
   {
    "duration": 641,
    "start_time": "2021-12-23T13:14:41.878Z"
   },
   {
    "duration": 613,
    "start_time": "2021-12-23T13:14:43.813Z"
   },
   {
    "duration": 4550,
    "start_time": "2021-12-23T13:14:46.273Z"
   },
   {
    "duration": 72,
    "start_time": "2021-12-23T13:16:20.019Z"
   },
   {
    "duration": 570,
    "start_time": "2021-12-23T13:16:21.380Z"
   },
   {
    "duration": 643,
    "start_time": "2021-12-23T13:16:22.672Z"
   },
   {
    "duration": 668,
    "start_time": "2021-12-23T13:16:23.714Z"
   },
   {
    "duration": 655,
    "start_time": "2021-12-23T13:16:24.384Z"
   },
   {
    "duration": 625,
    "start_time": "2021-12-23T13:16:25.042Z"
   },
   {
    "duration": 4046,
    "start_time": "2021-12-23T13:16:27.154Z"
   },
   {
    "duration": 42,
    "start_time": "2021-12-23T13:20:56.297Z"
   },
   {
    "duration": 50,
    "start_time": "2021-12-23T13:22:26.311Z"
   },
   {
    "duration": 1736,
    "start_time": "2021-12-23T13:27:46.580Z"
   },
   {
    "duration": 48,
    "start_time": "2021-12-23T13:27:53.579Z"
   },
   {
    "duration": 9584,
    "start_time": "2021-12-23T13:27:56.711Z"
   },
   {
    "duration": 1458,
    "start_time": "2021-12-23T18:30:49.119Z"
   },
   {
    "duration": 901,
    "start_time": "2021-12-23T18:30:50.579Z"
   },
   {
    "duration": 71,
    "start_time": "2021-12-23T18:30:51.483Z"
   },
   {
    "duration": 1067,
    "start_time": "2021-12-23T18:30:51.558Z"
   },
   {
    "duration": 612,
    "start_time": "2021-12-23T18:30:52.628Z"
   },
   {
    "duration": 784,
    "start_time": "2021-12-23T18:30:53.243Z"
   },
   {
    "duration": 713,
    "start_time": "2021-12-23T18:30:54.030Z"
   },
   {
    "duration": 677,
    "start_time": "2021-12-23T18:30:54.746Z"
   },
   {
    "duration": 676,
    "start_time": "2021-12-23T18:30:55.426Z"
   },
   {
    "duration": 699,
    "start_time": "2021-12-23T18:30:56.105Z"
   },
   {
    "duration": 676,
    "start_time": "2021-12-23T18:30:56.807Z"
   },
   {
    "duration": 648,
    "start_time": "2021-12-23T18:30:57.485Z"
   },
   {
    "duration": 1102,
    "start_time": "2021-12-23T18:30:58.136Z"
   },
   {
    "duration": 12,
    "start_time": "2021-12-23T18:30:59.240Z"
   },
   {
    "duration": 1834,
    "start_time": "2021-12-23T18:30:59.255Z"
   },
   {
    "duration": 143,
    "start_time": "2021-12-23T18:31:01.092Z"
   },
   {
    "duration": 12293,
    "start_time": "2021-12-23T18:31:01.238Z"
   },
   {
    "duration": -4366,
    "start_time": "2021-12-23T18:31:17.901Z"
   },
   {
    "duration": -4370,
    "start_time": "2021-12-23T18:31:17.906Z"
   },
   {
    "duration": -4372,
    "start_time": "2021-12-23T18:31:17.910Z"
   },
   {
    "duration": -4375,
    "start_time": "2021-12-23T18:31:17.915Z"
   },
   {
    "duration": 275,
    "start_time": "2021-12-23T18:31:25.507Z"
   },
   {
    "duration": 521,
    "start_time": "2021-12-23T18:31:41.928Z"
   },
   {
    "duration": 1281,
    "start_time": "2021-12-23T18:31:47.536Z"
   },
   {
    "duration": 1116,
    "start_time": "2021-12-24T08:22:36.899Z"
   },
   {
    "duration": 618,
    "start_time": "2021-12-24T08:22:38.016Z"
   },
   {
    "duration": 54,
    "start_time": "2021-12-24T08:22:38.637Z"
   },
   {
    "duration": 667,
    "start_time": "2021-12-24T08:22:38.694Z"
   },
   {
    "duration": 402,
    "start_time": "2021-12-24T08:22:39.363Z"
   },
   {
    "duration": 458,
    "start_time": "2021-12-24T08:22:39.768Z"
   },
   {
    "duration": 419,
    "start_time": "2021-12-24T08:22:40.228Z"
   },
   {
    "duration": 441,
    "start_time": "2021-12-24T08:22:40.650Z"
   },
   {
    "duration": 436,
    "start_time": "2021-12-24T08:22:41.093Z"
   },
   {
    "duration": 476,
    "start_time": "2021-12-24T08:22:41.531Z"
   },
   {
    "duration": 425,
    "start_time": "2021-12-24T08:22:42.009Z"
   },
   {
    "duration": 432,
    "start_time": "2021-12-24T08:22:42.436Z"
   },
   {
    "duration": 481,
    "start_time": "2021-12-24T08:22:42.870Z"
   },
   {
    "duration": 7,
    "start_time": "2021-12-24T08:22:43.353Z"
   },
   {
    "duration": 1082,
    "start_time": "2021-12-24T08:22:43.362Z"
   },
   {
    "duration": 116,
    "start_time": "2021-12-24T08:22:44.447Z"
   },
   {
    "duration": 6044,
    "start_time": "2021-12-24T08:22:44.565Z"
   },
   {
    "duration": 68984,
    "start_time": "2021-12-24T08:21:41.628Z"
   },
   {
    "duration": 68981,
    "start_time": "2021-12-24T08:21:41.633Z"
   },
   {
    "duration": 68978,
    "start_time": "2021-12-24T08:21:41.638Z"
   },
   {
    "duration": 68974,
    "start_time": "2021-12-24T08:21:41.643Z"
   },
   {
    "duration": 68971,
    "start_time": "2021-12-24T08:21:41.648Z"
   },
   {
    "duration": 68967,
    "start_time": "2021-12-24T08:21:41.653Z"
   },
   {
    "duration": 68964,
    "start_time": "2021-12-24T08:21:41.658Z"
   },
   {
    "duration": 68961,
    "start_time": "2021-12-24T08:21:41.662Z"
   },
   {
    "duration": 68958,
    "start_time": "2021-12-24T08:21:41.667Z"
   },
   {
    "duration": 1669,
    "start_time": "2021-12-24T08:23:55.655Z"
   },
   {
    "duration": 581,
    "start_time": "2021-12-24T08:23:57.326Z"
   },
   {
    "duration": 45,
    "start_time": "2021-12-24T08:23:57.909Z"
   },
   {
    "duration": 649,
    "start_time": "2021-12-24T08:23:57.956Z"
   },
   {
    "duration": 423,
    "start_time": "2021-12-24T08:23:58.607Z"
   },
   {
    "duration": 507,
    "start_time": "2021-12-24T08:23:59.032Z"
   },
   {
    "duration": 441,
    "start_time": "2021-12-24T08:23:59.540Z"
   },
   {
    "duration": 457,
    "start_time": "2021-12-24T08:23:59.984Z"
   },
   {
    "duration": 457,
    "start_time": "2021-12-24T08:24:00.443Z"
   },
   {
    "duration": 446,
    "start_time": "2021-12-24T08:24:00.902Z"
   },
   {
    "duration": 570,
    "start_time": "2021-12-24T08:24:01.351Z"
   },
   {
    "duration": 446,
    "start_time": "2021-12-24T08:24:01.923Z"
   },
   {
    "duration": 526,
    "start_time": "2021-12-24T08:24:02.371Z"
   },
   {
    "duration": 9,
    "start_time": "2021-12-24T08:24:02.899Z"
   },
   {
    "duration": 1152,
    "start_time": "2021-12-24T08:24:02.910Z"
   },
   {
    "duration": 47,
    "start_time": "2021-12-24T08:24:04.064Z"
   },
   {
    "duration": 6578,
    "start_time": "2021-12-24T08:24:04.113Z"
   },
   {
    "duration": 2279,
    "start_time": "2021-12-24T08:24:10.693Z"
   },
   {
    "duration": 65,
    "start_time": "2021-12-24T08:24:12.975Z"
   },
   {
    "duration": 390,
    "start_time": "2021-12-24T08:24:13.043Z"
   },
   {
    "duration": 973,
    "start_time": "2021-12-24T08:24:13.435Z"
   },
   {
    "duration": 463,
    "start_time": "2021-12-24T08:24:14.410Z"
   },
   {
    "duration": 439,
    "start_time": "2021-12-24T08:24:14.876Z"
   },
   {
    "duration": 417,
    "start_time": "2021-12-24T08:24:15.317Z"
   },
   {
    "duration": 2871,
    "start_time": "2021-12-24T08:24:15.737Z"
   },
   {
    "duration": 1385,
    "start_time": "2021-12-24T08:24:18.610Z"
   },
   {
    "duration": 350,
    "start_time": "2022-01-05T15:49:51.934Z"
   },
   {
    "duration": 1853,
    "start_time": "2022-01-19T11:54:24.867Z"
   },
   {
    "duration": 558,
    "start_time": "2022-01-19T11:54:26.722Z"
   },
   {
    "duration": 40,
    "start_time": "2022-01-19T11:54:27.414Z"
   },
   {
    "duration": 614,
    "start_time": "2022-01-19T11:54:28.059Z"
   },
   {
    "duration": 388,
    "start_time": "2022-01-19T11:54:29.105Z"
   },
   {
    "duration": 521,
    "start_time": "2022-01-19T11:54:29.495Z"
   },
   {
    "duration": 454,
    "start_time": "2022-01-19T11:54:30.019Z"
   },
   {
    "duration": 445,
    "start_time": "2022-01-19T11:54:30.476Z"
   },
   {
    "duration": 434,
    "start_time": "2022-01-19T11:54:30.923Z"
   },
   {
    "duration": 428,
    "start_time": "2022-01-19T11:54:31.360Z"
   },
   {
    "duration": 514,
    "start_time": "2022-01-19T11:54:31.790Z"
   },
   {
    "duration": 419,
    "start_time": "2022-01-19T11:54:40.302Z"
   },
   {
    "duration": 474,
    "start_time": "2022-01-19T11:54:40.851Z"
   },
   {
    "duration": 7,
    "start_time": "2022-01-19T11:54:41.327Z"
   },
   {
    "duration": 1072,
    "start_time": "2022-01-19T11:54:41.779Z"
   },
   {
    "duration": 33,
    "start_time": "2022-01-19T11:54:43.417Z"
   },
   {
    "duration": 6771,
    "start_time": "2022-01-19T11:54:46.761Z"
   }
  ],
  "kernelspec": {
   "display_name": "Python 3",
   "language": "python",
   "name": "python3"
  },
  "language_info": {
   "codemirror_mode": {
    "name": "ipython",
    "version": 3
   },
   "file_extension": ".py",
   "mimetype": "text/x-python",
   "name": "python",
   "nbconvert_exporter": "python",
   "pygments_lexer": "ipython3",
   "version": "3.7.0"
  },
  "toc": {
   "base_numbering": 1,
   "nav_menu": {},
   "number_sections": true,
   "sideBar": true,
   "skip_h1_title": true,
   "title_cell": "Содержание",
   "title_sidebar": "Contents",
   "toc_cell": true,
   "toc_position": {
    "height": "calc(100% - 180px)",
    "left": "10px",
    "top": "150px",
    "width": "285.99px"
   },
   "toc_section_display": true,
   "toc_window_display": true
  }
 },
 "nbformat": 4,
 "nbformat_minor": 2
}
