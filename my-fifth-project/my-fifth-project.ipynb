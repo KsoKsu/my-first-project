{
 "cells": [
  {
   "cell_type": "markdown",
   "metadata": {},
   "source": [
    "### Инструкция по выполнению проекта:\n",
    "\n",
    "Мы - маркетинговый аналитик развлекательного приложения Procrastinate Pro+. Несколько прошлых месяцев наш бизнес постоянно нес убытки - в привлечение пользователей была вложена куча денег, а толку никакого. Нам нужно разобраться в причинах этой ситуации.\n",
    "\n",
    "У нас в распоряжении есть лог сервера с данными о посещениях приложения новыми пользователями, зарегистрировавшимися в период с 2019-05-01 по 2019-10-27, выгрузка их покупок за этот период, а также статистика рекламных расходов. Нам предстоит изучить, как люди пользуются продуктом, когда они начинают покупать, сколько денег приносит каждый клиент, когда он окупается и какие факторы отрицательно влияют на привлечение пользователей.\n",
    "\n",
    "#### Шаг 1. Загрузим данные и подготовим их к анализу\n",
    "Загрузим данные о визитах, заказах и расходах в переменные. Оптимизируйте данные для анализа. Убедитесь, что тип данных в каждой колонке — правильный.\n",
    "\n",
    "#### Шаг 2. Зададим функции для расчета и анализа LTV, ROI, удержания и конверсии\n",
    "\n",
    "\n",
    "#### Шаг 3. Проведем исследовательский анализ данных\n",
    "\n",
    "Построим профили пользователей. Определим минимальную и максимальную дату привлечения пользователей.\n",
    "\n",
    "Выясним:\n",
    "- Из каких стран приходят посетители? Какие страны дают больше всего платящих пользователей?\n",
    "- Какими устройствами они пользуются? С каких устройств чаще всего заходят платящие пользователи?\n",
    "- По каким рекламным каналам шло привлечение пользователей? Какие каналы приносят больше всего платящих пользователей?.\n",
    "\n",
    "#### Шаг 4. Маркетинг\n",
    "Выясним:\n",
    "\n",
    "- Сколько денег потратили? Всего / на каждый источник / по времени\n",
    "- Сколько в среднем стоило привлечение одного покупателя из каждого источника?\n",
    "\n",
    "#### Шаг 5. Оценим окупаемость рекламы для привлечения пользователей\n",
    "\n",
    "С помощью LTV и ROI:\n",
    "- Проанализируем общую окупаемость рекламы;\n",
    "- Проанализируем окупаемость рекламы с разбивкой по устройствам;\n",
    "- Проанализируем окупаемость рекламы с разбивкой по странам;\n",
    "- Проанализируем окупаемость рекламы с разбивкой по рекламным каналам.\n",
    "\n",
    "Опишем проблемы, которые мы обнаружили. Ответим на вопросы:\n",
    "- Окупается ли реклама, направленная на привлечение пользователей в целом? \n",
    "- Какие устройства, страны и рекламные каналы могут оказывать негативное влияние на окупаемость рекламы?\n",
    "- Чем могут быть вызваны проблемы окупаемости? Изучите конверсию и удержание с разбивкой по устройствам, странам, рекламным каналам.\n",
    "\n",
    "Опишем возможные причины обнаруженных проблем и сформируйте рекомендации для рекламного отдела. При решении этого шага считаем, что мы смотрим данные 1-го ноября 2019 года и что в нашей организации принято считать, что окупаемость должна наступать не позднее, чем через 2 недели после привлечения пользователей.\n",
    "\n",
    "Подумаем, нужно ли включать в анализ органических пользователей?\n",
    "\n",
    "#### Шаг 6. Напишем выводы\n",
    "- Выделим причины неэффективности привлечения пользователей;\n",
    "- Сформируем рекомендации для отдела маркетинга для повышения эффективности.\n",
    "\n",
    "\n",
    "#### Описание данных\n",
    "Таблица visits_log_short (лог сервера с информацией о посещениях сайта):\n",
    "\n",
    "    User Id — уникальный идентификатор пользователя\n",
    "    Device — категория устройства пользователя\n",
    "    Session start — дата и время начала сессии\n",
    "    Session End — дата и время окончания сессии\n",
    "    Channel — идентификатор рекламного источника, из которого пришел пользователь\n",
    "    Region - страна пользователя\n",
    "\n",
    "Таблица orders_log_short (информация о заказах):\n",
    "\n",
    "    User Id — уникальный id пользователя, который сделал заказ\n",
    "    Event Dt — дата и время покупки\n",
    "    Revenue — выручка\n",
    "\n",
    "Таблица costs_short (информация о затратах на маркетинг):\n",
    "\n",
    "    Channel — идентификатор рекламного источника\n",
    "    Dt — дата\n",
    "    Costs — затраты на этот рекламный источник в этот день"
   ]
  },
  {
   "cell_type": "markdown",
   "metadata": {},
   "source": [
    "# Шаг 1. Загрузим данные и подготовим их к анализу\n",
    "Загрузим данные о визитах, заказах и расходах в переменные. Оптимизируем данные для анализа. Убедимся, что тип данных в каждой колонке — правильный. \n"
   ]
  },
  {
   "cell_type": "code",
   "execution_count": 1,
   "metadata": {},
   "outputs": [],
   "source": [
    "#Импортируем библиотеки\n",
    "import pandas as pd \n",
    "import seaborn as sns \n",
    "import matplotlib.pyplot as plt\n",
    "from scipy import stats as st\n",
    "import numpy as np\n",
    "from datetime import datetime, timedelta\n",
    "import warnings\n",
    "warnings.filterwarnings('ignore')\n"
   ]
  },
  {
   "cell_type": "code",
   "execution_count": null,
   "metadata": {},
   "outputs": [],
   "source": [
    "#Изучим таблицу visits_log_short (лог сервера с информацией о посещениях сайта): \n",
    "try:\n",
    "    visits = pd.read_csv('C:/Users/datasets/visits_info_short.csv')  # Локальный путь\n",
    "except:\n",
    "    visits = pd.read_csv('/datasets/visits_info_short.csv') # Серверный путь \n",
    "visits.info() #общая информация о данных\n",
    "print(visits.head(10)) #вывели на экран 10 первых значений, чтобы ознакомиться с таблицей\n",
    "for col in visits.columns:\n",
    "    print(\"-----------------------------\")\n",
    "    print(col)\n",
    "    display(visits[col].describe(include=None))\n",
    "    display(visits[col].value_counts()) #оценим значения данных с помощью функци describe и value_counts\n",
    "\n",
    "print(visits.isna().sum()*100/len(visits)) #посмотрим на процент пропусков во всех колонках одновременно\n",
    "print('Количество дубликатов', visits.duplicated().sum()) #проверяем количество дубликатов"
   ]
  },
  {
   "cell_type": "code",
   "execution_count": null,
   "metadata": {},
   "outputs": [],
   "source": [
    "#Изучим orders_log_short (информация о заказах): \n",
    "try:\n",
    "    orders = pd.read_csv('C:/Users/datasets/orders_info_short.csv')  # Локальный путь\n",
    "except:\n",
    "    orders = pd.read_csv('/datasets/orders_info_short.csv') # Серверный путь \n",
    "orders.info() #общая информация о данных\n",
    "print(orders.head(10)) #вывели на экран 10 первых значений, чтобы ознакомиться с таблицей\n",
    "for col in orders.columns:\n",
    "    print(\"-----------------------------\")\n",
    "    print(col)\n",
    "    display(orders[col].describe(include=None))\n",
    "    display(orders[col].value_counts()) #оценим значения данных с помощью функци describe и value_counts\n",
    "\n",
    "print(orders.isna().sum()*100/len(orders)) #посмотрим на процент пропусков во всех колонках одновременно\n",
    "print('Количество дубликатов', orders.duplicated().sum()) #проверяем количество дубликатов"
   ]
  },
  {
   "cell_type": "code",
   "execution_count": null,
   "metadata": {},
   "outputs": [],
   "source": [
    "#Изучим таблицу costs_short (информация о затратах на маркетинг): \n",
    "try:\n",
    "    costs = pd.read_csv('C:/Users/datasets/costs_info_short.csv')  # Локальный путь\n",
    "except:\n",
    "    costs = pd.read_csv('/datasets/costs_info_short.csv') # Серверный путь \n",
    "costs.info() #общая информация о данных\n",
    "print(costs.head(10)) #вывели на экран 10 первых значений, чтобы ознакомиться с таблицей\n",
    "for col in costs.columns:\n",
    "    print(\"-----------------------------\")\n",
    "    print(col)\n",
    "    display(costs[col].describe(include=None))\n",
    "    display(costs[col].value_counts()) #оценим значения данных с помощью функци describe и value_counts\n",
    "\n",
    "print(costs.isna().sum()*100/len(costs)) #посмотрим на процент пропусков во всех колонках одновременно\n",
    "print('Количество дубликатов', costs.duplicated().sum()) #проверяем количество дубликатов"
   ]
  },
  {
   "cell_type": "markdown",
   "metadata": {},
   "source": [
    "# Вывод\n",
    "* По данным таблиц видно, что в них нет пропущенных значений и дубликатов.\n",
    "* В следующем шаге необходимо будет преобразовать данные о времени.\n",
    "* Из таблицы о визитах можно выделить 4 страны пользователя:\n",
    " - United States    207327\n",
    " - UK               \n",
    " - France           \n",
    " - Germany\n",
    "* 4 категории  устройста:\n",
    " - iPhone     \n",
    " - Android     \n",
    " - PC          \n",
    " - Mac   \n",
    "* 11 рекламных источников: \n",
    " - organic               \n",
    " - TipTop                 \n",
    " - FaceBoom               \n",
    " - WahooNetBanner         \n",
    " - LeapBob             \n",
    " - OppleCreativeMedia    \n",
    " - RocketSuperAds  \n",
    " - YRabbit                \n",
    " - MediaTornado            \n",
    " - AdNonSense              \n",
    " - lambdaMediaAds   \n",
    "\n"
   ]
  },
  {
   "cell_type": "code",
   "execution_count": null,
   "metadata": {},
   "outputs": [],
   "source": [
    "# Для удобства приведем все названия столбцов к нижнему регистру и уберём пробелы в названиях столбцов\n",
    "visits.columns = visits.columns.str.lower()\n",
    "orders.columns = orders.columns.str.lower()\n",
    "costs.columns = costs.columns.str.lower()\n",
    "\n",
    "visits.rename(columns = {'user id' : 'user_id', 'session start' : 'session_start', 'session end' : 'session_end'}, inplace = True)\n",
    "orders.rename(columns = {'user id' : 'user_id', 'event dt' : 'event_dt'}, inplace = True)\n",
    "\n",
    "# преобразование данных о времени\n",
    "visits['session_start'] = pd.to_datetime(visits['session_start'])\n",
    "visits['session_end'] = pd.to_datetime(visits['session_end'])\n",
    "orders['event_dt'] = pd.to_datetime(orders['event_dt'])\n",
    "costs['dt'] = pd.to_datetime(costs['dt']).dt.date \n",
    "\n",
    "# Посмотрим на 5 первыхстрок наших таблиц, проверим внесённые изменения\n",
    "display(visits.head(5))\n",
    "display(orders.head(5))\n",
    "display(costs.head(5))"
   ]
  },
  {
   "cell_type": "markdown",
   "metadata": {},
   "source": [
    "# Шаг 2. Зададим функции для расчета и анализа LTV, ROI, удержания и конверсии\n",
    "\n"
   ]
  },
  {
   "cell_type": "code",
   "execution_count": null,
   "metadata": {},
   "outputs": [],
   "source": [
    "# функция для создания пользовательских профилей\n",
    "\n",
    "def get_profiles(sessions, orders, ad_costs, event_names=[]):\n",
    "\n",
    "    # находим параметры первых посещений\n",
    "    profiles = (\n",
    "        sessions.sort_values(by=['user_id', 'session_start'])\n",
    "        .groupby('user_id')\n",
    "        .agg(\n",
    "            {\n",
    "                'session_start': 'first',\n",
    "                'channel': 'first',\n",
    "                'device': 'first',\n",
    "                'region': 'first',\n",
    "            }\n",
    "        )\n",
    "        .rename(columns={'session_start': 'first_ts'})\n",
    "        .reset_index()\n",
    "    )\n",
    "\n",
    "    # для когортного анализа определяем дату первого посещения\n",
    "    # и первый день месяца, в который это посещение произошло\n",
    "    profiles['dt'] = profiles['first_ts'].dt.date\n",
    "    profiles['month'] = profiles['first_ts'].astype('datetime64[M]')\n",
    "\n",
    "    # добавляем признак платящих пользователей\n",
    "    profiles['payer'] = profiles['user_id'].isin(orders['user_id'].unique())\n",
    "\n",
    "\n",
    "    # считаем количество уникальных пользователей\n",
    "    # с одинаковыми источником и датой привлечения\n",
    "    new_users = (\n",
    "        profiles.groupby(['dt', 'channel'])\n",
    "        .agg({'user_id': 'nunique'})\n",
    "        .rename(columns={'user_id': 'unique_users'})\n",
    "        .reset_index()\n",
    "    )\n",
    "\n",
    "    # объединяем траты на рекламу и число привлечённых пользователей\n",
    "    ad_costs = ad_costs.merge(new_users, on=['dt', 'channel'], how='left')\n",
    "\n",
    "    # делим рекламные расходы на число привлечённых пользователей\n",
    "    ad_costs['acquisition_cost'] = ad_costs['costs'] / ad_costs['unique_users']\n",
    "\n",
    "    # добавляем стоимость привлечения в профили\n",
    "    profiles = profiles.merge(\n",
    "        ad_costs[['dt', 'channel', 'acquisition_cost']],\n",
    "        on=['dt', 'channel'],\n",
    "        how='left',\n",
    "    )\n",
    "\n",
    "    # стоимость привлечения органических пользователей равна нулю\n",
    "    profiles['acquisition_cost'] = profiles['acquisition_cost'].fillna(0)\n",
    "\n",
    "    return profiles\n"
   ]
  },
  {
   "cell_type": "code",
   "execution_count": 7,
   "metadata": {},
   "outputs": [],
   "source": [
    "# функция для расчёта удержания\n",
    "\n",
    "def get_retention(\n",
    "    profiles,\n",
    "    sessions,\n",
    "    observation_date,\n",
    "    horizon_days,\n",
    "    dimensions=[],\n",
    "    ignore_horizon=False,\n",
    "):\n",
    "\n",
    "    # добавляем столбец payer в передаваемый dimensions список\n",
    "    dimensions = ['payer'] + dimensions\n",
    "\n",
    "    # исключаем пользователей, не «доживших» до горизонта анализа\n",
    "    last_suitable_acquisition_date = observation_date\n",
    "    if not ignore_horizon:\n",
    "        last_suitable_acquisition_date = observation_date - timedelta(\n",
    "            days=horizon_days - 1\n",
    "        )\n",
    "    result_raw = profiles.query('dt <= @last_suitable_acquisition_date')\n",
    "\n",
    "    # собираем «сырые» данные для расчёта удержания\n",
    "    result_raw = result_raw.merge(\n",
    "        sessions[['user_id', 'session_start']], on='user_id', how='left'\n",
    "    )\n",
    "    result_raw['lifetime'] = (\n",
    "        result_raw['session_start'] - result_raw['first_ts']\n",
    "    ).dt.days\n",
    "\n",
    "    # функция для группировки таблицы по желаемым признакам\n",
    "    def group_by_dimensions(df, dims, horizon_days):\n",
    "        result = df.pivot_table(\n",
    "            index=dims, columns='lifetime', values='user_id', aggfunc='nunique'\n",
    "        )\n",
    "        cohort_sizes = (\n",
    "            df.groupby(dims)\n",
    "            .agg({'user_id': 'nunique'})\n",
    "            .rename(columns={'user_id': 'cohort_size'})\n",
    "        )\n",
    "        result = cohort_sizes.merge(result, on=dims, how='left').fillna(0)\n",
    "        result = result.div(result['cohort_size'], axis=0)\n",
    "        result = result[['cohort_size'] + list(range(horizon_days))]\n",
    "        result['cohort_size'] = cohort_sizes\n",
    "        return result\n",
    "\n",
    "    # получаем таблицу удержания\n",
    "    result_grouped = group_by_dimensions(result_raw, dimensions, horizon_days)\n",
    "\n",
    "    # получаем таблицу динамики удержания\n",
    "    result_in_time = group_by_dimensions(\n",
    "        result_raw, dimensions + ['dt'], horizon_days\n",
    "    )\n",
    "\n",
    "    # возвращаем обе таблицы и сырые данные\n",
    "    return result_raw, result_grouped, result_in_time"
   ]
  },
  {
   "cell_type": "code",
   "execution_count": 8,
   "metadata": {},
   "outputs": [],
   "source": [
    "\n",
    "# функция для расчёта конверсии\n",
    "\n",
    "def get_conversion(\n",
    "    profiles,\n",
    "    purchases,\n",
    "    observation_date,\n",
    "    horizon_days,\n",
    "    dimensions=[],\n",
    "    ignore_horizon=False,\n",
    "):\n",
    "\n",
    "    # исключаем пользователей, не «доживших» до горизонта анализа\n",
    "    last_suitable_acquisition_date = observation_date\n",
    "    if not ignore_horizon:\n",
    "        last_suitable_acquisition_date = observation_date - timedelta(\n",
    "            days=horizon_days - 1\n",
    "        )\n",
    "    result_raw = profiles.query('dt <= @last_suitable_acquisition_date')\n",
    "\n",
    "    # определяем дату и время первой покупки для каждого пользователя\n",
    "    first_purchases = (\n",
    "        purchases.sort_values(by=['user_id', 'event_dt'])\n",
    "        .groupby('user_id')\n",
    "        .agg({'event_dt': 'first'})\n",
    "        .reset_index()\n",
    "    )\n",
    "\n",
    "    # добавляем данные о покупках в профили\n",
    "    result_raw = result_raw.merge(\n",
    "        first_purchases[['user_id', 'event_dt']], on='user_id', how='left'\n",
    "    )\n",
    "\n",
    "    # рассчитываем лайфтайм для каждой покупки\n",
    "    result_raw['lifetime'] = (\n",
    "        result_raw['event_dt'] - result_raw['first_ts']\n",
    "    ).dt.days\n",
    "\n",
    "    # группируем по cohort, если в dimensions ничего нет\n",
    "    if len(dimensions) == 0:\n",
    "        result_raw['cohort'] = 'All users' \n",
    "        dimensions = dimensions + ['cohort']\n",
    "\n",
    "    # функция для группировки таблицы по желаемым признакам\n",
    "    def group_by_dimensions(df, dims, horizon_days):\n",
    "        result = df.pivot_table(\n",
    "            index=dims, columns='lifetime', values='user_id', aggfunc='nunique'\n",
    "        )\n",
    "        result = result.fillna(0).cumsum(axis = 1)\n",
    "        cohort_sizes = (\n",
    "            df.groupby(dims)\n",
    "            .agg({'user_id': 'nunique'})\n",
    "            .rename(columns={'user_id': 'cohort_size'})\n",
    "        )\n",
    "        result = cohort_sizes.merge(result, on=dims, how='left').fillna(0)\n",
    "        # делим каждую «ячейку» в строке на размер когорты\n",
    "        # и получаем conversion rate\n",
    "        result = result.div(result['cohort_size'], axis=0)\n",
    "        result = result[['cohort_size'] + list(range(horizon_days))]\n",
    "        result['cohort_size'] = cohort_sizes\n",
    "        return result\n",
    "\n",
    "    # получаем таблицу конверсии\n",
    "    result_grouped = group_by_dimensions(result_raw, dimensions, horizon_days)\n",
    "\n",
    "    # для таблицы динамики конверсии убираем 'cohort' из dimensions\n",
    "    if 'cohort' in dimensions: \n",
    "        dimensions = []\n",
    "\n",
    "    # получаем таблицу динамики конверсии\n",
    "    result_in_time = group_by_dimensions(\n",
    "        result_raw, dimensions + ['dt'], horizon_days\n",
    "    )\n",
    "\n",
    "    # возвращаем обе таблицы и сырые данные\n",
    "    return result_raw, result_grouped, result_in_time"
   ]
  },
  {
   "cell_type": "code",
   "execution_count": 9,
   "metadata": {},
   "outputs": [],
   "source": [
    "# функция для расчёта LTV и ROI\n",
    "\n",
    "def get_ltv(\n",
    "    profiles,\n",
    "    purchases,\n",
    "    observation_date,\n",
    "    horizon_days,\n",
    "    dimensions=[],\n",
    "    ignore_horizon=False,\n",
    "):\n",
    "\n",
    "    # исключаем пользователей, не «доживших» до горизонта анализа\n",
    "    last_suitable_acquisition_date = observation_date\n",
    "    if not ignore_horizon:\n",
    "        last_suitable_acquisition_date = observation_date - timedelta(\n",
    "            days=horizon_days - 1\n",
    "        )\n",
    "    result_raw = profiles.query('dt <= @last_suitable_acquisition_date')\n",
    "    # добавляем данные о покупках в профили\n",
    "    result_raw = result_raw.merge(\n",
    "        purchases[['user_id', 'event_dt', 'revenue']], on='user_id', how='left'\n",
    "    )\n",
    "    # рассчитываем лайфтайм пользователя для каждой покупки\n",
    "    result_raw['lifetime'] = (\n",
    "        result_raw['event_dt'] - result_raw['first_ts']\n",
    "    ).dt.days\n",
    "    # группируем по cohort, если в dimensions ничего нет\n",
    "    if len(dimensions) == 0:\n",
    "        result_raw['cohort'] = 'All users'\n",
    "        dimensions = dimensions + ['cohort']\n",
    "\n",
    "    # функция группировки по желаемым признакам\n",
    "    def group_by_dimensions(df, dims, horizon_days):\n",
    "        # строим «треугольную» таблицу выручки\n",
    "        result = df.pivot_table(\n",
    "            index=dims, columns='lifetime', values='revenue', aggfunc='sum'\n",
    "        )\n",
    "        # находим сумму выручки с накоплением\n",
    "        result = result.fillna(0).cumsum(axis=1)\n",
    "        # вычисляем размеры когорт\n",
    "        cohort_sizes = (\n",
    "            df.groupby(dims)\n",
    "            .agg({'user_id': 'nunique'})\n",
    "            .rename(columns={'user_id': 'cohort_size'})\n",
    "        )\n",
    "        # объединяем размеры когорт и таблицу выручки\n",
    "        result = cohort_sizes.merge(result, on=dims, how='left').fillna(0)\n",
    "        # считаем LTV: делим каждую «ячейку» в строке на размер когорты\n",
    "        result = result.div(result['cohort_size'], axis=0)\n",
    "        # исключаем все лайфтаймы, превышающие горизонт анализа\n",
    "        result = result[['cohort_size'] + list(range(horizon_days))]\n",
    "        # восстанавливаем размеры когорт\n",
    "        result['cohort_size'] = cohort_sizes\n",
    "\n",
    "        # собираем датафрейм с данными пользователей и значениями CAC, \n",
    "        # добавляя параметры из dimensions\n",
    "        cac = df[['user_id', 'acquisition_cost'] + dims].drop_duplicates()\n",
    "\n",
    "        # считаем средний CAC по параметрам из dimensions\n",
    "        cac = (\n",
    "            cac.groupby(dims)\n",
    "            .agg({'acquisition_cost': 'mean'})\n",
    "            .rename(columns={'acquisition_cost': 'cac'})\n",
    "        )\n",
    "\n",
    "        # считаем ROI: делим LTV на CAC\n",
    "        roi = result.div(cac['cac'], axis=0)\n",
    "\n",
    "        # удаляем строки с бесконечным ROI\n",
    "        roi = roi[~roi['cohort_size'].isin([np.inf])]\n",
    "\n",
    "        # восстанавливаем размеры когорт в таблице ROI\n",
    "        roi['cohort_size'] = cohort_sizes\n",
    "\n",
    "        # добавляем CAC в таблицу ROI\n",
    "        roi['cac'] = cac['cac']\n",
    "\n",
    "        # в финальной таблице оставляем размеры когорт, CAC\n",
    "        # и ROI в лайфтаймы, не превышающие горизонт анализа\n",
    "        roi = roi[['cohort_size', 'cac'] + list(range(horizon_days))]\n",
    "\n",
    "        # возвращаем таблицы LTV и ROI\n",
    "        return result, roi\n",
    "\n",
    "    # получаем таблицы LTV и ROI\n",
    "    result_grouped, roi_grouped = group_by_dimensions(\n",
    "        result_raw, dimensions, horizon_days\n",
    "    )\n",
    "\n",
    "    # для таблиц динамики убираем 'cohort' из dimensions\n",
    "    if 'cohort' in dimensions:\n",
    "        dimensions = []\n",
    "\n",
    "    # получаем таблицы динамики LTV и ROI\n",
    "    result_in_time, roi_in_time = group_by_dimensions(\n",
    "        result_raw, dimensions + ['dt'], horizon_days\n",
    "    )\n",
    "\n",
    "    return (\n",
    "        result_raw,  # сырые данные\n",
    "        result_grouped,  # таблица LTV\n",
    "        result_in_time,  # таблица динамики LTV\n",
    "        roi_grouped,  # таблица ROI\n",
    "        roi_in_time,  # таблица динамики ROI\n",
    "    )"
   ]
  },
  {
   "cell_type": "code",
   "execution_count": 10,
   "metadata": {},
   "outputs": [],
   "source": [
    "# функция для сглаживания фрейма\n",
    "\n",
    "def filter_data(df, window):\n",
    "    # для каждого столбца применяем скользящее среднее\n",
    "    for column in df.columns.values:\n",
    "        df[column] = df[column].rolling(window).mean() \n",
    "    return df"
   ]
  },
  {
   "cell_type": "code",
   "execution_count": 11,
   "metadata": {},
   "outputs": [],
   "source": [
    "# функция для визуализации удержания\n",
    "\n",
    "def plot_retention(retention, retention_history, horizon, window=7):\n",
    "\n",
    "    # задаём размер сетки для графиков\n",
    "    plt.figure(figsize=(15, 10))\n",
    "\n",
    "    # исключаем размеры когорт и удержание первого дня\n",
    "    retention = retention.drop(columns=['cohort_size', 0])\n",
    "    # в таблице динамики оставляем только нужный лайфтайм\n",
    "    retention_history = retention_history.drop(columns=['cohort_size'])[\n",
    "        [horizon - 1]\n",
    "    ]\n",
    "\n",
    "    # если в индексах таблицы удержания только payer,\n",
    "    # добавляем второй признак — cohort\n",
    "    if retention.index.nlevels == 1:\n",
    "        retention['cohort'] = 'All users'\n",
    "        retention = retention.reset_index().set_index(['cohort', 'payer'])\n",
    "\n",
    "    # в таблице графиков — два столбца и две строки, четыре ячейки\n",
    "    # в первой строим кривые удержания платящих пользователей\n",
    "    ax1 = plt.subplot(2, 2, 1)\n",
    "    retention.query('payer == True').droplevel('payer').T.plot(\n",
    "        grid=True, ax=ax1\n",
    "    )\n",
    "    plt.legend()\n",
    "    plt.xlabel('Лайфтайм')\n",
    "    plt.title('Удержание платящих пользователей')\n",
    "\n",
    "    # во второй ячейке строим кривые удержания неплатящих\n",
    "    # вертикальная ось — от графика из первой ячейки\n",
    "    ax2 = plt.subplot(2, 2, 2, sharey=ax1)\n",
    "    retention.query('payer == False').droplevel('payer').T.plot(\n",
    "        grid=True, ax=ax2\n",
    "    )\n",
    "    plt.legend()\n",
    "    plt.xlabel('Лайфтайм')\n",
    "    plt.title('Удержание неплатящих пользователей')\n",
    "\n",
    "    # в третьей ячейке — динамика удержания платящих\n",
    "    ax3 = plt.subplot(2, 2, 3)\n",
    "    # получаем названия столбцов для сводной таблицы\n",
    "    columns = [\n",
    "        name\n",
    "        for name in retention_history.index.names\n",
    "        if name not in ['dt', 'payer']\n",
    "    ]\n",
    "    # фильтруем данные и строим график\n",
    "    filtered_data = retention_history.query('payer == True').pivot_table(\n",
    "        index='dt', columns=columns, values=horizon - 1, aggfunc='mean'\n",
    "    )\n",
    "    filter_data(filtered_data, window).plot(grid=True, ax=ax3)\n",
    "    plt.xlabel('Дата привлечения')\n",
    "    plt.title(\n",
    "        'Динамика удержания платящих пользователей на {}-й день'.format(\n",
    "            horizon\n",
    "        )\n",
    "    )\n",
    "\n",
    "    # в чётвертой ячейке — динамика удержания неплатящих\n",
    "    ax4 = plt.subplot(2, 2, 4, sharey=ax3)\n",
    "    # фильтруем данные и строим график\n",
    "    filtered_data = retention_history.query('payer == False').pivot_table(\n",
    "        index='dt', columns=columns, values=horizon - 1, aggfunc='mean'\n",
    "    )\n",
    "    filter_data(filtered_data, window).plot(grid=True, ax=ax4)\n",
    "    plt.xlabel('Дата привлечения')\n",
    "    plt.title(\n",
    "        'Динамика удержания неплатящих пользователей на {}-й день'.format(\n",
    "            horizon\n",
    "        )\n",
    "    )\n",
    "    \n",
    "    plt.tight_layout()\n",
    "    plt.show()"
   ]
  },
  {
   "cell_type": "code",
   "execution_count": 12,
   "metadata": {},
   "outputs": [],
   "source": [
    "# функция для визуализации конверсии\n",
    "\n",
    "def plot_conversion(conversion, conversion_history, horizon, window=7):\n",
    "\n",
    "    # задаём размер сетки для графиков\n",
    "    plt.figure(figsize=(15, 5))\n",
    "\n",
    "    # исключаем размеры когорт\n",
    "    conversion = conversion.drop(columns=['cohort_size'])\n",
    "    # в таблице динамики оставляем только нужный лайфтайм\n",
    "    conversion_history = conversion_history.drop(columns=['cohort_size'])[\n",
    "        [horizon - 1]\n",
    "    ]\n",
    "\n",
    "    # первый график — кривые конверсии\n",
    "    ax1 = plt.subplot(1, 2, 1)\n",
    "    conversion.T.plot(grid=True, ax=ax1)\n",
    "    plt.legend()\n",
    "    plt.xlabel('Лайфтайм')\n",
    "    plt.title('Конверсия пользователей')\n",
    "\n",
    "    # второй график — динамика конверсии\n",
    "    ax2 = plt.subplot(1, 2, 2, sharey=ax1)\n",
    "    columns = [\n",
    "        # столбцами сводной таблицы станут все столбцы индекса, кроме даты\n",
    "        name for name in conversion_history.index.names if name not in ['dt']\n",
    "    ]\n",
    "    filtered_data = conversion_history.pivot_table(\n",
    "        index='dt', columns=columns, values=horizon - 1, aggfunc='mean'\n",
    "    )\n",
    "    filter_data(filtered_data, window).plot(grid=True, ax=ax2)\n",
    "    plt.xlabel('Дата привлечения')\n",
    "    plt.title('Динамика конверсии пользователей на {}-й день'.format(horizon))\n",
    "\n",
    "    plt.tight_layout()\n",
    "    plt.show()"
   ]
  },
  {
   "cell_type": "code",
   "execution_count": 13,
   "metadata": {},
   "outputs": [],
   "source": [
    "# функция для визуализации LTV и ROI\n",
    "\n",
    "def plot_ltv_roi(ltv, ltv_history, roi, roi_history, horizon, window=7):\n",
    "\n",
    "    # задаём сетку отрисовки графиков\n",
    "    plt.figure(figsize=(20, 10))\n",
    "\n",
    "    # из таблицы ltv исключаем размеры когорт\n",
    "    ltv = ltv.drop(columns=['cohort_size'])\n",
    "    # в таблице динамики ltv оставляем только нужный лайфтайм\n",
    "    ltv_history = ltv_history.drop(columns=['cohort_size'])[[horizon - 1]]\n",
    "\n",
    "    # стоимость привлечения запишем в отдельный фрейм\n",
    "    cac_history = roi_history[['cac']]\n",
    "\n",
    "    # из таблицы roi исключаем размеры когорт и cac\n",
    "    roi = roi.drop(columns=['cohort_size', 'cac'])\n",
    "    # в таблице динамики roi оставляем только нужный лайфтайм\n",
    "    roi_history = roi_history.drop(columns=['cohort_size', 'cac'])[\n",
    "        [horizon - 1]\n",
    "    ]\n",
    "\n",
    "    # первый график — кривые ltv\n",
    "    ax1 = plt.subplot(2, 3, 1)\n",
    "    ltv.T.plot(grid=True, ax=ax1)\n",
    "    plt.legend()\n",
    "    plt.xlabel('Лайфтайм')\n",
    "    plt.title('LTV')\n",
    "\n",
    "    # второй график — динамика ltv\n",
    "    ax2 = plt.subplot(2, 3, 2, sharey=ax1)\n",
    "    # столбцами сводной таблицы станут все столбцы индекса, кроме даты\n",
    "    columns = [name for name in ltv_history.index.names if name not in ['dt']]\n",
    "    filtered_data = ltv_history.pivot_table(\n",
    "        index='dt', columns=columns, values=horizon - 1, aggfunc='mean'\n",
    "    )\n",
    "    filter_data(filtered_data, window).plot(grid=True, ax=ax2)\n",
    "    plt.xlabel('Дата привлечения')\n",
    "    plt.title('Динамика LTV пользователей на {}-й день'.format(horizon))\n",
    "\n",
    "    # третий график — динамика cac\n",
    "    ax3 = plt.subplot(2, 3, 3, sharey=ax1)\n",
    "    # столбцами сводной таблицы станут все столбцы индекса, кроме даты\n",
    "    columns = [name for name in cac_history.index.names if name not in ['dt']]\n",
    "    filtered_data = cac_history.pivot_table(\n",
    "        index='dt', columns=columns, values='cac', aggfunc='mean'\n",
    "    )\n",
    "    filter_data(filtered_data, window).plot(grid=True, ax=ax3)\n",
    "    plt.xlabel('Дата привлечения')\n",
    "    plt.title('Динамика стоимости привлечения пользователей')\n",
    "\n",
    "    # четвёртый график — кривые roi\n",
    "    ax4 = plt.subplot(2, 3, 4)\n",
    "    roi.T.plot(grid=True, ax=ax4)\n",
    "    plt.axhline(y=1, color='red', linestyle='--', label='Уровень окупаемости')\n",
    "    plt.legend()\n",
    "    plt.xlabel('Лайфтайм')\n",
    "    plt.title('ROI')\n",
    "\n",
    "    # пятый график — динамика roi\n",
    "    ax5 = plt.subplot(2, 3, 5, sharey=ax4)\n",
    "    # столбцами сводной таблицы станут все столбцы индекса, кроме даты\n",
    "    columns = [name for name in roi_history.index.names if name not in ['dt']]\n",
    "    filtered_data = roi_history.pivot_table(\n",
    "        index='dt', columns=columns, values=horizon - 1, aggfunc='mean'\n",
    "    )\n",
    "    filter_data(filtered_data, window).plot(grid=True, ax=ax5)\n",
    "    plt.axhline(y=1, color='red', linestyle='--', label='Уровень окупаемости')\n",
    "    plt.xlabel('Дата привлечения')\n",
    "    plt.title('Динамика ROI пользователей на {}-й день'.format(horizon))\n",
    "\n",
    "    plt.tight_layout()\n",
    "    plt.show()"
   ]
  },
  {
   "cell_type": "markdown",
   "metadata": {},
   "source": [
    "# Вывод \n",
    "На втором шаге мы обозначили функции для расчета и анализа LTV, ROI, удержания и конверсии."
   ]
  },
  {
   "cell_type": "markdown",
   "metadata": {},
   "source": [
    "# Шаг 3. Проведем исследовательский анализ данных\n",
    "\n",
    "Построим профили пользователей. Определим минимальную и максимальную дату привлечения пользователей.\n",
    "\n",
    "Выясним:\n",
    "- Из каких стран приходят посетители? Какие страны дают больше всего платящих пользователей?\n",
    "- Какими устройствами они пользуются? С каких устройств чаще всего заходят платящие пользователи?\n",
    "- По каким рекламным каналам шло привлечение пользователей? Какие каналы приносят больше всего платящих пользователей?"
   ]
  },
  {
   "cell_type": "code",
   "execution_count": null,
   "metadata": {},
   "outputs": [],
   "source": [
    "# получаем профили пользователей\n",
    "profiles = get_profiles(visits, orders, costs)\n",
    "\n",
    "display(profiles.head(5)) \n",
    "\n",
    "#Определим минимальную и максимальную дату привлечения пользователей\n",
    "min_date = profiles['dt'].min() \n",
    "max_date = profiles['dt'].max() \n",
    "print('Минимальная дата привлечения пользователей:', min_date)\n",
    "print('Максимальная дата привлечения пользователей:', max_date)"
   ]
  },
  {
   "cell_type": "code",
   "execution_count": null,
   "metadata": {},
   "outputs": [],
   "source": [
    "# посчитаем, из каких стран приходят посетители и их кооличество.\n",
    "#display(\n",
    "#    profiles.groupby('region').agg({'user_id': 'nunique'}).sort_values('user_id', ascending=False)\n",
    "#)\n",
    "\n",
    "# посчитаем, какая доля новых посетителей стала покупателями в каждой стране.\n",
    "#display(\n",
    "#    profiles.groupby('region').agg({'payer': 'mean'}).sort_values('payer', ascending=False)\n",
    "#)\n",
    "\n",
    "region_users = profiles.groupby('region').agg({'user_id': 'nunique', 'payer': ['sum', 'mean']}).sort_values(by=[('payer', 'sum')],  ascending = False)\n",
    "region_users.columns = ['Пользователи', 'Платящие пользователи', '% платящих']\n",
    "region_users['% платящих']= round((region_users['% платящих']*100), 2)\n",
    "\n",
    "display(region_users)"
   ]
  },
  {
   "cell_type": "code",
   "execution_count": null,
   "metadata": {},
   "outputs": [],
   "source": [
    "# посчитаем, какими устройствами пользуются посетители. \n",
    "\n",
    "#display(\n",
    "#    profiles.groupby('device').agg({'user_id': 'nunique'}).sort_values('user_id', ascending=False)\n",
    "#)\n",
    "\n",
    "# посмотрим, с каких устройств чаще всего заходят платящие пользователи.\n",
    "#display(\n",
    "#    profiles.groupby('device').agg({'payer': 'mean'}).sort_values('payer', ascending=False)\n",
    "#)\n",
    "device_users = profiles.groupby('device').agg({'user_id': 'nunique', 'payer': ['sum', 'mean']}).sort_values(by=[('payer', 'sum')],  ascending = False)\n",
    "device_users.columns = ['Пользователи', 'Платящие пользователи', '% платящих']\n",
    "device_users['% платящих']= round((device_users['% платящих']*100), 2)\n",
    "\n",
    "display(device_users)"
   ]
  },
  {
   "cell_type": "code",
   "execution_count": null,
   "metadata": {},
   "outputs": [],
   "source": [
    "# посчитаем, по каким рекламным каналам шло привлечение пользователей.\n",
    "#display(\n",
    " #   profiles.groupby('channel').agg({'user_id': 'nunique'}).sort_values('user_id', ascending=False)\n",
    "#)\n",
    "\n",
    "# посмотрим, какие каналы приносят больше всего платящих пользователей.\n",
    "#display(\n",
    " #   profiles.groupby('channel').agg({'payer': 'mean'}).sort_values('payer', ascending=False)\n",
    "#)\n",
    "\n",
    "channel_users = profiles.groupby('channel').agg({'user_id': 'nunique', 'payer': ['sum', 'mean']}).sort_values(by=[('payer', 'sum')],  ascending = False)\n",
    "channel_users.columns = [ 'Пользователи', 'Платящие пользователи', '% платящих']\n",
    "channel_users['% платящих']= round((channel_users['% платящих']*100), 2)\n",
    "\n",
    "channel_users['Платящие пользователи']= round(channel_users['Платящие пользователи'])\n",
    "\n",
    "display(channel_users)\n"
   ]
  },
  {
   "cell_type": "markdown",
   "metadata": {},
   "source": [
    "# Вывод\n",
    "* На данном шаге мы получили профили пользователей, нашли минимальную дату привелечения пользователей 01.05.2019г. и  максимальную - 27.10.2019г.\n",
    "* Выяснили, что больше всего посетителей из США (100002). Количество поситителей из Франции (17450) и Великобритании (17575) практически одинаковое, а вот из Германии меньше всего (14981). А вот платящих пользователей больше всего в США, а вот на втором месте Германия, не смотря на то, что количество поситителей из этой страны наименьшее.\n",
    "* Самое популярное утсройство iPhone, на втором месте - Android, PC и MAC делят 3 и 4 место (количество пользователей данных устройств практически одинаковое). Платящие пользователи предпочитают заходить с MAC, на втором месте - iPhone, на 3 и 4 соответсвенно Android и PC. По этим данным мы видим, что пользователи MAC платят охотнее, чем пользователи других устройств.\n",
    "* Большевсего пользователей пришло без рекламы (organic). Каналы FaceBoom и TipTop привлекают больше пользователей, а lambdaMediaAds - меньше всего. Топ-3 канала с наибольшей долей платящих пользователей: \n",
    " - FaceBoom\t\n",
    " - AdNonSense\t\n",
    " - lambdaMediaAds\t"
   ]
  },
  {
   "cell_type": "markdown",
   "metadata": {},
   "source": [
    "# Шаг 4. Маркетинг\n",
    "\n",
    "Выясним:\n",
    "- Сколько денег потратили? Всего / на каждый источник / по времени\n",
    "- Сколько в среднем стоило привлечение одного покупателя из каждого источника?"
   ]
  },
  {
   "cell_type": "code",
   "execution_count": null,
   "metadata": {},
   "outputs": [],
   "source": [
    "#Посчитаем, сколько всего денег было потрачено на рекламу:\n",
    "print('Всего денег потрачено: ', round(profiles['acquisition_cost'].sum(), 2))\n",
    "display(\n",
    "    profiles.groupby('channel').agg({'acquisition_cost': 'sum'}).sort_values('acquisition_cost', ascending=False)\n",
    ")\n",
    "\n",
    "# Посмотрим зависимость трат на рекламу по каналыам\n",
    "profiles.pivot_table(index = ['dt'], columns = 'channel', values = 'acquisition_cost', aggfunc = 'sum').plot( grid=True,  figsize = (20,15), linewidth = 3)\n",
    "plt.title('Изменение метрик по времени')\n",
    "plt.ylabel('sum_acquisition_cost')\n",
    "plt.show()\n",
    "\n",
    "\n",
    "profiles_sort=profiles.groupby('channel').agg({'acquisition_cost': 'sum', 'user_id': 'nunique'}).sort_values('acquisition_cost', ascending=False)\n",
    "profiles_sort['cost_one']=profiles_sort['acquisition_cost']/profiles_sort['user_id']\n",
    "display(profiles_sort)\n",
    "\n",
    "\n",
    "print('Общий средний САС по всему проекту:', round(profiles_sort['acquisition_cost'].mean(),2))\n",
    "profiles.pivot_table(index = ['month'], values = 'acquisition_cost', aggfunc = 'sum').plot( grid=True,  figsize = (20,15), linewidth = 3)\n",
    "plt.title('Динамика общих маркетинговых затрат по месяцам')\n",
    "plt.ylabel('sum_acquisition_cost')\n",
    "plt.show()\n",
    "\n",
    "# Посмотрим зависимость трат на рекламу по каналыам\n",
    "profiles.pivot_table(index = ['month'], columns = 'channel', values = 'acquisition_cost', aggfunc = 'sum').plot( grid=True,  figsize = (20,15), linewidth = 3)\n",
    "plt.title('Изменение метрик по месяцам')\n",
    "plt.ylabel('sum_acquisition_cost')\n",
    "plt.show()\n",
    "\n",
    "\n",
    "    "
   ]
  },
  {
   "cell_type": "markdown",
   "metadata": {},
   "source": [
    "# Вывод\n",
    "* По полученным данным видно, что всего денег на маркетинг потратили 105497.3 ден.единиц.\n",
    "* Больше всего вложили денег в источники TipTop и FaceBoom, меньше всего в YRabbit. В organic соответственно 0, так как это пользователи 'пришедшие' без рекламы. \n",
    "* По графику также видно, что за все время исследования было больше всего вложено в источники TipTop и FaceBoom.\n",
    "* В нижней таблице в столбце cost_one видим среднюю стоимость привлечения одного покупателя из каждого источника.\n",
    "\n",
    "\n",
    "\n"
   ]
  },
  {
   "cell_type": "markdown",
   "metadata": {},
   "source": [
    "# Шаг 5. Оценим окупаемость рекламы для привлечения пользователей\n",
    "\n",
    "С помощью LTV и ROI:\n",
    "- Проанализируем общую окупаемость рекламы;\n",
    "- Проанализируем окупаемость рекламы с разбивкой по устройствам;\n",
    "- Проанализируем окупаемость рекламы с разбивкой по странам;\n",
    "- Проанализируем окупаемость рекламы с разбивкой по рекламным каналам.\n",
    "\n",
    "Опишем проблемы, которые мы обнаружили. Ответим на вопросы:\n",
    "- Окупается ли реклама, направленная на привлечение пользователей в целом? \n",
    "- Какие устройства, страны и рекламные каналы могут оказывать негативное влияние на окупаемость рекламы?\n",
    "- Чем могут быть вызваны проблемы окупаемости? Изучите конверсию и удержание с разбивкой по устройствам, странам, рекламным каналам.\n",
    "\n",
    "Опишем возможные причины обнаруженных проблем и сформируем рекомендации для рекламного отдела. При решении этого шага считаем, что мы смотрим данные 1-го ноября 2019 года и что в вашей организации принято считать, что окупаемость должна наступать не позднее, чем через 2 недели после привлечения пользователей."
   ]
  },
  {
   "cell_type": "markdown",
   "metadata": {},
   "source": [
    "### Проанализируем общую окупаемость рекламы"
   ]
  },
  {
   "cell_type": "code",
   "execution_count": 19,
   "metadata": {},
   "outputs": [],
   "source": [
    "observation_date = datetime(2019, 11, 1).date()  # момент анализа\n",
    "horizon_days = 14  # горизонт анализа \n",
    "profiles = profiles.query('channel != \"organic\"') # Исключим органических пользователей"
   ]
  },
  {
   "cell_type": "code",
   "execution_count": null,
   "metadata": {},
   "outputs": [],
   "source": [
    "#Для начала оценим общую ситуацию — посмотрим на окупаемость рекламы. Рассчитаем и визуализируем LTV и ROI, вызвав функции get_ltv() и plot_ltv_roi().\n",
    "# считаем LTV и ROI\n",
    "ltv_raw, ltv_grouped, ltv_history, roi_grouped, roi_history = get_ltv(\n",
    "    profiles, orders, observation_date, horizon_days\n",
    ")\n",
    "\n",
    "# строим графики\n",
    "plot_ltv_roi(ltv_grouped, ltv_history, roi_grouped, roi_history, horizon_days) "
   ]
  },
  {
   "cell_type": "markdown",
   "metadata": {},
   "source": [
    "# Вывод\n",
    "По графикам можно сделать такие выводы:\n",
    "* Реклама не окупается. ROI в конце 2 недель не превышает 80%.\n",
    "* CAC увеличивается. Т.е. происходит увеличение рекламного бюджета. Особенно виден скачок в июне.\n",
    "* Динамика ROI пользователей на 14-йдень уменьшается для пользователей, которые пришли после середины июля 2019г.\n",
    "* LTV не превышает 0.9 ден.ед."
   ]
  },
  {
   "cell_type": "markdown",
   "metadata": {},
   "source": [
    "### Проанализирем окупаемость рекламы с разбивкой по устройствам"
   ]
  },
  {
   "cell_type": "code",
   "execution_count": null,
   "metadata": {},
   "outputs": [],
   "source": [
    "# Начнём с разбивки по устройствам: передадим параметру dimensions столбец device.\n",
    "# смотрим окупаемость с разбивкой по устройствам\n",
    "dimensions = ['device']\n",
    "\n",
    "ltv_raw, ltv_grouped, ltv_history, roi_grouped, roi_history = get_ltv(\n",
    "    profiles, orders, observation_date, horizon_days, dimensions=dimensions\n",
    ")\n",
    "\n",
    "plot_ltv_roi(\n",
    "    ltv_grouped, ltv_history, roi_grouped, roi_history, horizon_days, window=14\n",
    ") "
   ]
  },
  {
   "cell_type": "markdown",
   "metadata": {},
   "source": [
    "# Вывод\n",
    "Пользователи PC окупаются, а вот остальные — нет. И чем позже пришли пользователи - тем хуже они 'окупаются'. Так же видно, что стоимость привлечения клиентов у пользователей iPhone и Mac выше остальных."
   ]
  },
  {
   "cell_type": "code",
   "execution_count": null,
   "metadata": {},
   "outputs": [],
   "source": [
    "# Посмотрим конверсию с разбивкой по устройствам\n",
    "\n",
    "conversion_raw, conversion_grouped, conversion_history = get_conversion(\n",
    "    profiles, orders, observation_date, horizon_days, dimensions=['device']\n",
    ")\n",
    "\n",
    "plot_conversion(conversion_grouped, conversion_history, horizon_days) "
   ]
  },
  {
   "cell_type": "markdown",
   "metadata": {},
   "source": [
    "# Вывод\n",
    "Судя по графикам, пользователи PC конвертируются хуже всего.\n"
   ]
  },
  {
   "cell_type": "code",
   "execution_count": null,
   "metadata": {},
   "outputs": [],
   "source": [
    "# смотрим удержание с разбивкой по устройствам\n",
    "\n",
    "retention_raw, retention_grouped, retention_history = get_retention(\n",
    "    profiles, visits, observation_date, horizon_days, dimensions=['device']\n",
    ")\n",
    "\n",
    "plot_retention(retention_grouped, retention_history, horizon_days) \n"
   ]
  },
  {
   "cell_type": "markdown",
   "metadata": {},
   "source": [
    "# Вывод\n",
    "А на этом графике видно, что платящие пользователи всех устройств удерживаются примерно одинаково, PC чуть лучше. Скорей всего проблема с окупаемостью не в устройстве. Но проверить ошибки на устроствах iPhone и Mac все же стоит."
   ]
  },
  {
   "cell_type": "markdown",
   "metadata": {},
   "source": [
    "### Проанализируем окупаемость рекламы с разбивкой по странам\n"
   ]
  },
  {
   "cell_type": "code",
   "execution_count": null,
   "metadata": {},
   "outputs": [],
   "source": [
    "# Разбивка по странам: передадим параметру dimensions столбец region.\n",
    "# смотрим окупаемость с разбивкой по странам\n",
    "dimensions = ['region']\n",
    "\n",
    "ltv_raw, ltv_grouped, ltv_history, roi_grouped, roi_history = get_ltv(\n",
    "    profiles, orders, observation_date, horizon_days, dimensions=dimensions\n",
    ")\n",
    "\n",
    "plot_ltv_roi(\n",
    "    ltv_grouped, ltv_history, roi_grouped, roi_history, horizon_days, window=14\n",
    ") "
   ]
  },
  {
   "cell_type": "markdown",
   "metadata": {},
   "source": [
    "Вот что говорят графики:\n",
    "* Реклама не окупается только в USA.\n",
    "* Стоимость привлечения стабильна и примерно одинакова для всех стран, кроме USA.\n",
    "* LTV для пользователей из USA больше, чем для пользователей из других стран.\n",
    "* Хуже всего окупается USA.\n",
    "\n",
    "Возможно, все-таки дело в стране — эту версию не нужно исключать."
   ]
  },
  {
   "cell_type": "code",
   "execution_count": null,
   "metadata": {},
   "outputs": [],
   "source": [
    "# Посмотрим конверсию с разбивкой по странам\n",
    "\n",
    "conversion_raw, conversion_grouped, conversion_history = get_conversion(\n",
    "    profiles, orders, observation_date, horizon_days, dimensions=['region']\n",
    ")\n",
    "\n",
    "plot_conversion(conversion_grouped, conversion_history, horizon_days) "
   ]
  },
  {
   "cell_type": "markdown",
   "metadata": {},
   "source": [
    "# Вывод\n",
    "Судя по графикам, пользователи из USA конвертируются лучше остальных"
   ]
  },
  {
   "cell_type": "code",
   "execution_count": null,
   "metadata": {},
   "outputs": [],
   "source": [
    "# смотрим удержание с разбивкой по странам\n",
    "\n",
    "retention_raw, retention_grouped, retention_history = get_retention(\n",
    "    profiles, visits, observation_date, horizon_days, dimensions=['region']\n",
    ")\n",
    "\n",
    "plot_retention(retention_grouped, retention_history, horizon_days) "
   ]
  },
  {
   "cell_type": "markdown",
   "metadata": {},
   "source": [
    "# Вывод\n",
    "Действительно, пользователи из USA стабильно плохо удерживаются. Для платящих пользователей из USA удержание 14-го дня ниже, чем для пользователей из других стран."
   ]
  },
  {
   "cell_type": "markdown",
   "metadata": {},
   "source": [
    "### Проанализируем окупаемость рекламы с разбивкой по рекламным каналам"
   ]
  },
  {
   "cell_type": "code",
   "execution_count": null,
   "metadata": {},
   "outputs": [],
   "source": [
    "# Разбивка по каналам: передадим параметру dimensions столбец channel.\n",
    "# смотрим окупаемость с разбивкой по каналам\n",
    "dimensions = ['channel']\n",
    "\n",
    "ltv_raw, ltv_grouped, ltv_history, roi_grouped, roi_history = get_ltv(\n",
    "    profiles, orders, observation_date, horizon_days, dimensions=dimensions\n",
    ")\n",
    "\n",
    "plot_ltv_roi(\n",
    "    ltv_grouped, ltv_history, roi_grouped, roi_history, horizon_days, window=14\n",
    ") "
   ]
  },
  {
   "cell_type": "markdown",
   "metadata": {},
   "source": [
    "# Вывод\n",
    "Стоимость привлечения пользователей в TipTop не стабильна в отличае от других каналов, сильно увеличивается со временем, окупаемость у большинства каналов неплохая. \n",
    "И пользователи  приходящие из канала TipTop совсем не окупаются, стоит задуматься об использовании данного канала. На втором месте по стоимости привлечения каналов пользователи пришедшие из FaceBoom, но там все стабильно, стоимость не меняется."
   ]
  },
  {
   "cell_type": "code",
   "execution_count": null,
   "metadata": {},
   "outputs": [],
   "source": [
    "# смотрим конверсию с разбивкой по каналам\n",
    "\n",
    "conversion_raw, conversion_grouped, conversion_history = get_conversion(\n",
    "    profiles, orders, observation_date, horizon_days, dimensions=['channel']\n",
    ")\n",
    "\n",
    "plot_conversion(conversion_grouped, conversion_history, horizon_days) \n"
   ]
  },
  {
   "cell_type": "markdown",
   "metadata": {},
   "source": [
    "# Вывод\n",
    "Пользователи из канала FaceBoom конвертируются лучше остальных"
   ]
  },
  {
   "cell_type": "code",
   "execution_count": null,
   "metadata": {},
   "outputs": [],
   "source": [
    "# смотрим удержание с разбивкой по каналам\n",
    "\n",
    "retention_raw, retention_grouped, retention_history = get_retention(\n",
    "    profiles, visits, observation_date, horizon_days, dimensions=['channel']\n",
    ")\n",
    "\n",
    "plot_retention(retention_grouped, retention_history, horizon_days) \n"
   ]
  },
  {
   "cell_type": "markdown",
   "metadata": {},
   "source": [
    "# Вывод\n",
    "А вот удержание платящих пользователей, пришедших из каналов FaceBoom и AdNonSense хуже всех. "
   ]
  },
  {
   "cell_type": "code",
   "execution_count": null,
   "metadata": {},
   "outputs": [],
   "source": [
    "# отфильтруем данные по США и построим небольшой отчет по конкретно каналам, действующим в США, затем оценить для них конверсию и удержание \n",
    "profiles_problem = profiles.query('region == \"United States\"') \n",
    "\n",
    "# Построим ROI, LTV, CAC\n",
    "dimensions = ['channel']\n",
    "\n",
    "ltv_raw, ltv_grouped, ltv_history, roi_grouped, roi_history = get_ltv(\n",
    "    profiles_problem, orders, observation_date, horizon_days, dimensions=dimensions\n",
    ")\n",
    "\n",
    "plot_ltv_roi(\n",
    "    ltv_grouped, ltv_history, roi_grouped, roi_history, horizon_days, window=14\n",
    ") \n",
    "\n"
   ]
  },
  {
   "cell_type": "markdown",
   "metadata": {},
   "source": [
    "# Вывод\n",
    "\n",
    "Графики по каналам США подтверждают, что TipTop показывает наихудшую статистику и проблема кроется скорей всего здесь."
   ]
  },
  {
   "cell_type": "code",
   "execution_count": null,
   "metadata": {},
   "outputs": [],
   "source": [
    "# Оценим конверсию и удержание по каналам США\n",
    "conversion_raw, conversion_grouped, conversion_history = get_conversion(\n",
    "    profiles_problem, orders, observation_date, horizon_days, dimensions=['channel']\n",
    ")\n",
    "\n",
    "plot_conversion(conversion_grouped, conversion_history, horizon_days) \n",
    "\n",
    "\n",
    "\n",
    "\n",
    "retention_raw, retention_grouped, retention_history = get_retention(\n",
    "    profiles_problem, visits, observation_date, horizon_days, dimensions=['channel']\n",
    ")\n",
    "\n",
    "plot_retention(retention_grouped, retention_history, horizon_days) \n"
   ]
  },
  {
   "cell_type": "markdown",
   "metadata": {},
   "source": [
    "# Вывод\n",
    "А по этим графикам мы видим, что хоть конверсия по каналу FaceBoom самая высокая, но вот удержания данных пользователей плохое."
   ]
  },
  {
   "cell_type": "markdown",
   "metadata": {},
   "source": [
    "# Шаг 6. Напишем выводы\n",
    "Мы взяли данные о посещениях приложения новыми пользователями, зарегистрировавшимися в период с 2019-05-01 по 2019-10-27. Момент анализа -1.11.2019, а горизонт анализа составил 14 дней.\n",
    "\n",
    "После нашшего исследования мы видим, что реклама не окупается.\n",
    "Таккже стоимость привлечения пользователей в TipTop увеличивается,но пользователи  приходящие из канала TipTop совсем не окупаются. Также происходит и с пользователями из USA, возможно они как раз и приходят из этого канала. Поэтому в первую очередь надо обратить внимание на данный рекламный канал и проверить ошибки.\n",
    "\n",
    "Удержание платящих пользователе из FaceBoom много ниже, также стоит обратить внимание на этот канал.\n",
    "\n",
    "\n",
    "\n",
    "Вообще по всем исследованиям видно, что чем больше вкладывались в рекламу - тем хуже была динамика ROI пользователе на 14-й день.\n",
    "\n",
    "\n",
    "# Вывод:\n",
    "\n",
    "Я бы посоветовала отделу маркетинга обратить большее внимание на пользователей из Германии, хоть оттуда приходит наименьшее число пользователей, зато платящих - достаточно большой процент. И обратить внимание на канал TipTop, так как стоимость рекламы увеличивается, а окупаемость нет. И удержание пользователей из канала FaceBoom низкое, по сравнению  с остальными каналами. Хоть платящие пользователи со всех устройств удерживаются практически одинаково, все же стоит проверить ошибки работы приложения на устроствах iPhone и Macю (стоимость привлечения пользователей MAC и iPhone увеличивается, а вот окупаемости нет.)\n",
    "\n",
    "Неплохие показатели у каналов lambdaMediaAds и YRabbit, возможно стоит больше денег на рекламу вложить именно в них."
   ]
  },
  {
   "cell_type": "code",
   "execution_count": null,
   "metadata": {},
   "outputs": [],
   "source": []
  }
 ],
 "metadata": {
  "ExecuteTimeLog": [
   {
    "duration": 1171,
    "start_time": "2022-02-16T20:09:03.056Z"
   },
   {
    "duration": 3868,
    "start_time": "2022-02-16T20:10:42.433Z"
   },
   {
    "duration": 2466,
    "start_time": "2022-02-16T20:11:13.838Z"
   },
   {
    "duration": 2362,
    "start_time": "2022-02-16T20:12:40.326Z"
   },
   {
    "duration": 55,
    "start_time": "2022-02-16T20:13:20.893Z"
   },
   {
    "duration": 2518,
    "start_time": "2022-02-16T20:13:29.952Z"
   },
   {
    "duration": 349,
    "start_time": "2022-02-16T20:13:54.043Z"
   },
   {
    "duration": 251,
    "start_time": "2022-02-16T20:14:17.688Z"
   },
   {
    "duration": 182,
    "start_time": "2022-02-16T20:16:02.501Z"
   },
   {
    "duration": 376,
    "start_time": "2022-02-17T09:50:37.728Z"
   },
   {
    "duration": 1132,
    "start_time": "2022-02-17T09:50:57.616Z"
   },
   {
    "duration": 2671,
    "start_time": "2022-02-17T09:50:58.749Z"
   },
   {
    "duration": 341,
    "start_time": "2022-02-17T09:51:01.422Z"
   },
   {
    "duration": 310,
    "start_time": "2022-02-17T09:51:01.764Z"
   },
   {
    "duration": 552,
    "start_time": "2022-02-17T09:51:02.075Z"
   },
   {
    "duration": 31,
    "start_time": "2022-02-17T09:51:09.221Z"
   },
   {
    "duration": 25,
    "start_time": "2022-02-17T09:54:23.087Z"
   },
   {
    "duration": 33,
    "start_time": "2022-02-17T09:54:38.099Z"
   },
   {
    "duration": 33,
    "start_time": "2022-02-17T09:56:01.763Z"
   },
   {
    "duration": 6,
    "start_time": "2022-02-17T09:56:57.361Z"
   },
   {
    "duration": 6,
    "start_time": "2022-02-17T09:57:17.182Z"
   },
   {
    "duration": 7,
    "start_time": "2022-02-17T09:57:35.543Z"
   },
   {
    "duration": 9,
    "start_time": "2022-02-17T09:57:48.315Z"
   },
   {
    "duration": 3,
    "start_time": "2022-02-17T09:58:26.923Z"
   },
   {
    "duration": 9,
    "start_time": "2022-02-17T09:58:48.178Z"
   },
   {
    "duration": 5,
    "start_time": "2022-02-17T09:59:04.538Z"
   },
   {
    "duration": 9,
    "start_time": "2022-02-17T09:59:22.997Z"
   },
   {
    "duration": 3,
    "start_time": "2022-02-17T09:59:53.607Z"
   },
   {
    "duration": 2497,
    "start_time": "2022-02-17T10:00:00.077Z"
   },
   {
    "duration": 376,
    "start_time": "2022-02-17T10:00:02.576Z"
   },
   {
    "duration": 381,
    "start_time": "2022-02-17T10:00:02.954Z"
   },
   {
    "duration": 156,
    "start_time": "2022-02-17T10:00:03.337Z"
   },
   {
    "duration": 41,
    "start_time": "2022-02-17T10:01:47.001Z"
   },
   {
    "duration": 6,
    "start_time": "2022-02-17T10:01:47.360Z"
   },
   {
    "duration": 6,
    "start_time": "2022-02-17T10:01:47.552Z"
   },
   {
    "duration": 8,
    "start_time": "2022-02-17T10:01:47.737Z"
   },
   {
    "duration": 10,
    "start_time": "2022-02-17T10:01:47.911Z"
   },
   {
    "duration": 3,
    "start_time": "2022-02-17T10:01:48.078Z"
   },
   {
    "duration": 9,
    "start_time": "2022-02-17T10:01:48.246Z"
   },
   {
    "duration": 7,
    "start_time": "2022-02-17T10:01:48.437Z"
   },
   {
    "duration": 13,
    "start_time": "2022-02-17T10:01:48.589Z"
   },
   {
    "duration": 6,
    "start_time": "2022-02-17T10:07:53.856Z"
   },
   {
    "duration": 6,
    "start_time": "2022-02-17T10:07:54.449Z"
   },
   {
    "duration": 6,
    "start_time": "2022-02-17T10:07:54.746Z"
   },
   {
    "duration": 9,
    "start_time": "2022-02-17T10:07:54.955Z"
   },
   {
    "duration": 3,
    "start_time": "2022-02-17T10:07:55.139Z"
   },
   {
    "duration": 7,
    "start_time": "2022-02-17T10:07:55.375Z"
   },
   {
    "duration": 5,
    "start_time": "2022-02-17T10:07:55.661Z"
   },
   {
    "duration": 9,
    "start_time": "2022-02-17T10:07:55.900Z"
   },
   {
    "duration": 417,
    "start_time": "2022-02-17T10:07:56.843Z"
   },
   {
    "duration": 8,
    "start_time": "2022-02-17T10:08:59.180Z"
   },
   {
    "duration": 6,
    "start_time": "2022-02-17T10:08:59.669Z"
   },
   {
    "duration": 7,
    "start_time": "2022-02-17T10:08:59.838Z"
   },
   {
    "duration": 9,
    "start_time": "2022-02-17T10:09:00.038Z"
   },
   {
    "duration": 3,
    "start_time": "2022-02-17T10:09:00.215Z"
   },
   {
    "duration": 9,
    "start_time": "2022-02-17T10:09:00.391Z"
   },
   {
    "duration": 6,
    "start_time": "2022-02-17T10:09:00.575Z"
   },
   {
    "duration": 11,
    "start_time": "2022-02-17T10:09:00.759Z"
   },
   {
    "duration": 339,
    "start_time": "2022-02-17T10:09:02.118Z"
   },
   {
    "duration": 8,
    "start_time": "2022-02-17T10:10:13.626Z"
   },
   {
    "duration": 6,
    "start_time": "2022-02-17T10:10:14.320Z"
   },
   {
    "duration": 7,
    "start_time": "2022-02-17T10:10:14.730Z"
   },
   {
    "duration": 9,
    "start_time": "2022-02-17T10:10:14.899Z"
   },
   {
    "duration": 3,
    "start_time": "2022-02-17T10:10:15.125Z"
   },
   {
    "duration": 7,
    "start_time": "2022-02-17T10:10:15.322Z"
   },
   {
    "duration": 5,
    "start_time": "2022-02-17T10:10:15.625Z"
   },
   {
    "duration": 10,
    "start_time": "2022-02-17T10:10:15.781Z"
   },
   {
    "duration": 423,
    "start_time": "2022-02-17T10:10:17.788Z"
   },
   {
    "duration": 886,
    "start_time": "2022-02-17T10:22:47.262Z"
   },
   {
    "duration": 408,
    "start_time": "2022-02-17T10:22:55.806Z"
   },
   {
    "duration": 412,
    "start_time": "2022-02-17T10:23:11.457Z"
   },
   {
    "duration": 421,
    "start_time": "2022-02-17T10:23:31.377Z"
   },
   {
    "duration": 417,
    "start_time": "2022-02-17T10:28:19.272Z"
   },
   {
    "duration": 14,
    "start_time": "2022-02-17T10:29:49.602Z"
   },
   {
    "duration": 15,
    "start_time": "2022-02-17T10:30:35.587Z"
   },
   {
    "duration": 28,
    "start_time": "2022-02-17T10:31:28.102Z"
   },
   {
    "duration": 27,
    "start_time": "2022-02-17T10:32:36.594Z"
   },
   {
    "duration": 323,
    "start_time": "2022-02-17T10:34:23.919Z"
   },
   {
    "duration": 396,
    "start_time": "2022-02-17T10:34:31.085Z"
   },
   {
    "duration": 10,
    "start_time": "2022-02-17T10:34:40.142Z"
   },
   {
    "duration": 443,
    "start_time": "2022-02-17T10:34:40.698Z"
   },
   {
    "duration": 2207,
    "start_time": "2022-02-17T10:35:14.833Z"
   },
   {
    "duration": -3164,
    "start_time": "2022-02-17T10:35:20.206Z"
   },
   {
    "duration": -3167,
    "start_time": "2022-02-17T10:35:20.210Z"
   },
   {
    "duration": 19,
    "start_time": "2022-02-17T10:35:23.836Z"
   },
   {
    "duration": 3,
    "start_time": "2022-02-17T10:35:51.392Z"
   },
   {
    "duration": 2998,
    "start_time": "2022-02-17T10:35:51.678Z"
   },
   {
    "duration": 1026,
    "start_time": "2022-02-17T10:35:54.678Z"
   },
   {
    "duration": 636,
    "start_time": "2022-02-17T10:35:55.705Z"
   },
   {
    "duration": 144,
    "start_time": "2022-02-17T10:35:56.343Z"
   },
   {
    "duration": 7,
    "start_time": "2022-02-17T10:35:56.488Z"
   },
   {
    "duration": 7,
    "start_time": "2022-02-17T10:35:56.496Z"
   },
   {
    "duration": 7,
    "start_time": "2022-02-17T10:35:56.504Z"
   },
   {
    "duration": 8,
    "start_time": "2022-02-17T10:35:56.513Z"
   },
   {
    "duration": 24,
    "start_time": "2022-02-17T10:35:56.523Z"
   },
   {
    "duration": 8,
    "start_time": "2022-02-17T10:35:56.548Z"
   },
   {
    "duration": 7,
    "start_time": "2022-02-17T10:35:56.557Z"
   },
   {
    "duration": 9,
    "start_time": "2022-02-17T10:35:56.565Z"
   },
   {
    "duration": 773,
    "start_time": "2022-02-17T10:35:56.575Z"
   },
   {
    "duration": 14,
    "start_time": "2022-02-17T10:36:18.063Z"
   },
   {
    "duration": 341,
    "start_time": "2022-02-17T10:36:18.878Z"
   },
   {
    "duration": 27,
    "start_time": "2022-02-17T10:36:19.347Z"
   },
   {
    "duration": 17,
    "start_time": "2022-02-17T10:36:19.724Z"
   },
   {
    "duration": 9,
    "start_time": "2022-02-17T10:36:51.620Z"
   },
   {
    "duration": 331,
    "start_time": "2022-02-17T10:36:52.293Z"
   },
   {
    "duration": -2217,
    "start_time": "2022-02-17T10:36:54.843Z"
   },
   {
    "duration": 19,
    "start_time": "2022-02-17T10:36:52.739Z"
   },
   {
    "duration": 318,
    "start_time": "2022-02-17T10:37:05.858Z"
   },
   {
    "duration": 349,
    "start_time": "2022-02-17T10:37:10.666Z"
   },
   {
    "duration": 8622,
    "start_time": "2022-02-17T10:37:11.797Z"
   },
   {
    "duration": -2247,
    "start_time": "2022-02-17T10:37:22.668Z"
   },
   {
    "duration": 399,
    "start_time": "2022-02-17T10:37:21.638Z"
   },
   {
    "duration": 27,
    "start_time": "2022-02-17T10:37:22.783Z"
   },
   {
    "duration": 19,
    "start_time": "2022-02-17T10:37:24.012Z"
   },
   {
    "duration": 27,
    "start_time": "2022-02-17T10:38:08.394Z"
   },
   {
    "duration": 28,
    "start_time": "2022-02-17T10:38:37.282Z"
   },
   {
    "duration": 6,
    "start_time": "2022-02-17T10:57:10.378Z"
   },
   {
    "duration": 6,
    "start_time": "2022-02-17T10:57:11.123Z"
   },
   {
    "duration": 7,
    "start_time": "2022-02-17T10:57:11.290Z"
   },
   {
    "duration": 10,
    "start_time": "2022-02-17T10:57:11.462Z"
   },
   {
    "duration": 3,
    "start_time": "2022-02-17T10:57:11.719Z"
   },
   {
    "duration": 8,
    "start_time": "2022-02-17T10:57:12.166Z"
   },
   {
    "duration": 5,
    "start_time": "2022-02-17T10:57:12.459Z"
   },
   {
    "duration": 10,
    "start_time": "2022-02-17T10:57:12.687Z"
   },
   {
    "duration": 419,
    "start_time": "2022-02-17T10:57:13.628Z"
   },
   {
    "duration": 27,
    "start_time": "2022-02-17T10:57:14.266Z"
   },
   {
    "duration": 26,
    "start_time": "2022-02-17T10:57:14.949Z"
   },
   {
    "duration": 29,
    "start_time": "2022-02-17T10:57:15.837Z"
   },
   {
    "duration": 6,
    "start_time": "2022-02-17T10:57:44.039Z"
   },
   {
    "duration": 6,
    "start_time": "2022-02-17T10:57:44.247Z"
   },
   {
    "duration": 8,
    "start_time": "2022-02-17T10:57:44.418Z"
   },
   {
    "duration": 8,
    "start_time": "2022-02-17T10:57:44.623Z"
   },
   {
    "duration": 3,
    "start_time": "2022-02-17T10:57:44.758Z"
   },
   {
    "duration": 9,
    "start_time": "2022-02-17T10:57:44.924Z"
   },
   {
    "duration": 5,
    "start_time": "2022-02-17T10:57:45.135Z"
   },
   {
    "duration": 10,
    "start_time": "2022-02-17T10:57:45.343Z"
   },
   {
    "duration": 424,
    "start_time": "2022-02-17T10:57:46.006Z"
   },
   {
    "duration": 44,
    "start_time": "2022-02-17T10:57:46.432Z"
   },
   {
    "duration": 27,
    "start_time": "2022-02-17T10:57:46.959Z"
   },
   {
    "duration": 29,
    "start_time": "2022-02-17T10:57:47.727Z"
   },
   {
    "duration": 418,
    "start_time": "2022-02-17T11:05:09.562Z"
   },
   {
    "duration": 824,
    "start_time": "2022-02-17T11:05:23.360Z"
   },
   {
    "duration": 419,
    "start_time": "2022-02-17T11:05:30.077Z"
   },
   {
    "duration": 28,
    "start_time": "2022-02-17T11:05:32.493Z"
   },
   {
    "duration": 359,
    "start_time": "2022-02-17T11:05:44.032Z"
   },
   {
    "duration": 30,
    "start_time": "2022-02-17T11:05:49.014Z"
   },
   {
    "duration": 30,
    "start_time": "2022-02-17T11:06:55.358Z"
   },
   {
    "duration": 33,
    "start_time": "2022-02-17T11:07:13.267Z"
   },
   {
    "duration": 37,
    "start_time": "2022-02-17T11:08:09.056Z"
   },
   {
    "duration": 113,
    "start_time": "2022-02-17T11:19:14.830Z"
   },
   {
    "duration": 469,
    "start_time": "2022-02-17T11:19:20.572Z"
   },
   {
    "duration": 758,
    "start_time": "2022-02-17T11:19:53.389Z"
   },
   {
    "duration": 467,
    "start_time": "2022-02-17T11:19:59.835Z"
   },
   {
    "duration": 455,
    "start_time": "2022-02-17T11:20:44.077Z"
   },
   {
    "duration": 108,
    "start_time": "2022-02-17T11:21:47.053Z"
   },
   {
    "duration": 433,
    "start_time": "2022-02-17T11:21:52.037Z"
   },
   {
    "duration": 429,
    "start_time": "2022-02-17T11:22:35.301Z"
   },
   {
    "duration": 395,
    "start_time": "2022-02-17T11:45:47.703Z"
   },
   {
    "duration": 4,
    "start_time": "2022-02-17T11:45:52.508Z"
   },
   {
    "duration": -2138,
    "start_time": "2022-02-17T11:50:19.021Z"
   },
   {
    "duration": 4,
    "start_time": "2022-02-17T11:50:29.795Z"
   },
   {
    "duration": 4,
    "start_time": "2022-02-17T11:51:12.933Z"
   },
   {
    "duration": 4,
    "start_time": "2022-02-17T11:51:23.506Z"
   },
   {
    "duration": 18,
    "start_time": "2022-02-17T11:52:04.948Z"
   },
   {
    "duration": 16,
    "start_time": "2022-02-17T11:52:57.283Z"
   },
   {
    "duration": 245,
    "start_time": "2022-02-17T14:23:16.096Z"
   },
   {
    "duration": 215,
    "start_time": "2022-02-17T14:24:19.659Z"
   },
   {
    "duration": 421,
    "start_time": "2022-02-17T14:25:33.957Z"
   },
   {
    "duration": 385,
    "start_time": "2022-02-17T14:25:59.236Z"
   },
   {
    "duration": 374,
    "start_time": "2022-02-17T14:26:16.658Z"
   },
   {
    "duration": 402,
    "start_time": "2022-02-17T14:26:42.798Z"
   },
   {
    "duration": 401,
    "start_time": "2022-02-17T14:28:48.997Z"
   },
   {
    "duration": 558,
    "start_time": "2022-02-17T14:29:07.665Z"
   },
   {
    "duration": 570,
    "start_time": "2022-02-17T20:04:57.357Z"
   },
   {
    "duration": 762,
    "start_time": "2022-02-17T20:05:44.923Z"
   },
   {
    "duration": 584,
    "start_time": "2022-02-17T20:08:17.831Z"
   },
   {
    "duration": 605,
    "start_time": "2022-02-17T20:10:31.410Z"
   },
   {
    "duration": 616,
    "start_time": "2022-02-17T20:13:10.281Z"
   },
   {
    "duration": 3,
    "start_time": "2022-02-17T20:16:31.342Z"
   },
   {
    "duration": 1721,
    "start_time": "2022-02-17T20:17:52.373Z"
   },
   {
    "duration": 2191,
    "start_time": "2022-02-17T20:39:01.995Z"
   },
   {
    "duration": 2352,
    "start_time": "2022-02-17T20:40:12.487Z"
   },
   {
    "duration": 2503,
    "start_time": "2022-02-17T20:40:30.382Z"
   },
   {
    "duration": 3844,
    "start_time": "2022-02-17T20:41:07.867Z"
   },
   {
    "duration": 2231,
    "start_time": "2022-02-17T20:46:49.267Z"
   },
   {
    "duration": 216,
    "start_time": "2022-02-18T05:57:57.144Z"
   },
   {
    "duration": 1133,
    "start_time": "2022-02-18T05:58:04.828Z"
   },
   {
    "duration": 2779,
    "start_time": "2022-02-18T05:58:05.963Z"
   },
   {
    "duration": 232,
    "start_time": "2022-02-18T05:58:08.744Z"
   },
   {
    "duration": 214,
    "start_time": "2022-02-18T05:58:08.979Z"
   },
   {
    "duration": 218,
    "start_time": "2022-02-18T05:58:09.194Z"
   },
   {
    "duration": 5,
    "start_time": "2022-02-18T05:58:09.414Z"
   },
   {
    "duration": 8,
    "start_time": "2022-02-18T05:58:09.421Z"
   },
   {
    "duration": 28,
    "start_time": "2022-02-18T05:58:09.431Z"
   },
   {
    "duration": 12,
    "start_time": "2022-02-18T05:58:09.461Z"
   },
   {
    "duration": 10,
    "start_time": "2022-02-18T05:58:09.475Z"
   },
   {
    "duration": 8,
    "start_time": "2022-02-18T05:58:09.486Z"
   },
   {
    "duration": 8,
    "start_time": "2022-02-18T05:58:09.495Z"
   },
   {
    "duration": 9,
    "start_time": "2022-02-18T05:58:09.505Z"
   },
   {
    "duration": 515,
    "start_time": "2022-02-18T05:58:09.516Z"
   },
   {
    "duration": 49,
    "start_time": "2022-02-18T05:58:10.034Z"
   },
   {
    "duration": 34,
    "start_time": "2022-02-18T05:58:10.085Z"
   },
   {
    "duration": 56,
    "start_time": "2022-02-18T05:58:10.121Z"
   },
   {
    "duration": 621,
    "start_time": "2022-02-18T05:58:10.712Z"
   },
   {
    "duration": 3,
    "start_time": "2022-02-18T05:58:14.877Z"
   },
   {
    "duration": 1845,
    "start_time": "2022-02-18T05:58:16.523Z"
   },
   {
    "duration": 2341,
    "start_time": "2022-02-18T05:58:18.856Z"
   },
   {
    "duration": 2318,
    "start_time": "2022-02-18T05:58:28.269Z"
   },
   {
    "duration": 1340,
    "start_time": "2022-02-18T05:58:30.905Z"
   },
   {
    "duration": 2493,
    "start_time": "2022-02-18T06:00:00.839Z"
   },
   {
    "duration": 1201,
    "start_time": "2022-02-18T06:02:33.892Z"
   },
   {
    "duration": 1186,
    "start_time": "2022-02-18T06:02:56.485Z"
   },
   {
    "duration": 2546,
    "start_time": "2022-02-18T06:04:23.916Z"
   },
   {
    "duration": 2294,
    "start_time": "2022-02-18T06:05:42.261Z"
   },
   {
    "duration": 1237,
    "start_time": "2022-02-18T06:05:56.355Z"
   },
   {
    "duration": 2451,
    "start_time": "2022-02-18T06:06:12.046Z"
   },
   {
    "duration": 2736,
    "start_time": "2022-02-18T06:06:22.370Z"
   },
   {
    "duration": 1475,
    "start_time": "2022-02-18T06:07:03.429Z"
   },
   {
    "duration": 2734,
    "start_time": "2022-02-18T06:08:30.993Z"
   },
   {
    "duration": 3,
    "start_time": "2022-02-18T06:39:42.415Z"
   },
   {
    "duration": 2636,
    "start_time": "2022-02-18T06:39:42.632Z"
   },
   {
    "duration": 232,
    "start_time": "2022-02-18T06:39:45.270Z"
   },
   {
    "duration": 249,
    "start_time": "2022-02-18T06:39:45.504Z"
   },
   {
    "duration": 160,
    "start_time": "2022-02-18T06:39:45.755Z"
   },
   {
    "duration": 7,
    "start_time": "2022-02-18T06:39:45.917Z"
   },
   {
    "duration": 4,
    "start_time": "2022-02-18T06:39:56.305Z"
   },
   {
    "duration": 2601,
    "start_time": "2022-02-18T06:39:56.311Z"
   },
   {
    "duration": 264,
    "start_time": "2022-02-18T06:39:58.914Z"
   },
   {
    "duration": 176,
    "start_time": "2022-02-18T06:39:59.180Z"
   },
   {
    "duration": 163,
    "start_time": "2022-02-18T06:39:59.358Z"
   },
   {
    "duration": 5,
    "start_time": "2022-02-18T06:39:59.523Z"
   },
   {
    "duration": 19,
    "start_time": "2022-02-18T06:39:59.531Z"
   },
   {
    "duration": 11,
    "start_time": "2022-02-18T06:39:59.552Z"
   },
   {
    "duration": 13,
    "start_time": "2022-02-18T06:39:59.565Z"
   },
   {
    "duration": 8,
    "start_time": "2022-02-18T06:39:59.580Z"
   },
   {
    "duration": 10,
    "start_time": "2022-02-18T06:39:59.590Z"
   },
   {
    "duration": 8,
    "start_time": "2022-02-18T06:39:59.602Z"
   },
   {
    "duration": 14,
    "start_time": "2022-02-18T06:39:59.612Z"
   },
   {
    "duration": 507,
    "start_time": "2022-02-18T06:39:59.628Z"
   },
   {
    "duration": 43,
    "start_time": "2022-02-18T06:40:00.137Z"
   },
   {
    "duration": 34,
    "start_time": "2022-02-18T06:40:00.182Z"
   },
   {
    "duration": 65,
    "start_time": "2022-02-18T06:40:00.217Z"
   },
   {
    "duration": 665,
    "start_time": "2022-02-18T06:40:00.284Z"
   },
   {
    "duration": 3,
    "start_time": "2022-02-18T06:40:00.960Z"
   },
   {
    "duration": 1956,
    "start_time": "2022-02-18T06:40:00.964Z"
   },
   {
    "duration": 2265,
    "start_time": "2022-02-18T06:40:02.922Z"
   },
   {
    "duration": 1212,
    "start_time": "2022-02-18T06:40:05.189Z"
   },
   {
    "duration": 2469,
    "start_time": "2022-02-18T06:40:06.402Z"
   },
   {
    "duration": 2411,
    "start_time": "2022-02-18T06:40:08.872Z"
   },
   {
    "duration": 1237,
    "start_time": "2022-02-18T06:40:11.285Z"
   },
   {
    "duration": 2550,
    "start_time": "2022-02-18T06:40:12.523Z"
   },
   {
    "duration": 2910,
    "start_time": "2022-02-18T06:40:15.075Z"
   },
   {
    "duration": 1407,
    "start_time": "2022-02-18T06:40:17.986Z"
   },
   {
    "duration": 2718,
    "start_time": "2022-02-18T06:40:19.395Z"
   },
   {
    "duration": 1162,
    "start_time": "2022-02-18T13:05:41.293Z"
   },
   {
    "duration": 2933,
    "start_time": "2022-02-18T13:05:42.457Z"
   },
   {
    "duration": 347,
    "start_time": "2022-02-18T13:05:45.392Z"
   },
   {
    "duration": 272,
    "start_time": "2022-02-18T13:05:45.741Z"
   },
   {
    "duration": 227,
    "start_time": "2022-02-18T13:05:46.015Z"
   },
   {
    "duration": 7,
    "start_time": "2022-02-18T13:05:46.243Z"
   },
   {
    "duration": 22,
    "start_time": "2022-02-18T13:05:46.251Z"
   },
   {
    "duration": 8,
    "start_time": "2022-02-18T13:05:46.276Z"
   },
   {
    "duration": 10,
    "start_time": "2022-02-18T13:05:46.287Z"
   },
   {
    "duration": 9,
    "start_time": "2022-02-18T13:05:46.299Z"
   },
   {
    "duration": 9,
    "start_time": "2022-02-18T13:05:46.310Z"
   },
   {
    "duration": 12,
    "start_time": "2022-02-18T13:05:46.320Z"
   },
   {
    "duration": 35,
    "start_time": "2022-02-18T13:05:46.334Z"
   },
   {
    "duration": 545,
    "start_time": "2022-02-18T13:05:46.371Z"
   },
   {
    "duration": 37,
    "start_time": "2022-02-18T13:05:46.917Z"
   },
   {
    "duration": 37,
    "start_time": "2022-02-18T13:05:46.969Z"
   },
   {
    "duration": 61,
    "start_time": "2022-02-18T13:05:47.008Z"
   },
   {
    "duration": 764,
    "start_time": "2022-02-18T13:05:47.071Z"
   },
   {
    "duration": 3,
    "start_time": "2022-02-18T13:05:47.837Z"
   },
   {
    "duration": 2149,
    "start_time": "2022-02-18T13:05:47.842Z"
   },
   {
    "duration": 2707,
    "start_time": "2022-02-18T13:05:49.993Z"
   },
   {
    "duration": 1367,
    "start_time": "2022-02-18T13:05:52.702Z"
   },
   {
    "duration": 2806,
    "start_time": "2022-02-18T13:05:54.072Z"
   },
   {
    "duration": 2673,
    "start_time": "2022-02-18T13:05:56.880Z"
   },
   {
    "duration": 1362,
    "start_time": "2022-02-18T13:05:59.555Z"
   },
   {
    "duration": 2817,
    "start_time": "2022-02-18T13:06:00.919Z"
   },
   {
    "duration": 3369,
    "start_time": "2022-02-18T13:06:03.738Z"
   },
   {
    "duration": 1582,
    "start_time": "2022-02-18T13:06:07.109Z"
   },
   {
    "duration": 3276,
    "start_time": "2022-02-18T13:06:08.692Z"
   },
   {
    "duration": 39,
    "start_time": "2022-02-18T13:12:36.340Z"
   },
   {
    "duration": 1150,
    "start_time": "2022-02-19T06:01:22.061Z"
   },
   {
    "duration": 2910,
    "start_time": "2022-02-19T06:01:23.213Z"
   },
   {
    "duration": 264,
    "start_time": "2022-02-19T06:01:26.125Z"
   },
   {
    "duration": 227,
    "start_time": "2022-02-19T06:01:26.391Z"
   },
   {
    "duration": 200,
    "start_time": "2022-02-19T06:01:26.620Z"
   },
   {
    "duration": 6,
    "start_time": "2022-02-19T06:01:26.821Z"
   },
   {
    "duration": 9,
    "start_time": "2022-02-19T06:01:26.829Z"
   },
   {
    "duration": 24,
    "start_time": "2022-02-19T06:01:26.840Z"
   },
   {
    "duration": 10,
    "start_time": "2022-02-19T06:01:26.867Z"
   },
   {
    "duration": 8,
    "start_time": "2022-02-19T06:01:26.878Z"
   },
   {
    "duration": 8,
    "start_time": "2022-02-19T06:01:27.073Z"
   },
   {
    "duration": 5,
    "start_time": "2022-02-19T06:01:27.569Z"
   },
   {
    "duration": 12,
    "start_time": "2022-02-19T06:01:27.967Z"
   },
   {
    "duration": 535,
    "start_time": "2022-02-19T06:01:29.830Z"
   },
   {
    "duration": 33,
    "start_time": "2022-02-19T06:01:33.619Z"
   },
   {
    "duration": 37,
    "start_time": "2022-02-19T06:01:35.035Z"
   },
   {
    "duration": 37,
    "start_time": "2022-02-19T06:01:36.184Z"
   },
   {
    "duration": 281,
    "start_time": "2022-02-19T06:05:40.444Z"
   },
   {
    "duration": 577,
    "start_time": "2022-02-19T06:08:20.459Z"
   },
   {
    "duration": 32,
    "start_time": "2022-02-19T06:08:49.848Z"
   },
   {
    "duration": 33,
    "start_time": "2022-02-19T06:09:41.675Z"
   },
   {
    "duration": 64,
    "start_time": "2022-02-19T06:11:38.365Z"
   },
   {
    "duration": 63,
    "start_time": "2022-02-19T06:11:43.263Z"
   },
   {
    "duration": 61,
    "start_time": "2022-02-19T06:11:58.391Z"
   },
   {
    "duration": 370,
    "start_time": "2022-02-19T06:13:20.879Z"
   },
   {
    "duration": 68,
    "start_time": "2022-02-19T06:14:47.159Z"
   },
   {
    "duration": 63,
    "start_time": "2022-02-19T06:15:03.108Z"
   },
   {
    "duration": 66,
    "start_time": "2022-02-19T06:15:31.094Z"
   },
   {
    "duration": 35,
    "start_time": "2022-02-19T06:15:36.802Z"
   },
   {
    "duration": 63,
    "start_time": "2022-02-19T06:15:37.322Z"
   },
   {
    "duration": 62,
    "start_time": "2022-02-19T06:17:32.827Z"
   },
   {
    "duration": 70,
    "start_time": "2022-02-19T06:17:48.256Z"
   },
   {
    "duration": 65,
    "start_time": "2022-02-19T06:18:02.347Z"
   },
   {
    "duration": 62,
    "start_time": "2022-02-19T06:18:21.463Z"
   },
   {
    "duration": 65,
    "start_time": "2022-02-19T06:18:31.267Z"
   },
   {
    "duration": 60,
    "start_time": "2022-02-19T06:18:41.291Z"
   },
   {
    "duration": 59,
    "start_time": "2022-02-19T06:18:52.116Z"
   },
   {
    "duration": 271,
    "start_time": "2022-02-19T06:20:30.726Z"
   },
   {
    "duration": 65,
    "start_time": "2022-02-19T06:20:58.996Z"
   },
   {
    "duration": 58,
    "start_time": "2022-02-19T06:21:54.616Z"
   },
   {
    "duration": 63,
    "start_time": "2022-02-19T06:22:07.215Z"
   },
   {
    "duration": 640,
    "start_time": "2022-02-19T06:28:04.898Z"
   },
   {
    "duration": 18,
    "start_time": "2022-02-19T06:28:55.731Z"
   },
   {
    "duration": 15,
    "start_time": "2022-02-19T06:28:59.627Z"
   },
   {
    "duration": 1823,
    "start_time": "2022-02-19T06:29:00.258Z"
   },
   {
    "duration": 2344,
    "start_time": "2022-02-19T06:29:07.889Z"
   },
   {
    "duration": 1083,
    "start_time": "2022-02-19T06:29:15.018Z"
   },
   {
    "duration": 2221,
    "start_time": "2022-02-19T06:29:20.106Z"
   },
   {
    "duration": 2213,
    "start_time": "2022-02-19T06:29:26.919Z"
   },
   {
    "duration": 1090,
    "start_time": "2022-02-19T06:29:29.355Z"
   },
   {
    "duration": 2148,
    "start_time": "2022-02-19T06:29:30.496Z"
   },
   {
    "duration": 2562,
    "start_time": "2022-02-19T06:29:33.107Z"
   },
   {
    "duration": 1362,
    "start_time": "2022-02-19T06:30:00.020Z"
   },
   {
    "duration": 2596,
    "start_time": "2022-02-19T06:30:01.384Z"
   },
   {
    "duration": 49,
    "start_time": "2022-02-19T06:31:54.239Z"
   },
   {
    "duration": 46,
    "start_time": "2022-02-19T06:32:17.135Z"
   },
   {
    "duration": 258,
    "start_time": "2022-02-19T06:33:15.646Z"
   },
   {
    "duration": 206,
    "start_time": "2022-02-19T06:33:25.774Z"
   },
   {
    "duration": 44,
    "start_time": "2022-02-19T06:35:44.302Z"
   },
   {
    "duration": 45,
    "start_time": "2022-02-19T06:37:03.749Z"
   },
   {
    "duration": 47,
    "start_time": "2022-02-19T06:37:23.437Z"
   },
   {
    "duration": 46,
    "start_time": "2022-02-19T06:38:13.974Z"
   },
   {
    "duration": 45,
    "start_time": "2022-02-19T06:38:27.419Z"
   },
   {
    "duration": 54,
    "start_time": "2022-02-19T06:38:52.958Z"
   },
   {
    "duration": 47,
    "start_time": "2022-02-19T06:39:01.376Z"
   },
   {
    "duration": 43,
    "start_time": "2022-02-19T06:39:37.444Z"
   },
   {
    "duration": 43,
    "start_time": "2022-02-19T06:40:40.111Z"
   },
   {
    "duration": 27,
    "start_time": "2022-02-19T06:40:47.950Z"
   },
   {
    "duration": 47,
    "start_time": "2022-02-19T06:41:21.127Z"
   },
   {
    "duration": 215,
    "start_time": "2022-02-19T06:51:09.343Z"
   },
   {
    "duration": 213,
    "start_time": "2022-02-19T06:51:24.937Z"
   },
   {
    "duration": 219,
    "start_time": "2022-02-19T06:53:39.924Z"
   },
   {
    "duration": 209,
    "start_time": "2022-02-19T06:54:13.908Z"
   },
   {
    "duration": 209,
    "start_time": "2022-02-19T06:54:22.177Z"
   },
   {
    "duration": 214,
    "start_time": "2022-02-19T06:54:35.385Z"
   },
   {
    "duration": 23,
    "start_time": "2022-02-19T06:55:17.609Z"
   },
   {
    "duration": 204,
    "start_time": "2022-02-19T06:58:54.765Z"
   },
   {
    "duration": 227,
    "start_time": "2022-02-19T06:59:36.077Z"
   },
   {
    "duration": 58,
    "start_time": "2022-02-19T06:59:58.955Z"
   },
   {
    "duration": 4712,
    "start_time": "2022-02-19T07:00:04.600Z"
   },
   {
    "duration": 299,
    "start_time": "2022-02-19T07:00:32.927Z"
   },
   {
    "duration": 26,
    "start_time": "2022-02-19T07:01:08.200Z"
   },
   {
    "duration": 25,
    "start_time": "2022-02-19T07:01:20.768Z"
   },
   {
    "duration": 25,
    "start_time": "2022-02-19T07:01:26.216Z"
   },
   {
    "duration": 40,
    "start_time": "2022-02-19T07:02:20.029Z"
   },
   {
    "duration": 23,
    "start_time": "2022-02-19T07:02:28.017Z"
   },
   {
    "duration": 773,
    "start_time": "2022-02-19T07:02:48.275Z"
   },
   {
    "duration": 24,
    "start_time": "2022-02-19T07:03:03.454Z"
   },
   {
    "duration": 23,
    "start_time": "2022-02-19T07:03:13.024Z"
   },
   {
    "duration": 22,
    "start_time": "2022-02-19T07:03:19.602Z"
   },
   {
    "duration": 23,
    "start_time": "2022-02-19T07:03:26.812Z"
   },
   {
    "duration": 24,
    "start_time": "2022-02-19T07:04:19.557Z"
   },
   {
    "duration": 23,
    "start_time": "2022-02-19T07:04:38.840Z"
   },
   {
    "duration": 33,
    "start_time": "2022-02-19T07:04:45.716Z"
   },
   {
    "duration": 24,
    "start_time": "2022-02-19T07:04:54.157Z"
   },
   {
    "duration": 22,
    "start_time": "2022-02-19T07:05:11.935Z"
   },
   {
    "duration": 212,
    "start_time": "2022-02-19T07:06:14.383Z"
   },
   {
    "duration": 208,
    "start_time": "2022-02-19T07:06:49.409Z"
   },
   {
    "duration": 198,
    "start_time": "2022-02-19T07:07:06.128Z"
   },
   {
    "duration": 197,
    "start_time": "2022-02-19T07:07:19.506Z"
   },
   {
    "duration": 24,
    "start_time": "2022-02-19T07:07:30.239Z"
   },
   {
    "duration": 25,
    "start_time": "2022-02-19T07:07:35.260Z"
   },
   {
    "duration": 196,
    "start_time": "2022-02-19T07:11:36.526Z"
   },
   {
    "duration": 202,
    "start_time": "2022-02-19T07:11:51.388Z"
   },
   {
    "duration": 209,
    "start_time": "2022-02-19T07:13:50.669Z"
   },
   {
    "duration": 23,
    "start_time": "2022-02-19T07:14:03.142Z"
   },
   {
    "duration": 23,
    "start_time": "2022-02-19T07:14:10.394Z"
   },
   {
    "duration": 24,
    "start_time": "2022-02-19T07:14:54.646Z"
   },
   {
    "duration": 26,
    "start_time": "2022-02-19T07:15:44.847Z"
   },
   {
    "duration": 23,
    "start_time": "2022-02-19T07:15:54.676Z"
   },
   {
    "duration": 24,
    "start_time": "2022-02-19T07:16:10.254Z"
   },
   {
    "duration": 26,
    "start_time": "2022-02-19T07:17:04.649Z"
   },
   {
    "duration": 26,
    "start_time": "2022-02-19T07:19:42.387Z"
   },
   {
    "duration": 25,
    "start_time": "2022-02-19T07:19:58.005Z"
   },
   {
    "duration": 224,
    "start_time": "2022-02-19T07:20:13.689Z"
   },
   {
    "duration": 206,
    "start_time": "2022-02-19T07:20:18.883Z"
   },
   {
    "duration": 25,
    "start_time": "2022-02-19T07:22:21.492Z"
   },
   {
    "duration": 26,
    "start_time": "2022-02-19T07:22:24.454Z"
   },
   {
    "duration": 241,
    "start_time": "2022-02-19T07:23:50.287Z"
   },
   {
    "duration": 775,
    "start_time": "2022-02-19T07:24:12.437Z"
   },
   {
    "duration": 26,
    "start_time": "2022-02-19T07:25:06.407Z"
   },
   {
    "duration": 28,
    "start_time": "2022-02-19T07:25:39.592Z"
   },
   {
    "duration": 28,
    "start_time": "2022-02-19T07:25:50.872Z"
   },
   {
    "duration": 27,
    "start_time": "2022-02-19T07:25:55.265Z"
   },
   {
    "duration": 28,
    "start_time": "2022-02-19T07:26:05.160Z"
   },
   {
    "duration": 31,
    "start_time": "2022-02-19T07:26:10.002Z"
   },
   {
    "duration": 218,
    "start_time": "2022-02-19T07:26:40.299Z"
   },
   {
    "duration": 28,
    "start_time": "2022-02-19T07:26:49.569Z"
   },
   {
    "duration": 28,
    "start_time": "2022-02-19T07:27:16.668Z"
   },
   {
    "duration": 30,
    "start_time": "2022-02-19T07:27:19.720Z"
   },
   {
    "duration": 28,
    "start_time": "2022-02-19T07:27:33.271Z"
   },
   {
    "duration": 27,
    "start_time": "2022-02-19T07:27:41.514Z"
   },
   {
    "duration": 30,
    "start_time": "2022-02-19T07:27:45.521Z"
   },
   {
    "duration": 1037,
    "start_time": "2022-02-19T18:29:18.506Z"
   },
   {
    "duration": 8270,
    "start_time": "2022-02-19T18:29:19.545Z"
   },
   {
    "duration": 471,
    "start_time": "2022-02-19T18:29:27.816Z"
   },
   {
    "duration": 308,
    "start_time": "2022-02-19T18:29:28.289Z"
   },
   {
    "duration": 179,
    "start_time": "2022-02-19T18:29:28.599Z"
   },
   {
    "duration": 5,
    "start_time": "2022-02-19T18:29:28.780Z"
   },
   {
    "duration": 9,
    "start_time": "2022-02-19T18:29:28.787Z"
   },
   {
    "duration": 8,
    "start_time": "2022-02-19T18:29:28.799Z"
   },
   {
    "duration": 8,
    "start_time": "2022-02-19T18:29:28.809Z"
   },
   {
    "duration": 6,
    "start_time": "2022-02-19T18:29:28.819Z"
   },
   {
    "duration": 23,
    "start_time": "2022-02-19T18:29:28.827Z"
   },
   {
    "duration": 11,
    "start_time": "2022-02-19T18:29:28.852Z"
   },
   {
    "duration": 9,
    "start_time": "2022-02-19T18:29:28.864Z"
   },
   {
    "duration": 434,
    "start_time": "2022-02-19T18:29:28.874Z"
   },
   {
    "duration": 39,
    "start_time": "2022-02-19T18:29:29.309Z"
   },
   {
    "duration": 25,
    "start_time": "2022-02-19T18:29:29.350Z"
   },
   {
    "duration": 28,
    "start_time": "2022-02-19T18:29:29.377Z"
   },
   {
    "duration": 1355,
    "start_time": "2022-02-19T18:29:51.483Z"
   },
   {
    "duration": 29,
    "start_time": "2022-02-19T18:30:04.850Z"
   },
   {
    "duration": 108,
    "start_time": "2022-02-19T18:31:51.767Z"
   },
   {
    "duration": 603,
    "start_time": "2022-02-19T18:31:58.423Z"
   },
   {
    "duration": 125,
    "start_time": "2022-02-19T18:32:20.756Z"
   },
   {
    "duration": 578,
    "start_time": "2022-02-19T18:32:44.285Z"
   },
   {
    "duration": 601,
    "start_time": "2022-02-19T18:33:01.947Z"
   },
   {
    "duration": 1012,
    "start_time": "2022-02-19T18:34:37.415Z"
   },
   {
    "duration": 1119,
    "start_time": "2022-02-19T18:36:34.664Z"
   },
   {
    "duration": 112,
    "start_time": "2022-02-19T18:38:44.652Z"
   },
   {
    "duration": 890,
    "start_time": "2022-02-19T18:38:54.242Z"
   },
   {
    "duration": 1288,
    "start_time": "2022-02-19T18:39:38.263Z"
   },
   {
    "duration": 9018,
    "start_time": "2022-02-19T18:40:47.930Z"
   },
   {
    "duration": 953,
    "start_time": "2022-02-19T18:41:11.484Z"
   },
   {
    "duration": 1114,
    "start_time": "2022-02-19T18:43:43.975Z"
   },
   {
    "duration": 988,
    "start_time": "2022-02-19T18:44:45.610Z"
   },
   {
    "duration": 976,
    "start_time": "2022-02-19T18:46:13.598Z"
   },
   {
    "duration": 1278,
    "start_time": "2022-02-19T18:47:44.756Z"
   },
   {
    "duration": 1086,
    "start_time": "2022-02-19T18:48:15.083Z"
   },
   {
    "duration": 1492,
    "start_time": "2022-02-19T18:48:44.215Z"
   },
   {
    "duration": 481,
    "start_time": "2022-02-19T18:50:20.314Z"
   },
   {
    "duration": 16,
    "start_time": "2022-02-19T18:50:32.883Z"
   },
   {
    "duration": 1584,
    "start_time": "2022-02-19T18:50:33.642Z"
   },
   {
    "duration": 1993,
    "start_time": "2022-02-19T18:50:36.810Z"
   },
   {
    "duration": 975,
    "start_time": "2022-02-19T18:51:58.148Z"
   },
   {
    "duration": 1790,
    "start_time": "2022-02-19T18:52:10.315Z"
   },
   {
    "duration": 2034,
    "start_time": "2022-02-19T18:52:34.067Z"
   },
   {
    "duration": 932,
    "start_time": "2022-02-19T18:52:48.098Z"
   },
   {
    "duration": 2026,
    "start_time": "2022-02-19T18:52:56.474Z"
   },
   {
    "duration": 2480,
    "start_time": "2022-02-19T18:53:25.835Z"
   },
   {
    "duration": 2380,
    "start_time": "2022-02-19T18:53:41.829Z"
   },
   {
    "duration": 1185,
    "start_time": "2022-02-19T18:56:13.501Z"
   },
   {
    "duration": 2371,
    "start_time": "2022-02-19T18:56:20.671Z"
   },
   {
    "duration": 327,
    "start_time": "2022-02-19T18:58:35.179Z"
   },
   {
    "duration": 364,
    "start_time": "2022-02-19T18:59:24.013Z"
   },
   {
    "duration": 335,
    "start_time": "2022-02-19T18:59:56.205Z"
   },
   {
    "duration": 333,
    "start_time": "2022-02-19T19:00:07.159Z"
   },
   {
    "duration": 329,
    "start_time": "2022-02-19T19:02:14.928Z"
   },
   {
    "duration": 11,
    "start_time": "2022-02-19T19:02:42.187Z"
   },
   {
    "duration": 12,
    "start_time": "2022-02-19T19:02:54.773Z"
   },
   {
    "duration": 13,
    "start_time": "2022-02-19T19:03:37.407Z"
   },
   {
    "duration": 18,
    "start_time": "2022-02-19T19:04:13.255Z"
   },
   {
    "duration": 24,
    "start_time": "2022-02-19T19:06:05.942Z"
   },
   {
    "duration": 225,
    "start_time": "2022-02-19T19:06:56.585Z"
   },
   {
    "duration": 34,
    "start_time": "2022-02-19T19:07:07.749Z"
   },
   {
    "duration": 105,
    "start_time": "2022-02-19T19:07:41.380Z"
   },
   {
    "duration": 18,
    "start_time": "2022-02-19T19:07:45.586Z"
   },
   {
    "duration": 265,
    "start_time": "2022-02-19T19:07:58.936Z"
   },
   {
    "duration": 382,
    "start_time": "2022-02-19T19:08:03.837Z"
   },
   {
    "duration": 28,
    "start_time": "2022-02-19T19:08:34.494Z"
   },
   {
    "duration": 18,
    "start_time": "2022-02-19T19:08:51.488Z"
   },
   {
    "duration": 22,
    "start_time": "2022-02-19T19:09:12.337Z"
   },
   {
    "duration": 16,
    "start_time": "2022-02-19T19:10:05.339Z"
   },
   {
    "duration": 2181,
    "start_time": "2022-02-19T19:11:21.478Z"
   },
   {
    "duration": 2779,
    "start_time": "2022-02-19T19:14:38.840Z"
   },
   {
    "duration": 112,
    "start_time": "2022-02-19T19:26:55.579Z"
   },
   {
    "duration": 348,
    "start_time": "2022-02-19T19:34:35.866Z"
   },
   {
    "duration": 1914,
    "start_time": "2022-02-19T19:35:12.563Z"
   },
   {
    "duration": 5617,
    "start_time": "2022-02-19T19:35:25.343Z"
   },
   {
    "duration": 1232,
    "start_time": "2022-02-19T19:35:45.837Z"
   },
   {
    "duration": 1286,
    "start_time": "2022-02-19T19:35:54.835Z"
   },
   {
    "duration": 22,
    "start_time": "2022-02-19T19:37:22.623Z"
   },
   {
    "duration": 21,
    "start_time": "2022-02-19T19:37:52.665Z"
   },
   {
    "duration": 343,
    "start_time": "2022-02-19T19:38:16.192Z"
   },
   {
    "duration": 22,
    "start_time": "2022-02-19T19:38:27.128Z"
   },
   {
    "duration": 21,
    "start_time": "2022-02-19T19:38:43.161Z"
   },
   {
    "duration": 22,
    "start_time": "2022-02-19T19:38:49.604Z"
   },
   {
    "duration": 21,
    "start_time": "2022-02-19T19:38:58.449Z"
   },
   {
    "duration": 440,
    "start_time": "2022-02-19T19:39:21.415Z"
   },
   {
    "duration": 327,
    "start_time": "2022-02-19T19:46:43.537Z"
   },
   {
    "duration": 348,
    "start_time": "2022-02-19T19:47:04.173Z"
   },
   {
    "duration": 338,
    "start_time": "2022-02-19T19:47:19.742Z"
   },
   {
    "duration": 345,
    "start_time": "2022-02-19T19:47:27.588Z"
   },
   {
    "duration": 419,
    "start_time": "2022-02-19T19:47:34.834Z"
   },
   {
    "duration": 21,
    "start_time": "2022-02-19T19:47:56.351Z"
   },
   {
    "duration": 25,
    "start_time": "2022-02-19T19:48:10.013Z"
   },
   {
    "duration": 30,
    "start_time": "2022-02-19T19:48:17.534Z"
   },
   {
    "duration": 1270,
    "start_time": "2022-02-19T19:48:32.640Z"
   },
   {
    "duration": 26,
    "start_time": "2022-02-19T19:48:50.424Z"
   },
   {
    "duration": 368,
    "start_time": "2022-02-19T19:49:35.313Z"
   },
   {
    "duration": 332,
    "start_time": "2022-02-19T19:50:47.763Z"
   },
   {
    "duration": 351,
    "start_time": "2022-02-19T19:51:01.049Z"
   },
   {
    "duration": 328,
    "start_time": "2022-02-19T19:51:09.450Z"
   },
   {
    "duration": 334,
    "start_time": "2022-02-19T19:51:47.477Z"
   },
   {
    "duration": 345,
    "start_time": "2022-02-19T19:51:58.268Z"
   },
   {
    "duration": 392,
    "start_time": "2022-02-19T19:52:05.282Z"
   },
   {
    "duration": 333,
    "start_time": "2022-02-19T19:53:10.774Z"
   },
   {
    "duration": 550,
    "start_time": "2022-02-19T19:54:15.222Z"
   },
   {
    "duration": 1282,
    "start_time": "2022-02-19T19:54:57.028Z"
   },
   {
    "duration": 25,
    "start_time": "2022-02-19T19:55:06.636Z"
   },
   {
    "duration": 333,
    "start_time": "2022-02-19T19:55:47.828Z"
   },
   {
    "duration": 361,
    "start_time": "2022-02-19T19:55:57.574Z"
   },
   {
    "duration": 340,
    "start_time": "2022-02-19T19:56:05.759Z"
   },
   {
    "duration": 23,
    "start_time": "2022-02-19T19:56:21.149Z"
   },
   {
    "duration": 103,
    "start_time": "2022-02-19T19:57:05.127Z"
   },
   {
    "duration": 25,
    "start_time": "2022-02-19T19:57:25.686Z"
   },
   {
    "duration": 113,
    "start_time": "2022-02-19T19:57:37.327Z"
   },
   {
    "duration": 24,
    "start_time": "2022-02-19T19:57:51.529Z"
   },
   {
    "duration": 24,
    "start_time": "2022-02-19T19:57:56.910Z"
   },
   {
    "duration": 37,
    "start_time": "2022-02-19T19:58:02.726Z"
   },
   {
    "duration": 352,
    "start_time": "2022-02-19T19:58:21.474Z"
   },
   {
    "duration": 380,
    "start_time": "2022-02-19T20:00:02.069Z"
   },
   {
    "duration": 24,
    "start_time": "2022-02-19T20:00:17.089Z"
   },
   {
    "duration": 25,
    "start_time": "2022-02-19T20:00:28.579Z"
   },
   {
    "duration": 21,
    "start_time": "2022-02-19T20:00:41.162Z"
   },
   {
    "duration": 21,
    "start_time": "2022-02-19T20:00:49.433Z"
   },
   {
    "duration": 1671,
    "start_time": "2022-02-20T10:46:29.197Z"
   },
   {
    "duration": 4234,
    "start_time": "2022-02-20T10:46:30.870Z"
   },
   {
    "duration": 723,
    "start_time": "2022-02-20T10:46:35.107Z"
   },
   {
    "duration": 258,
    "start_time": "2022-02-20T10:46:35.835Z"
   },
   {
    "duration": 312,
    "start_time": "2022-02-20T10:46:36.095Z"
   },
   {
    "duration": 25,
    "start_time": "2022-02-20T10:46:36.410Z"
   },
   {
    "duration": 16,
    "start_time": "2022-02-20T10:46:36.438Z"
   },
   {
    "duration": 12,
    "start_time": "2022-02-20T10:46:36.458Z"
   },
   {
    "duration": 15,
    "start_time": "2022-02-20T10:46:36.473Z"
   },
   {
    "duration": 37,
    "start_time": "2022-02-20T10:46:36.490Z"
   },
   {
    "duration": 20,
    "start_time": "2022-02-20T10:46:36.530Z"
   },
   {
    "duration": 12,
    "start_time": "2022-02-20T10:46:36.553Z"
   },
   {
    "duration": 17,
    "start_time": "2022-02-20T10:46:36.568Z"
   },
   {
    "duration": 960,
    "start_time": "2022-02-20T10:46:36.587Z"
   },
   {
    "duration": 54,
    "start_time": "2022-02-20T10:46:37.550Z"
   },
   {
    "duration": 65,
    "start_time": "2022-02-20T10:46:37.606Z"
   },
   {
    "duration": 69,
    "start_time": "2022-02-20T10:46:37.673Z"
   },
   {
    "duration": 2951,
    "start_time": "2022-02-20T10:46:37.744Z"
   },
   {
    "duration": 47,
    "start_time": "2022-02-20T10:46:40.697Z"
   },
   {
    "duration": 3088,
    "start_time": "2022-02-20T10:46:40.747Z"
   },
   {
    "duration": 3820,
    "start_time": "2022-02-20T10:46:43.838Z"
   },
   {
    "duration": 1910,
    "start_time": "2022-02-20T10:46:47.661Z"
   },
   {
    "duration": 3835,
    "start_time": "2022-02-20T10:46:49.576Z"
   },
   {
    "duration": 3881,
    "start_time": "2022-02-20T10:46:53.414Z"
   },
   {
    "duration": 1861,
    "start_time": "2022-02-20T10:46:57.298Z"
   },
   {
    "duration": 3831,
    "start_time": "2022-02-20T10:46:59.162Z"
   },
   {
    "duration": 4535,
    "start_time": "2022-02-20T10:47:02.996Z"
   },
   {
    "duration": 2358,
    "start_time": "2022-02-20T10:47:07.534Z"
   },
   {
    "duration": 4266,
    "start_time": "2022-02-20T10:47:09.895Z"
   },
   {
    "duration": 4346,
    "start_time": "2022-02-20T10:47:14.164Z"
   },
   {
    "duration": 5263,
    "start_time": "2022-02-20T10:47:18.512Z"
   }
  ],
  "kernelspec": {
   "display_name": "Python 3",
   "language": "python",
   "name": "python3"
  },
  "language_info": {
   "codemirror_mode": {
    "name": "ipython",
    "version": 3
   },
   "file_extension": ".py",
   "mimetype": "text/x-python",
   "name": "python",
   "nbconvert_exporter": "python",
   "pygments_lexer": "ipython3",
   "version": "3.7.0"
  },
  "toc": {
   "base_numbering": 1,
   "nav_menu": {},
   "number_sections": true,
   "sideBar": true,
   "skip_h1_title": true,
   "title_cell": "Table of Contents",
   "title_sidebar": "Contents",
   "toc_cell": false,
   "toc_position": {
    "height": "calc(100% - 180px)",
    "left": "10px",
    "top": "150px",
    "width": "285.99px"
   },
   "toc_section_display": true,
   "toc_window_display": false
  }
 },
 "nbformat": 4,
 "nbformat_minor": 4
}
